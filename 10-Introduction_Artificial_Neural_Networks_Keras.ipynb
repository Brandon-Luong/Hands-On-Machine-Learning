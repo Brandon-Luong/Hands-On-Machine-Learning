{
 "metadata": {
  "language_info": {
   "codemirror_mode": {
    "name": "ipython",
    "version": 3
   },
   "file_extension": ".py",
   "mimetype": "text/x-python",
   "name": "python",
   "nbconvert_exporter": "python",
   "pygments_lexer": "ipython3",
   "version": 3
  },
  "orig_nbformat": 2
 },
 "nbformat": 4,
 "nbformat_minor": 2,
 "cells": [
  {
   "source": [
    "# Chapter 10: Introduction to Artificial Neural Networks with Keras"
   ],
   "cell_type": "markdown",
   "metadata": {}
  },
  {
   "source": [
    "## 10.1 From Biological to Artificial Neurons"
   ],
   "cell_type": "markdown",
   "metadata": {}
  },
  {
   "source": [
    "### 10.1.1 Biological Neurons"
   ],
   "cell_type": "markdown",
   "metadata": {}
  },
  {
   "source": [
    "### 10.1.2 Logical Computations with Neurons"
   ],
   "cell_type": "markdown",
   "metadata": {}
  },
  {
   "source": [
    "### 10.1.3 The Perceptron"
   ],
   "cell_type": "markdown",
   "metadata": {}
  },
  {
   "source": [
    "### 10.1.4 The Multilayer Perceptron and Backpropagation"
   ],
   "cell_type": "markdown",
   "metadata": {}
  },
  {
   "source": [
    "### 10.1.5 Regression MLPs"
   ],
   "cell_type": "markdown",
   "metadata": {}
  },
  {
   "source": [
    "### 10.1.6 Classification MLPs"
   ],
   "cell_type": "markdown",
   "metadata": {}
  },
  {
   "source": [
    "## 10.2 Implementing MLPs with Keras"
   ],
   "cell_type": "markdown",
   "metadata": {}
  },
  {
   "source": [
    "### 10.2.1 Installing TensorFlow 2"
   ],
   "cell_type": "markdown",
   "metadata": {}
  },
  {
   "source": [
    "### 10.2.2 Building an Image Classifier Using the Sequential API"
   ],
   "cell_type": "markdown",
   "metadata": {}
  },
  {
   "source": [
    "### 10.2.3 Building a Regression MLP Using the Sequential API"
   ],
   "cell_type": "markdown",
   "metadata": {}
  },
  {
   "source": [
    "### 10.2.4 Building Complex Models Using the Functional API"
   ],
   "cell_type": "markdown",
   "metadata": {}
  },
  {
   "source": [
    "### 10.2.5 Using the Subclassing API to Build Dynamic Models"
   ],
   "cell_type": "markdown",
   "metadata": {}
  },
  {
   "source": [
    "### 10.2.6 Saving and Restoring a Model"
   ],
   "cell_type": "markdown",
   "metadata": {}
  },
  {
   "source": [
    "### 10.2.7 Using Callbacks"
   ],
   "cell_type": "markdown",
   "metadata": {}
  },
  {
   "source": [
    "### 10.2.8 Using TensorBoard for Visualization"
   ],
   "cell_type": "markdown",
   "metadata": {}
  },
  {
   "source": [
    "## 10.3 Fine-Tuning Neural Networks Hyperparameters"
   ],
   "cell_type": "markdown",
   "metadata": {}
  },
  {
   "source": [
    "### 10.3.1 Number of Hidden Layers"
   ],
   "cell_type": "markdown",
   "metadata": {}
  },
  {
   "source": [
    "### 10.3.2 Number of Neurons per Hidden Layer"
   ],
   "cell_type": "markdown",
   "metadata": {}
  },
  {
   "source": [
    "### 10.3.3 Learning Rate, Batch Size, and Other Hyperparameters"
   ],
   "cell_type": "markdown",
   "metadata": {}
  }
 ]
}