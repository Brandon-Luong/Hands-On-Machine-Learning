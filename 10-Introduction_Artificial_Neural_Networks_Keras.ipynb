{
 "metadata": {
  "language_info": {
   "codemirror_mode": {
    "name": "ipython",
    "version": 3
   },
   "file_extension": ".py",
   "mimetype": "text/x-python",
   "name": "python",
   "nbconvert_exporter": "python",
   "pygments_lexer": "ipython3",
   "version": 3
  },
  "orig_nbformat": 2
 },
 "nbformat": 4,
 "nbformat_minor": 2,
 "cells": [
  {
   "source": [
    "# Chapter 10: Introduction to Artificial Neural Networks with Keras"
   ],
   "cell_type": "markdown",
   "metadata": {}
  },
  {
   "source": [
    "**Artificial neural networks (ANNs)**: A Machine Learning model inspired by the networks of biological neurons found in our brains."
   ],
   "cell_type": "markdown",
   "metadata": {}
  },
  {
   "source": [
    "## 10.1 From Biological to Artificial Neurons"
   ],
   "cell_type": "markdown",
   "metadata": {}
  },
  {
   "source": [
    "### 10.1.1 Biological Neurons"
   ],
   "cell_type": "markdown",
   "metadata": {}
  },
  {
   "source": [
    "Cell body -> Axon -> Telondendria -> Synaptic terminals (synapses) => Next cell's dendrites/body\n",
    "\n",
    "> Note: See Figure 10-1 in book\n",
    "\n",
    "Biological neurons produce short electrical impulses called action potentials (APs, or just signals) which travel along the axons and make the synapses release chemical signals called neurotransmitters.\n",
    "\n",
    "When a neuron receives a sufficient amount of these neurotransmitters, it fires its own electrical impulses"
   ],
   "cell_type": "markdown",
   "metadata": {}
  },
  {
   "source": [
    "### 10.1.2 Logical Computations with Neurons"
   ],
   "cell_type": "markdown",
   "metadata": {}
  },
  {
   "source": [
    "Artificial neuron - It has one or more binary (on/off) inputs and one binary output. The artificial neuron activates its output when more than a certain number of its inputs are active.\n",
    "\n",
    "> Note: See Figure 10-3 in book.\n",
    "\n",
    "> Note: 2 input signals are needed to activate neuron C.\n",
    "\n",
    "1. Identity function: if neuron A is activated, neuron C gets activated as well. But if neuron A is off, then neuron C is off as well.\n",
    "\n",
    "2. Logical AND: neuron C is activated only when both neurons A and B are activated (a single input signal is not enough to activate neuron C).\n",
    "\n",
    "3. Logical OR: neuron C gets activated if either neuron A or B is activated (or both).\n",
    "\n",
    "4. Logicial NOT: neuron C is activated only if neuron A is active and neuron B is off."
   ],
   "cell_type": "markdown",
   "metadata": {}
  },
  {
   "source": [
    "### 10.1.3 The Perceptron"
   ],
   "cell_type": "markdown",
   "metadata": {}
  },
  {
   "source": [
    "### 10.1.4 The Multilayer Perceptron and Backpropagation"
   ],
   "cell_type": "markdown",
   "metadata": {}
  },
  {
   "source": [
    "### 10.1.5 Regression MLPs"
   ],
   "cell_type": "markdown",
   "metadata": {}
  },
  {
   "source": [
    "### 10.1.6 Classification MLPs"
   ],
   "cell_type": "markdown",
   "metadata": {}
  },
  {
   "source": [
    "## 10.2 Implementing MLPs with Keras"
   ],
   "cell_type": "markdown",
   "metadata": {}
  },
  {
   "source": [
    "### 10.2.1 Installing TensorFlow 2"
   ],
   "cell_type": "markdown",
   "metadata": {}
  },
  {
   "source": [
    "### 10.2.2 Building an Image Classifier Using the Sequential API"
   ],
   "cell_type": "markdown",
   "metadata": {}
  },
  {
   "source": [
    "### 10.2.3 Building a Regression MLP Using the Sequential API"
   ],
   "cell_type": "markdown",
   "metadata": {}
  },
  {
   "source": [
    "### 10.2.4 Building Complex Models Using the Functional API"
   ],
   "cell_type": "markdown",
   "metadata": {}
  },
  {
   "source": [
    "### 10.2.5 Using the Subclassing API to Build Dynamic Models"
   ],
   "cell_type": "markdown",
   "metadata": {}
  },
  {
   "source": [
    "### 10.2.6 Saving and Restoring a Model"
   ],
   "cell_type": "markdown",
   "metadata": {}
  },
  {
   "source": [
    "### 10.2.7 Using Callbacks"
   ],
   "cell_type": "markdown",
   "metadata": {}
  },
  {
   "source": [
    "### 10.2.8 Using TensorBoard for Visualization"
   ],
   "cell_type": "markdown",
   "metadata": {}
  },
  {
   "source": [
    "## 10.3 Fine-Tuning Neural Networks Hyperparameters"
   ],
   "cell_type": "markdown",
   "metadata": {}
  },
  {
   "source": [
    "### 10.3.1 Number of Hidden Layers"
   ],
   "cell_type": "markdown",
   "metadata": {}
  },
  {
   "source": [
    "### 10.3.2 Number of Neurons per Hidden Layer"
   ],
   "cell_type": "markdown",
   "metadata": {}
  },
  {
   "source": [
    "### 10.3.3 Learning Rate, Batch Size, and Other Hyperparameters"
   ],
   "cell_type": "markdown",
   "metadata": {}
  }
 ]
}