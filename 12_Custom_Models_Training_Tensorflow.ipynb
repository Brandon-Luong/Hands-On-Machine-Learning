{
 "metadata": {
  "language_info": {
   "codemirror_mode": {
    "name": "ipython",
    "version": 3
   },
   "file_extension": ".py",
   "mimetype": "text/x-python",
   "name": "python",
   "nbconvert_exporter": "python",
   "pygments_lexer": "ipython3",
   "version": "3.9.0-final"
  },
  "orig_nbformat": 2,
  "kernelspec": {
   "name": "python3",
   "display_name": "Python 3.9.0 64-bit ('venv')",
   "metadata": {
    "interpreter": {
     "hash": "7b58ff03a81b7b220740b362f01ec4719380627cca970f4b363191d14b8c12ac"
    }
   }
  }
 },
 "nbformat": 4,
 "nbformat_minor": 2,
 "cells": [
  {
   "source": [
    "# Chapter 12: Custom Models and Training with Tensorflow"
   ],
   "cell_type": "markdown",
   "metadata": {}
  },
  {
   "source": [
    "## 12.1 A Quick Tour of Tensorflow"
   ],
   "cell_type": "markdown",
   "metadata": {}
  },
  {
   "source": [
    "## 12.2 Using TensorFlow like NumPy"
   ],
   "cell_type": "markdown",
   "metadata": {}
  },
  {
   "source": [
    "### 12.2.1 Tensors and Operations"
   ],
   "cell_type": "markdown",
   "metadata": {}
  },
  {
   "source": [
    "### 12.2.2 Tensors and NumPy"
   ],
   "cell_type": "markdown",
   "metadata": {}
  },
  {
   "source": [
    "### 12.2.3 Type Conversions"
   ],
   "cell_type": "markdown",
   "metadata": {}
  },
  {
   "source": [
    "### 12.2.4 Variables"
   ],
   "cell_type": "markdown",
   "metadata": {}
  },
  {
   "source": [
    "### 12.2.5 Other Data Structures"
   ],
   "cell_type": "markdown",
   "metadata": {}
  },
  {
   "source": [
    "## 12.3 Customizing Models and Training Algorithms"
   ],
   "cell_type": "markdown",
   "metadata": {}
  },
  {
   "source": [
    "### 12.3.1 Custom Loss Functions"
   ],
   "cell_type": "markdown",
   "metadata": {}
  },
  {
   "source": [
    "### 12.3.2 Saving and Loading Models That Contain Custom Components"
   ],
   "cell_type": "markdown",
   "metadata": {}
  },
  {
   "source": [
    "### 12.3.3 Custom Activation Functions, Initializers, Regularizers, and Constraints"
   ],
   "cell_type": "markdown",
   "metadata": {}
  },
  {
   "source": [
    "### 12.3.4 Custom Metrics"
   ],
   "cell_type": "markdown",
   "metadata": {}
  },
  {
   "source": [
    "### 12.3.5 Custom Layers"
   ],
   "cell_type": "markdown",
   "metadata": {}
  },
  {
   "source": [
    "### 12.3.6 Custom Models"
   ],
   "cell_type": "markdown",
   "metadata": {}
  },
  {
   "source": [
    "### 12.3.7 Losses and Metrics Based on Model Internals"
   ],
   "cell_type": "markdown",
   "metadata": {}
  },
  {
   "source": [
    "### 12.3.8 Computing Gradients Using Autodiff"
   ],
   "cell_type": "markdown",
   "metadata": {}
  },
  {
   "source": [
    "### 12.3.9 Custom Training Loops"
   ],
   "cell_type": "markdown",
   "metadata": {}
  },
  {
   "source": [
    "## 12.4 TensorFlow Functions and Graphs"
   ],
   "cell_type": "markdown",
   "metadata": {}
  },
  {
   "source": [
    "### 12.4.1 AutoGraph and Tracing"
   ],
   "cell_type": "markdown",
   "metadata": {}
  },
  {
   "source": [
    "### 12.4.2 TF Function Rules"
   ],
   "cell_type": "markdown",
   "metadata": {}
  }
 ]
}