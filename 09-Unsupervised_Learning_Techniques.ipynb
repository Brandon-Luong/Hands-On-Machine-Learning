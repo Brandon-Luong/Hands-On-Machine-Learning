{
 "metadata": {
  "language_info": {
   "codemirror_mode": {
    "name": "ipython",
    "version": 3
   },
   "file_extension": ".py",
   "mimetype": "text/x-python",
   "name": "python",
   "nbconvert_exporter": "python",
   "pygments_lexer": "ipython3",
   "version": "3.9.0-final"
  },
  "orig_nbformat": 2,
  "kernelspec": {
   "name": "python3",
   "display_name": "Python 3.9.0 64-bit ('venv')",
   "metadata": {
    "interpreter": {
     "hash": "7b58ff03a81b7b220740b362f01ec4719380627cca970f4b363191d14b8c12ac"
    }
   }
  }
 },
 "nbformat": 4,
 "nbformat_minor": 2,
 "cells": [
  {
   "source": [
    "# Chapter 9: Unsupervised Learning Techniques"
   ],
   "cell_type": "markdown",
   "metadata": {}
  },
  {
   "source": [
    "import numpy as np\n",
    "import matplotlib.pyplot as plt"
   ],
   "cell_type": "code",
   "metadata": {},
   "execution_count": 1,
   "outputs": []
  },
  {
   "source": [
    "- **Clustering**:\n",
    "    - Group similar instances together into *clusters*.\n",
    "\n",
    "- **Anomoly detection**:\n",
    "    - Learn what \"normal\" data looks like, and then use that to detect abnormal instances.\n",
    "\n",
    "- **Density estimation**:\n",
    "    - Estimating the *probability density function (PDF)* of the random process that generated the dataset."
   ],
   "cell_type": "markdown",
   "metadata": {}
  },
  {
   "source": [
    "## 9.1 Clustering"
   ],
   "cell_type": "markdown",
   "metadata": {}
  },
  {
   "source": [
    "**Clustering** - The task of identifying similar instances and assigning them to *clusters*, or groups of similar instances.\n",
    "\n",
    "Various applications of clustering:\n",
    "- Customer segmentation\n",
    "    - Cluster your customers based on their purchases and their activity on your website.\n",
    "    - Understand who your customers are and their needs so you can adapt your products and marketing to each segment.\n",
    "    - Useful in *recommender systems* to suggest content that others in the same cluster enjoyed.\n",
    "    \n",
    "- Data analysis\n",
    "    - When you analyze a new dataset, it can be helpful to run a clustering algorithm, and then analyze each cluster separately.\n",
    "\n",
    "- Dimensionality reduction technique\n",
    "    - Once a dataset has been clustered, it's possible to measure each instance's affinity with each cluster.\n",
    "    - **Affinity** is any measure of how well an instance fits into a cluster.\n",
    "    - Each instance's feature vector can then be replaced with the vector of its cluster affinities.\n",
    "    - If there are *k* clusters, then the vector will be *k*-dimensional.\n",
    "    - The vector is typically much lower-dimensional than the original feature vector, but preserves enough information for further processing.\n",
    "\n",
    "- Anomaly detection (also called outlier detection)\n",
    "    - Any instance that has a low affinity to all the clusters is likely to be an anomaly.\n",
    "    - Detect unusual behavior such as unusual number of request per second.\n",
    "    - Particularly useful in detecting defects in manufactoring or fraud detection.\n",
    "\n",
    "- Semi-supervised learning\n",
    "    - If you only have a few labels, you can propagate the labels to all the instances in the same cluster.\n",
    "    - Greatly improves the number of labels available for subsequent supervised learning algorithms, improving performance.\n",
    "\n",
    "- Search engines\n",
    "    - Some search engines let you search for images that are similar to a reference image.\n",
    "    - Perform clustering and then return all the images from the same cluster.\n",
    "\n",
    "- Segment an image\n",
    "    - By clustering pixels according to their color and replacing each pixel's color with the mean color of its cluster, it's possible to reduce the number of different colors in the image.\n",
    "    - Used in object detection and tracking systems.\n",
    "    - Makes it easier to detect the contour of each object."
   ],
   "cell_type": "markdown",
   "metadata": {}
  },
  {
   "source": [
    "### 9.1.1 K-Means"
   ],
   "cell_type": "markdown",
   "metadata": {}
  },
  {
   "source": [
    "The K-Means algorithm is a simple algorithm capable of clustering clearly defined \"blobs\" of instances.\n",
    "\n",
    "> Note: See Figure 9-2 in book."
   ],
   "cell_type": "markdown",
   "metadata": {}
  },
  {
   "cell_type": "code",
   "execution_count": 13,
   "metadata": {},
   "outputs": [],
   "source": [
    "# FROM BOOK NOTEBOOK\n",
    "\n",
    "from sklearn.datasets import make_blobs\n",
    "\n",
    "blob_centers = np.array(\n",
    "    [[ 0.2,  2.3],\n",
    "     [-1.5 ,  2.3],\n",
    "     [-2.8,  1.8],\n",
    "     [-2.8,  2.8],\n",
    "     [-2.8,  1.3]])\n",
    "blob_std = np.array([0.4, 0.3, 0.1, 0.1, 0.1])\n",
    "X, y = make_blobs(n_samples=2000, centers=blob_centers,\n",
    "                  cluster_std=blob_std, random_state=7)"
   ]
  },
  {
   "cell_type": "code",
   "execution_count": 14,
   "metadata": {},
   "outputs": [],
   "source": [
    "from sklearn.cluster import KMeans"
   ]
  },
  {
   "cell_type": "code",
   "execution_count": 15,
   "metadata": {},
   "outputs": [],
   "source": [
    "k = 5\n",
    "kmeans= KMeans(n_clusters=k)\n",
    "y_pred = kmeans.fit_predict(X)"
   ]
  },
  {
   "source": [
    "> Note: You have to specify the number of clusters *k* that the algorithm must find.\n",
    "\n",
    "In context of clustering, an instance's *\"label\"* is the index of the cluster that this instance gets assigned to."
   ],
   "cell_type": "markdown",
   "metadata": {}
  },
  {
   "cell_type": "code",
   "execution_count": 16,
   "metadata": {},
   "outputs": [
    {
     "output_type": "execute_result",
     "data": {
      "text/plain": [
       "array([4, 0, 1, ..., 3, 1, 0])"
      ]
     },
     "metadata": {},
     "execution_count": 16
    }
   ],
   "source": [
    "y_pred"
   ]
  },
  {
   "cell_type": "code",
   "execution_count": 17,
   "metadata": {},
   "outputs": [
    {
     "output_type": "execute_result",
     "data": {
      "text/plain": [
       "True"
      ]
     },
     "metadata": {},
     "execution_count": 17
    }
   ],
   "source": [
    "y_pred is kmeans.labels_"
   ]
  },
  {
   "cell_type": "code",
   "execution_count": 18,
   "metadata": {},
   "outputs": [
    {
     "output_type": "execute_result",
     "data": {
      "text/plain": [
       "array([[-2.80389616,  1.80117999],\n",
       "       [ 0.20876306,  2.25551336],\n",
       "       [-1.46679593,  2.28585348],\n",
       "       [-2.79290307,  2.79641063],\n",
       "       [-2.80037642,  1.30082566]])"
      ]
     },
     "metadata": {},
     "execution_count": 18
    }
   ],
   "source": [
    "kmeans.cluster_centers_"
   ]
  },
  {
   "source": [
    "You can easily assign new instances to the cluster whose centroid is closest."
   ],
   "cell_type": "markdown",
   "metadata": {}
  },
  {
   "cell_type": "code",
   "execution_count": 19,
   "metadata": {},
   "outputs": [
    {
     "output_type": "execute_result",
     "data": {
      "text/plain": [
       "array([1, 1, 3, 3])"
      ]
     },
     "metadata": {},
     "execution_count": 19
    }
   ],
   "source": [
    "X_new = np.array([[0, 2], [3, 2], [-3, 3], [-3, 2.5]])\n",
    "kmeans.predict(X_new)"
   ]
  },
  {
   "source": [
    "> Note: K-Means algorithm does not behave very well when the blobs have very different diameters because all it cares about when assigning an instance to a cluster is the distance to the centroid.\n",
    "\n",
    "*Hard clustering* - Assigning each instance to a single cluster.  \n",
    "*Soft clustering* - Give each instance a score per cluster.\n",
    "\n",
    "In the `KMeans` class, `transform()` measures the distance from each instance to every centroid."
   ],
   "cell_type": "markdown",
   "metadata": {}
  },
  {
   "cell_type": "code",
   "execution_count": 20,
   "metadata": {},
   "outputs": [
    {
     "output_type": "execute_result",
     "data": {
      "text/plain": [
       "array([[2.81093633, 0.32995317, 1.49439034, 2.9042344 , 2.88633901],\n",
       "       [5.80730058, 2.80290755, 4.4759332 , 5.84739223, 5.84236351],\n",
       "       [1.21475352, 3.29399768, 1.69136631, 0.29040966, 1.71086031],\n",
       "       [0.72581411, 3.21806371, 1.54808703, 0.36159148, 1.21567622]])"
      ]
     },
     "metadata": {},
     "execution_count": 20
    }
   ],
   "source": [
    "kmeans.transform(X_new)"
   ]
  },
  {
   "source": [
    "First instance in `X_new` is located at a distance of:\n",
    "- 2.81 from the 1st centroid\n",
    "- 0.33 from the 2nd centroid\n",
    "- 2.90 from the 3rd centroid\n",
    "- 1.49 from the 4th centroid\n",
    "- 2.89 from the 5th centroid\n",
    "\n",
    "Transforming into a k-dimensional dataset can be a very efficient nonlinear dimensionality reduction technique."
   ],
   "cell_type": "markdown",
   "metadata": {}
  },
  {
   "source": [
    "#### 9.1.1.1 The K-Means algorithm"
   ],
   "cell_type": "markdown",
   "metadata": {}
  },
  {
   "source": [
    "How does the algorithm work?\n",
    "\n",
    "1. Start by placing the centroids randomly (eg. pick *k* instances at random and use their locations as centroids).\n",
    "2. Label the instances.\n",
    "3. Update the centroids.\n",
    "4. Repeat steps 2 & 3 until centroids stop moving.\n",
    "\n",
    "> Note: The algorithm is guaranteed to converge in a finite number of steps because the mean squared distance between the instances and their closest centroid can only go down at each step. It does not oscillate forever.\n",
    "\n",
    "> Note: The computational complexity is generally linear with regard to number of instances *m*, number of clusters *k*, and number of dimensions *n*. Worst case is exponential with number of instances. But in practice, K-Means is generally one of the fastest *clustering* algorithms.\n",
    "\n",
    "Although it is guaranteed to converge, it may not converge to the right solution (eg. may converge to a local optimum). Whether it does or not depends on the centroid initialization."
   ],
   "cell_type": "markdown",
   "metadata": {}
  },
  {
   "source": [
    "#### 9.1.1.2 Centroid initialization methods"
   ],
   "cell_type": "markdown",
   "metadata": {}
  },
  {
   "source": [
    "If you happen to know approximately where the centroids should be, you can set the `init` hyperparamter to a NumPy array containing the list of centroids and set `n_init=1`."
   ],
   "cell_type": "markdown",
   "metadata": {}
  },
  {
   "cell_type": "code",
   "execution_count": 21,
   "metadata": {},
   "outputs": [],
   "source": [
    "good_init = np.array([[-3, 3], [-3, 2], [-3, 1], [-1, 2], [0, 2]])\n",
    "kmeans = KMeans(n_clusters=5, init=good_init, n_init=1)"
   ]
  },
  {
   "source": [
    "Another solution is to run the algorithm multiple times with different random initializations and keep the best solution. The number of random initializations is controlled by `n_init` hyperparameter (default `=10`).\n",
    "\n",
    "It uses a performance metric called the model's **inertia**, the mean squared distance between each instance and its closest centroid."
   ],
   "cell_type": "markdown",
   "metadata": {}
  },
  {
   "cell_type": "code",
   "execution_count": 22,
   "metadata": {},
   "outputs": [
    {
     "output_type": "execute_result",
     "data": {
      "text/plain": [
       "211.59853725816828"
      ]
     },
     "metadata": {},
     "execution_count": 22
    }
   ],
   "source": [
    "k = 5\n",
    "kmeans= KMeans(n_clusters=k)\n",
    "y_pred = kmeans.fit_predict(X)\n",
    "\n",
    "kmeans.inertia_ # Used 1st example of kmeans, Figure 9-3 in book"
   ]
  },
  {
   "cell_type": "code",
   "execution_count": 23,
   "metadata": {},
   "outputs": [
    {
     "output_type": "execute_result",
     "data": {
      "text/plain": [
       "-211.5985372581683"
      ]
     },
     "metadata": {},
     "execution_count": 23
    }
   ],
   "source": [
    "kmeans.score(X)"
   ]
  },
  {
   "source": [
    "> Note: Negative because Scikit-Learn's \"greater is better\" rule:  \n",
    "if a predictor is better than another, its `score()` method should return a greater score.\n",
    "\n",
    "K-Means++ algorithm uses initialization step that tends to select centroids that are distant from one another.\n",
    "\n",
    "1. Take one centroid $\\mathbf{c}^{(1)}$, chosen uniformly at random from the dataset.\n",
    "2. Take a new centroid $\\mathbf{c}^{(i)}$, choosing an instance $\\mathbf{x}^{(i)}$ with probability $ D(\\mathbf{x}^{(i)})^2 / \\sum_{j=1}^{m} D(\\mathbf{x}^{(j)})^2$, where $ D(\\mathbf{x}^{(i)})$ is the distance between the instance and closest centroid that was already chosen.  \n",
    "This probability distribution ensures that instances farther away from already chosen centroids are much more likely to be selected as centroids.\n",
    "3. Repeat the previous step until all k centroids have been chosen.\n",
    "\n",
    "`KMeans` uses this method by default."
   ],
   "cell_type": "markdown",
   "metadata": {}
  },
  {
   "source": [
    "#### 9.1.1.3 Accelerated K-Means and mini-batch K-Means"
   ],
   "cell_type": "markdown",
   "metadata": {}
  },
  {
   "source": [
    "Accelerated K-Means by avoiding many unnecessary distance calculations. It can be achieved by exploiting the triangle inequality (ie. a straight line is always the shortest distance between two points) and by keeping track of lower and upper bounds for distances between instances and centroids.\n",
    "\n",
    "`KMeans` uses this method by default.\n",
    "\n",
    "Mini-batch K-Means uses mini-batches, moving the centroids just slightly at each iteration, instead of using the full dataset at each iteration."
   ],
   "cell_type": "markdown",
   "metadata": {}
  },
  {
   "cell_type": "code",
   "execution_count": 24,
   "metadata": {},
   "outputs": [],
   "source": [
    "from sklearn.cluster import MiniBatchKMeans"
   ]
  },
  {
   "cell_type": "code",
   "execution_count": 25,
   "metadata": {},
   "outputs": [
    {
     "output_type": "execute_result",
     "data": {
      "text/plain": [
       "MiniBatchKMeans(n_clusters=5)"
      ]
     },
     "metadata": {},
     "execution_count": 25
    }
   ],
   "source": [
    "minibatch_kmeans = MiniBatchKMeans(n_clusters=5)\n",
    "minibatch_kmeans.fit(X)"
   ]
  },
  {
   "source": [
    "> Note: Mini-batch K-Means algorithm trains much faster than regular K-Means algorithm, but its inertia is generally slightly worse, especially as the number of clusters increases. See Figure 9-6 in book."
   ],
   "cell_type": "markdown",
   "metadata": {}
  },
  {
   "source": [
    "#### 9.1.1.4 Finding the optimal number of clusters"
   ],
   "cell_type": "markdown",
   "metadata": {}
  },
  {
   "source": [
    "The inertia is not a good performance metric when trying to choose *k* because it keeps getting lower as we increase *k*.\n",
    "\n",
    "By plotting the inertia as a function of *k*, there is an \"elbow\" at k = 4, splitting the rapid drop and the slower decrease. So it would be an okay guess to pick 4 centroids, but isn't very precise.\n",
    "\n",
    "> Note: See Figure 9-8 in book.\n",
    "\n",
    "A more precise approach is to use the **silhouette score**, which is the mean *silhouette coefficient* (between -1 and +1) over all the instances. A coefficient:\n",
    "- Close to +1 => Instance is well inside its own cluster and far from others.\n",
    "- Close to 0 => Instance is close to a cluster boundary.\n",
    "- Close to -1 => Instance may have been assigned to the wrong cluster."
   ],
   "cell_type": "markdown",
   "metadata": {}
  },
  {
   "cell_type": "code",
   "execution_count": 26,
   "metadata": {},
   "outputs": [],
   "source": [
    "from sklearn.metrics import silhouette_score"
   ]
  },
  {
   "cell_type": "code",
   "execution_count": 27,
   "metadata": {},
   "outputs": [
    {
     "output_type": "execute_result",
     "data": {
      "text/plain": [
       "0.655517642572828"
      ]
     },
     "metadata": {},
     "execution_count": 27
    }
   ],
   "source": [
    "silhouette_score(X, kmeans.labels_)"
   ]
  },
  {
   "source": [
    "By plotting silhouette scores for different numbers of clusters, it provides much more information than the inertia plot. k = 4 is a very good choice, and k = 5 is good too - much better than k = 6 or 7.\n",
    "\n",
    "An even better visualization called a **silhouette diagram** is a plot of every instance's silhouette coefficient, sorted by the cluster they are assigned to and by the value of the coefficient.\n",
    "\n",
    "The dashed line indicates the mean silhouette coefficient. We want most instances to be to the right as if it falls to the left, it means they are too close to other clusters. When k = 3 and k = 6, we get bad clusters. \n",
    "\n",
    "When k = 4, the cluster at index 1 is fairly big, so picking k = 5 may be a better idea to get clusters of similar sizes.\n",
    "\n",
    "> Note: See Figure 9-10 in book."
   ],
   "cell_type": "markdown",
   "metadata": {}
  },
  {
   "source": [
    "### 9.1.2 Limits of K-Means"
   ],
   "cell_type": "markdown",
   "metadata": {}
  },
  {
   "source": [
    "As mentioned already, K-Means isn't perfect.\n",
    "\n",
    "- Needs to run several times to avoid suboptimal solution\n",
    "- Need to specify number of clusters\n",
    "- Does not perform well on clusters of varying sizes, densities, or nonspherical shapes\n",
    "\n",
    "> Note: It is important to scale the input features before running K-Means, or the clusters may be very stretched and K-Means will perform poorly."
   ],
   "cell_type": "markdown",
   "metadata": {}
  },
  {
   "source": [
    "### 9.1.3 Using Clustering for Image Segmentation"
   ],
   "cell_type": "markdown",
   "metadata": {}
  },
  {
   "source": [
    "**Image segmentation** - The task of partitioning an image into multiple segments.  \n",
    "\n",
    "**Semantic segmentation** - All pixels that are part of the same object type get assigned to the same segment. (eg. 1 segment for all pedestrians)  \n",
    "\n",
    "**Instance segmentation** - All pixels that are part of the same individual object are assigned to the same segment. (eg. different segment for each pedestrian)\n",
    "\n",
    "**Color segmentation** - All pixels that have a similar color are assigned to the same segment."
   ],
   "cell_type": "markdown",
   "metadata": {}
  },
  {
   "cell_type": "code",
   "execution_count": 28,
   "metadata": {},
   "outputs": [],
   "source": [
    "from matplotlib.image import imread"
   ]
  },
  {
   "cell_type": "code",
   "execution_count": 29,
   "metadata": {},
   "outputs": [
    {
     "output_type": "execute_result",
     "data": {
      "text/plain": [
       "(533, 800, 3)"
      ]
     },
     "metadata": {},
     "execution_count": 29
    }
   ],
   "source": [
    "image = imread(\"Images/Unsupervised_learning/ladybug.png\")\n",
    "image.shape"
   ]
  },
  {
   "source": [
    "The image is represented as a 3D array.\n",
    "- 1st dimension's size = Height\n",
    "- 2nd dimension's size = Width\n",
    "- 3rd dimension's size = Number of color channels (RGB)\n",
    "\n",
    "=> For each pixel, there is a 3D vector containing the intensities of red, green, and blue, each between 0.0 and 1.0."
   ],
   "cell_type": "markdown",
   "metadata": {}
  },
  {
   "cell_type": "code",
   "execution_count": 31,
   "metadata": {},
   "outputs": [],
   "source": [
    "X = image.reshape(-1, 3) # Reshape array to long list of RBG colors\n",
    "kmeans = KMeans(n_clusters=8).fit(X) # Clusters these colors using K-Means\n",
    "segmented_img = kmeans.cluster_centers_[kmeans.labels_]\n",
    "segmented_img = segmented_img.reshape(image.shape)"
   ]
  },
  {
   "source": [
    "K-Means prefers clusters of similar sizes. The ladybug is small - much smaller than the rest of the image - so even though its color is flashy, K-Means fails to dedicate a cluster to it.\n",
    "\n",
    "> Note: See Figure 9-12 in book for ladybug reference."
   ],
   "cell_type": "markdown",
   "metadata": {}
  },
  {
   "source": [
    "### 9.1.4 Using Clustering for Preprocessing"
   ],
   "cell_type": "markdown",
   "metadata": {}
  },
  {
   "source": [
    "Clustering can be an efficient approach to dimensionality reduction."
   ],
   "cell_type": "markdown",
   "metadata": {}
  },
  {
   "source": [
    "from sklearn.datasets import load_digits\n",
    "from sklearn.model_selection import train_test_split\n",
    "from sklearn.linear_model import LogisticRegression"
   ],
   "cell_type": "code",
   "metadata": {},
   "execution_count": 34,
   "outputs": []
  },
  {
   "cell_type": "code",
   "execution_count": 38,
   "metadata": {},
   "outputs": [
    {
     "output_type": "execute_result",
     "data": {
      "text/plain": [
       "0.9688888888888889"
      ]
     },
     "metadata": {},
     "execution_count": 38
    }
   ],
   "source": [
    "X_digits, y_digits = load_digits(return_X_y=True)\n",
    "X_train, X_test, y_train, y_test = train_test_split(X_digits, y_digits)\n",
    "\n",
    "log_reg = LogisticRegression()\n",
    "log_reg.fit(X_train, y_train)\n",
    "\n",
    "log_reg.score(X_test, y_test)"
   ]
  },
  {
   "source": [
    "Now try using K-means as a preprocessing step. Create a pipeline that will first cluster the training set into 50 clusters and replace the images with their distances to these 50 clusters, then apply Logisitic Regression model."
   ],
   "cell_type": "markdown",
   "metadata": {}
  },
  {
   "cell_type": "code",
   "execution_count": 39,
   "metadata": {},
   "outputs": [],
   "source": [
    "from sklearn.pipeline import Pipeline"
   ]
  },
  {
   "cell_type": "code",
   "execution_count": 53,
   "metadata": {},
   "outputs": [
    {
     "output_type": "execute_result",
     "data": {
      "text/plain": [
       "Pipeline(steps=[('kmeans', KMeans(n_clusters=50)),\n",
       "                ('log_reg', LogisticRegression())])"
      ]
     },
     "metadata": {},
     "execution_count": 53
    }
   ],
   "source": [
    "pipeline = Pipeline([\n",
    "    (\"kmeans\", KMeans(n_clusters=50)),\n",
    "    (\"log_reg\", LogisticRegression())\n",
    "])\n",
    "pipeline.fit(X_train, y_train)"
   ]
  },
  {
   "source": [
    "> Note: Since there are 10 different digits, it's tempting to set the number of clusters to 10. However, each digit can be written several different ways, so it is preferable to use a larger number of clusters, such as 50."
   ],
   "cell_type": "markdown",
   "metadata": {}
  },
  {
   "cell_type": "code",
   "execution_count": 54,
   "metadata": {},
   "outputs": [
    {
     "output_type": "execute_result",
     "data": {
      "text/plain": [
       "0.9622222222222222"
      ]
     },
     "metadata": {},
     "execution_count": 54
    }
   ],
   "source": [
    "pipeline.score(X_test, y_test)"
   ]
  },
  {
   "source": [
    "Since K-Means is used as a preprocessing step before classification, it's easy to find the best value of *k* by using `GridSearchCV`."
   ],
   "cell_type": "markdown",
   "metadata": {}
  },
  {
   "cell_type": "code",
   "execution_count": 55,
   "metadata": {},
   "outputs": [],
   "source": [
    "from sklearn.model_selection import GridSearchCV"
   ]
  },
  {
   "cell_type": "code",
   "execution_count": 57,
   "metadata": {
    "tags": [
     "outputPrepend"
    ]
   },
   "outputs": [
    {
     "output_type": "stream",
     "name": "stdout",
     "text": [
      "D ..............................kmeans__n_clusters=17; total time=   0.2s\n",
      "[CV] END ..............................kmeans__n_clusters=18; total time=   0.2s\n",
      "[CV] END ..............................kmeans__n_clusters=18; total time=   0.2s\n",
      "[CV] END ..............................kmeans__n_clusters=18; total time=   0.3s\n",
      "[CV] END ..............................kmeans__n_clusters=19; total time=   0.2s\n",
      "[CV] END ..............................kmeans__n_clusters=19; total time=   0.3s\n",
      "[CV] END ..............................kmeans__n_clusters=19; total time=   0.2s\n",
      "[CV] END ..............................kmeans__n_clusters=20; total time=   0.2s\n",
      "[CV] END ..............................kmeans__n_clusters=20; total time=   0.2s\n",
      "[CV] END ..............................kmeans__n_clusters=20; total time=   0.3s\n",
      "[CV] END ..............................kmeans__n_clusters=21; total time=   0.3s\n",
      "[CV] END ..............................kmeans__n_clusters=21; total time=   0.3s\n",
      "[CV] END ..............................kmeans__n_clusters=21; total time=   0.3s\n",
      "[CV] END ..............................kmeans__n_clusters=22; total time=   0.3s\n",
      "[CV] END ..............................kmeans__n_clusters=22; total time=   0.4s\n",
      "[CV] END ..............................kmeans__n_clusters=22; total time=   0.3s\n",
      "[CV] END ..............................kmeans__n_clusters=23; total time=   0.3s\n",
      "[CV] END ..............................kmeans__n_clusters=23; total time=   0.3s\n",
      "[CV] END ..............................kmeans__n_clusters=23; total time=   0.4s\n",
      "[CV] END ..............................kmeans__n_clusters=24; total time=   0.3s\n",
      "[CV] END ..............................kmeans__n_clusters=24; total time=   0.3s\n",
      "[CV] END ..............................kmeans__n_clusters=24; total time=   0.4s\n",
      "[CV] END ..............................kmeans__n_clusters=25; total time=   0.3s\n",
      "[CV] END ..............................kmeans__n_clusters=25; total time=   0.3s\n",
      "[CV] END ..............................kmeans__n_clusters=25; total time=   0.4s\n",
      "[CV] END ..............................kmeans__n_clusters=26; total time=   0.3s\n",
      "[CV] END ..............................kmeans__n_clusters=26; total time=   0.4s\n",
      "[CV] END ..............................kmeans__n_clusters=26; total time=   0.3s\n",
      "[CV] END ..............................kmeans__n_clusters=27; total time=   0.3s\n",
      "[CV] END ..............................kmeans__n_clusters=27; total time=   0.3s\n",
      "[CV] END ..............................kmeans__n_clusters=27; total time=   0.5s\n",
      "[CV] END ..............................kmeans__n_clusters=28; total time=   0.5s\n",
      "[CV] END ..............................kmeans__n_clusters=28; total time=   0.4s\n",
      "[CV] END ..............................kmeans__n_clusters=28; total time=   0.3s\n",
      "[CV] END ..............................kmeans__n_clusters=29; total time=   0.4s\n",
      "[CV] END ..............................kmeans__n_clusters=29; total time=   0.4s\n",
      "[CV] END ..............................kmeans__n_clusters=29; total time=   0.4s\n",
      "[CV] END ..............................kmeans__n_clusters=30; total time=   0.4s\n",
      "[CV] END ..............................kmeans__n_clusters=30; total time=   0.4s\n",
      "[CV] END ..............................kmeans__n_clusters=30; total time=   0.3s\n",
      "[CV] END ..............................kmeans__n_clusters=31; total time=   0.4s\n",
      "[CV] END ..............................kmeans__n_clusters=31; total time=   0.3s\n",
      "[CV] END ..............................kmeans__n_clusters=31; total time=   0.5s\n",
      "[CV] END ..............................kmeans__n_clusters=32; total time=   0.3s\n",
      "[CV] END ..............................kmeans__n_clusters=32; total time=   0.4s\n",
      "[CV] END ..............................kmeans__n_clusters=32; total time=   0.3s\n",
      "[CV] END ..............................kmeans__n_clusters=33; total time=   0.6s\n",
      "[CV] END ..............................kmeans__n_clusters=33; total time=   0.4s\n",
      "[CV] END ..............................kmeans__n_clusters=33; total time=   0.5s\n",
      "[CV] END ..............................kmeans__n_clusters=34; total time=   0.4s\n",
      "[CV] END ..............................kmeans__n_clusters=34; total time=   0.4s\n",
      "[CV] END ..............................kmeans__n_clusters=34; total time=   0.4s\n",
      "[CV] END ..............................kmeans__n_clusters=35; total time=   0.4s\n",
      "[CV] END ..............................kmeans__n_clusters=35; total time=   0.4s\n",
      "[CV] END ..............................kmeans__n_clusters=35; total time=   0.5s\n",
      "[CV] END ..............................kmeans__n_clusters=36; total time=   0.5s\n",
      "[CV] END ..............................kmeans__n_clusters=36; total time=   0.4s\n",
      "[CV] END ..............................kmeans__n_clusters=36; total time=   0.4s\n",
      "[CV] END ..............................kmeans__n_clusters=37; total time=   0.4s\n",
      "[CV] END ..............................kmeans__n_clusters=37; total time=   0.4s\n",
      "[CV] END ..............................kmeans__n_clusters=37; total time=   0.4s\n",
      "[CV] END ..............................kmeans__n_clusters=38; total time=   0.4s\n",
      "[CV] END ..............................kmeans__n_clusters=38; total time=   0.4s\n",
      "[CV] END ..............................kmeans__n_clusters=38; total time=   0.4s\n",
      "[CV] END ..............................kmeans__n_clusters=39; total time=   0.4s\n",
      "[CV] END ..............................kmeans__n_clusters=39; total time=   0.5s\n",
      "[CV] END ..............................kmeans__n_clusters=39; total time=   0.4s\n",
      "[CV] END ..............................kmeans__n_clusters=40; total time=   0.4s\n",
      "[CV] END ..............................kmeans__n_clusters=40; total time=   0.4s\n",
      "[CV] END ..............................kmeans__n_clusters=40; total time=   0.4s\n",
      "[CV] END ..............................kmeans__n_clusters=41; total time=   0.4s\n",
      "[CV] END ..............................kmeans__n_clusters=41; total time=   0.5s\n",
      "[CV] END ..............................kmeans__n_clusters=41; total time=   0.4s\n",
      "[CV] END ..............................kmeans__n_clusters=42; total time=   0.5s\n",
      "[CV] END ..............................kmeans__n_clusters=42; total time=   0.4s\n",
      "[CV] END ..............................kmeans__n_clusters=42; total time=   0.5s\n",
      "[CV] END ..............................kmeans__n_clusters=43; total time=   0.5s\n",
      "[CV] END ..............................kmeans__n_clusters=43; total time=   0.4s\n",
      "[CV] END ..............................kmeans__n_clusters=43; total time=   0.4s\n",
      "[CV] END ..............................kmeans__n_clusters=44; total time=   0.4s\n",
      "[CV] END ..............................kmeans__n_clusters=44; total time=   0.5s\n",
      "[CV] END ..............................kmeans__n_clusters=44; total time=   0.4s\n",
      "[CV] END ..............................kmeans__n_clusters=45; total time=   0.5s\n",
      "[CV] END ..............................kmeans__n_clusters=45; total time=   0.5s\n",
      "[CV] END ..............................kmeans__n_clusters=45; total time=   0.5s\n",
      "[CV] END ..............................kmeans__n_clusters=46; total time=   0.5s\n",
      "[CV] END ..............................kmeans__n_clusters=46; total time=   0.5s\n",
      "[CV] END ..............................kmeans__n_clusters=46; total time=   0.5s\n",
      "[CV] END ..............................kmeans__n_clusters=47; total time=   0.5s\n",
      "[CV] END ..............................kmeans__n_clusters=47; total time=   0.5s\n",
      "[CV] END ..............................kmeans__n_clusters=47; total time=   0.5s\n",
      "[CV] END ..............................kmeans__n_clusters=48; total time=   0.5s\n",
      "[CV] END ..............................kmeans__n_clusters=48; total time=   0.6s\n",
      "[CV] END ..............................kmeans__n_clusters=48; total time=   0.5s\n",
      "[CV] END ..............................kmeans__n_clusters=49; total time=   0.5s\n",
      "[CV] END ..............................kmeans__n_clusters=49; total time=   0.5s\n",
      "[CV] END ..............................kmeans__n_clusters=49; total time=   0.5s\n",
      "[CV] END ..............................kmeans__n_clusters=50; total time=   0.5s\n",
      "[CV] END ..............................kmeans__n_clusters=50; total time=   0.5s\n",
      "[CV] END ..............................kmeans__n_clusters=50; total time=   0.5s\n",
      "[CV] END ..............................kmeans__n_clusters=51; total time=   0.5s\n",
      "[CV] END ..............................kmeans__n_clusters=51; total time=   0.5s\n",
      "[CV] END ..............................kmeans__n_clusters=51; total time=   0.5s\n",
      "[CV] END ..............................kmeans__n_clusters=52; total time=   0.5s\n",
      "[CV] END ..............................kmeans__n_clusters=52; total time=   0.5s\n",
      "[CV] END ..............................kmeans__n_clusters=52; total time=   0.5s\n",
      "[CV] END ..............................kmeans__n_clusters=53; total time=   0.5s\n",
      "[CV] END ..............................kmeans__n_clusters=53; total time=   0.5s\n",
      "[CV] END ..............................kmeans__n_clusters=53; total time=   0.6s\n",
      "[CV] END ..............................kmeans__n_clusters=54; total time=   0.6s\n",
      "[CV] END ..............................kmeans__n_clusters=54; total time=   0.6s\n",
      "[CV] END ..............................kmeans__n_clusters=54; total time=   0.7s\n",
      "[CV] END ..............................kmeans__n_clusters=55; total time=   0.5s\n",
      "[CV] END ..............................kmeans__n_clusters=55; total time=   0.6s\n",
      "[CV] END ..............................kmeans__n_clusters=55; total time=   0.6s\n",
      "[CV] END ..............................kmeans__n_clusters=56; total time=   0.6s\n",
      "[CV] END ..............................kmeans__n_clusters=56; total time=   0.7s\n",
      "[CV] END ..............................kmeans__n_clusters=56; total time=   0.6s\n",
      "[CV] END ..............................kmeans__n_clusters=57; total time=   0.6s\n",
      "[CV] END ..............................kmeans__n_clusters=57; total time=   0.6s\n",
      "[CV] END ..............................kmeans__n_clusters=57; total time=   0.6s\n",
      "[CV] END ..............................kmeans__n_clusters=58; total time=   0.7s\n",
      "[CV] END ..............................kmeans__n_clusters=58; total time=   0.6s\n",
      "[CV] END ..............................kmeans__n_clusters=58; total time=   0.6s\n",
      "[CV] END ..............................kmeans__n_clusters=59; total time=   0.6s\n",
      "[CV] END ..............................kmeans__n_clusters=59; total time=   0.5s\n",
      "[CV] END ..............................kmeans__n_clusters=59; total time=   0.6s\n",
      "[CV] END ..............................kmeans__n_clusters=60; total time=   0.6s\n",
      "[CV] END ..............................kmeans__n_clusters=60; total time=   0.6s\n",
      "[CV] END ..............................kmeans__n_clusters=60; total time=   0.8s\n",
      "[CV] END ..............................kmeans__n_clusters=61; total time=   0.8s\n",
      "[CV] END ..............................kmeans__n_clusters=61; total time=   0.7s\n",
      "[CV] END ..............................kmeans__n_clusters=61; total time=   0.8s\n",
      "[CV] END ..............................kmeans__n_clusters=62; total time=   0.9s\n",
      "[CV] END ..............................kmeans__n_clusters=62; total time=   0.8s\n",
      "[CV] END ..............................kmeans__n_clusters=62; total time=   0.7s\n",
      "[CV] END ..............................kmeans__n_clusters=63; total time=   0.6s\n",
      "[CV] END ..............................kmeans__n_clusters=63; total time=   0.6s\n",
      "[CV] END ..............................kmeans__n_clusters=63; total time=   0.7s\n",
      "[CV] END ..............................kmeans__n_clusters=64; total time=   0.7s\n",
      "[CV] END ..............................kmeans__n_clusters=64; total time=   0.7s\n",
      "[CV] END ..............................kmeans__n_clusters=64; total time=   0.7s\n",
      "[CV] END ..............................kmeans__n_clusters=65; total time=   0.7s\n",
      "[CV] END ..............................kmeans__n_clusters=65; total time=   0.6s\n",
      "[CV] END ..............................kmeans__n_clusters=65; total time=   0.6s\n",
      "[CV] END ..............................kmeans__n_clusters=66; total time=   0.6s\n",
      "[CV] END ..............................kmeans__n_clusters=66; total time=   0.6s\n",
      "[CV] END ..............................kmeans__n_clusters=66; total time=   0.7s\n",
      "[CV] END ..............................kmeans__n_clusters=67; total time=   0.7s\n",
      "[CV] END ..............................kmeans__n_clusters=67; total time=   0.7s\n",
      "[CV] END ..............................kmeans__n_clusters=67; total time=   0.7s\n",
      "[CV] END ..............................kmeans__n_clusters=68; total time=   0.6s\n",
      "[CV] END ..............................kmeans__n_clusters=68; total time=   0.7s\n",
      "[CV] END ..............................kmeans__n_clusters=68; total time=   0.6s\n",
      "[CV] END ..............................kmeans__n_clusters=69; total time=   0.7s\n",
      "[CV] END ..............................kmeans__n_clusters=69; total time=   0.7s\n",
      "[CV] END ..............................kmeans__n_clusters=69; total time=   0.7s\n",
      "[CV] END ..............................kmeans__n_clusters=70; total time=   0.6s\n",
      "[CV] END ..............................kmeans__n_clusters=70; total time=   0.6s\n",
      "[CV] END ..............................kmeans__n_clusters=70; total time=   0.7s\n",
      "[CV] END ..............................kmeans__n_clusters=71; total time=   0.7s\n",
      "[CV] END ..............................kmeans__n_clusters=71; total time=   0.8s\n",
      "[CV] END ..............................kmeans__n_clusters=71; total time=   0.7s\n",
      "[CV] END ..............................kmeans__n_clusters=72; total time=   0.7s\n",
      "[CV] END ..............................kmeans__n_clusters=72; total time=   0.7s\n",
      "[CV] END ..............................kmeans__n_clusters=72; total time=   0.7s\n",
      "[CV] END ..............................kmeans__n_clusters=73; total time=   0.7s\n",
      "[CV] END ..............................kmeans__n_clusters=73; total time=   0.9s\n",
      "[CV] END ..............................kmeans__n_clusters=73; total time=   0.7s\n",
      "[CV] END ..............................kmeans__n_clusters=74; total time=   0.9s\n",
      "[CV] END ..............................kmeans__n_clusters=74; total time=   0.9s\n",
      "[CV] END ..............................kmeans__n_clusters=74; total time=   1.1s\n",
      "[CV] END ..............................kmeans__n_clusters=75; total time=   1.0s\n",
      "[CV] END ..............................kmeans__n_clusters=75; total time=   0.8s\n",
      "[CV] END ..............................kmeans__n_clusters=75; total time=   1.0s\n",
      "[CV] END ..............................kmeans__n_clusters=76; total time=   0.8s\n",
      "[CV] END ..............................kmeans__n_clusters=76; total time=   1.0s\n",
      "[CV] END ..............................kmeans__n_clusters=76; total time=   0.9s\n",
      "[CV] END ..............................kmeans__n_clusters=77; total time=   0.8s\n",
      "[CV] END ..............................kmeans__n_clusters=77; total time=   0.9s\n",
      "[CV] END ..............................kmeans__n_clusters=77; total time=   1.0s\n",
      "[CV] END ..............................kmeans__n_clusters=78; total time=   0.8s\n",
      "[CV] END ..............................kmeans__n_clusters=78; total time=   0.9s\n",
      "[CV] END ..............................kmeans__n_clusters=78; total time=   0.7s\n",
      "[CV] END ..............................kmeans__n_clusters=79; total time=   0.8s\n",
      "[CV] END ..............................kmeans__n_clusters=79; total time=   0.8s\n",
      "[CV] END ..............................kmeans__n_clusters=79; total time=   0.7s\n",
      "[CV] END ..............................kmeans__n_clusters=80; total time=   0.8s\n",
      "[CV] END ..............................kmeans__n_clusters=80; total time=   0.8s\n",
      "[CV] END ..............................kmeans__n_clusters=80; total time=   0.8s\n",
      "[CV] END ..............................kmeans__n_clusters=81; total time=   0.8s\n",
      "[CV] END ..............................kmeans__n_clusters=81; total time=   0.9s\n",
      "[CV] END ..............................kmeans__n_clusters=81; total time=   0.8s\n",
      "[CV] END ..............................kmeans__n_clusters=82; total time=   0.8s\n",
      "[CV] END ..............................kmeans__n_clusters=82; total time=   0.9s\n",
      "[CV] END ..............................kmeans__n_clusters=82; total time=   0.9s\n",
      "[CV] END ..............................kmeans__n_clusters=83; total time=   0.8s\n",
      "[CV] END ..............................kmeans__n_clusters=83; total time=   1.0s\n",
      "[CV] END ..............................kmeans__n_clusters=83; total time=   0.8s\n",
      "[CV] END ..............................kmeans__n_clusters=84; total time=   1.0s\n",
      "[CV] END ..............................kmeans__n_clusters=84; total time=   0.9s\n",
      "[CV] END ..............................kmeans__n_clusters=84; total time=   0.8s\n",
      "[CV] END ..............................kmeans__n_clusters=85; total time=   0.8s\n",
      "[CV] END ..............................kmeans__n_clusters=85; total time=   0.8s\n",
      "[CV] END ..............................kmeans__n_clusters=85; total time=   0.8s\n",
      "[CV] END ..............................kmeans__n_clusters=86; total time=   0.8s\n",
      "[CV] END ..............................kmeans__n_clusters=86; total time=   0.8s\n",
      "[CV] END ..............................kmeans__n_clusters=86; total time=   0.8s\n",
      "[CV] END ..............................kmeans__n_clusters=87; total time=   0.8s\n",
      "[CV] END ..............................kmeans__n_clusters=87; total time=   0.9s\n",
      "[CV] END ..............................kmeans__n_clusters=87; total time=   0.9s\n",
      "[CV] END ..............................kmeans__n_clusters=88; total time=   0.9s\n",
      "[CV] END ..............................kmeans__n_clusters=88; total time=   1.1s\n",
      "[CV] END ..............................kmeans__n_clusters=88; total time=   0.6s\n",
      "[CV] END ..............................kmeans__n_clusters=89; total time=   0.7s\n",
      "[CV] END ..............................kmeans__n_clusters=89; total time=   0.7s\n",
      "[CV] END ..............................kmeans__n_clusters=89; total time=   0.7s\n",
      "[CV] END ..............................kmeans__n_clusters=90; total time=   0.7s\n",
      "[CV] END ..............................kmeans__n_clusters=90; total time=   0.7s\n",
      "[CV] END ..............................kmeans__n_clusters=90; total time=   0.7s\n",
      "[CV] END ..............................kmeans__n_clusters=91; total time=   0.7s\n",
      "[CV] END ..............................kmeans__n_clusters=91; total time=   0.8s\n",
      "[CV] END ..............................kmeans__n_clusters=91; total time=   0.7s\n",
      "[CV] END ..............................kmeans__n_clusters=92; total time=   0.6s\n",
      "[CV] END ..............................kmeans__n_clusters=92; total time=   0.7s\n",
      "[CV] END ..............................kmeans__n_clusters=92; total time=   0.7s\n",
      "[CV] END ..............................kmeans__n_clusters=93; total time=   1.0s\n",
      "[CV] END ..............................kmeans__n_clusters=93; total time=   1.0s\n",
      "[CV] END ..............................kmeans__n_clusters=93; total time=   1.3s\n",
      "[CV] END ..............................kmeans__n_clusters=94; total time=   0.9s\n",
      "[CV] END ..............................kmeans__n_clusters=94; total time=   0.7s\n",
      "[CV] END ..............................kmeans__n_clusters=94; total time=   0.8s\n",
      "[CV] END ..............................kmeans__n_clusters=95; total time=   0.8s\n",
      "[CV] END ..............................kmeans__n_clusters=95; total time=   0.7s\n",
      "[CV] END ..............................kmeans__n_clusters=95; total time=   0.7s\n",
      "[CV] END ..............................kmeans__n_clusters=96; total time=   0.7s\n",
      "[CV] END ..............................kmeans__n_clusters=96; total time=   0.7s\n",
      "[CV] END ..............................kmeans__n_clusters=96; total time=   0.7s\n",
      "[CV] END ..............................kmeans__n_clusters=97; total time=   0.8s\n",
      "[CV] END ..............................kmeans__n_clusters=97; total time=   0.8s\n",
      "[CV] END ..............................kmeans__n_clusters=97; total time=   0.7s\n",
      "[CV] END ..............................kmeans__n_clusters=98; total time=   0.7s\n",
      "[CV] END ..............................kmeans__n_clusters=98; total time=   0.7s\n",
      "[CV] END ..............................kmeans__n_clusters=98; total time=   0.8s\n",
      "[CV] END ..............................kmeans__n_clusters=99; total time=   0.7s\n",
      "[CV] END ..............................kmeans__n_clusters=99; total time=   0.8s\n",
      "[CV] END ..............................kmeans__n_clusters=99; total time=   0.7s\n"
     ]
    },
    {
     "output_type": "execute_result",
     "data": {
      "text/plain": [
       "{'kmeans__n_clusters': 97}"
      ]
     },
     "metadata": {},
     "execution_count": 57
    }
   ],
   "source": [
    "param_grid = dict(kmeans__n_clusters=range(2, 100))\n",
    "grid_clf = GridSearchCV(pipeline, param_grid, cv=3, verbose=2)\n",
    "grid_clf.fit(X_train, y_train)\n",
    "\n",
    "grid_clf.best_params_"
   ]
  },
  {
   "cell_type": "code",
   "execution_count": 58,
   "metadata": {},
   "outputs": [
    {
     "output_type": "execute_result",
     "data": {
      "text/plain": [
       "0.9644444444444444"
      ]
     },
     "metadata": {},
     "execution_count": 58
    }
   ],
   "source": [
    "grid_clf.score(X_test, y_test)"
   ]
  },
  {
   "source": [
    "### 9.1.5 Using Clustering for Semi-Supervised Learning"
   ],
   "cell_type": "markdown",
   "metadata": {}
  },
  {
   "source": [
    "Clustering can also be used in semi-supervised learning, when there's plenty of unlabeled instances and few labeled instances."
   ],
   "cell_type": "markdown",
   "metadata": {}
  },
  {
   "cell_type": "code",
   "execution_count": 62,
   "metadata": {},
   "outputs": [
    {
     "output_type": "execute_result",
     "data": {
      "text/plain": [
       "0.7555555555555555"
      ]
     },
     "metadata": {},
     "execution_count": 62
    }
   ],
   "source": [
    "n_labeled = 50\n",
    "log_reg = LogisticRegression()\n",
    "log_reg.fit(X_train[:n_labeled], y_train[:n_labeled])\n",
    "\n",
    "log_reg.score(X_test, y_test)"
   ]
  },
  {
   "source": [
    "Much worse than before but expected since this only trained on a small part (not full) of the training set. To do better, first cluster the training set into 50 clusters. Then for each cluster, find the image closest to the centroid and call them **representative images**."
   ],
   "cell_type": "markdown",
   "metadata": {}
  },
  {
   "cell_type": "code",
   "execution_count": 63,
   "metadata": {},
   "outputs": [],
   "source": [
    "k = 50\n",
    "kmeans = KMeans(n_clusters=k)\n",
    "X_digits_dist = kmeans.fit_transform(X_train)\n",
    "representative_digits_idx = np.argmin(X_digits_dist, axis=0)\n",
    "X_representative_digits = X_train[representative_digits_idx]"
   ]
  },
  {
   "cell_type": "code",
   "execution_count": 69,
   "metadata": {},
   "outputs": [
    {
     "output_type": "display_data",
     "data": {
      "text/plain": "<Figure size 576x144 with 50 Axes>",
      "image/svg+xml": "<?xml version=\"1.0\" encoding=\"utf-8\" standalone=\"no\"?>\r\n<!DOCTYPE svg PUBLIC \"-//W3C//DTD SVG 1.1//EN\"\r\n  \"http://www.w3.org/Graphics/SVG/1.1/DTD/svg11.dtd\">\r\n<!-- Created with matplotlib (https://matplotlib.org/) -->\r\n<svg height=\"123.12pt\" version=\"1.1\" viewBox=\"0 0 441.714319 123.12\" width=\"441.714319pt\" xmlns=\"http://www.w3.org/2000/svg\" xmlns:xlink=\"http://www.w3.org/1999/xlink\">\r\n <metadata>\r\n  <rdf:RDF xmlns:cc=\"http://creativecommons.org/ns#\" xmlns:dc=\"http://purl.org/dc/elements/1.1/\" xmlns:rdf=\"http://www.w3.org/1999/02/22-rdf-syntax-ns#\">\r\n   <cc:Work>\r\n    <dc:type rdf:resource=\"http://purl.org/dc/dcmitype/StillImage\"/>\r\n    <dc:date>2021-02-16T18:47:41.739531</dc:date>\r\n    <dc:format>image/svg+xml</dc:format>\r\n    <dc:creator>\r\n     <cc:Agent>\r\n      <dc:title>Matplotlib v3.3.4, https://matplotlib.org/</dc:title>\r\n     </cc:Agent>\r\n    </dc:creator>\r\n   </cc:Work>\r\n  </rdf:RDF>\r\n </metadata>\r\n <defs>\r\n  <style type=\"text/css\">*{stroke-linecap:butt;stroke-linejoin:round;}</style>\r\n </defs>\r\n <g id=\"figure_1\">\r\n  <g id=\"patch_1\">\r\n   <path d=\"M 0 123.12 \r\nL 441.714319 123.12 \r\nL 441.714319 0 \r\nL 0 0 \r\nz\r\n\" style=\"fill:none;\"/>\r\n  </g>\r\n  <g id=\"axes_1\">\r\n   <g clip-path=\"url(#p49e86cb114)\">\r\n    <image height=\"19\" id=\"image6f7d078d07\" transform=\"scale(1 -1)translate(0 -19)\" width=\"19\" x=\"7.2\" xlink:href=\"data:image/png;base64,\r\niVBORw0KGgoAAAANSUhEUgAAABMAAAATCAYAAAByUDbMAAAC3klEQVR4nIXSzU/iXBTH8W/fhXJbCAKCxGBs8GWhCQsS/3cXrtzhwpUrRaNFSq3UptgWaGc1ZOaRxznJ3dzkfHJyfkcqiqLI85wsy0jTlOvra66urri/v8f3fcIwxLZthBBcXFwwHA45Ozuj0+nQbrf5s1SAoihYrVZkWbZ5AKZpomkaqqoiyzJZlhGGIWEYUq/X+W+pAHmeE8cxQRDg+z6z2QxJkuj3+1SrVTzPYzqdMpvNuLu7I01TTNOk1+t9x9brNXEcb6D393d2dnbo9/ucnp4yGo0IgoDZbIbruiwWCxzH2T6ZoigIIWi1WliWhaIoLJdLFosFURSRpilFUWCaJqVSif39fYQQ2zFVVbFtm3K5TLVaRdM0vr6+iKKIIAhYLBbkeY5t23Q6HXq9HtVqdTsmSRK6rqPrOkIILMsiSRKm0ylpmuL7PmmaUqlUODw8xHEcarXaduzPMk2TRqPBfD5nPB6TJAmSJG1WcXR0tAnmn1ilUqHb7TKZTHh4eOD5+Zl6vc7u7i6GYdBut+l2u8iy/A379tNutxkMBpyfn9NsNsnznPV6TZZlRFHEdDrF8zziOP73ZHt7ewghiOOY29vbzUGnaUoYhnieh+d5KIpCpVL5GUuShI+PD+I4RlVVarUalmUhhODz85PRaESSJAyHQ5rN5s/YfD7n8fER13UBaDQaCCEQQhCGITc3N3ieR6vVYjAY/IyFYcjT0xOu67JcLjFNE8uysG0b13UZj8fkeY7v++R5jiRJSJK0PYAoinh5eWEymRDHMbIsYxgGlmVRKpVQVfWvPa5WK4qi2D5ZFEW8vr7y9vZGlmUbrFwuUyqVMAwDSZI2CUuShKqq2zFFUf5q/n1P8/kc27a5vLzk4OAAx3EwDGMD/S+maRrlchlN05BlmSRJCIKAXq/HyckJx8fHOI6Drus/7wxAlmVkWUZVVXRdByDLMjRNo16v02w2MU0TWZY3EMAvI+tX6AJ6sxgAAAAASUVORK5CYII=\" y=\"-6.944828\"/>\r\n   </g>\r\n  </g>\r\n  <g id=\"axes_2\">\r\n   <g clip-path=\"url(#pe1e4b388f7)\">\r\n    <image height=\"19\" id=\"image7f55f3a91d\" transform=\"scale(1 -1)translate(0 -19)\" width=\"19\" x=\"52.59661\" xlink:href=\"data:image/png;base64,\r\niVBORw0KGgoAAAANSUhEUgAAABMAAAATCAYAAAByUDbMAAAC3klEQVR4nJ3U3UsySxzA8a/ui7qu5hsRKSoEed2F0n/dfVDQZYQXSpARoVGsm6vlvuq+n4tz8uE5GQ/n/K5mhpkP85v5zWTSNE3ZE+PxmIuLC+7u7uj3+wwGA7rdLs1mk3K5vG8J2b2j/0QmkyGTyRDHMb7vEwQBSZL8OP9HLJvNIkkSgiDgui7z+ZzPz0+CIPh/mCiKCIKA53nous7Hxwe+7/93TFEU2u02p6enpGnK4+Mjs9kM0zQJw3Bvuj9iqqrS6XTo9XoAPDw8MJ1OWa/XhGFIHMd/xtI0JY5jJEmi0WjQarUoFAp4nsdqteL9/R3DMPA8789YHMeEYQhAsVik0WhQrVYplUpEUcTb29su3X+H+NVIkoQkSXBdF9d1iaKITCaDKIpIkkQul8PzPF5eXiiVSlQqFdrt9ncsiiJs28ayLJ6fn3l6esJxHHK5HEEQMBqN0HUd27bZbDYA36DfMNM0mc/nDIdDbm5uWK1WqKqKKIrMZjN0XUcQBBaLBaIo0u/392NpmhIEAa7rYlkW6/WaJEk4Ojqi2WxyfHxMr9dD13U0TdtlYZomuVwOWZb/rssvLIoigiAgiiKSJKFWq3F2dsZgMMBxHBzH4fb2luvra+I4xnEclssllUoFURR/YdlsFlmWURSFYrGIqqoUCoVdv1KpIMsyhmEwGo2wbRvXdVksFgiCsDsOEUAURer1OpIk8fr6SqvVwjRNxuMxy+WSbrfLyckJaZqiqippmrLZbNA0DUVRODw8/FVnoihSrVbpdDp0Oh3a7TaSJDGZTLi8vOT+/h7DMAjDEEVRKBQKO8yyLKIo+r3OvqLZbHJ+fk6tVmMymaBpGrquc3V1ha7rTKdTAA4ODjg8PGS73fL1Je7FarUa9XqdbDbLdrtF0zSGwyGmaWJZFuVymUajgW3b+L6/e/TfsHw+Tz6fp16vUyqVkGWZ7XaLYRhYloXv+8iyTBiGu5v/2tlfCMWPuMdLId4AAAAASUVORK5CYII=\" y=\"-6.944828\"/>\r\n   </g>\r\n  </g>\r\n  <g id=\"axes_3\">\r\n   <g clip-path=\"url(#p4d23379887)\">\r\n    <image height=\"19\" id=\"image3d541bc908\" transform=\"scale(1 -1)translate(0 -19)\" width=\"19\" x=\"97.99322\" xlink:href=\"data:image/png;base64,\r\niVBORw0KGgoAAAANSUhEUgAAABMAAAATCAYAAAByUDbMAAAC/UlEQVR4nI2TTU/qXBSFn7YHSwulfAeMxsQYURBjNCYO/Ncm/gEHJo5M0KkDPkQoGqRAaQs9d/CGXlFv8q7kDM+TtddeW5FSSr6o3+/T6/V4eHjg9vaWu7s7fN/H930ODw85Ozvj8vKS6+trrq6uvn5F8E2+7zOZTPA8DyEE2WwWKSVSSrLZLFEU4XkeQRCwWq1QFAVVVX+HOY7D8/MznU4Hy7K4uLigUChQKBQYj8cMBgPa7TbD4RDXddF1HV3XUVX1d1ir1WI0GlGpVKjVahwdHVGr1bi/v+fm5oZ2u43jOEwmEzKZDFtbW3+dSSkJw5AgCJjP54RhiGma7O/vc3JyQqVSoVwus7u7y/HxMa7romka/X4fKSWGYaBp2n+wKIpYLBbMZjMWiwWr1QrLsjg4OOD8/JxkMomu6+zs7NBsNhmNRggheH19xTRNSqXSX2drmOu6BEGAoigYhkEul6NcLscR2LZNtVpFURTCMOT9/Z1qtUoURQCoa5jv+zFM0zQSiQSapm2uXghSqRSGYbBarXBdF9/3N2FSSnzfZzqdEoYhiqL8AAFomsbW1haJRCKeJgxD1lWNYcvlEt/3WS6XfOvxRgfH4zGTyQQAy7LQdR1FUf4N+5d+gyWTybi06tcRhBCx/cViEWex1mw2o9/v4zgOAPl8Pq5FDFMUBSEEuq4jpWQ+n+N5HmEYbsCm0ylvb28MBgOklBSLRdLp9OY5qapKMpnEtm0SiQRBEPD5+clwOKTb7SKEQAjBaDRiOBwynU7RNI1CoUAqlYqdifXKbdtGCIFlWUgpGQwGPD4+slwuSafTpNNpXl5eGI/HCCEwTZNisbiRmVjnlclk4qcoCh8fH7RaLRzHoVQqUSwW6Xa7uK5LLpcjlUqRz+c3Yvhx6OVymdPTUwzDwPM8er0eruviOA6maVKv19nb22N7e/vHtn/ASqUSjUaDKIp4enqi0+lgGAaGYdBsNmk0GtTr9f8H03Ud27ZJpVKoqorneXEPpZRkMpm4Et/1B2tnigeNGL/wAAAAAElFTkSuQmCC\" y=\"-6.944828\"/>\r\n   </g>\r\n  </g>\r\n  <g id=\"axes_4\">\r\n   <g clip-path=\"url(#pad83ad131c)\">\r\n    <image height=\"19\" id=\"imagef977959d9a\" transform=\"scale(1 -1)translate(0 -19)\" width=\"19\" x=\"143.389831\" xlink:href=\"data:image/png;base64,\r\niVBORw0KGgoAAAANSUhEUgAAABMAAAATCAYAAAByUDbMAAAB0klEQVR4nI2US47qMBBFb+IfOBKikcKAAayDRbAnFsRm2AQoilAUyM/x741iNSS8dEmeuFRHVXWvDf8lrterP5/P/ng8+sPh4Cml/nQ6+cvl4m+3m3+9XqOaGBPhvYcxBkopKKVgrUUcx+FEUYQoikZ19PPCWgtjDOq6xuPxQJZlaJoGhBAIISCEAOcccTzuYxKmtUZVVcjzHPf7HZxzcM4DiDEGQsg8TCmFsixRliW6roNzLuQIIQH8J1jXdSiKAmVZQin1louiCIwxMMYmdzYa3HsfzhDOOVhrwz6NMW/5rzDGGJIkgZQSjDEAgNYafd+jbVtUVYWmadD3/TyMUorFYgEhRFDMew+tNZRSaJoGbdvCGDOCjXbmnIPWGlrrMEocx2CMgVI6aYmvnVlr0fc9tNZBScZYsMTU4r/CfgswdDZ02zQNiqLA4/FA13XzsKkYBHg+n8iyDHmeo67redjnGxzCORdsYa19M/N/YZxzUEpHLpdSIk1TbLdbJEkyDxuezG9rfMLSNIWUcgQbWWMw7XK5BGMMcRxjtVphvV5jt9ths9kgSRJwzudhw4hJkoRRf35+sN/v32B/+oKiKAIhBISQIIIQAlJKSCm//hgA8A/wgyC8ehMgYAAAAABJRU5ErkJggg==\" y=\"-6.944828\"/>\r\n   </g>\r\n  </g>\r\n  <g id=\"axes_5\">\r\n   <g clip-path=\"url(#pb349d51622)\">\r\n    <image height=\"19\" id=\"image7c2c80541e\" transform=\"scale(1 -1)translate(0 -19)\" width=\"19\" x=\"188.786441\" xlink:href=\"data:image/png;base64,\r\niVBORw0KGgoAAAANSUhEUgAAABMAAAATCAYAAAByUDbMAAADEUlEQVR4nIXSTU/qXBSG4bvutkBb+SwUFEENwRCNA0cmThz7Z/0HJkxMGBhHJAQlCoiCBOS7VCg9gxM5vkd9zzPbO2tdyV5rS57neXzKy8sLrVaL6+trLi8vKRaLhEIhNjc3OT8/5+LigpOTE0zTJBqNfm5F5q8IIfD5fBiGQSQSIZFIoCgKQggcx+Ht7Y1er4eu63+3fsV0XSeRSJDP5zk7O0PTNDqdDu12m263S6lUYjqdIkkS29vb/8Y0TUOSJIQQxGIxbm5umEwmdLtdnp+fGQwGZLNZTk9P/x8DkCQJXddJpVJ4nofjOLiuS61W4+HhgeFwiOM4/37mR/x+P5ZloWkaq9UKVVVZLpfU63Wm0ymLxeJnbLVa4Xkeo9GI0WjEfD7HdV1s26bT6dDv91kul4RCIWKxGIFA4HvM8zxc12WxWNBoNKhUKry+vmLbNuPxmGazSaPRQAhBMpkkn88Tj8e/x1arFbPZjMlkQq1Wo1Qq0Ww2sW2b6XRKu92m0+lwcHBAoVDg6OjoZ2w2m1GtVqlUKpTLZarVKrPZjHA4jGmaZLNZAPb29igUCuzv7/+M2bbN3d0dV1dX1Ot16vU6hmGQTCbZ3d0lkUhgWRbpdJqdnR2i0Siy/HV3GwCyLBMOh8lkMoTDYRRFQZZlgsEglmWRyWTI5XKk02kikQh+v/9bTP74BplMZr29VquFz+cjFAphmiaWZbG1tYWu66iq+gX5D6YoCpZloaoqtVoNXdd5f39nPB7T7/eJx+O4rovjODiOgxACVVVRVRVJkpAk6Q8mhEDXdYQQGIaBEIJer8ft7S3tdpt+v4/rumiaBkAgEMA0TWKxGLIsI8sykiT9xjY2NtA0DU3TMAwDRVEYDoc8PT1RLpfXkGEYAITDYTzPW5+FEH+wz0kkEhwfH7NcLrm/v6fX69FoNCgWi/h8PgBSqRQApmkCrOf4BYvH4xweHjKfzxmPx/R6PR4fH2m1WuuaXC5HMpmkUCigqup6RF+wjy0Gg0H8fj/w+x8OBoN1TTQaZTqdslwucV13ff8LR5lFCLfUlvsAAAAASUVORK5CYII=\" y=\"-6.944828\"/>\r\n   </g>\r\n  </g>\r\n  <g id=\"axes_6\">\r\n   <g clip-path=\"url(#p182d57b9e8)\">\r\n    <image height=\"19\" id=\"image95560000b8\" transform=\"scale(1 -1)translate(0 -19)\" width=\"19\" x=\"234.183051\" xlink:href=\"data:image/png;base64,\r\niVBORw0KGgoAAAANSUhEUgAAABMAAAATCAYAAAByUDbMAAADD0lEQVR4nI3TTU/qbBDG8X9b+ooItuVVowsxGDXGsHHnR3Djwq/qmq0kGtANRMCQSERAoTRtoaXPwqjHx5NzzrW9M79k5p4R4jiO+SWPj490Oh0ajQbX19fc39+jaRqKojAcDnl6eqJYLHJ5ecnFxQW2bZPNZpFlmcQHEscxcRzjui7j8RjHcUgkEti2ja7rGIYBgOd56LrOcrnk7e2NZDJJFEVfWBzHRFFEGIZ0Oh1qtRqTyQTLstjd3WVjYwPTNOl0OjSbTVzXxXEc6vU6q9WKbDaLpmlfWBiGBEFAt9ulVqshCALn5+ecnZ1RKpXY3Nyk2WxiGAatVovpdEq9Xse2bQ4PDwG+2vyIbdscHBygKArlcpmtrS0ymQyapmEYBqlUimQyyWKxwPd9VqsVH2P/gRUKBarVKpqmUalUKBaLyLKMKIokEgmSySRra2vM5/P/l75jgiAgiiKSJFEoFDg6OkLTNEqlErqu4/s+8/mc8XjMaDTC8zzS6TSWZWHbNrIsf8ckSUJVVfL5PLquI0kS6XSaKIp4fX1lOBzSarW4u7vD8zxOTk44Pj5me3sbXde/tylJEpIkYZompmmyWq2IogjXdRkMBjw8PNBut+l2uxiGQS6X4/T0FEVRUFX19zP7iOu6PD8/0+/3aTQa3N7e4vs+lmWxs7NDPp9HVVUkSfqsEf+E9Xo9bm5uqNVqXF1d0ev1sG2bSqVCLpdDURQSiQSCIPwZk2WZTCZDLpcjnU6/L2XivZE4jhEE4RP59pu/i2EYlEol4jim1+vRbrdJpVKEYYjruiwWix81PzDf9/F9nyAIWK1WqKrK+vo62Wz28302mxEEwd+xyWRCv9/HcZzP35zNZmiaRhAEOI7DdDr9d6zdbjMajYjjmOVyieM4aJpGGIbM53Mcx/m3NiVJQlEUwjDk5eWF0WhEEAR4nodpmpTLZfb29iiVSn/HRFFEURSWyyWDwYBer4ckSYiiyM7ODtVqlf39ffL5/A/sx2p83GkURfi+j+M4+L5PGIYoikImk8GyrM8T+jX/AXxNad8rynoCAAAAAElFTkSuQmCC\" y=\"-6.944828\"/>\r\n   </g>\r\n  </g>\r\n  <g id=\"axes_7\">\r\n   <g clip-path=\"url(#p960d882d51)\">\r\n    <image height=\"19\" id=\"image95cb7e539a\" transform=\"scale(1 -1)translate(0 -19)\" width=\"19\" x=\"279.579661\" xlink:href=\"data:image/png;base64,\r\niVBORw0KGgoAAAANSUhEUgAAABMAAAATCAYAAAByUDbMAAAC9ElEQVR4nI2US0/yWhSGH0ppbaGWO0kJCiY6JPEyYeTAP+tP0IG/wHzRhMTEEK+AgBDaUFp6pWcknx6P5jyjPVj72TvvWnunkiRJ+EQQBPi+z/X1Nefn51xcXLBYLFgsFhiGwd7eHoeHh5ydnXF6eoosy0iShCAIiPwL13UxTRPLsgDY3t5GURQKhQL5fJ6trS3iOGa1WrFYLNA0jUwmA/Bd9vz8zJ8/f3h4eACg3W5Tq9Wo1WpYlsXb2xuu6zIYDOh2uzSbTVqtFoqi/Lfs6uqK+XzOzs4O7Xab4+NjTk5OuLm54fLykn6/T7/fJwxDJEmiXq//lcVxjOu6OI7DaDRiPB4zGo1wXRfbthFFEVEUeXx8xLIswjAkCAKiKOJz5CJAFEVYlsV0OmU8HjOdThkMBkwmE/r9Pr7vs1qtME2T2Wz2TfKxFgHW6zWe52FZFr7vIwgCmUwGWZYRBIHZbMbd3d2mRlEUZFmmVCqhKArpdPqvLEkSoigiCAIkSaJUKiGKIqVSiVwuh+u6DIdDfN/H8zxqtRq6rtNsNje1X7oZxzFBECCKIrquo2karVaLYrFIr9ej1+sRBAGCIKCqKpVKhUajQaFQ+C77wHEcJpMJmqZhGAZHR0ccHBwwnU6J4xiAQqHA/v4+lUoFVVURBOF3mSRJGIZBp9MhjmPiON4EnU6nkSQJSZJIpVJfZYIgoCgK+XweWZZJkgTP81gul9i2TTabRdf1zaafED5OymazlMvlzfPwPI/393deXl4wTZP1ev2r6MvNVFUlSRLy+Ty6ruP7PsPhkG63SxAEKIpCLpdDkqTNKPwo+5iparVKo9FgOBzy9PSEbds4joMoihiGQblcJpvN/ixLpVLIsowsy1SrVXZ3d7Esi9fXV+7v7zcDmslk0DTtd9ln6vU6nU4HVVW5vb1lMBgAMJ/PWSwWhGH4e2afMQwDVVVRFIXlconjOACYpolt20RR9P9liqIgCALFYpFcLrf5+MIwJIqiX7v6D3nCbZ2767asAAAAAElFTkSuQmCC\" y=\"-6.944828\"/>\r\n   </g>\r\n  </g>\r\n  <g id=\"axes_8\">\r\n   <g clip-path=\"url(#pf09fdfab85)\">\r\n    <image height=\"19\" id=\"image27bd4872c1\" transform=\"scale(1 -1)translate(0 -19)\" width=\"19\" x=\"324.976271\" xlink:href=\"data:image/png;base64,\r\niVBORw0KGgoAAAANSUhEUgAAABMAAAATCAYAAAByUDbMAAAC0ElEQVR4nKXTS0/qWhjG8X8vFLpabSggCChxghMvMwcmfm39Cg4MIwaICYFGrgZokRbS0vYMTjbsc9zbnMuTrNF68xu8FylN05Rv4nkeT09PPD4+0mg0uLu74/LykmKxiG3bf6mVv4P+njRNieOY3W5HkiRf/v8VFkURQRAQBAFRFP1/zPd9fN//b5gsy+i6Tj6fR9M0fN/HdV222+2XWvWfYEIICoUCu92O9XrNcrn8HkuShDRN8TwP13UJwxBZlgnDkPV6ja7rLJdLVqsViqKwXq9/jf2YUhRF9Ho92u02ruuiqiqKohCGIZIksd1ucRyHIAi4vb39PRZFEZvNhn6/z/PzM+PxmGw2ixAC27axbRvXdRkOhwRBwGKxIAxDFEVBUZQDFsfxvhfj8Zh+v894PEYIga7rzOdzhBBMp1NmsxlJkuA4Dp1Oh2KxSKlUIpPJHDDf95nP54xGIwaDAcPhENM0MU0TWZaRJInPz09c10WSJBzH4fX1lSRJsCzrgCmKghCCfD6PZVkIITBNk0KhsH8nJyfMZjPe399J05TFYkGr1SKbzVKtVtE07YBZlkUul6NSqVAul0mShNPTU87Ozri+vubm5oZ+v0+r1WIwGLBarXh5eaFSqXB1dYUQ4k9MlmVyuRy5XI5qtUqz2cQwDHRdR9d1bNumVqshSRK+7xPHMZ1OB8dxmE6neJ53wH7O+fk5Dw8PdLtder0ejuMghCCOY1RVxTRNarUaw+GQNE3ZbrcsFotDz35OvV7HsiwMw2AymdButwFYrVY0Gg0uLi4ol8uYpgnAZrPZ7+QXLJPJYBgG9Xqd+/t7SqUSURQRhiHL5XI/0clkAoCmaZimyfHx8VdM0zRUVaXRaGBZFs1mk7e3N7rdLqPRiMlkwsfHB57nAZDNZjEMg6Ojo6+YJEn7VVEUBVVVmU6nZDIZoijCdd397f6oV1UVVVX5Awa0b5I663YwAAAAAElFTkSuQmCC\" y=\"-6.944828\"/>\r\n   </g>\r\n  </g>\r\n  <g id=\"axes_9\">\r\n   <g clip-path=\"url(#p59a526f454)\">\r\n    <image height=\"19\" id=\"imagea6ea3a78f7\" transform=\"scale(1 -1)translate(0 -19)\" width=\"19\" x=\"370.372881\" xlink:href=\"data:image/png;base64,\r\niVBORw0KGgoAAAANSUhEUgAAABMAAAATCAYAAAByUDbMAAADHElEQVR4nI3TyU8qWRTA4V/dmhiqCAISEAKCQSEkEjfuTfzXXRDjhsEYEiYjFYZCQJFirrfoPLp92Ok+25vz5dwzSK7ruvwjut0urVaLSqXC4+MjtVrt8KZpGrquE4/Hub6+plQqkclkyGaz+Hw+FP4Ix3GYTCYsFgs0TSMajSKEQAgBwH6/R1EUZFn+M/UYsyyLcrmMbdtEo1Hy+Tw+nw/DMBgMBnS7XQA8Hs9/Y71ej3K5jBCCYrHI3d0dkUiESCRCtVrl4eGB8Xj8/zBZltE0jdVqhW3bdDod5vM58/mcXq/HaDRiuVzi8XiIxWIEAgEURfkZU1UVv9/Per1mNBrx8vJyqKzdbtPv91FVFa/Xy9nZGYZhHPp3hAWDQTKZDJIkMZ1OqVarBINBQqEQm80G0zQ5PT0lGo0SDAZRVfUwnCMsFotxc3ODLMvU63Xa7TaGYWAYBoVCgVKpRD6fJ5VKoWkaQggkSfoZOzk5IZPJMBwOeXp6otVqIcsyqqoSj8dJJBIUi0X8fj+qqn7LFX9i4/GYRqNBr9dD13VSqRSBQIDNZkO/3+f5+ZlarcZwODya5r9ib29vaJp2wHa7HcPhkHq9Tq1WYzQaHWEK/LXVi8UCx3GwLIvX11dWqxXZbJZwOEy73SaZTOK67qG6RCJBLpdD1/VD7xSA7XbLbDbDtm0sy8KyLAzDIJ/Pc3t7S7vdptVqUa/XqVQqrFYrrq6usG2bYDCIoih/Y67rstlsWCwWfH5+MplMEEKgqiqhUIjlconrugwGAxRFYbVasdls2O127Pf779+UJAmPx4Npmqiqym63w7ZtarUaPp8Px3H4+vpClmXS6TSmaZJOp4lEIng8nu97JoRA13UCgQC6riNJErPZjEajgeu6aJp26Mv5+TmxWIxUKkUoFDoegBDicLiFQoH7+/vD2UynUxzHYblckkwmubi4IJfLEQ6Hf57m78pUVSWfz6MoCs1mk2azSafTYTAYMBwOMU2TeDzO5eXlUVUH7DcohMA0TaLRKO/v72iaxnq9xnEcPj4+2G63eL1eTNNE07Qj7BdNFFESeRMcAAAAAABJRU5ErkJggg==\" y=\"-6.944828\"/>\r\n   </g>\r\n  </g>\r\n  <g id=\"axes_10\">\r\n   <g clip-path=\"url(#p5864c0bd90)\">\r\n    <image height=\"19\" id=\"image16d7af36a8\" transform=\"scale(1 -1)translate(0 -19)\" width=\"19\" x=\"415.769492\" xlink:href=\"data:image/png;base64,\r\niVBORw0KGgoAAAANSUhEUgAAABMAAAATCAYAAAByUDbMAAAC9UlEQVR4nI2U207yahCGH6AtVEhVQAsmVEEPJATjoQfcgtfgDZp4Bd4EmxMjgmzKpqW0tIaysV0HRlxr+ZP87/E3z7wz38wQ7pFt22Gr1Qqfnp7Ch4eHUFGU8P7+Pnx8fAx1XQ9d1/0VE2WPIpEIsVgMQRCIRr+eBUHAZrNhs9kQBMGvmL2wWCyGLMukUikkSSISibBarXAch/l8ju/7fw8TBGEHi8fjO5ht29i2/UeYALDdbnFdF9d1MQwDwzCwLAvbthmNRjSbTVarFa7r8v7+Ti6XI51O74fNZjOGwyGtVotms0m/38c0TSzLwrKsXYm9Xg9VVSmVSvth8/mcXq/Hy8sL9XqdyWTC5+cnYRgiCAKKohAEAbqu0+l0GI/HLBYLJEnatWEHcxwHXdcZj8dMp1OCIKBYLKKqKpPJBMMwWC6XWJZFt9ul3++j6zrpdJrj42NEUfz6gCAI8H0fz/NYLBY4jgNAoVDg9vaWSqXC1dUViqLw8fHBaDRiMBjQ6/WYz+dst9ufMuPxOBcXFwRBgG3btNttvpMAlEolyuUyjUaDWCyG7/sYhkGj0UAURfL5PLIsf8ESiQSappHJZHh7e+Pw8BDP83YZv2GpVArTNOl0OhiGQb1eR1VVqtXqj7NoNPpFFgTOzs64vLxE13U8z6PdbpPP5xFFEU3TuLu7o1gskkwmURSFQqGAJEk/sO/ViUajnJ6ecn19TRAEjMdjLMuiVCqxXC5RVZVarcZ2uyWRSCDLMul0GlmWf2Df7gBUVaVcLuP7PqZpMplMGA6HtNttNE1D0zQURUEURURR/M+c/Vqnk5MTqtUqNzc3nJ+fk0wmGQwGPD8/U6/X8TwPURSJxWJ/Htp/K5vNks1m2W63vL6+0u12GY1GdDod4vE4lUrll6O9zr51dHREtVqlVquRy+VwHIfpdIppmnuvxi9n/4cdHBwwnU7xPI/ZbIZpmti2TSQSIZFI/J0zSZJQFIVMJkMikWCz2bBer1mv13uP4z8rPbWis1D1xwAAAABJRU5ErkJggg==\" y=\"-6.944828\"/>\r\n   </g>\r\n  </g>\r\n  <g id=\"axes_11\">\r\n   <g clip-path=\"url(#pefc748c7f1)\">\r\n    <image height=\"19\" id=\"imagea598d27085\" transform=\"scale(1 -1)translate(0 -19)\" width=\"19\" x=\"7.2\" xlink:href=\"data:image/png;base64,\r\niVBORw0KGgoAAAANSUhEUgAAABMAAAATCAYAAAByUDbMAAACyklEQVR4nIWUXU/qTBSFnym1tAGMfKRIwQ/8ujLBeKuJf9cb/42mxBDihUQxgNgyhbbT6XuFByPnvOtyZ/Jk77UyS+R5niulCMOQIAh4eHjg/v4e3/eJ45hCocDV1RW9Xo+bmxtub2/pdrtskwEghMAwDEzTpFQqUa/XqdVqlEolLMtCKUUQBEgpSZKELMvI8/wXzAQwDINisYgQgouLC+7u7qjX6wwGA0ajEUEQ4Ps+7Xaby8tLWq0Wtm1jWdZvmBAC27axbZvz83Ns26ZarWIYBkEQ8Pn5ycvLC8fHx3x8fCClxDCM7bBNVSoVPM9jOp2yv79Po9FguVyitSaOY6SURFGEbdvbz9zU2ifP83Bdl1qtxmw2wzAM0jQliiKklFQqle0BbEopxXK5RErJYrFASonWGsdxKJVKOI5DsVikUCj8/2bz+ZzRaES/36ff7zMYDADY29vDdd3vjR3H+fdmeZ4zm80YDof4vs/z8zOvr68opXBdl1arRbPZpFqt/t2zPM/JsowsyxiPx/T7fYbDIV9fX5imSafTodfrcXp6Srlc/gX5BVNKkSQJ4/EY3/cZDAbM5/PvMK6vrzk5Odlq/A+Y1pooigjDkMlkwvv7O0EQYFkW9Xqdo6Mjzs7O8Dxv63k/PMuyDCklk8mEyWTCdDpluVxSLpdpt9scHh7S7XZxXfefsO8zkyRBSkkYhoRhSBzHAFiWhdaa1WpFEAQsFgt2dnZwHAfbthFCIIT4A9umNE0Jw5C3tzceHx9xHIe9vb3vr3ZwcIDneZimiWmaCCF+wjabIEkSgiAgz3Oenp6Iooharcbu7i6dTgfTNGk0GgghKBQKf2Cbaa7rZT2LoojxeEySJDSbTZrNJuVymdVq9XfP0jQljmOUUmzOsiwjTVOm0ylRFKG1ptFo/B22ltYarfWPc9dtsW6M1WqFUgqt9febdQD/AYiUiIu+8XOuAAAAAElFTkSuQmCC\" y=\"-29.438621\"/>\r\n   </g>\r\n  </g>\r\n  <g id=\"axes_12\">\r\n   <g clip-path=\"url(#p619be73feb)\">\r\n    <image height=\"19\" id=\"image3ae82501cc\" transform=\"scale(1 -1)translate(0 -19)\" width=\"19\" x=\"52.59661\" xlink:href=\"data:image/png;base64,\r\niVBORw0KGgoAAAANSUhEUgAAABMAAAATCAYAAAByUDbMAAAC80lEQVR4nI3Uy0/qWhTH8W/frbZFkUchSEwgkhgjDPnPHTvS6IQREQ1vOGgBbQOFEijc0e2N9+q5ZyV7tvNJ1v6tvYTD4XDgm/J9n/F4zGg0otPp0Ol06Ha7tNttZFmmWq3Gp1arYVkW8r+R1WpFEATMZjMmkwlvb298fHywWCzYbreoqoqu6xiGga7rKIqCIAgA/8Xa7TaNRoNOp8P7+zvT6ZQgCFgul8iyzOnpKdlslvPzc/L5PLZtI0nSz9jt7S2NRoP5fI7v+yiKgqIoXFxcUKlUuLi4oFgsks/nSSQSX7EoiuL2XNdlPp/jeR5BEBBFEclkkmw2y/X1NbVajcvLSxzHIZVKYZrmV2y32+F5HtPpFNd18TyP9XrNbrdDlmUymQyVSoVqtUq9XqdUKqFpGrquI8syoij+gwmCgCiKiKJIJpPh6uoKwzDwfZ8wDDk5OWG/33M4HJAkCUVR0HUdXde/PJEMIEkSiUQCVVWp1+sUi0XG4zHD4ZDhcIjruvR6PSzLIp1OoygK+Xwex3G+x0zTxDRN0uk0Nzc3uK5Lq9Wi2Wxyf3/P6+sro9GIVquFruuoqkoqlYo7+jbNv0tRFGzbxnEcarUatm2zXC4ZDAaEYYgkSdi2jWVZ8Xj8FrMsi1wuh23blMtlHh8fubu7o9/vk0wmKRQKOI7D0dERkiQh/oQFQcBgMODl5YXNZkMul4uDWCwW+L6P53mEYch+vwf4GfN9n+fnZ56enpjNZnFLsiyz3+8Jw5DFYvFn2GazYTqd0u/3cV0X3/dZrVZst1t2ux1RFMXj8iXN70oQBGRZRhAERqMRDw8PNJtN5vM5h8MBVVWxLAtd1/8/TUmS0DQNURSZTCbMZjP6/T6fn58kEgk0TcO27fjObzHLsiiVSgRBQLfbpdfrEYZhvDEKhQJnZ2ccHx//OQbgui6/fv1C0zSy2SzlcplCoUAqlcIwjPij/xiALMtYlhWvmPV6TRRF6LqOaZoYhoGqqvG7AvwF85hRknIjQVQAAAAASUVORK5CYII=\" y=\"-29.438621\"/>\r\n   </g>\r\n  </g>\r\n  <g id=\"axes_13\">\r\n   <g clip-path=\"url(#p8bb3a889b6)\">\r\n    <image height=\"19\" id=\"image7b957e52a3\" transform=\"scale(1 -1)translate(0 -19)\" width=\"19\" x=\"97.99322\" xlink:href=\"data:image/png;base64,\r\niVBORw0KGgoAAAANSUhEUgAAABMAAAATCAYAAAByUDbMAAAC7UlEQVR4nI3Uy07bXBSG4dcn7OCkSeyECAgwAMIAI7gDLgNuk+tAAgkBYgJJBM7BOSo+xLGx3UH1m5aW/l2TLa3BI+21vr2FLMsyfqput8vLywt3d3dcX1/T6/W4uLjg8vKScrnM30r83JBlGU3TUFWVNE2JoogwDAmCgCiKSNP037FSqUSz2aRWq5FlGaPRCNu26XQ6OI5DGIZfYvLnxrdv3ygWi9TrddI0xXEc3t7eaLfbqKqKruusr6//G7ZYLJjP59i2jeu6rFYrer0et7e3BEGA67o0m00Mw6Barf4dm81mdDodut0ui8WCJEmwbRtRFPE8D8/zCIKAVqv1/1gQBIxGI8bjMcvlkvf3dyaTCUmSkCQJvu/jui5RFJFlGZVKhUqlgizLv2NxHOP7fg6lacpyuSRNU+I4ZjQaMRgMmEwmOI6DZVlYlkWpVPody7KMNE2RJAld16lUKqxWK1zXxfd9HMdhPp+TJAlZlmGaJkdHR3++5sbGBicnJ5TLZfb392m329zf3/Pw8MDa2hrVapWdnR2Oj4+xLIvd3V3W1tb+jNXrdarVKgcHB/i+T7/f5+rqiuFwiK7r7O3t0Wq1OD09xbIsDMNAVdUPLEkSPM/D9/38VBQF0zTZ3Nyk0WjQaDR+DFmWkSQpz2KhUECSpA8sjmOm0ym2bTMYDOj1ehiGwdnZGVtbWxiGwfb2Nr7vkyQJYRgiSRKlUglJkhBF8QPLsowoilgul9i2zePjI+VymWKxSJZlBEGAoihIkkQURaxWKwRByK/3S87+25xpmoiiyHg8pt/vE8cxT09P2LbNbDYjDMP88SdJ8nncPzBRFNF1nVqthiRJeJ7H6+srw+GQQqGQR0YQBARByPP3JaZpGgCtVovz83Oen5+ZTCZMp9M8Y8ViEdM00XUdRVG+xlRVRVEUDg8P0TSNer3Ozc0N4/EYz/MYDAb5Zr/C8v9MFEVkWc5XbpommqblzygMQ+I4RhCEXzb4c30HgiyKPQzMNvQAAAAASUVORK5CYII=\" y=\"-29.438621\"/>\r\n   </g>\r\n  </g>\r\n  <g id=\"axes_14\">\r\n   <g clip-path=\"url(#pb3e2887777)\">\r\n    <image height=\"19\" id=\"image8fe33cd3bd\" transform=\"scale(1 -1)translate(0 -19)\" width=\"19\" x=\"143.389831\" xlink:href=\"data:image/png;base64,\r\niVBORw0KGgoAAAANSUhEUgAAABMAAAATCAYAAAByUDbMAAAC2ElEQVR4nHXUS0/qQBjG8X8vTMvF2tJLjCaAGw0hGld+dBd+AxN1Y2KUxGAMLQhSIbalQClncQLHHOBdTmZ+M5nnnZFWq9WKX3V7e8vNzQ0PDw+8vb0xHA5xHAfHcbi6uuL6+pqLiwtOT0+p1+u/lyKzpyRJQlVVVFWlUChQKBTIsozxeMxwOGQ8HhPHMfP5nPV51H2YoigUi0UMw8CyLFzXJYoi7u/v8X2fyWTCcrnE8zw8z0MIsR9TVZVisUie55imiW3bBEFAu93ejJdKJQAsy9qNOY5Ds9kkTVOiKCIMQ6rVKs1mk1qtRr1eR1EUGo0GqqoiSdK/A/yPeZ5Hq9UiiiLa7TZpmmJZFq1WCyEE8/mcLMuQZXlzp2twCzMMg1qthu/7mKaJoigAZFmG67qYpomqqiRJwnQ6pVKpbOZsYbquY1nWph1M02QymfD8/Iwsy7iui+d5LBYLlssl5XIZVVV3Y0IIhBDYto3nedi2zXQ65eXlBcdxuLy8pFqt7gxtb59VKhXq9Trn5+cIIeh2uwwGA9I03bdkP1Yul2k0GjSbTTRNw/d9BoMBs9lsL6YCrFYrFosFWZb920WWOTo6IkkSXl9fSdOUOI6J45g0TTdJbmF5njObzUiShN9P1fM8FEXBsiyyLCNJEqIoIo5jSqXSbmy5XBJFEV9fXyRJQpIk6LqO67rI8t+bWGNhGBKGIZIkUSwWt7EsyxiNRnQ6Hd7f3+l0Oui6ztnZGYZh0O/3yfOcOI4JggDf9xFCbKW6wb6/v/n4+ODx8ZG7uzs0TWMwGFCr1ej3+ywWC6Io4vPzk16vh+M4uwMQQnBycoIkScxmM35+fhiNRgRBQK/XIwgCFEXh8PBw80tUKpX92PHxMbZtE8cx4/GYp6cnOp0O3W6XPM+RZRnDMDbY+sfYwmRZRtd1dF3HMAwODg4oFApMp1PCMETXdYQQKIqCpmlomraVJMAfpk1Dq2qew8cAAAAASUVORK5CYII=\" y=\"-29.438621\"/>\r\n   </g>\r\n  </g>\r\n  <g id=\"axes_15\">\r\n   <g clip-path=\"url(#p8f536252f6)\">\r\n    <image height=\"19\" id=\"imageb56979fdb3\" transform=\"scale(1 -1)translate(0 -19)\" width=\"19\" x=\"188.786441\" xlink:href=\"data:image/png;base64,\r\niVBORw0KGgoAAAANSUhEUgAAABMAAAATCAYAAAByUDbMAAADC0lEQVR4nH2USU8ySxiFn55p6CDKFBuHjw0kTnGl/l4X/hwTFxhjoqDQHca2oRns+S4IfHqv3pPUot5UPak6VecV0jRNkyQhCAJ83+fu7o7b21uen5/RNI1cLkepVKJUKnFycsLl5SWNRgPTNNnf3+erZABBEBAEAVEUMQyDSqXCYrFAkiQ0TcMwDBRFIQxDJpMJw+EQwzDY29tDkiQkSVoz0jRNAaIoIo5jHh4euL+/p9/vEwQBURSxWq1YLpeEYUgURVSrVW5ubri6uiKfz7Ozs4Msy+uTAeuJLNNsNqlWq8xmMzzPw3EcOp0Ob29vtFotWq0W2WyWTCZDrVYDwDCM77CNMpkMhUIBVVXRdR1Jkuj1ekynUzzPY7VaoaoqURSRJAlJknz37KsURUGSJBRFQdO07eKPjw88zyMMw39v+R0miiKiKBKGIb7vM5vNGI/HDAYD0jSlVqtxeHiIaZrs7Oyg6zqCIPwM22i5XGJZFk9PT7TbbbrdLpVKhWazydnZGefn55imia7ryPIaI/4G832f0WhEp9PBtm0GgwGapnF6esr19TWNRoNyuYxhGIii+P8wQRCQZRlN05AkaXt9RVFQFGUL+GbRb7DNxg3sa01V1W3tq371TNM0isUiBwcHHB8fU6/XkWWZdrtNPp9HVdWf4/STMpkMlUqFOI6xLAvLslgulzw+PvL5+Um1WuXi4uK/sDRN8X2fIAi2YxMvQRC2H9l1XWzbJo5j+v0+i8Vi66EgCGtYGIY4jsNoNGI8HjMejwmCAFVVCcOQ9/d3XNdlPp9vIzYcDrFtm0KhwO7u7t84RVGE4zh0u11eX195eXnB931yuRyKomDbNq7rMpvNmM/n5HI5JpMJg8EASZLI5/N/YZIkUSgUME0Tx3GQZZnRaES/38fzPDzPYzqdEkURxWKRer3+LQWbl5Vh3TE2baTX66GqKp7n0W63sSyLOI4Jw5ByuYxpmvz584ejoyNM00SW5e8wQRBQFAVd17dmRlHEYrHAdd3tayVJgqqqZLPZbRv6qn8Al+Jm/YTQX/UAAAAASUVORK5CYII=\" y=\"-29.438621\"/>\r\n   </g>\r\n  </g>\r\n  <g id=\"axes_16\">\r\n   <g clip-path=\"url(#pef234bd857)\">\r\n    <image height=\"19\" id=\"image5624a870ac\" transform=\"scale(1 -1)translate(0 -19)\" width=\"19\" x=\"234.183051\" xlink:href=\"data:image/png;base64,\r\niVBORw0KGgoAAAANSUhEUgAAABMAAAATCAYAAAByUDbMAAADHElEQVR4nI3TTU/qWhSH8YfSQmkpLaUpCLEqIkYTwlynfl8/gnFgnGOImhBePEoQRYVCW4std3By8Zxzyclds72S/ds7Wf+VWK1WKzZUq9Xi/Pycy8tLdF1H0zROTk44OzujVqttuoL4ZyOKIqIoIgxDoigCYLlcEgQBy+WSOI43Qhsxz/OYTqe8vLzg+z5xHOO6LrPZjLe3N8Iw/P/YYrFgPB7z+vr6Gzafz3l/f+fz8/PvmOd5DAYD+v0+T09PPD09rc+j0YggCPB9n263y/X1Nb7vY9s2lmUhyzKyLCMIwk9ssVjQarW4uLjg4eGB4XDI+/s7nufh+z5RFBHHMd1ul6urKz4+Pmg0GhwfH2MYBqlU6hsLw5DRaES73ebx8ZHn52eiKEJRFLLZLJ7n4bou4/GY29tboihCkiRUVWW1WqFpGqIo/sTiOObz8xPXdQmCgDiOURSF3d1d8vk8P378IAgCXNdlOBwiCAKapqGqKrIss7W1hSzL3wNYrVb8GrlsNsvOzg6O47BcLhmNRusHJ5MJLy8vjMdjXNddR0gEyGQyVKtVTk9Pabfb3NzcoCgK5XKZer3O29sbj4+PSJJEPp/HcRyazSbNZpPt7W1SqdQ3Jssy1Wp1Hc5er7fGDg8PGQ6HdDodcrkcOzs71Ot1ms0mjUYDVVVJp9PfmCRJ2LYNQL/f5+7ujlQqRRiGTCYTMpkMBwcHGIZBpVLBcRyKxSK6riNJEoIg/I4VCgVUVWVvb4/9/X1msxnT6ZR+v48oihwdHZHL5SgUCti2TS6XI51Ok0gkSCQS35ggCCiKgqIoVCoVarUag8GA2WyG7/s4jsPu7i6GYWAYBqZpomkayWTy7+tkmib1ep2vry/u7+95fX3Fsix0XadUKpHP59F1HVVV/7NOwp8Ny7Ko1+uUy2V836fX6+F5HpqmYVkWpVIJy7LIZDKbd/PXUhQF27YplUqYpoksy8xmMzqdDqIoks1mN/5qI/bvqIvFIqZpkslkcF2XTqeDrus4jrMR2oglk0mSySSyLCNJEqIo8vX1xXw+JwiCddo31T+jLm8ajE8n+wAAAABJRU5ErkJggg==\" y=\"-29.438621\"/>\r\n   </g>\r\n  </g>\r\n  <g id=\"axes_17\">\r\n   <g clip-path=\"url(#p3b31e54ba3)\">\r\n    <image height=\"19\" id=\"image9f93e5005d\" transform=\"scale(1 -1)translate(0 -19)\" width=\"19\" x=\"279.579661\" xlink:href=\"data:image/png;base64,\r\niVBORw0KGgoAAAANSUhEUgAAABMAAAATCAYAAAByUDbMAAABsElEQVR4nJ3Uy5KqMBCA4T+A4SIMlFt8BN/CJ/C53ereslD3ItdAMitTnkFH53RVb6DyNUl3EMYYw0NcLhdOpxP7/Z7tdstut7Pv1us1m82G1WrFs/B+PhiGgbZtaZqGuq7pug4A13XRWvOj9u9YWZYURcHhcKAoCs7nM77vEwQBTdMwjuPn2PV6tdjxeOR8PhPHMV9fX28x59U2u65DKYXWGiklURQRBAGu636Oaa0ZhsFCjuPg+z5JkvwdexbGGJu/xQRzHAcpJbPZDMdx0FrTdR1lWdK2LcMw/A17TGMMSinatqXve7TWn2NKKaqqoq5rhmHAdV2CICBJEqSUjONI3/dPuzrB+r63mFIKIQRSSuI4RkqJ1to25y12r3yvboyh73tut9s/t0EIMcEmQ6u1tpjWmnEcqaoKgKqqEELY5rz9MiEEnufZBY8NuA/yqzGZYGEYkmUZaZri+77Ffd8HoOs6qqpCKfUeC4KAxWJBlmVPsfvf5CMsjmOWyyV5nlswDEOSJCGKIjxvcsyvsTRNyfOcPM/tVufz+f/dTc/zCMOQMAyRUuJ5ns1XI3GPb4bhEb7bLExBAAAAAElFTkSuQmCC\" y=\"-29.438621\"/>\r\n   </g>\r\n  </g>\r\n  <g id=\"axes_18\">\r\n   <g clip-path=\"url(#pce4d4b946a)\">\r\n    <image height=\"19\" id=\"imagea77d015418\" transform=\"scale(1 -1)translate(0 -19)\" width=\"19\" x=\"324.976271\" xlink:href=\"data:image/png;base64,\r\niVBORw0KGgoAAAANSUhEUgAAABMAAAATCAYAAAByUDbMAAAC00lEQVR4nJXST0/yShjG4d9paUsZKJZ/JQiKGkhcoQt14Qfwc7sW3JngqiFBBERKKS0UWjiLN7IQfXPOrGeuPPcz9z+73W7HD6fX6/H09ES73abb7dLtdpnP54RhSD6fp9Vq0Wq1uLu74/b2lmw2S+I7EoYhq9UK13XxfZ84jkmn01QqFYQQBEFAMpkkjmMcxyEIAqIoYrvdHmLD4RDbtrFtm16vh+/7NBoN7u/vcRyH9/d3Pj4+cF2XTqdDrVaj1WohhPgZe35+xrZtXNdFkiQajQYPDw9MJhNeX1/pdDo8Pj7Sbre5urrC8zxM00T6ji2XSyaTCY7jsNlsUBQFVVXRNI1UKoVhGJimSTabJZPJkEql0DQNVVUPsdVqxWw2Yz6fs91u0TSNROJPAEVREEJgGAa5XI5isYhhGOi6/ufeTx/geR6O4+D7PrvdDtu2eXl5YblcMhwOmU6nCCFoNBpYloWmaUiSdIhtNht832cymRBFEYPBgCiK+Pz8ZLlc4jgOu90O0zS5ubmhVquhaRrAIRZFEavVisViwWKx4KuGnuex2WzwPI9isUi9Xuf6+ppqtYqqqj9jqqqSTqcplUrUarV9xyqVCrIsE8cxR0dHXF5eUq/XMU1zv9MD7GvJlmVRLpcpl8tUq1WOj4/RdR1FUTAMA8uyKJVKyLKMLMt/x5LJJNvtljAMEULsp0wkEui6TiaT2cf7Oj/GFEKgKMq+HgCWZZHJZJAkCVmWURTl+9PDnn1FzGazrNdrxuMxQRAgSdK+uLqu7/f0Vyyfz9NsNjk5OUGWZcbjMaPRiLe3N6bTKev1+gD5FcvlcjSbTU5PT5FlGcdxGI1GDAYDHMchDMNfsYNZk8kkpmlSqVS4uLjAdV1kWabf72MYBoVC4f9hiqJgWRZnZ2fMZjMSiQT9fp9CocD5+fl/xyRJQpIkUqkUQgiEEAAEQUAYhsRx/Cv2L00lNKGqA17FAAAAAElFTkSuQmCC\" y=\"-29.438621\"/>\r\n   </g>\r\n  </g>\r\n  <g id=\"axes_19\">\r\n   <g clip-path=\"url(#pb5ed4228cb)\">\r\n    <image height=\"19\" id=\"image7aefeeb1e1\" transform=\"scale(1 -1)translate(0 -19)\" width=\"19\" x=\"370.372881\" xlink:href=\"data:image/png;base64,\r\niVBORw0KGgoAAAANSUhEUgAAABMAAAATCAYAAAByUDbMAAACyklEQVR4nIXTS1PiQBDA8f/kTUJ4JCE8FLWwFK3yoh/Zg1/IgxY3QSxBUEwokspzD1viuspuH6eqf9M90y3KsiyzLCMMQ4Ig4ObmhuvrayaTCZ7n4TgO9Xod27ap1WrYtk2v1+Ps7IzhcIjnebRaLVRVRQEQQiBJEoqioKoqmqYhyzJFUZCmKVEUIUkSkiQBEAQBYRiyXq+xbZuiKAB+Y5Ikoes6QggajQaO4zCfz0mShPl8jq7r20t0Xefl5YU8zxFCoCgKrVYLXdc/KzMMA8Mwtphpmry+vrJarRBC8BFCCGazGUIINE3D8zxOTk4+K/szOp0Ol5eX5HnO7e0t6/Uaz/PwfR/LsqhWq7TbbYbDIcPhkIODA3Rd341dXV2RJAnPz888PT2xv7/PxcUF3W6XdrtNt9vl8PCQfr9PtVrdjTWbTQaDAbPZDMdxMAwD27ZxHIejoyMGgwH9fh/P83Bd90vuN8yyLIQQdDodXNfFtm0URSHLMhRFwXVdfN+nUqn8nfod+/gI13VpNBpYloUkScRxjCRJ1Ot1ms3mN+hHLM9z8jynKAo0TcM0TfI85+3tjTAMybLsRwhA+vugKAqSJKEoCnRdx7IssixjuVwShiFJkuzEFIA0TVkul9u5Wq1WPDw8EIYh1WqVLMtI05Q8z3dCWyyOY8bjMXd3d0ynUx4fHwnDkDzPsW2bzWbzz/a+YFmW8f7+znQ6ZTQaMRqNSNMUx3GwLIuyLJFl+csm7MSEEMiyjKZplGVJFEUEQUCappimiWEY6LqOpmnbZf8npqoqhmHw0XYQBERRRKVSwfd9bNtGVdX/Y5qm0W63OT8/Z7FYMB6PieOYOI6Jooharcbx8TF7e3uYpvl/zPd9TNNkMplwf3/PYrFgs9mQpim1Wo3T01N6vd6Pk/+tTcMwEEJs30hRFMqypCgKFEXBsiwMw0CW5Z3YL6bxGBHwm9IuAAAAAElFTkSuQmCC\" y=\"-29.438621\"/>\r\n   </g>\r\n  </g>\r\n  <g id=\"axes_20\">\r\n   <g clip-path=\"url(#p96ea4556a2)\">\r\n    <image height=\"19\" id=\"image19c5ce58fc\" transform=\"scale(1 -1)translate(0 -19)\" width=\"19\" x=\"415.769492\" xlink:href=\"data:image/png;base64,\r\niVBORw0KGgoAAAANSUhEUgAAABMAAAATCAYAAAByUDbMAAAC9klEQVR4nIWUXUsqXRiGr+U4X84MWppflZUEYxB2IB53FvRb+mP9kiCIoIwOBIvSwHBMHT8adcbZR7o/5n33vmGdrXVxP/e6eQj/R7e3t+HV1VW4v78fJpPJUAgRGoYR5vP58PLyMry+vo68ifOH5vM5nufhui6LxYJYLEYikUBRFGKxGEIIlssls9mM8XiMoigoioIQggis2+3y+vpKo9Gg1+shyzJ7e3vkcjkcx+Ht7Q3HcXh5eeHh4YHd3V2KxSKqqhL7L9j9/T2Pj484joMsy5TLZc7Pz7FtG1mW6ff7tFotGo0GHx8fLBYLgCjMdV3a7Tafn58AZLNZDg4OODk5oVwuk8vlMAyD1WrFaDTC8zxWqxVAdEzXdel0OvR6PRKJxAZm2zZfX18UCgWWy+Xm7q+wjbPVakUQBEynU/r9Po7j4Lous9mM6XTKZDLB8zx83998SiaTwTRNJEn66SwMQ4IgYLlc8v39zWQyYTAYMJvN8DyPQqHA1tYWz8/PdDodfN8nm81SrVYpFosoihKF+b7PYrHA8zxGoxEA4/GYTCaDYRi0221c1yWVSpHP56lUKpimiSzLP2FCCOLxOEIIdF3HMAxM02Q+nxMEAY7j0Gw2MU2Ter1OqVSiUqlgWRaqqiKEiMIkSULTNCzLIpFIbJw6joPv+9RqNer1OmdnZxweHmJZFkKI32FrCSGQJGlzNE1D13WOj4+xbZtqtcrp6SmlUolUKkUs9nuzItVYa52DZVnUajUuLi4olUrs7OyQTCY3of+qSGk1TSOVSpFMJtE0DUmSsCyLXC5HOp3Gsiw0TSMej/qIwNLpNLZtc3R0hKqqDAYDms0mNzc3PD090e12mU6nm+L+dczt7W1s22Y4HPL+/s5wOKTVaiHLMkEQYJomlmUhSRKqqv7dWSaTwbZtbNumUCig6zrz+Zxut8toNCIMQ2RZ3rT+n85M02Q4HHJ3d4dhGBHYerf9E7ZedqZpous6kiQRhiGe521yWi/JP/UD5gJ3i8g+AV0AAAAASUVORK5CYII=\" y=\"-29.438621\"/>\r\n   </g>\r\n  </g>\r\n  <g id=\"axes_21\">\r\n   <g clip-path=\"url(#p7b8d8aebf3)\">\r\n    <image height=\"19\" id=\"image2862f0d0b3\" transform=\"scale(1 -1)translate(0 -19)\" width=\"19\" x=\"7.2\" xlink:href=\"data:image/png;base64,\r\niVBORw0KGgoAAAANSUhEUgAAABMAAAATCAYAAAByUDbMAAADM0lEQVR4nG2UzVLqShSFv3QSCAk5SRAGiOVAnTjEosrSsQ/ryGfwAfBvijpBCKBYEvIfEnIGXrh6dM26qnv16m/v3VJZliVfdHV1xeXlJXd3d8znczzPw7IsTNPk/Pyci4sLut0uu7u7tNvtr0dR+EeapuE4Dq1WC0VRMAwDVVVRVZXVasViseD9/R3bttnkkCTpd7Pd3V1OT0/Z29sjjmN832c2mzGbzQjDkH6/j+d5yLJMp9NBURRkWUaSpJ9mmw1xHAMQBAE3Nzf0+32GwyGDwYDpdMr+/j69Xg8AWZZ/T6brOq1WiyzLAEjTlCzL0DSNm5sbPj4+8DyP+XzOdDrFcRwcx0FV1d+ZKYqy5ZHnObVajU6nQxzHPDw8EIYh8/kc13URQvDnz5/fzcqyZL1eb3lFUQSAEAIhBLIss16vybKMIAhI05T1ev37M5Mkwfd9XNfl+fkZ13UxDAPDMBiNRmRZhqqqW05ftTUry5KyLPF9n8lkwuPjI/f39zw/P2PbNrZtMxwOSZKEarWKJEn806KfZpvYaZoyGAy4vb1lOBzieR5CCObzOePxmOl0ymKxwLZt0jQlTVPyPP9pliQJQRAwGAy4vr7m7e2NVquFruu8vb3x8vLCcrkkiiJqtRpJkpCmKUVRbBMqAEVRsFwueX19ZTqdMplMKIqCdrvNwcEBuq4jSRKu65LnOUIITNOk1WphGAZCiP/N8jxnuVziui6vr68sFgsajQaHh4ecnZ1hWRa6rqOqKmEYUqlUcByHdruNZVkoyid6sYGfZRlRFBFFEUmSUBQFlUoF0zSxLItGo4FpmlQqFVRVRdO07frbbAoh0DSNer1OrVZDlmV83+fp6QnTNBmPx8xmM6Io+pzB/5r6V2ZCCKrVKpZlUavVEEIQBAFPT08URUEQBPi+TxiG24slSWK1WlEUxfdqyrJMvV6n2WzSaDSwLIvJZILruoRhyGq1Is9zTNOk1+txdHTE8fExzWbzZwGEEBiGgSRJOI6zNRuNRgyHQxRFQVEUut0uJycndLtdDg4O2NnZQZbl77/GhkO1Wt0CBojjmDiO0TSNSqWCoijbj3MD/6v+Ah0RoytYRbbYAAAAAElFTkSuQmCC\" y=\"-51.932414\"/>\r\n   </g>\r\n  </g>\r\n  <g id=\"axes_22\">\r\n   <g clip-path=\"url(#pc374d2bd50)\">\r\n    <image height=\"19\" id=\"imagea2e5029949\" transform=\"scale(1 -1)translate(0 -19)\" width=\"19\" x=\"52.59661\" xlink:href=\"data:image/png;base64,\r\niVBORw0KGgoAAAANSUhEUgAAABMAAAATCAYAAAByUDbMAAAC8UlEQVR4nI3UzU7qWhTA8T/0g5bS2EoFQZnAgAlx4sCBT+CrGF9TE9M4MzpAIsQUTvgqaUmRssu+g5tT71HviSvZkzX4rZW9slZBSin5Tzw8POD7Pvf39/i+z2w24/r6mpubG6rVKn+L4ueEqqrouk6pVKJYLCKlRAjBdrtlt9vxqfbfsXK5TK1Ww/M8TNNECEEcx0wmE8IwZLvd/hyzLOsPTEpJFEVMJhOWyyVpmv4cMwwD13WpVqs4jpN3t1wuieOY3W73c8w0zRw7ODjAsqwci6IIIcT/YurnxGazIQxDVqsV7+/vOfT6+orrutTrdSzLQlVVNE2jUChQLBa/x2azGU9PTzw+PhIEAavVitFoRJqmlMtljo6OME0T27apVCo5WCgUvmJhGDIYDBgMBsznc6IoQkpJHMc4jkO9XkfXdTzPw/O8HFUU5SumaRqWZWFZFqZpous6WZaxXq/p9/tkWcbLywv1ep1Go0Gv16PX61GpVL5iuq5jWRa2bWMYBpqmsdvtSJKEfr/PcDjk4OCAZrNJq9VCURTa7fb3WKlUwnEcOp0OhmHQ6XQIgoAgCIjjmM1mg6ZptFotzs/POT09pVQqfT8AwzBwHIdut8vZ2RlCCHzfx/d9xuMxs9mMRqPBxcUFV1dXeJ5HuVz+wKSUZFmGEIIoigjDECklh4eHWJZFo9Hg+PiYJEmIogjTNKnVarTbbTRNQ1XVD2y/37Ner1mv1zw/P3N7e0uSJJycnOC6Lr9+/WK32+V/t1wumU6njMdjHMfBdV1UVf0Xy7KMJEkIw5B+v8/d3R3z+Zxms0mtVkPTNHRdzzFN05jNZkwmE4rFIrZtf2CKolCpVADodrtcXl4SBAFCCIQQrFYrkiRhOp2y2WywbRshBGmakmXZn+ukKAqWZWEYBt1uFyklg8GA4XDIaDRisVjw9vbGZrMhTdP8xv1et983Lp+moigoioJt21SrVRaLBYZhALDdblmv1/nFkFLmb7/f5539A9koh6txUQosAAAAAElFTkSuQmCC\" y=\"-51.932414\"/>\r\n   </g>\r\n  </g>\r\n  <g id=\"axes_23\">\r\n   <g clip-path=\"url(#p67a725a40c)\">\r\n    <image height=\"19\" id=\"imaged2471ead32\" transform=\"scale(1 -1)translate(0 -19)\" width=\"19\" x=\"97.99322\" xlink:href=\"data:image/png;base64,\r\niVBORw0KGgoAAAANSUhEUgAAABMAAAATCAYAAAByUDbMAAADAElEQVR4nI2US0/qahiFn95oC21pBDEpUaBcdOTIsSN/swP/gnHgwIlEICgiCl4ol967Bye77uPRc847/JL3+bKy1nqFLMsy/piLiwvOz8+5urri7u6OxWKB67q0Wi1OT085Ozvj6OiIQqFAoVD4cxWRL6MoCsViEdM0KZfLlMtlZFkmCAJWqxVvb298fHwQBMHXVeSvD7Zt02q1iOMY27aZzWZsNhvm8zm3t7eUSiWCIODw8BDTNP8fTFVV9vb2mEwm3NzcMBqNAIjjOP+o2+3+O8yyLPb39zFNE8dxqNfrKIpCmqYkSYLv+ywWC7bb7X/LtCwLVVWp1WokScJyuUQURdI0ZTKZ8PLywvv7O77vfw/LsowoioiiiDiOiaIIAEmS0DQNRVGQJAmANE1J05QvIfiEJUnCer3G8zyWyyWr1Yosy9B1nSiKGI/HDIdDPM9DlmVKpRKKovwM8zyP5+dnnp6eeH5+Jk1TDMMgyzIGgwGj0QhFUahUKti2jaZp38PiOOb19ZXhcEi/36ff77NarVBVlTRNub+/Zzqd0mq1aDQa9Ho9dnZ2vodFUcRisWAwGHB9fc3l5SXz+RxBEAAIw5A4jul0OjSbTbrdLpVK5Wc3RVFEURTiOGa73RJFEbZtY9s2lmVhWRYnJyf0ej0cx8EwjO9hoiiiaRqmaaLrOpIkYRgGzWaTdrvNwcEBjUYD13Vpt9vUarV/9DKHCYKAIAiIophLk2UZwzCoVqs4joPruuzu7iKKIr7v5xGRZRlJkhAE4S9Ymqb4vo/nefi+T5IkxHGcO1wsFlFVlfl8jqZpWJZFtVqlWq1iGAaGYSBJ0icsDEM2m00e2DiOWS6XzGYzZFkmy7I8W7Zt47purqhYLH7CVFXFcRyOj48JgoAgCHh8fCQMQx4eHvA8j+l0mjfBcZwcCORtkAEKhQL1eh3LsgjDkCAIkCSJfr/PeDzOIb8P4nq9ptPp/OymruuIoki5XMa2bXRdJ8syfN/PS60oCqqq4nne347jb9N+AZ8da1Fdoq0TAAAAAElFTkSuQmCC\" y=\"-51.932414\"/>\r\n   </g>\r\n  </g>\r\n  <g id=\"axes_24\">\r\n   <g clip-path=\"url(#p2068a31fce)\">\r\n    <image height=\"19\" id=\"imagee972e2112f\" transform=\"scale(1 -1)translate(0 -19)\" width=\"19\" x=\"143.389831\" xlink:href=\"data:image/png;base64,\r\niVBORw0KGgoAAAANSUhEUgAAABMAAAATCAYAAAByUDbMAAADDUlEQVR4nI3US0/qXBSH8ae1tKWVw1UIIDGCEKNOxODEqYnf2qkDjQ5MEBMT8FJMAMu9QLvbviM98eB5c/Z455f132utLYVhGPLDeX5+5vr6mpubG1qtFq1WiyAI0DSN7e1tGo0GjUaD3d1dyuUyhmGg/IksFgvm8zm9Xo/BYMBkMkGSJBKJBK7rft3zPA/HcfA8j8961rBOp8P9/T0PDw88Pj5iWRbZbJZ6vc5kMqHX6xGGIbZt0+l0yGQyCCF+xtrtNpeXl9zd3fH6+spyueTi4oLT01O63S6+72PbNrZtI0kSu7u73zHf93Ech/l8jmVZvLy80Ov1EEKgaRq+7zOdTpnNZiyXS4IgQNd1EokE0WgUWZYBkAGEEIxGI7rdLpZlYVkWw+EQAMMwEEJg2zaTyQTHcQiCAMMwSKfTmKb5hSkAYRgihMBxHBzHYTab4TgOkiQhhGAwGPD09IQQAlVVSafTlEolyuUymUyGSCTyG5MkCUVR0HUdRVGQZRkhBIvFAt/38X2fwWBAPp+nVCpRqVQ4Ojri8PCQRCKBqqo/Y6qqIssyYRjiui6+7yOEYDabkc1mKRQKHBwcsL+/T7Va/dY8BUCWZXRdJxaLYRgGuq5jmiaqqvLr1y8qlQq1Wo1qtUqtVmNnZ4dUKrU26F+YpmnfMMMw2NzcJJfLcXZ2xvn5OYVCgVQqhWmaKMraVP2O+fmI8Xicra2tr276vo+qqiSTSRKJBKZpomnaGvQ1GpIksbGxgaZpxONxstksyWQSgOl0ymq14i8rvF7ZZ1SAVCpFuVxmPB7jOA7j8ZiPjw/e39+JRqNomvbXytaC5/N5Tk5OEELQ6/V4e3uj3W5zdXWF67oYhkEsFvs3LJfLYRgG8/mc29tbVqsVnU4HSZKIxWLs7e1RLBb/DYtEIpimSaFQoF6vs1qtcF2XyWRCv99nMBgwHA6JRqPouv7/mKqqKIpCsVjk+PgYWZZpNps0m036/T79fp/RaIQkSWuY/Cf22dnPXyGVSqHrOp7n4XkeruvieR5BEKzF/A/ZtmTbO82PfAAAAABJRU5ErkJggg==\" y=\"-51.932414\"/>\r\n   </g>\r\n  </g>\r\n  <g id=\"axes_25\">\r\n   <g clip-path=\"url(#p35d8380748)\">\r\n    <image height=\"19\" id=\"imageaa96f70d2a\" transform=\"scale(1 -1)translate(0 -19)\" width=\"19\" x=\"188.786441\" xlink:href=\"data:image/png;base64,\r\niVBORw0KGgoAAAANSUhEUgAAABMAAAATCAYAAAByUDbMAAAC30lEQVR4nIXTTU/qWhSH8We33S1tAQtCTUHRGgfGmGjixDjVxM9uiCMSjAkxDEgUBCyUF/tCuYMTueeK59yV7Nnev+ys/1pivV6v+a0eHx9pNps8PDzQbDZpt9vs7OxQKBTwPI96vY6Ukvf3d8Iw5O7ujtvbWyqVChrfSlVVpJQYhoGu6xiGgRCCNE2Jooj5fI6u6yRJQpZlCCHQNO3X+Y7lcjkcx8F1XWq1Gh8fH3x+frJcLun3+8znc6SUrNdrpJQoioJt2xSLxZ+xUqmE67rs7e0xGo14fX1lNBoRBAFCCAzDIJ/PUy6XUVUV27YpFArbWKFQoF6vA2BZFp7n0Wq1EEIwm81IkgTHcTg7O+P8/JyLiwscxyGXy21jxWIRwzBwHIeDgwNOTk6QUjKZTBgMBiwWC/b397m5ueH+/h7XdSmVShiGsY1JKZFSYlnWJsV+v89wOKTT6dDtdtE0DcdxqNfr5PN5dF1HUZRt7KuEEEgpsW0b3/eJoojVakWv12MymRAEAaPRCCEEpmmiqirK3zBVVbEsi0ajwdXVFb7vo2kas9mMyWTCeDxmsViwWq0A/vyz31HLsjbhSCnJsow0TYnjmDRNN3f/F/uaI9M0yefzaJq2waIoIkkSvpZoC8uyjCzLiOOY5XJJkiTYto1t20gp0XUdXdcRQmyQv2JJkhCGIe/v78znczzP2zT5K21F+bfdQoifsfl8ThAEvL290ev1CIKAMAyJoojhcEiappvRKRaLmKb5Z2wwGPD8/MzLywvdbpfRaITnedRqNdrtNuPxGNM0qVar+L6/CeVHbDgc8vT0RKvVotPp0O/3qVarVCoVxuMx0+mU3d1dqtUqjUbjP2+3MF3XN81erVaEYYim/bpWLpc5Pj7m9PSUo6Oj709/XifbtjEMgziOmU6nm2B83+f6+prLy0sODw+3sK0NUBQFVVU3v4njmCRJiKIIKSWVSgXXdbFtewv7BzmQKYvvBkXGAAAAAElFTkSuQmCC\" y=\"-51.932414\"/>\r\n   </g>\r\n  </g>\r\n  <g id=\"axes_26\">\r\n   <g clip-path=\"url(#p3dde68d517)\">\r\n    <image height=\"19\" id=\"image8b24f68beb\" transform=\"scale(1 -1)translate(0 -19)\" width=\"19\" x=\"234.183051\" xlink:href=\"data:image/png;base64,\r\niVBORw0KGgoAAAANSUhEUgAAABMAAAATCAYAAAByUDbMAAACWElEQVR4nJWTy0orWxCGv+61+pa+JBESDII4MMPMfQZnPqk+iQ4dGDAOQotg+pKk7etaZyDpc86O7u0uqElRfPz89Zehtdb8ptI05e7ujtvbW7IsA2A+n3Nzc8P19fX/ds3fgbTWdF1H0zSUZYlSCsuycBwHIcTR/rcwpRRt21KWJUmSEMcxZVkShiHT6ZTBYPBzmNa6V5QkCev1mrIsGY1GTCYTfN//Oey/UK01SikO9pqmiWEYfw/7m5Lw6U9d19R1TdM0NE2DUgqAoiio6xoAIQSO42DbNqZ5rEMCdF1HlmUkSUKe52y3WwzDwPd9iqKgKAq01ggh8DwP3/exbft72G634+3tjTiOieMYwzA4OTkBIMsylFKYpokQ4lvP5K+D19dXHh4eSNO0P//j4yN1XZOmKcvlkvF4zOnp6c9g9/f3rFar3peqqqiqis1mw3K5ZDgcslgsjmDmwdggCJhMJn0HQUDTNOR5TlVVwGdM2ral67r+QEfKhBAMh0Nc1+Xi4oL5fE5RFLy8vPDx8dEvCyGwbRvLsr58JwmfIXRdF9d1OT8/Z7FYoJTCMAy6rqMoCvb7PUqpPjqHPhzlS8/Ozs64urpiNBoRRRFRFLFarXh+fqaua/I85/39nSRJ2G63vQjTNI9hs9mM2WzGdDrF8zwsy6JpGtbrdQ875HG322EYBo7jfK3sUGEYcnl5idaaPM+J45j9fg9AEAR4nodt20j5L+KPsCiKiOOYp6cnNpsNbdv2MMdxkFL2Af4WJqVESsl4PCYMQwaDQa9MSolpmv0nHGD/AKIgOksRDMmCAAAAAElFTkSuQmCC\" y=\"-51.932414\"/>\r\n   </g>\r\n  </g>\r\n  <g id=\"axes_27\">\r\n   <g clip-path=\"url(#p62742f017c)\">\r\n    <image height=\"19\" id=\"imagef67ed3f1ed\" transform=\"scale(1 -1)translate(0 -19)\" width=\"19\" x=\"279.579661\" xlink:href=\"data:image/png;base64,\r\niVBORw0KGgoAAAANSUhEUgAAABMAAAATCAYAAAByUDbMAAAC2UlEQVR4nI2UXU/qWhCGn9IPVgMFi0BFSoSYACYKP8ErvTb+ZGO8NBhjBDQalQoCgWhoqdTSc7VJ3Ozt2StZNzNrnsw782ZJURRF/OG8vb3Rbre5vr7m/Pycs7MzPM8DQNd1crkchUKBk5MTTk9PsSwL5XfI5+cnvu8znU55f39nPp8jhKBYLDKZTPA8D1VVEUKQSCSIx+NIkgSwDhsMBjw+PvL09MTz8zPj8Rjbttnb26PT6dBqtfB9n2KxSK1WI5/Po6rq32GXl5fc3d0xHA6JooijoyOOj4+5uLhgPB4zHA4pFovU6/V1WBRFBEHAYrHAcRxubm7o9/sYhoFpmvi+T7fbZTQaoSgKlmVRqVSo1WpYlvUdtlwu8X0f13VxHIfb21s8z+Pg4IDt7W1c1+Xq6orhcIiiKORyOcrlMrVaDSHEukxJkpAkCV3XyWQyq25HoxGu6+J5HkII8vk8lUoF27YxTfPbiBSAWCxGPB5HlmWq1SqHh4e0220cx6HT6fD19UUQBDQaDZrNJs1mE8uy1uyk/OpK0zQ0TaNcLvNLerfbpdVqrR5Xq1VKpRL1ep1UKrUGi/0eEEKwsbFBOp1G07RvueVyuVpUGIb/BjNNk3Q6TTwe/5YLw5AgCAiC4I+wNZ+FYchisQDAMAwsy0LXdYQQGIZBv9/n/v6eWCxGJpP5GRYEAa7rEoYhyWSSUqlENpsll8shhODl5YVYLIZpmuzu7v4sM4qi1ZVlGVVVMU0T27bRNI3X11ceHh6YTqf/L1PTNBKJBIqi8PHxwWAwIJvNEkURnucxHo8BVj/IjzBVVUkkEqiquiqezWaEYch8PmcymSDLMvP5/N9hW1tb7O/vM5vNMAyDXq/HYrHAtm12dnbWhv9XmYqiUCgUaDQahGGI4zj0ej1SqRSlUolqtcrm5uYabG0BkiQhyzJCCFKpFKZpoigKvu+zXC7RdZ1kMrlmaID/AIK1QENjJIS9AAAAAElFTkSuQmCC\" y=\"-51.932414\"/>\r\n   </g>\r\n  </g>\r\n  <g id=\"axes_28\">\r\n   <g clip-path=\"url(#p6d06aeb348)\">\r\n    <image height=\"19\" id=\"imagef1c96b2d43\" transform=\"scale(1 -1)translate(0 -19)\" width=\"19\" x=\"324.976271\" xlink:href=\"data:image/png;base64,\r\niVBORw0KGgoAAAANSUhEUgAAABMAAAATCAYAAAByUDbMAAAC1klEQVR4nH2TTUvrQBSGn6SZpCS12JgmurC2G7WCaF25cOk/d9GNIopoQIO1KLRom6bph/locxeXm6v4cWBgOOfMw5l33pGyLMv4EO12m7OzMy4vL3Fdl06nw7+WRqNBs9nk6OiIk5MTjo+PPx5F4YdQFIVisUi5XM5zqqoSRRGTyYTJZMJ0OkUIgRACSZJ+hhmGQb1ep1qt5rk4jhkMBriui2VZmKaJbdvYto2qqr/DKpUKivK/5f7+npubG3zfxzRNTNMEoFKpfA9zHIeDgwPG4zGKolAoFPKapmnMZjMmkwmFQoEgCJjNZiyXy+81W19fp1QqkaYpkiQhyzJZluV73/fp9/sIIQjDkDiOf4bpuo6u6yyXS5IkIY5jwjDMVxzHuQyWZWEYRj79j5olSUIYhgyHQzzPw/M8XNfl9vaWYrHI4eEh+/v7OI6Dqqq/w6IoYjgc8vT0xPX1NRcXF/R6Pd7e3tja2sKyLHZ2dlBVFSHE77DxeMzd3R1XV1c8Pj7S7/dZW1uj1Wqxu7tLs9lE07RPD/QjbDQa4bou7XYb3/fxfZ/t7W1OT09ptVqUy2VUVUWSpM+wxWKRO1qSJAqFAvP5HF3XcRyH9/d3+v0+siyzurqKZVkoivIJlMOSJGE4HPLy8pJ/j/l8jm3b7O3tEYYhnuexXC5RFAUhBLIsf7lNPlkYhry+vpIkCWma/i0qCrZto+t6bpMkSVgsFgCf9MphWZaRpilxHNPtdul2uyiKQq1WQ9d1oijKP/g//UqlEoZhfIUBuUmfn585Pz9H0zRkWWZzc5MoikjTlPl8ThAEBEGAEOJ7mBACx3EA8H0/95PneXS7XcIwpNFoUK/XMU0TwzByb32BqaqKbdtUKhV6vR6dTocgCHh4eGA0GrGxsUG9XqdWq1GtVjEMI3f9x5ABJElC0zRKpRIrKyvouo4kSUynUwaDAWmaout6DvnOFgB/AFyFW7helYaQAAAAAElFTkSuQmCC\" y=\"-51.932414\"/>\r\n   </g>\r\n  </g>\r\n  <g id=\"axes_29\">\r\n   <g clip-path=\"url(#p33416ac7dc)\">\r\n    <image height=\"19\" id=\"image88736c9542\" transform=\"scale(1 -1)translate(0 -19)\" width=\"19\" x=\"370.372881\" xlink:href=\"data:image/png;base64,\r\niVBORw0KGgoAAAANSUhEUgAAABMAAAATCAYAAAByUDbMAAAC+0lEQVR4nJXT3U7qShjG8X9bOm1pLYVCBMWoQIQr0NvQK/XQGzAxHpgYjYnxAwOEIl8CBSwgLftgRbLXlp2V9SZzMpP8MvO+z0ir1WrFv6rf79Pr9bi+vub8/Jzb21tOT085Oztjf3+fdDqNaZpsKvm/G4qioKoqQghUVUWWZZbLJdPplNlsRhRFG6GNmK7rJJNJUqkUiUQCwzDwfZ+Xlxc8z+Pz8/PvMMdxcF0Xx3EwDIPxeMzz8zPNZpMgCP4Xi23alCSJRCJBuVzG933m8zndbpePjw8Wi8XfYQC2bVOpVAB4eHjg7u6OwWDAfD7/MxZFEavVijAMCcMQWZbJZrNEUUSz2SQMQ0ajEZ1Oh263i2maxOPxn9g38vX1xWw2IwgCoijCNE1yuRzJZBJd15lMJlSrVTRN4+Dg4M/YcDik1+shhCCXy+G6LslkEsdxWCwWVKtVFEXBsix2dnaQJAlJkjb37PX1laurK4QQHB8fUygUyGQynJyc4HneeqLpdJrDw0M0TUPTNCRJ2oxdXFyg6zqmaZLJZMhkMti2zeXlJTc3NzQaDUqlEuPxmNVqhaqqKIryK2eSJK2T/72WyyX9fh/P84iiiGw2Sz6fJ5/PY9s2w+GQ+/t7Wq3WOi6/YZqmYds22WwWy7LwfZ9Go8F8PsdxHPb29qhUKuzu7jIajda3/I7L+pmy/OszWJZFOp1muVwyGAx4enoiHo+TSqWYTqeoqgrA+/s71WqVTCZDqVRCluWfPTMMA8dx6PV6tFot6vU6g8GAWq3GaDTC8zw6nQ6DwYDpdMrBwQGFQgHf939iuq7jui71ep12u02z2cTzPB4fHwnDkPl8znQ6pd/vM5lMeHt7o1arEQTBT8x1XY6OjgiCgMlkQhAEGIaxboMQglgshmmaxGIxisUi29vbuK67GSuXyywWC9rtNp1OB0VR1kOSZRkhBLZtk0qlKBaLZLNZEonET0wIgWVZbG1tYRgGQojfziVJQlVVTNPEtm1M00TTNIQQ/APaxFhTXPomVAAAAABJRU5ErkJggg==\" y=\"-51.932414\"/>\r\n   </g>\r\n  </g>\r\n  <g id=\"axes_30\">\r\n   <g clip-path=\"url(#p4ee696cb96)\">\r\n    <image height=\"19\" id=\"image643928d49b\" transform=\"scale(1 -1)translate(0 -19)\" width=\"19\" x=\"415.769492\" xlink:href=\"data:image/png;base64,\r\niVBORw0KGgoAAAANSUhEUgAAABMAAAATCAYAAAByUDbMAAAC6klEQVR4nI3UTU/qTBTA8X/b6QuFKZC2oqmkUROiS40LvocLP65bDWHhCgkxRly48A20QkuZ9i6e2KtyF89JupjpnN8kc+aMVpZlybcYDocMBgOGwyHX19dMJhN+LeHw8JDz83POzs6QUuJ5HoZhIPgVRVGwWq0wDIN2u0232wVA0zSyLCNNUyzLQilFkiRYlkVRFP/G0jRlNpth2zb9fh8p5X8LhWA6nTKZTNB1nSRJGI/HHBwc4Hkepmn+G3t7e8NxHPr9Pqenp1iWhW3bDAYDLi4ueHh44PPzk5ubG6SUxHEMsIlFUUS/30cIQRzHSCkRQiCEwHVdpJQ0Gg2EECilfpznBtbtdmk2m+i6TqPRwLIsNE0DwDRNXNelXq+j63qV8wWKr4FSCqUUlmURBAG6rmMYxkZSlSgEjuMghKg2q7Asy1gul1WiaZo4joNt29Xcer1msViwXC5xHAcpJbZtVxsKAKUUi8WC2WxGnues12ts26bZbCKlrLD393fm8znL5ZKtrS1arRa1Wu0ntl6veXl5YTqdVp9hGERRRBiGFTYej5lMJgAcHR2xt7eH7/sIIf5ieZ7z+vrK3d0dV1dXXF5eUpYlvV6vKjvA4+Mj9/f3BEGA67rs7e1Rq9UwTfMvpmlaVamvH2VZous6uq5TFAVFUeD7Pp7nEUURcRxTr9cxTfNnAQzDoF6v4/s+vu8ThiFKKYIgIAgC8jwnz3N836fT6bC7u0scx9i2jaZpm5iUkk6nQ7vdrnrPdV08zyPPc1arFTs7O/R6PaIoqtrse4ivO9NsNqu7kyQJq9WKoihwHAfTNLFtG8dxNoANzDAMPM/D8zxqtRppmpKmKUqpqpUALMtC1/WNJ+kH9j22t7c5Pj7m6emJLMsYjUZVd+zv72PbNq7r4jjO/8NOTk64vb3l+fmZ0WhUnVlZloRhSBiGeJ63gem/JxzHodVq0Wg0UErx8fHBfD5nNpuRJAlZlqGUoiiKDewPNpgz4z5Ckv0AAAAASUVORK5CYII=\" y=\"-51.932414\"/>\r\n   </g>\r\n  </g>\r\n  <g id=\"axes_31\">\r\n   <g clip-path=\"url(#p81a6ee3af1)\">\r\n    <image height=\"19\" id=\"image24dae10948\" transform=\"scale(1 -1)translate(0 -19)\" width=\"19\" x=\"7.2\" xlink:href=\"data:image/png;base64,\r\niVBORw0KGgoAAAANSUhEUgAAABMAAAATCAYAAAByUDbMAAADEUlEQVR4nH2TS0/qbBhFV6Etcg0tWBhIJCZySYwjLzNH/manJs4YmDjQkBhFBghHpPJSCqUtLz2DE0HF79vzZ2Unaz9KFEURX2LbNqPRiNvbW66urri5ucFxHBzH4ezsjMvLS87Pz2k0GhweHn49JcaPLBYLxuMxk8mEMAyJx+NomoamaYRhiOM4CCHwPI8oivjaRf0J6/f7tFot2u020+mUXC4HwGq1YjabcX9/j6qqFItFarUaqqoSj8dRFGUb9vr6SqvVotPpoKrqGgbgui4PDw9IKWk2m/i+D0A8Ht80k1Iyn8+ZzWYMh0Ns20ZVVZrNJvv7+8zncxaLBZ1Oh3a7jeu6DAYDnp6esCyLUqmEruv/YMvlEiEE7+/vDIdDhBCk02mOjo64uLhASslqteL6+prhcIjjOAwGA9rtNgCmaW5gUkqm0ylvb298fHwwnU5JpVJkMhnK5TK6rqPrOt1ul1KphO/7+L7PaDTCdV2klBubUkpmsxmj0Whtaj6fI4TAtm1830fTNHK5HJZlYVkWuq4TBAFSyrXR2Kcpz/MQQjCbzVgsFniex2QyQQhBEASoqko6ncY0TQzDWMOWy+V32G9ZLpd4nsd0OsX3fX5s+9f8J+yzreu6/wtTFAVFUTYwTdMwTZNqtUqhUCCRSCClXDfzPI8gCNaShBAkk0mq1SqGYaCq6mZnmqatt3J3d0cikSAIgnWzz50JIej3+4zHY9LpNPV6Hcuy0DRtA/tcejKZZHd3F8MwsG0bIQTdbpdUKsXOzg69Xo/xeEwYhuRyOfb29kin098/QFEUVFVFURRM06RSqeD7Pn/+/GE8Hq/X3uv1CMOQYrFIPp8nm82i6zqxWGwDg3//FY/HMQyDSqXCcDjk+fmZt7c3Xl5eKBaLaJpGLBbDsiwMwyCTyXyTsfXohUKBer2+Hmy/38f3fVzX5eDggEajwfHxMZVKZcvsr7BarYZt2zw+PhJFEb7v4zgO+Xye09NTTk5OKJfLW7Ctnem6TjabJZPJrC1FUYSUkkQigWmaFItFksnkFuwv3P21soYivhAAAAAASUVORK5CYII=\" y=\"-74.426207\"/>\r\n   </g>\r\n  </g>\r\n  <g id=\"axes_32\">\r\n   <g clip-path=\"url(#p39f560ff45)\">\r\n    <image height=\"19\" id=\"imagef5e6752811\" transform=\"scale(1 -1)translate(0 -19)\" width=\"19\" x=\"52.59661\" xlink:href=\"data:image/png;base64,\r\niVBORw0KGgoAAAANSUhEUgAAABMAAAATCAYAAAByUDbMAAADFklEQVR4nIXTSU/yXBjG8X/niSrElEkDQoCEhbowfnW/gTEuEWMwCIlhEIMWytAApe2zeGOfQc17Lc/il3Nf5z5CHMcxf+Tl5YV+v8/t7S3X19fc3Nyg6zqqqlKtVmk2m1xcXHB1dcXl5SWapqGqKqIoIvNPJElC0zQsyyKdTuM4DpIkoSgKiqKw2WzwPI/FYsFiscC2bRRFAfiKWZZFNpulXq8zn8+xLIsgCAjDEN/3eX19ZbfbJTc6PT2lUqlgGMZXzDRNJEkiiiIEQSCfz7NcLlkul7TbbbrdLoPBAFVVE/D4+Ph7TJb/O8pkMpTLZWzbZrPZsNls0DSNKIr4+PgAYDgcUq/X2e/3348piiKKonB4eIhhGOTzecIwJIoidF0H4Pn5mfV6zXg8xvM8wjD8HhMEAUEQUFUVWZZRVZXVaoXv+2w2m+QWgiAgSRKiKP6e6l/sM1EUsd/vWa/X9Pt9er0eDw8PtNttPM/DcRyKxSIHBwdJNT9iYRiy3W7xPI9er8fd3R2dToder4coihQKBUqlEplM5v+x3W6H67oMh0O63S6tVovZbIaiKORyORqNBmdnZxSLxZ/37DPb7RbXdRkMBnS7XdrtNrIsk8vlKBaL1Go1zs/PsSwLVVV/Y2EYslqtWK/XSbHb7RZN03Ach0wmg23byLKMYRhYloVt2xwcHKAoSvIIMkAQBLiuy2g0Sr6NYRjYtk2lUqFUKnFyckIQBKRSqWRhNU1LXj/B9vt9MtLn18lkMpRKJSzLQtd1jo6OWK1WxHFMEATEcYwkSX9Vk2Ce5zEajRiPx4zHY0zTpNlsksvlmEwm6LrOcrnEdV3e3t7wff9Lz391Np1OeXx8pNVqoaoqk8mEWq3GdrtFURSiKGI+n2Pb9s+YYRhUq1UAstkspVKJ+XxOHMcMBgNWqxXL5ZLdbkcqlcJxHCzL+h7TdZ1qtUqhUKBcLtNoNHh6euL+/p5Op8P7+zuz2Yx0Ok0+n8dxHEzT/B4TRRHTNDFNk91uRxAETKdTJEnC931832exWGBZFoqioOt6svV/5hc9zWV0jkyGLgAAAABJRU5ErkJggg==\" y=\"-74.426207\"/>\r\n   </g>\r\n  </g>\r\n  <g id=\"axes_33\">\r\n   <g clip-path=\"url(#p0898acb5e4)\">\r\n    <image height=\"19\" id=\"imagec75061a177\" transform=\"scale(1 -1)translate(0 -19)\" width=\"19\" x=\"97.99322\" xlink:href=\"data:image/png;base64,\r\niVBORw0KGgoAAAANSUhEUgAAABMAAAATCAYAAAByUDbMAAADBklEQVR4nH2Uz0/qbBCFn/6ghSIgvhEhGtAomqhBXRkX/ucs3BqNJrpBMYZGJaaUBWBbCu3bu7ih9/rJ/c5+npyZOTNKkiQJf8m2bV5fX7m5uaHdbnN9fU0YhoRhyNnZGZeXl5yfn9NqtTg+Pv67FJ3/SEpJFEUoioJlWZTLZaIoIooiLMsiDEPG4zHT6ZQ4jlEUBVVVl8Pm8zm+76OqKo1GA9M0yWQy6LpOGIZ8fn7y8PDAxsYGe3t7mKaJaZqoqvoTNpvNmEwmaJpGo9Fge3ubQqFAoVDg7u6Oq6srXNfl4OCA8XhMsVjEMIzlzsrlMs1mk2q1CoCqqmSzWbLZLMPhkFqtRhAEeJ6Hbdtsbm6Sy+XQNO0nTAiBZVnp3AA0TUNVVfr9PltbWziOg+/79Ho9stkslUoF0zR/whYulkkIQaVSIQxDpJQMh0N830dK+buLpVX/kGmalEolisUimqYxm82I45hFun44S5IkjUcURUgp0/XHcYxhGORyORRFYTabEUXRv2Ge5zEejxkMBvT7fVzXxbIsLMvCtm06nQ6j0YhyuYwQ4lvtUpjjODw9PXF/f0+320UIgRACx3F4f39HSommaQghUBQlXVQKi+MYKSW2bXN7e8vb2xtBELC+vo5hGERRhOd5uK6LrutkMhkqlQr5fP77BSRJQhzHzOdzXl5eaLfb+L7P4eEhR0dH+L6P53lIKZlMJuncarUaxWIRXdf/bDNJEqIoIgxDHMeh2+3y8fGBoihUKhUsy0JKSRiG6U3m83mq1Wq62W/OFrAkSdB1nSRJSJKE6XTKaDRKM6UoCrlcjlKphBDi/9tUFIVsNpvO0Pd9xuMxruvieR6qqrKyssLq6ipCCEzT/O5scX8Au7u7XFxcMBgMCIKAx8dHBoMBjuOQz+c5PT2l2WxSr9d/n5D+JxApbPFqdnZ2CMOQTqfD8/MzvV6Pr68vgiBgf3+fk5MTWq0W9XodwzCWR0NVVVRVpVAoIISgUCggpWQ0GqWfVtM0SqUSa2trWJaVzmqhXyT+jT98PxQ5AAAAAElFTkSuQmCC\" y=\"-74.426207\"/>\r\n   </g>\r\n  </g>\r\n  <g id=\"axes_34\">\r\n   <g clip-path=\"url(#p4b99ad2f8c)\">\r\n    <image height=\"19\" id=\"image2c387975f3\" transform=\"scale(1 -1)translate(0 -19)\" width=\"19\" x=\"143.389831\" xlink:href=\"data:image/png;base64,\r\niVBORw0KGgoAAAANSUhEUgAAABMAAAATCAYAAAByUDbMAAACO0lEQVR4nJXUvU/jMBjH8a/jNG91EpJClVZtFTqxUXZG/nM2pgxdOrCBKC1IUEBBJolvOFHdNfR0fSRPtj76+fGLMMYY/qj5fE5RFNzc3HB9fU1RFOyWUorhcMhoNOL8/JyLiwuiKMLaXVhVFZ+fn2itEULgui62bbfA7xJCIITAsqw2ttlsuL+/5/n5Gdd1ybIMpRRCiB8x27ZxHAfHcX7G7u7utthgMCCKIqSUP2JSShzH+b2D3cnJZMLl5SXD4ZD1es1yueT9/Z3lcsloNGI6nTKZTMiyjMFgwOnpKXme4/t+G8vznCRJmE6nzOdzAB4eHrAsi/F4zNXVFbPZjH6/z/HxMUEQEAQBUso2ppTC8zxeX1+p65qXlxeqqsJxHLIs4+zsjNlsRhzHRFH0d/92Ma01ZVny+PjIYrGgKArKssTzPOI4Jk1Tjo6OcF231b/WAWiteXt7Y7VacXt7y2KxYLPZoJQiSRKSJCEMQxzHaWGtZB8fH6xWK9brNWVZYts2aZoyHo/p9/t4ntdC9ib7xp6enijLEsuySJKEPM8Px5qmoaoqqqqiaRqklHS7XU5OTojjmE6n8//Ybgkh8H2fXq9HGIaHYcYY6rqmaRqMMViWRbfbpdfrEUXRP99pC6vrmq+vL7TW1HW9xdI0RSl1WLKmadBaU1UVxhiEEARBsE12EPadrGkaXNfd3vQwDPE8b++D34tprbdYGIYopYiiCN/3D8OMMdthWRZSSjqdDrZtI6Xc+68B/AK9rtvheMt0hQAAAABJRU5ErkJggg==\" y=\"-74.426207\"/>\r\n   </g>\r\n  </g>\r\n  <g id=\"axes_35\">\r\n   <g clip-path=\"url(#p6f9198ba49)\">\r\n    <image height=\"19\" id=\"image3d8228e2b3\" transform=\"scale(1 -1)translate(0 -19)\" width=\"19\" x=\"188.786441\" xlink:href=\"data:image/png;base64,\r\niVBORw0KGgoAAAANSUhEUgAAABMAAAATCAYAAAByUDbMAAADKUlEQVR4nIXTzU/iXBjG4V9L4ZRCC4WSIGJ0QCNsDLow+o+7dOPOsMEoC4TED6hWQBEstEDpLN4MxujMe/bnynPucz9SGIYhP5xms8nZ2Rnn5+fYtk2v16NUKlGr1Tg6OuL4+JjDw8Mvd+SfIIAgCPA8D8/zkCSJZDJJLBbD931c12U2m7FYLAiC4P8xz/Po9/vYto2qqlSrVdLpNIPBgHa7TbfbZTAY4LruGvwn5jgOvV4PIQTVahXTNBkMBtze3n7BVqsVAMrfMEVR0DSNVCqFEIIwDFksFnieh6IoTKdTfN9nuVzyJ/a/YtFoFMMwyGQyCCFYLpf4vo/v+0Sj0TX8T8zzPKbTKe/v74RhSDQaxXVdut0uruuSTCbJ5XKk02l0XUcIgSRJP2Oj0Yher8fDwwPj8ZggCNbZmabJxsYG+/v7lMtlCoUC8XgcRVE+sTAMCYKA5XKJ4zi0Wi3u7u5wXRdJkhiPx/T7fVRVxbIsyuUyxWKRXC73NWeA+XzO8/MzjuNwdXVFo9FgMBggyzK/fv0ikUgQjUZJpVJIkvStX18w3/exbZubmxvq9TqXl5cAVCoVyuUyqqqiKAqGYSDLMvP5fF2Hb1gkEkHTNEzTRFVVwjBEVVV2dnY4ODigVCoxHA55e3tjNBph2zaPj4/k83kMw0DXdRRF+Q9TFIVsNksQBLRaLRKJBOl0mr29PU5OTpjP5/i+T71e5+Ligm63S6fTwTAMtre315OvMcMwiEQiWJaFYRjE43FkWV5PmUwmEUIwnU55eXnh/v4eXdfRNI1CofD5TFmWEUIgyzLpdBrLsphMJjQaDV5fX9F1nWQySbPZZDgc8vHxgeM4JBIJisUii8XiE5MkCSEEQghM08SyLMbjMc1mk+vrazKZDJlMBsdxGA6HeJ7HcDgkFosxGo3WP/uttJubm5yenpLP53l6esJxHGazGZ1OB9/3EUKsu7a7u8vW1hZCiJ+xQqGApmnk83mazSZhGNJqtWi322iaRjabpVAoUKlUqNVqFItFYrHYz9if4CeTyXr3VqsV0+kURVGQZZl4PI6u65imSTweJxKJAPAbEvqIpbOVI0oAAAAASUVORK5CYII=\" y=\"-74.426207\"/>\r\n   </g>\r\n  </g>\r\n  <g id=\"axes_36\">\r\n   <g clip-path=\"url(#p8a90bbfd6a)\">\r\n    <image height=\"19\" id=\"image5a559f0ecb\" transform=\"scale(1 -1)translate(0 -19)\" width=\"19\" x=\"234.183051\" xlink:href=\"data:image/png;base64,\r\niVBORw0KGgoAAAANSUhEUgAAABMAAAATCAYAAAByUDbMAAACfklEQVR4nI2Ty07rMBRFV+I4SdM2LaQdMEF8QAb8CwP+GQYwqZAQICrxEG3UhiZp86jjO0CxLvcBbMkjy8tnn7OPpbXWfKGiKLi8vOTi4oLr62uurq4YjUacn59zdnbGcDgkDEOEENhfgTpprWnbFqUUWmuUUtR1TVmWNE1D27YAOD+BdY/ruqaqKmzbZrVa8fLygm3bhGGIlPL7yrTW7Pd7A6qqiu12y3K55Onpiff3d5RSAN/DLMvCdV36/T6+7yOEQEpJFEUcHx8zHo8RQvzMZgcbDAYG5nke0+mUk5MTY/HHMNu2sSwLKSWe59Hr9QjDkCiKPnpl2z+DddNrmgYA3/cZDAb0ej1c1zUffYJprT9FAMC2bZqmMUdrjeu6+L6P53nGXicHoG1bM600TVmv12itCYIArTWbzYa2bdnv9+R5ThAEptJ/wsqyJM9znp+fmc/nKKWIooher0eWZbRtS9M07HY78jz/P6zLUlmWLBYL7u7uSNMUz/MQQrDZbMiyjMViwXa7ZTweG+tCiM8D+B2WJAkPDw/M53OKojCJl1KyWq3Y7XZorWmahrqukVIipcSyrA+YZVkIIUxzu0zleU5RFOz3e5RS5HlOXde0bUtVVaZ/QgiEEB8wIQT9fh8hBKenp0ynU97e3kiShNfXV2azGbPZzCx6N4jlcslkMjFhdroIBEFAEAQcHh4SxzFFUZAkCY+PjyiluLm5MfFRSlEUBev1miAIODg4+Dq0UkrCMOTo6Ig4jknTlNvbW+7v73FdF8/zcF3X7OW3sOFwiBCCOI5xHAff98myzPTX8zwcx/l7A/6UZVkGEIYhk8mE0WiE67rmvlulDvYLNiVygrFVu7sAAAAASUVORK5CYII=\" y=\"-74.426207\"/>\r\n   </g>\r\n  </g>\r\n  <g id=\"axes_37\">\r\n   <g clip-path=\"url(#p1b797c1a36)\">\r\n    <image height=\"19\" id=\"image2ff1056c2f\" transform=\"scale(1 -1)translate(0 -19)\" width=\"19\" x=\"279.579661\" xlink:href=\"data:image/png;base64,\r\niVBORw0KGgoAAAANSUhEUgAAABMAAAATCAYAAAByUDbMAAACp0lEQVR4nI3Uz0/iQBTA8e+0pS22ldKCVVC0Cfjj4n/vzYsXzx7gaEQ0atBQqIX+DN2T3VVxd18ymdN8MvPmvSfKsiz5I66urri8vOTm5obb21teXl5oNBpYlsXe3h7dbpder4fv+/i+T7fbZX9/H03TkPgSeZ6zXC5ZrVaUZYmiKKiqytbWFpqmoSgKkiR9Wh+hfMXm8znj8ZjHx0fSNKVer+O6LgcHBzQaDUzTRNO0asmyjBDiZ+zu7o7JZIJlWTiOQ7vd5ujoCF3XEUKgqmqFKcpv4htm2za+7xPHMUmSsF6vcRyHwWDA9vY2qqpimiatVgvHcTAMA1mWN2Ou63JyckKSJEwmE+I4ptlsMhgM8DwPwzDQdR1N01BVtcrhX7EoigiCgCiKyLKMJEmQZRnbtrEs6+sxgO+/6TgOx8fH9Pt9bNumKAqen58ZDofc39+zXC43Qhtv1mw2URSFt7c3Wq0WtVqNIAgYjUY0m0183/9/rFarYRgGu7u7nJ2dEYYhaZoyHo85PDxksViQZRmyLFeJ//GZH5jneZyennJ+fo6maVW5hGFInues1+t/50wIgSRJ6LqO67p4noeqqiyXS8IwJAgCFosFaZr+G/vzhh9Fq2la1WZBEDCfz0mSZHPOyrIkTVOyLCOKIsIwZDabMZ1OmU6nvL+/k+c5SZKwWq2I45g8zzdjeZ4zm814fX1lNBoxHA55enpitVpVvZpl2U+P+IwVRcFsNuPh4YHr62suLi4Yj8ffcinLMpIkIYSomvsb9lHZnU6nmk9JkpBlGev1GtM0MU2Tfr9Pr9djZ2cHwzA2Y4qi0Gg0UBSFbrdLp9MhiiKiKKIoCjzPw/O8Cmu325+mxSdMCEGtVqNer6PrerWnaYoQgnq9jmVZGIZRDclN8Qu3+xzIxCshrwAAAABJRU5ErkJggg==\" y=\"-74.426207\"/>\r\n   </g>\r\n  </g>\r\n  <g id=\"axes_38\">\r\n   <g clip-path=\"url(#pa833be9c6e)\">\r\n    <image height=\"19\" id=\"image7ab940b3d6\" transform=\"scale(1 -1)translate(0 -19)\" width=\"19\" x=\"324.976271\" xlink:href=\"data:image/png;base64,\r\niVBORw0KGgoAAAANSUhEUgAAABMAAAATCAYAAAByUDbMAAAC3UlEQVR4nI3UT0/qTBTH8W+nf2gRCwHSCgYRAgE3JK5N3PB+3fge3JioGDcICWoiRCkRFGUopX0Wz6XmJvfKndUsJp+cnDm/o0RRFPm+j+d5jMdjzs/POTs7o9frsVwuMU2TdrtNu92m1WrRbDZxHIc/HQGgKApCCFRVJZVKkc/nyWazJJNJVFUlCAI+Pz+RUhKG4R+h37BEIkE6naZWq3F6esrJyQmVSgXTNHl/f6ff7zMcDvn6+vorpgEIITBNE0VRaDQaZDIZMpkMy+WS2WwWY+VyeTumKAqapgFg2zZRFJHNZtF1nSAI2LxRVRUhxL9hm54JIbBtGyEEvu8DkEgk0HUdRVF+xjagoihIKZlMJniex3w+Z7VakUgkyOfz2LaNruvbsc0ZjUbc3t7S6XQYjUaEYYht25RKJRzHwTTN7dh6vSYMQ4bDITc3N9zd3eF5HkIIstks1WoV13W3Y6vVire3N6bTKf1+n263y+vrK5Zl4TgO9XqdZrNJsVjEsqzt2GQy4fHxkV6vR7fbZTqdsr+/T7VajbF0Oh3/+l8x3/d5fn7m+vqawWDAdDrFMAzK5TKtVotSqcTOzs6PzYdfCZBS8vT0xOXlJQ8PDywWC1KpFLVajePjY4rF4o8V/VZZGIZIKfn4+EBKyXq9JooigiBgsVgwHo/jyGmahmEYJJNJLMuKRyrGDMPAdV2azSar1YrxeIzneVxcXDAcDtnb26NQKGDbNqlUCsdxODw85ODgAE3T0DTt/8EH0HUdx3FoNBp4nsf9/T2j0QjP87i6uqJYLFIoFHAch1wuR71eR9M0XNcFQFXVb2xT2dHREYPBANu28TyPIAhYr9fMZjMURWE+n/Py8oKUklwuh+u65PN5crkcQohvzHEckskknU6H3d1dNE2L+zafz5FSxkGXUlIqlahUKhiGQSaTQdf176BvVpBlWXHoNxsjCIL4DjCbzeJl6fs+URQB8B9CaDsL2XvFswAAAABJRU5ErkJggg==\" y=\"-74.426207\"/>\r\n   </g>\r\n  </g>\r\n  <g id=\"axes_39\">\r\n   <g clip-path=\"url(#p2e82becbdc)\">\r\n    <image height=\"19\" id=\"image766d6a7806\" transform=\"scale(1 -1)translate(0 -19)\" width=\"19\" x=\"370.372881\" xlink:href=\"data:image/png;base64,\r\niVBORw0KGgoAAAANSUhEUgAAABMAAAATCAYAAAByUDbMAAACf0lEQVR4nI2US07rShRFV0ilynZMfo4NSATRSQIN2nQZBtNiJoyDjMANPhIhIIFjxy7j+KP4NZDQU6J7c0+zpLO0a++tQ701i8Wins1m9d3dXX1zc1MDtWEYdafTqW9vb+v7+/t6sVjUSZJsr9aCramqivV6TVmWtFotbNum2WzSaDSoqoo0TdFao5TaXuVg+yFJEubzOavVim63y3g85ujoCNM00Vrz+PiI7/ssl8sd2I6yOI6Zz+dEUUSv12MymfD+/s5ms0FrzdPTE7Zt43neflhRFGitCcMQrTVxHBPHMXmeI4Sg2+3S7/cxDGM/rCxL0jQlDEOWyyVhGJJlGVmW0Wq1cBwHz/Not9v7PVNK0e/3abfb5HlOFEVkWQaAZVm4rovneViWtR/mOA6TyYTz83OUUmitKcsSIQSHh4d4nvfvyrrdLmdnZ5ycnKCU4vv7m7quEUIgpcQ0TQzDQIgdh/7s2Xq9BkBKCfwE8/b2xmw2o6oqLi4uGI/Hf4cVRUGapr8+/R82n895eHigLEs6nc5+WBRFPD8/8/r6Sp7ndDodTNPEsiyklKxWKz4+PkiSZP83gyDA931eXl7I85xer8dwOMR1XbTWBEFAFEUURbED2wkgz3NWqxVJklCWJfBTF9u2kVJSliV5nlNV1X5lhmHQ7/exLOu3/VLK32QbjQZCCJrN5n6YaZq/pS2KgiAIMAwDpRQHBwcIIbAs69+qMRgMmE6nxHHM19cXn5+fwM9pOj09ZTQacXl5yWg02g9zHIfpdEoURfi+T6vVAn6q4bou19fXXF1dcXx8vAPbCUBKiW3b2LaNUopGowHAZrNBKcVgMGA4HGKa5g7sP8wVTCwIV4e3AAAAAElFTkSuQmCC\" y=\"-74.426207\"/>\r\n   </g>\r\n  </g>\r\n  <g id=\"axes_40\">\r\n   <g clip-path=\"url(#p3a1f5429d7)\">\r\n    <image height=\"19\" id=\"imageb30603a75a\" transform=\"scale(1 -1)translate(0 -19)\" width=\"19\" x=\"415.769492\" xlink:href=\"data:image/png;base64,\r\niVBORw0KGgoAAAANSUhEUgAAABMAAAATCAYAAAByUDbMAAACqklEQVR4nIWUP0/jTBCHH3s33iSbGDt/HFK4QIhIQQhokOjhw1LR8UWgiEQLJDQoCXEcbzZ23uJerDvO6Kac3XlmfzOz4+z3+z2/2f39PXd3d0wmE4wxWGvLsyRJWK1WGGMAkFJye3vLzc0NvV4PyTcTQqCUQkqJMYbdbofjOLiui1IKx3FKn+d5hGGI7/u02+2/YVpr+v0+YRiyXq9JkgSlFEop+v0+nU4H3/eRUqKU4urqitPTU4Ig+BvWbDYZDAaEYcjr6yufn5/4vo/nefT7fc7OzojjmFqthtaa8XjMeDyuftnh4SGXl5e4rosQAiklu90Oay1hGDIajRiNRkgp8TyP4XBIvV7Hdd1qWKvVQmvNV2/e39+ZzWYEQcDJyQnn5+dlHev1OrVa7VdDqmQ2m002mw1HR0d8fHyQpikvLy+4rovv+/R6ve9hALiVXkApRafTYTAY4Hke6/WaLMvI8/ynkGrYfr9HSkkQBERRRL1eJ8syNpsN1lqKouDbeFbDttstSZJgraXRaNDtdmk0GjiOgzGGxWLBfD4ny7J/w6y1rNfrP2Baa1zXxRjDcrlksVhUwuSXLGstu92O5+dnJpMJeZ4zHA5xXZftdst+vyfP81JuVe0kQFEUGGNI05SnpyceHh4AuL6+Jo5j0jSlKAqKoiiT/ggDyPMcay2z2YzHx0eKoqDb7SKEYLVa4ThO+YU8z0MI8TPs66KUv1xpmvL29oYQgvl8Xs5YFEVEUYTWuhr2ldXzPGq1GlJKsixjOp1irWW5XKKU4uDggCiKfhzaP2AAYRgSxzHGGJIkYbvdorXm4uKC4+NjWq1WJQj+Hw3HcRBClPspjmPCMCRNU6bTKa1Wq4S12+0fYWXNHMcpF16j0cDzPKy1ZFmGEIIgCNBalwqq7D8rWhz7G3Kw5gAAAABJRU5ErkJggg==\" y=\"-74.426207\"/>\r\n   </g>\r\n  </g>\r\n  <g id=\"axes_41\">\r\n   <g clip-path=\"url(#p522fa5e394)\">\r\n    <image height=\"19\" id=\"imagee654fb8772\" transform=\"scale(1 -1)translate(0 -19)\" width=\"19\" x=\"7.2\" xlink:href=\"data:image/png;base64,\r\niVBORw0KGgoAAAANSUhEUgAAABMAAAATCAYAAAByUDbMAAAC5klEQVR4nIWUS0/qXBiFn9IrLUSlWrSaKjSRuWP9v478B05MnEoYGC+BBCRELq0UsC0pbTmDLx96jkfPSvbk3dnPXjtrZQvr9XrNJ11dXXF5ecl4PMa2bVzX5fz8nIuLC3Rd5ycV/hzIskypVEJVVdI0ZT6fE8cxq9WKPM9/hEl/DkzT5PT0lDzPeX19xfM8XNclCAIkSUJVVSTpy7G/OzNNk0ajwf7+PkEQcH9/T6/XIwgC4jgmy7KfncVxTL/fp9/vMx6PGY/HBEFAkiQbh61WiyRJcF0XVVW/h0VRxMPDAzc3N2RZRpZl+L5PmqYUCgWGwyHNZhNFUbAsi0ql8j0syzKiKGI6nRKGIXEc43ke7+/vJEmC53k8Pj5iGAalUokoitA0DU3TMAwDwzAQRfE/mCRJbG1tcXh4yPPzM/1+n9FoRBiGJEnCZDJhtVohCAKLxYKnpycsy6JarXJ8fIzjOBSLxQ/Yzs4OjuMwGAxYLpeEYchqtWK9XjObzYiiiOVyied5vLy8UKvVqNfr6LqObdsfz1RVFdu2KRQKFItFHMeh2+0yGAwYDodMp1Pe3t7I8xxRFFFVFVVV0TTtt5pIAIqiYNs2lmXhOA5nZ2e0223u7u5otVq02208zyPPcyRJQlEUVFVFURREUUQQhA+YIAjIsowsy6zXayRJIooifN9nNpvh+z6CIKAoCpVKBdu2cRyHWq2GaZrIsvwB+yxRFJFlmXK5zMHBAbPZjE6ngyiK6LqOaZocHR3hui6NRgNd17+HzedzRqMRo9Hot3rkeb65pFKpYJomlmV97dlndTodbm9vabfb+L7PZDKh1+uRpulfi/ojrNvtcn19TbPZZLFYEIbhZk8QBAqFwmb9E2YYBpZlsbe3R5qmhGG4Sa5arVKv16nVamxtbX2BfcHruo5lWezu7lIsFjcpGoZBtVqlVqtxcnLC9vb2v2H//1mqqiKKIvCRsKZplMtlDMPYJPhZvwCS10WD7fXJvwAAAABJRU5ErkJggg==\" y=\"-96.92\"/>\r\n   </g>\r\n  </g>\r\n  <g id=\"axes_42\">\r\n   <g clip-path=\"url(#peecdd003f3)\">\r\n    <image height=\"19\" id=\"imagef805451cc8\" transform=\"scale(1 -1)translate(0 -19)\" width=\"19\" x=\"52.59661\" xlink:href=\"data:image/png;base64,\r\niVBORw0KGgoAAAANSUhEUgAAABMAAAATCAYAAAByUDbMAAADHUlEQVR4nJWUzU/yShSHn7bTUvoFoUU+DJA3ihuibtj6/y+IC00wLFRAlKC2pkgRENq+ixuqxru49ySTTGZynvM7HzNSmqYp3+zy8pJer8fV1RWDwYDxeEyhUMC2bbrdLhcXF3Q6HTzPo1QqfXdF3m/iOObz85PVasVisWCz2ZDL5XBdF8uyyOVyxHFMGIYEQUAURcRxTJIkGUzsQcvlkuVyyWg04ubmhiAIqFartNtt1ut1FqTX6/Hy8kK328VxHHK5HLlcDlmWf8J83+fh4YF+v4+iKHQ6Hc7OzphOp0ynUyaTCf1+n9FoRKFQoN1u4zgOmqZ9KUuShPV6zXw+J0kSDMPAtm0ajQbtdptyuUyr1cI0TaIoQpZlVqsVQRCgKAqGYaAoyk9YFEUAOI5DpVKh0WhwfHzMdrtlu92SJAmPj4+EYchmsyEIAkzTxHXdL2UAaZqSJAmqqmJZFsViMVt7q9VqHBwckCQJu90O3/dxXZc4jr+6KUkSQgg0TSOfz+M4DoZhIEQWC4B8Pk+5XKZUKpEkCb7vs1wus46KPUxRFDRNQ9d1DMNA1/VfMF3XKZVKRFFEmqaEYcjHx8dPZf/VFEVBVVU0TUNRlF/3/wsmyzKqqqKqKrL8j6skSUiS9JXmd1ssFjw9PbFcLhkOh1SrVWzbxnEc0jTNpl6WZYQQGfRfYWEYMhwO0XWdw8NDPM+j2Wximia73Y7tdstut8tqLIT4qUySJFRVRdd14jhmPp8ThiGj0YhKpUKapgghmM1mzGYzwjDMumoYRqZO7Atrmiae51EoFMjn87y/v+P7Pre3t0RRxPPzM/f391xfXwNQqVT48+cPruuiquoXTJZlTNNECEGxWMQwDObzOW9vb9zd3fH6+sp4PGYymTAYDHBdFyEErVYL27azEcrS3B/UajXOz89xHCf7AEzTRFVVms0mnudRLpc5OTnBtm10Xf9dM0VRkGWZer3O6ekpQgjG43H2ZDRNo16vUyqVqNVqHB0dYds2siz/rNn3edF1HcdxsCwLRVGI45g0TZEkCcMwcF2XcrmMZVm/Xshf0jRQ6oRYMCoAAAAASUVORK5CYII=\" y=\"-96.92\"/>\r\n   </g>\r\n  </g>\r\n  <g id=\"axes_43\">\r\n   <g clip-path=\"url(#p23693d1bd2)\">\r\n    <image height=\"19\" id=\"image5c18de60f0\" transform=\"scale(1 -1)translate(0 -19)\" width=\"19\" x=\"97.99322\" xlink:href=\"data:image/png;base64,\r\niVBORw0KGgoAAAANSUhEUgAAABMAAAATCAYAAAByUDbMAAADEklEQVR4nI3U207qWhTG8X9P1NoWKEcliEQxQSXh3hfwFXxSH8BrEy5IUMQoopQGEWyhUCyh68Is3SuL7d7jch5+mSMZ3xSiKIrYUK1Wi8vLS66urvA8D8/zOD8/5+Lignq9vukK4sZVQJZldF0nHo+jKAqr1YogCJjP5wRBwGq1+v+YaZocHh5Sr9exLAvP8xgMBvR6Pfr9PtPp9O8H/IRVKhUEQaDT6eC6Lo7j8PT0xO7uLoqiYFnWz9hiscD3fZbLJZIkkUwmMU0TXdf5+PjAcRz6/T6pVOq/2/R9n+FwyGQyIYoi4vE4iUQC0zRZr9cMh0NeXl6YzWab21ytVnieh+u69Ho9ut0uYRiSTCaJogjbtr/O2LZNOp1mPB5/vV6W5W8sCAIeHh64vb2l3W7TarWYzWaoqgpAr9djNBoRi8UIw5BEIsHr6yvT6RRN0xBFEVEUP7Hlcolt2zSbTRqNBo1Gg7e3N2RZRpIkAARB+BqPfr+P4ziMRiNSqRSxWOwbkyQJXdfJZDIYhoEsyxiGQT6fJ5PJoKoqqqoyHo9xHIf5fE632+X6+ppqtYqu6yiK8o0ZhvEHpus65XKZo6MjDMPANE3a7Ta+7+P7Po+Pj6iqiq7rHBwcoOv6JybLMpZlUSqVKBQKpNNpptMpgiCwXq/J5XJUKhUSiQSapuE4DqIoYts2k8mEIAgIw/ATUxSFdDqNLMsUi0VyuRzr9ZrlconrupimycnJCYVCgVwux/39PZ1Oh+fnZzzPY7FYsFwu/2xTVVX29va+Jn8+nzMajVgsFoiiSDabRdM0DMMAIAxDTNNEkiSiKPrEBEFAlmUEQWB/f5+zszM0TaPRaNDr9bi5uWFnZ4disUg+n6darZJMJqnVapTLZSzLQlXV7zhJkoQkSZRKJba3t1mtVrRaLQaDAXd3dxiG8bVfKpWoVCqbE/DP2trawrIsisUix8fHuK4LQLPZJJvNcnp6+hfyI6YoCsVikVqthu/7tNttms0m+/v7GzP5r9jvaGiaRjweJx6PA/D+/s5sNtv4Kf6uX40NWrKCjnuSAAAAAElFTkSuQmCC\" y=\"-96.92\"/>\r\n   </g>\r\n  </g>\r\n  <g id=\"axes_44\">\r\n   <g clip-path=\"url(#pf8e082169c)\">\r\n    <image height=\"19\" id=\"image26507c4f2f\" transform=\"scale(1 -1)translate(0 -19)\" width=\"19\" x=\"143.389831\" xlink:href=\"data:image/png;base64,\r\niVBORw0KGgoAAAANSUhEUgAAABMAAAATCAYAAAByUDbMAAACzklEQVR4nIWUTUvrWhSGnybNd3ZiP5JgrVgpiFP/gvpjHTp34MiRDkShEysIilKrxO7Y1DSpuYNLc+85ree8sCabtR7WWrxr18qyLPmf5vM5WZZxeXnJyckJZ2dnmKaJrusYhoFhGMznc8bjMUmScHx8zNHREUEQUOc31Wo1FEVBVVXq9TqapqHrOqZpYts2lmVRliVlWWIYBhsbG7iui23bqzBVVatix3HwfR8hBL7v0263CYIAwzCQUpJlGQcHB+zt7eF53ipMURQURalgnufRbrdptVr0ej12d3fxPI8syyiKgn6/T7/fX9/ZUoZh0Gw2iaIIx3HQNA3btgnDkCiKKIqCxWJBEATouo6iKH+HbW5uVjuybZsgCOh2u9WbrutomgbwM0zTNHzfJwxDJpMJUkoATNPEdd21NcqfYEIIGo0GqqoynU5J05TFYvFTyX+w7+9viqKoQlEUPM+j1WqhqiqTyYQ0TSmK4kdYHaAoCpIkqUZZwoUQdLtdbm9veXp6YjQa8fX19XfYZDLh5eWF5UG4rksYhti2DcDj4yPj8fjPsDzPkVIyGAy4urrC932azSbb29s0m00sy0IIQbvdRtM0Pj8/ieMYy7IwTfPXnWVZRhzHXF9fc3p6ysXFBcPhkPF4zGw2Q1VVGo0GOzs7CCFIkoTX11fSNF3trCxLFosFaZoSxzHPz8/VUS+dnqYptm2jKApJkhDH8Vp71A3DwPd99vf3OTw85O3tjYeHBz4+PojjmE6nw93dHe/v7wghkFIynU7J83wVput6BQM4Pz/n5uamGjWKIqSUSCkJgoDpdMpsNltrkTr8a9AoigDI8xzP8xiNRuR5TpZlVbLjOHQ6HbrdLkKI9TBd1wnDkEajged59Ho97u/vGQwGDIfDKtl1XTqdDltbWziOsx5Wq9WqX7TValGWJVLKymNLqaqKaZpYlkW9vnrW/wB/YjRFGAM33AAAAABJRU5ErkJggg==\" y=\"-96.92\"/>\r\n   </g>\r\n  </g>\r\n  <g id=\"axes_45\">\r\n   <g clip-path=\"url(#ped3e8e55ff)\">\r\n    <image height=\"19\" id=\"image9f1ece6073\" transform=\"scale(1 -1)translate(0 -19)\" width=\"19\" x=\"188.786441\" xlink:href=\"data:image/png;base64,\r\niVBORw0KGgoAAAANSUhEUgAAABMAAAATCAYAAAByUDbMAAADDElEQVR4nIXUy0/qWhTH8W+f9AG0IFCQKEIIJsSB8b830YET49Q4U2OMNTxLq1Tsg0fv4AQ89x7vcQ13sj87e/32XkKWZRm/1dXVFRcXF7y+vpJlGYqiUKlUqFQq9Pt9Tk9PaTQafFfyfxdyuRyWZfHx8cFyuWSz2ZBlGVEUEYYhs9kMXdfRNA1N0/6O1et1zs7OqNfr+L5PEATM53Nc1yWOY4IgoN1u0+126XQ6P2O2bdNsNnl+fubp6YkgCHBdl9FoxMvLC5PJBMMwfsZEUUSSJAqFAs1mE03TKJfLHB0dMRgMGAwGjMdjptMpvu/vriuK4p/YtgzDQNd1Go0G3W6XJEm4vr5mPB7jeR6e5zGbzbBtG1VV/41tGz0cDnFdlzRNd+D29CzLiOOY+XyO53mMRiMkSaJYLCLL8i8syzLW6zXL5ZK7uzsuLy/xPA/LsiiVStRqNWq1Gg8PD/i+T5qmeJ7HcDgkn8/jOA65XO4LW61WpGnK4+Mj5+fnuK5LtVrFcRxarRaHh4cMh0PCMEQQBKIo4v39nTiO2Ww2XwFssSRJWK1WZFmGLMsUi0VKpRLr9ZrxeMxiscAwDGzbpt1uc3x8TK1WQ1GU/8cAVFWlWCxi2zZRFDEajRAEAU3TqNfrO8wwDFRV/cJEUURVVQzDIJ/PY1kWgiCwv79Pp9NBkqTdk1FVFcdxaLfbFAoFFEVBEIQvTBCEXw2UZWzbplwuYxgGBwcH9Hq9XQDbjbquY9s2uVwOQRD+xGRZRpZlCoUCe3t7LBYLNE1DURSq1Sq9Xg9VVcmyDEEQkCQJSZL+/gM0TaNUKu3iv7+/xzRNHMdBVVVWqxWSJJHP5zFN82fMtm2CIGA2mxGGIdVqlVarhaIoJEmCoiiIoohhGGxv9i2mKAqmaaLrOkmSMJ/Pub29ZTKZsNlsSNMU27Y5OTmh3+9jWRaWZX39gN9LVVVM09zNqjAMmUwm3NzcEMcxaZrSaDT4/PzchWSa5vfYNoxtc5fLJW9vb0ynU6IoIkkSAHzfZ7FYkCQJ22H9D/xQXDVR36gpAAAAAElFTkSuQmCC\" y=\"-96.92\"/>\r\n   </g>\r\n  </g>\r\n  <g id=\"axes_46\">\r\n   <g clip-path=\"url(#p1e1ea38cb6)\">\r\n    <image height=\"19\" id=\"imageddca73543c\" transform=\"scale(1 -1)translate(0 -19)\" width=\"19\" x=\"234.183051\" xlink:href=\"data:image/png;base64,\r\niVBORw0KGgoAAAANSUhEUgAAABMAAAATCAYAAAByUDbMAAAC3ElEQVR4nJXUzUvrShjH8W9emmkaGxMbsBBRQbGiy4Ku3QjqH+3ClRsFixspVBetrTQvTdPSNG93cTDnHs+9x3t/y2H4zDPPM4xUlmXJ3+J5HtPplOfnZ+7u7ri/v2c0GjEcDpEkCSEEh4eH3NzccHl5ieu67OzsIIRA5UuSJGE2mxFFEWmaomkatm0jSRJFUQCg6zp5nhNFEY7jVOu/YePxmMfHR15eXgjDENM06XQ6tNttoihiMplQFAWLxYJer0e9Xsd1XXRd/2fs4eGBt7c3VFXFtm3Ozs64uLhgOBzS6/UYDAb4vs/T0xOu67JerwGQAcqyZL1eE8cxnucxHA7xfR9FUbBtG1VVWS6X5HlOrVZDCIGiKOR5TlEUfLZdBiiKgtVqxXw+x/M83t/fCcOwqgwgCALiOAZA0zRkWf56qR/XzPOcOI6ZTqf4vs98PieKIoIgYDwek6YpQRCQpimLxYIkSbAsi62tLRzHoVar/cSyLGM2mzEajQjDkDRNiaKIfr+P53nouk6j0UDTNIQQbG9vc3p6ysnJCbu7u+i6/hMrioLlconv+8RxTFEUZFlGGIYsFouqJ5Zl4TgOrVYL13U5Pz+vDqgwRVEwDAPHcbAsC13X2dvbo9vtcnx8XGGfFbbbbTqdTjWIX3omy3KFbW5uous6juNwdXXF9fV1tVmWZWRZRlEUhBBomoYkSb9juq5jmiaNRgNVVVFVFcMwsG27Qr6L/IkJIWg2m9TrdWRZpixLsiwjSRKyLPsW+gXTNA3DMGg2m1iWhaqq+L7PYDAgCALyPP8WUwEkSUJVVSRJwnEcDg4OCIKAfr9PmqZ0u11M06yewB8rgx8T1TStwkzTZDAYcHt7S7/fJ0kSvvxW/459ptVqcXR0xP7+PkIIZrMZ4/GY19dXPj4+WK1W/w/rdDoVFoYhk8mkwpIk+e+YpmlsbGxgGAayLJNlGavViuVySZIkfxzEX8GoXQYJ7YQyAAAAAElFTkSuQmCC\" y=\"-96.92\"/>\r\n   </g>\r\n  </g>\r\n  <g id=\"axes_47\">\r\n   <g clip-path=\"url(#p0a3933f8a3)\">\r\n    <image height=\"19\" id=\"image223ea65cf1\" transform=\"scale(1 -1)translate(0 -19)\" width=\"19\" x=\"279.579661\" xlink:href=\"data:image/png;base64,\r\niVBORw0KGgoAAAANSUhEUgAAABMAAAATCAYAAAByUDbMAAACsElEQVR4nI2TXU7qXBSGn5YCtZUCRVpqw0kMxAu9cAIOwNk4JafhJLwzamJijCDa0kL5aUtLu8/VZ6L46VnJunyftfb7ro34UtfX1+Ly8lKcn58Lx3EE8NEXFxfi6upKPDw8iCAIvkqFwpfabrekaUpRFBiGQVEUJEnCer2mLEuyLGOz2VAUxVcpO7DlcsloNCLPc05OTmg2m9zf33N3d0ee5wRBgOd5NBoNut3uz7DFYsF4PKYsS05PTzk7O0NRlI8Bvu/j+z6O4+xsJu+sqiioqgpAEAS8vLwQBAFpmlKr1bBtG9u20XX992dWq1U0TSNJEnzfRwjB29sbSZJQr9fp9Xq4rkuj0fgdZhgGruuS5znz+ZwoiojjGMMwsCwLy7LodDrs7e39DjNNk+PjY7Is4/n5Gc/zMAyDwWDAnz9/6HQ66LqOouxIdz1rtVoMBgNs2yZNU8bjMUVR0Ov1sCyLZrOJqqr/BqvVaui6jq7rVKtVyrJkuVwymUwIgoDVakWWZf92Z//BNE1DURSKoiCKIiRJYjqdsl6vyfMcSZKoVCo/w1arFZPJhMViQavVYjgcIoQAYDqdcnt7S7Vapd/v47ruz7D5fM7T0xPT6RTTNFFVldlsxmw2IwxDbm5uyLKMSqXyO2yxWDAajQjDENM0abVaKIqCEII0TXl8fESWZYbDIWVZIkkSkiR9H8B6vcbzPDzPI0kSZFmm0WjgOA6qqhJFEe/v70RRxGazYbvdftiwA4vjGN/3CcOQOI4B2N/fx7ZtNE0jjmPCMPw21f9N0/M8RqMRy+USy7Lodrs4jkO73ebw8JCjoyPq9fqne/v2b+q6jhCC19dXxuMxQgja7Tau69Lr9ej3+xwdHVGr1T55tgOTZfljWpqmHy2EQFVVTNPk4OAATdOQ5c8u/QXxS3mjNI6SNQAAAABJRU5ErkJggg==\" y=\"-96.92\"/>\r\n   </g>\r\n  </g>\r\n  <g id=\"axes_48\">\r\n   <g clip-path=\"url(#p3f82cdb6e5)\">\r\n    <image height=\"19\" id=\"image326a00e425\" transform=\"scale(1 -1)translate(0 -19)\" width=\"19\" x=\"324.976271\" xlink:href=\"data:image/png;base64,\r\niVBORw0KGgoAAAANSUhEUgAAABMAAAATCAYAAAByUDbMAAAC0UlEQVR4nJWUUUvrWhBG185OWpMmpdpKihHFVotgUUGf/QH+bPHFF1GqUHwoBdsiLW0TNSZN0uQ8yMml157LufM2sGcxM983W2RZlrEmPM9jOBzS6/W4vb3l5uaGy8tLrq+vOTs7w7IsTNNcqVHWgQCEEEgpkVKSZRlJkhBFEXEckyQJaZr+qPkjTEqJruuUSiXiOGY6nTKbzfA8D9/3ieP472GqqqLrOoZhkKYps9mM+XyO67p8fX2thakAYRgyGo0YDoe4rovruvi+TxiGTKdTOp0Oi8WCyWTC8/MzhmEAsLW1la8ihwVBwMvLC3d3d/R6Pfr9Pq7rkqYpURQxm81YLBaMx2MeHh6QUlKr1Wi1WmiahqIoCCG+YWmaEoYhnufx+vrK09MTvu9TKpUwDIPlckmhUCCOY8bjMYPBgMlkwvv7O6ZpoqoqUspvmJSScrmM4zj0+30KhQKKotBsNrFtm8FgwGg0QghBmqYEQYDneUynU4QQ6Lr+D0xVVSqVCo7jUK1WKRQKFItF9vb2aDQaCCHwfZ8oitA0DYAoivj8/MSyrNwmKoCmaVSrVQ4ODrBtm1KpRJIkKMqq2Jubm9i2zfHxMc1mk52dHcrl8qoAqqpSrVbRdR3btrEsi4+Pjx+wSqVCq9Wi3W7nMCll/k4FUBSFYrGIoijs7+9zcXHBYDAgDEO63S5vb28EQUCWZd+qqSqapuUjr/js9+koikKj0eDq6orHx0fu7+/pdrtEUUSSJIRhyGKxIIoilsvletP+7g6gXq8D4Ps+nU4nV0wIQZIkJEnCcrlk3f/w45wMw6Ber+M4Do7jYNs2hmEQxzFxHK/t6D9htVoNx3HY3d3FcZz8PtM0zdchhPjzmP8Oy7I4PDxkPp9jmmZu4tPTU9rtNtvb2/8P1mw287GCIODo6Ijz83NOTk7Y2Nj4e5iqqpimSaVSoVwuo+v6Sr4ufgEEGD6XDCx3YQAAAABJRU5ErkJggg==\" y=\"-96.92\"/>\r\n   </g>\r\n  </g>\r\n  <g id=\"axes_49\">\r\n   <g clip-path=\"url(#pf841522e7b)\">\r\n    <image height=\"19\" id=\"imageb851e68e87\" transform=\"scale(1 -1)translate(0 -19)\" width=\"19\" x=\"370.372881\" xlink:href=\"data:image/png;base64,\r\niVBORw0KGgoAAAANSUhEUgAAABMAAAATCAYAAAByUDbMAAADO0lEQVR4nIWUTUvrWhSGn3ztfNSdRqlJY5WegYogiDh26G8W/AmOpO1AhLaKWCTamn6E1sYm+45OvN5zuXfBmj57vet919aUUqosS/I8Z71ec3Nzw/X1NZ1Oh9FoxHQ6pdVq0Wq1uLy85OrqitPTU6SUbG1t8fcy+UeZpolt20gpaTQauK5LvV5HCMHX1xez2Yw0TbEs6/9hnucRhiEAQgh0XWexWDCbzZjP59zd3bFYLLi4uKDRaPw3rFarEYYhjUaDX79+EQQBvV6PXq9HmqaMRiMmkwlRFHF2dvYnTNM0DMNACEEcx2w2G5RS7O7u4nkeRVHgeR69Xo9Op8PLywtJkvDx8YHjODiOg67r3zDTNDEMgziOCYKgkmkYBq7rsre3x3w+5/b2ltlsRpIkTCYTgiCo1mECKKUoiqLqsiyrSW3bxrIs6vV6Zch6vSbPcxaLBa7rUpblt0ylFOv1mtVqxfv7O29vbziOQ7vdptlsYpommqbh+z5RFGFZFkII8jynKAqUUt+woihYLpekacrz8zODwQDP8zBNE8dx0DStaiklRVEghGCz2VRTVbCvry+SJGE4HPLw8MD9/T1KKfr9PlEUVXLv7+/p9/sIIQDwfR/bttE07RuW5zlJkvDw8EC326Xb7TKfz3Fdl1qtVqV9PB7z+vpKHMcASCkrJ3/k7LcJlmUhpcTzPOI4JgxDdF1H13XiOOb4+Jhms8nR0RFSSmzb/gn7HQ3btgmCgIODA+r1Oufn5xweHpJlGVmWIYTA8zx2dnbY29tDSolhGP8Oc10Xz/NwHIft7W3a7TYnJydMp1PSNMVxHKSUSCmp1Wroul7tq4Lpuo7ruvi+T1mWjMdjyrIkSRJarRafn58opZjP51XqoygiDMM/L0DXdWzbxvd9lFKkaVqZ8v7+Xr08nU4Zj8dYloVSCtd10TTt5wWYpln9AE9PT4RhyHK5ZDgc8vn5iWEYGIbBarUiyzKCIGB7e5tWq8Vms/kp07IsdnZ28H2fwWBAFEU8PT3x+PjIcDjEsixs264cbzab7O/vs16vq0/hhwFCCIQQuK6LbdsAZFnGarXCcRyEENWy6/U6eZ5TlmUFAvgLmutsLtOyJC8AAAAASUVORK5CYII=\" y=\"-96.92\"/>\r\n   </g>\r\n  </g>\r\n  <g id=\"axes_50\">\r\n   <g clip-path=\"url(#pf20f68b251)\">\r\n    <image height=\"19\" id=\"image46f941a54e\" transform=\"scale(1 -1)translate(0 -19)\" width=\"19\" x=\"415.769492\" xlink:href=\"data:image/png;base64,\r\niVBORw0KGgoAAAANSUhEUgAAABMAAAATCAYAAAByUDbMAAADC0lEQVR4nIXUXU/qShTG8X/LAJYCVYKVKLjxxhjvvNAP4Bf2W2iMd76ECDG8SCktIiW8tIVM51zsiMet5+xJejNJf/O0a83SlFKKfy3XdXEch+vra66urri7u+P8/JyLi4vNU6vV+Gnpf26kUimy2SyGYWAYBtlsFoAwDInjmCRJfoQAxJ8bpmli2zbVapV6vc5gMACg3+/j+z5RFP0n9i3ZB1ar1fj16xfVahWlFK+vr3/FviUbDoc4jkOn0yFJEmzbZrlcMh6P8TyP4XDIwcEBpmliGMb/J3Mch9vbWx4eHliv11QqFdLpNEEQ4Ps+ruvi+z6LxeLvySaTCS8vL7iuSz6fRylFEASEYchoNKLZbGJZFlJKcrkcQgjS6TSapn3HoigiCAL6/T5xHG+Q1WqF7/vc398DoGkalmVRKBQoFoukUqnvmFIKpRTz+ZzRaMRkMkFKiRCC6XRKo9EgSRJKpRL7+/sA5HK5n7GjoyMuLy85PDzEcRxc1yUIAt7f34miiDiOcV2XVqvF9vb2Bs5ms9+xer1OqVTi9PSUdrtNp9Oh2+3S7Xbp9Xr0er0Nls1mKZVKHB8ffy2AlJIkSZjP54zHY+I4plwuYxgG+XyeYrGIUorRaISUkkKhgG3bFAoFUqnUJ6aUQkrJer3G8zxarRZKKarVKnt7e5imyc7ODkEQ8Pz8zGq1olKpcHJygm3bpNPpTyxJEuI4ZrFYMBgMaDQaaJqGrusIIZBSsrW1RSaTQdd1dF3fHGAYBrquf2JSys3ndbtdnp6eWCwW9Pt9bNtGCIEQgsFgwHK5RNd1oihiNpt9ufybZGEYMplMcByHVquF53k0m03y+Ty7u7uUSiUGgwFhGGIYBlEUMZ/PieOYjykmAIQQWJYFwNnZGVJK2u02nucxmUzwfZ/xeMx4PCYMw03nZzIZhPhsCAG/Z5hlWZimCUC5XObx8ZGbmxve3t6YTqdMp1PiOGa1WlEulxFC/O4tIdA07RPTNG3zXyzLYr1eMxwOMQxjU5zZbPZlMH4U4uN9gH8AoOixcIAkTp0AAAAASUVORK5CYII=\" y=\"-96.92\"/>\r\n   </g>\r\n  </g>\r\n </g>\r\n <defs>\r\n  <clipPath id=\"p49e86cb114\">\r\n   <rect height=\"18.744828\" width=\"18.744828\" x=\"7.2\" y=\"7.2\"/>\r\n  </clipPath>\r\n  <clipPath id=\"pe1e4b388f7\">\r\n   <rect height=\"18.744828\" width=\"18.744828\" x=\"52.59661\" y=\"7.2\"/>\r\n  </clipPath>\r\n  <clipPath id=\"p4d23379887\">\r\n   <rect height=\"18.744828\" width=\"18.744828\" x=\"97.99322\" y=\"7.2\"/>\r\n  </clipPath>\r\n  <clipPath id=\"pad83ad131c\">\r\n   <rect height=\"18.744828\" width=\"18.744828\" x=\"143.389831\" y=\"7.2\"/>\r\n  </clipPath>\r\n  <clipPath id=\"pb349d51622\">\r\n   <rect height=\"18.744828\" width=\"18.744828\" x=\"188.786441\" y=\"7.2\"/>\r\n  </clipPath>\r\n  <clipPath id=\"p182d57b9e8\">\r\n   <rect height=\"18.744828\" width=\"18.744828\" x=\"234.183051\" y=\"7.2\"/>\r\n  </clipPath>\r\n  <clipPath id=\"p960d882d51\">\r\n   <rect height=\"18.744828\" width=\"18.744828\" x=\"279.579661\" y=\"7.2\"/>\r\n  </clipPath>\r\n  <clipPath id=\"pf09fdfab85\">\r\n   <rect height=\"18.744828\" width=\"18.744828\" x=\"324.976271\" y=\"7.2\"/>\r\n  </clipPath>\r\n  <clipPath id=\"p59a526f454\">\r\n   <rect height=\"18.744828\" width=\"18.744828\" x=\"370.372881\" y=\"7.2\"/>\r\n  </clipPath>\r\n  <clipPath id=\"p5864c0bd90\">\r\n   <rect height=\"18.744828\" width=\"18.744828\" x=\"415.769492\" y=\"7.2\"/>\r\n  </clipPath>\r\n  <clipPath id=\"pefc748c7f1\">\r\n   <rect height=\"18.744828\" width=\"18.744828\" x=\"7.2\" y=\"29.693793\"/>\r\n  </clipPath>\r\n  <clipPath id=\"p619be73feb\">\r\n   <rect height=\"18.744828\" width=\"18.744828\" x=\"52.59661\" y=\"29.693793\"/>\r\n  </clipPath>\r\n  <clipPath id=\"p8bb3a889b6\">\r\n   <rect height=\"18.744828\" width=\"18.744828\" x=\"97.99322\" y=\"29.693793\"/>\r\n  </clipPath>\r\n  <clipPath id=\"pb3e2887777\">\r\n   <rect height=\"18.744828\" width=\"18.744828\" x=\"143.389831\" y=\"29.693793\"/>\r\n  </clipPath>\r\n  <clipPath id=\"p8f536252f6\">\r\n   <rect height=\"18.744828\" width=\"18.744828\" x=\"188.786441\" y=\"29.693793\"/>\r\n  </clipPath>\r\n  <clipPath id=\"pef234bd857\">\r\n   <rect height=\"18.744828\" width=\"18.744828\" x=\"234.183051\" y=\"29.693793\"/>\r\n  </clipPath>\r\n  <clipPath id=\"p3b31e54ba3\">\r\n   <rect height=\"18.744828\" width=\"18.744828\" x=\"279.579661\" y=\"29.693793\"/>\r\n  </clipPath>\r\n  <clipPath id=\"pce4d4b946a\">\r\n   <rect height=\"18.744828\" width=\"18.744828\" x=\"324.976271\" y=\"29.693793\"/>\r\n  </clipPath>\r\n  <clipPath id=\"pb5ed4228cb\">\r\n   <rect height=\"18.744828\" width=\"18.744828\" x=\"370.372881\" y=\"29.693793\"/>\r\n  </clipPath>\r\n  <clipPath id=\"p96ea4556a2\">\r\n   <rect height=\"18.744828\" width=\"18.744828\" x=\"415.769492\" y=\"29.693793\"/>\r\n  </clipPath>\r\n  <clipPath id=\"p7b8d8aebf3\">\r\n   <rect height=\"18.744828\" width=\"18.744828\" x=\"7.2\" y=\"52.187586\"/>\r\n  </clipPath>\r\n  <clipPath id=\"pc374d2bd50\">\r\n   <rect height=\"18.744828\" width=\"18.744828\" x=\"52.59661\" y=\"52.187586\"/>\r\n  </clipPath>\r\n  <clipPath id=\"p67a725a40c\">\r\n   <rect height=\"18.744828\" width=\"18.744828\" x=\"97.99322\" y=\"52.187586\"/>\r\n  </clipPath>\r\n  <clipPath id=\"p2068a31fce\">\r\n   <rect height=\"18.744828\" width=\"18.744828\" x=\"143.389831\" y=\"52.187586\"/>\r\n  </clipPath>\r\n  <clipPath id=\"p35d8380748\">\r\n   <rect height=\"18.744828\" width=\"18.744828\" x=\"188.786441\" y=\"52.187586\"/>\r\n  </clipPath>\r\n  <clipPath id=\"p3dde68d517\">\r\n   <rect height=\"18.744828\" width=\"18.744828\" x=\"234.183051\" y=\"52.187586\"/>\r\n  </clipPath>\r\n  <clipPath id=\"p62742f017c\">\r\n   <rect height=\"18.744828\" width=\"18.744828\" x=\"279.579661\" y=\"52.187586\"/>\r\n  </clipPath>\r\n  <clipPath id=\"p6d06aeb348\">\r\n   <rect height=\"18.744828\" width=\"18.744828\" x=\"324.976271\" y=\"52.187586\"/>\r\n  </clipPath>\r\n  <clipPath id=\"p33416ac7dc\">\r\n   <rect height=\"18.744828\" width=\"18.744828\" x=\"370.372881\" y=\"52.187586\"/>\r\n  </clipPath>\r\n  <clipPath id=\"p4ee696cb96\">\r\n   <rect height=\"18.744828\" width=\"18.744828\" x=\"415.769492\" y=\"52.187586\"/>\r\n  </clipPath>\r\n  <clipPath id=\"p81a6ee3af1\">\r\n   <rect height=\"18.744828\" width=\"18.744828\" x=\"7.2\" y=\"74.681379\"/>\r\n  </clipPath>\r\n  <clipPath id=\"p39f560ff45\">\r\n   <rect height=\"18.744828\" width=\"18.744828\" x=\"52.59661\" y=\"74.681379\"/>\r\n  </clipPath>\r\n  <clipPath id=\"p0898acb5e4\">\r\n   <rect height=\"18.744828\" width=\"18.744828\" x=\"97.99322\" y=\"74.681379\"/>\r\n  </clipPath>\r\n  <clipPath id=\"p4b99ad2f8c\">\r\n   <rect height=\"18.744828\" width=\"18.744828\" x=\"143.389831\" y=\"74.681379\"/>\r\n  </clipPath>\r\n  <clipPath id=\"p6f9198ba49\">\r\n   <rect height=\"18.744828\" width=\"18.744828\" x=\"188.786441\" y=\"74.681379\"/>\r\n  </clipPath>\r\n  <clipPath id=\"p8a90bbfd6a\">\r\n   <rect height=\"18.744828\" width=\"18.744828\" x=\"234.183051\" y=\"74.681379\"/>\r\n  </clipPath>\r\n  <clipPath id=\"p1b797c1a36\">\r\n   <rect height=\"18.744828\" width=\"18.744828\" x=\"279.579661\" y=\"74.681379\"/>\r\n  </clipPath>\r\n  <clipPath id=\"pa833be9c6e\">\r\n   <rect height=\"18.744828\" width=\"18.744828\" x=\"324.976271\" y=\"74.681379\"/>\r\n  </clipPath>\r\n  <clipPath id=\"p2e82becbdc\">\r\n   <rect height=\"18.744828\" width=\"18.744828\" x=\"370.372881\" y=\"74.681379\"/>\r\n  </clipPath>\r\n  <clipPath id=\"p3a1f5429d7\">\r\n   <rect height=\"18.744828\" width=\"18.744828\" x=\"415.769492\" y=\"74.681379\"/>\r\n  </clipPath>\r\n  <clipPath id=\"p522fa5e394\">\r\n   <rect height=\"18.744828\" width=\"18.744828\" x=\"7.2\" y=\"97.175172\"/>\r\n  </clipPath>\r\n  <clipPath id=\"peecdd003f3\">\r\n   <rect height=\"18.744828\" width=\"18.744828\" x=\"52.59661\" y=\"97.175172\"/>\r\n  </clipPath>\r\n  <clipPath id=\"p23693d1bd2\">\r\n   <rect height=\"18.744828\" width=\"18.744828\" x=\"97.99322\" y=\"97.175172\"/>\r\n  </clipPath>\r\n  <clipPath id=\"pf8e082169c\">\r\n   <rect height=\"18.744828\" width=\"18.744828\" x=\"143.389831\" y=\"97.175172\"/>\r\n  </clipPath>\r\n  <clipPath id=\"ped3e8e55ff\">\r\n   <rect height=\"18.744828\" width=\"18.744828\" x=\"188.786441\" y=\"97.175172\"/>\r\n  </clipPath>\r\n  <clipPath id=\"p1e1ea38cb6\">\r\n   <rect height=\"18.744828\" width=\"18.744828\" x=\"234.183051\" y=\"97.175172\"/>\r\n  </clipPath>\r\n  <clipPath id=\"p0a3933f8a3\">\r\n   <rect height=\"18.744828\" width=\"18.744828\" x=\"279.579661\" y=\"97.175172\"/>\r\n  </clipPath>\r\n  <clipPath id=\"p3f82cdb6e5\">\r\n   <rect height=\"18.744828\" width=\"18.744828\" x=\"324.976271\" y=\"97.175172\"/>\r\n  </clipPath>\r\n  <clipPath id=\"pf841522e7b\">\r\n   <rect height=\"18.744828\" width=\"18.744828\" x=\"370.372881\" y=\"97.175172\"/>\r\n  </clipPath>\r\n  <clipPath id=\"pf20f68b251\">\r\n   <rect height=\"18.744828\" width=\"18.744828\" x=\"415.769492\" y=\"97.175172\"/>\r\n  </clipPath>\r\n </defs>\r\n</svg>\r\n",
      "image/png": "[encoded data removed]"
     },
     "metadata": {
      "needs_background": "light"
     }
    }
   ],
   "source": [
    "# FROM BOOK NOTEBOOK\n",
    "\n",
    "plt.figure(figsize=(8, 2))\n",
    "for index, X_representative_digit in enumerate(X_representative_digits):\n",
    "    plt.subplot(k // 10, 10, index + 1)\n",
    "    plt.imshow(X_representative_digit.reshape(8, 8), cmap=\"binary\", interpolation=\"bilinear\")\n",
    "    plt.axis('off')\n",
    "\n",
    "plt.show()"
   ]
  },
  {
   "cell_type": "code",
   "execution_count": 70,
   "metadata": {},
   "outputs": [],
   "source": [
    "# Label each image\n",
    "y_representative_digits = np.array([\n",
    "    8, 9, 0, 1, 5, 3, 6, 9, 8, 4,\n",
    "    5, 2, 7, 2, 3, 4, 1, 6, 1, 6,\n",
    "    9, 7, 5, 6, 2, 1, 8, 3, 7, 5,\n",
    "    0, 3, 9, 1, 8, 1, 2, 5, 8, 2,\n",
    "    7, 0, 4, 1, 5, 6, 8, 4, 5, 7])"
   ]
  },
  {
   "cell_type": "code",
   "execution_count": 71,
   "metadata": {},
   "outputs": [
    {
     "output_type": "execute_result",
     "data": {
      "text/plain": [
       "0.8844444444444445"
      ]
     },
     "metadata": {},
     "execution_count": 71
    }
   ],
   "source": [
    "log_reg = LogisticRegression()\n",
    "log_reg.fit(X_representative_digits, y_representative_digits)\n",
    "log_reg.score(X_test, y_test)"
   ]
  },
  {
   "source": [
    "**Label propagation** - Propagate the labels to all the other instances in the same cluster."
   ],
   "cell_type": "markdown",
   "metadata": {}
  },
  {
   "cell_type": "code",
   "execution_count": 72,
   "metadata": {},
   "outputs": [
    {
     "output_type": "execute_result",
     "data": {
      "text/plain": [
       "0.9066666666666666"
      ]
     },
     "metadata": {},
     "execution_count": 72
    }
   ],
   "source": [
    "y_train_propagated = np.empty(len(X_train), dtype=np.int32)\n",
    "for i in range(k):\n",
    "    y_train_propagated[kmeans.labels_==i] = y_representative_digits[i]\n",
    "\n",
    "log_reg = LogisticRegression()\n",
    "log_reg.fit(X_train, y_train_propagated)\n",
    "log_reg.score(X_test, y_test)"
   ]
  },
  {
   "source": [
    "We propagated the label to all instances in cluster even ones near boundary which are probably mislabeled. Let's only propagate the labels to 20% of the instances that are closest to the centroids."
   ],
   "cell_type": "markdown",
   "metadata": {}
  },
  {
   "cell_type": "code",
   "execution_count": 73,
   "metadata": {},
   "outputs": [
    {
     "output_type": "execute_result",
     "data": {
      "text/plain": [
       "0.88"
      ]
     },
     "metadata": {},
     "execution_count": 73
    }
   ],
   "source": [
    "percentile_closest = 20\n",
    "\n",
    "X_cluster_dist = X_digits_dist[np.arange(len(X_train)), kmeans.labels_]\n",
    "for i in range(k):\n",
    "    in_cluster = (kmeans.labels_ == i)\n",
    "    cluster_dist = X_cluster_dist[in_cluster]\n",
    "    cutoff_distance = np.percentile(cluster_dist, percentile_closest)\n",
    "    above_cutoff = (X_cluster_dist > cutoff_distance)\n",
    "    X_cluster_dist[in_cluster & above_cutoff] = -1\n",
    "\n",
    "partially_propagated = (X_cluster_dist != -1)\n",
    "X_train_partially_propagated = X_train[partially_propagated]\n",
    "y_train_partially_propagated = y_train_propagated[partially_propagated]\n",
    "\n",
    "log_reg = LogisticRegression()\n",
    "log_reg.fit(X_train_partially_propagated, y_train_partially_propagated)\n",
    "log_reg.score(X_test, y_test)"
   ]
  },
  {
   "cell_type": "code",
   "execution_count": 74,
   "metadata": {},
   "outputs": [
    {
     "output_type": "execute_result",
     "data": {
      "text/plain": [
       "0.9385665529010239"
      ]
     },
     "metadata": {},
     "execution_count": 74
    }
   ],
   "source": [
    "np.mean(y_train_partially_propagated == y_train[partially_propagated])"
   ]
  },
  {
   "source": [
    "> #### Active Learning\n",
    "\n",
    "> Next step is active learning, which is when a human expert interacts with the learning algorithm, providing labels for specific instances when the algorithm requests them.\n",
    "\n",
    "> 1. The model is trained on the labeled instances gathered so far, and this model is used to make predictions on all the unlabeled instances.\n",
    "> 2. The instances for which the model is most uncertain (eg. estimated probability is lowest) are given to the expert to be labeled.\n",
    "> 3. Iterate this process until performance improvements stops being worth the labeling effort."
   ],
   "cell_type": "markdown",
   "metadata": {}
  },
  {
   "source": [
    "### 9.1.6 DBSCAN"
   ],
   "cell_type": "markdown",
   "metadata": {}
  },
  {
   "source": [
    "DBSCAN defines clusters as continuous regions of high density.\n",
    "- For each instance, the algorithm counts how many instances are located within a small distance $\\epsilon$ from it called the instance's **$\\epsilon$-neighborhood**.\n",
    "\n",
    "- If an instance has at least `min_samples` in its $\\epsilon$-neighborhood, then it's considered a core instance. Core instances are those that are located in dense regions.\n",
    "\n",
    "- All instances in the neighborhood of a core instance belong to the same cluster and may include other core instances; therefore, a long sequence of neighboring core instances forms a single cluster.\n",
    "\n",
    "- Any instance not a core instance and does not have one in its neighborhood is considered an anomaly.\n",
    "\n",
    "> Note: This algorithm works well if all clusters are dense enough and if they are well separated by low-density regions."
   ],
   "cell_type": "markdown",
   "metadata": {}
  },
  {
   "cell_type": "code",
   "execution_count": 2,
   "metadata": {},
   "outputs": [],
   "source": [
    "from sklearn.cluster import DBSCAN\n",
    "from sklearn.datasets import make_moons"
   ]
  },
  {
   "cell_type": "code",
   "execution_count": 14,
   "metadata": {},
   "outputs": [
    {
     "output_type": "execute_result",
     "data": {
      "text/plain": [
       "array([ 0,  2, -1, -1,  1,  0,  0,  0,  2,  5,  2,  3,  0,  2,  2,  2,  4,\n",
       "        2,  2,  4,  0,  5,  1,  0,  5,  5,  3,  2,  2,  2,  4,  5,  0,  6,\n",
       "        1, -1,  0,  0,  2,  3, -1,  3,  4, -1,  4,  4,  2,  0,  6,  2,  0,\n",
       "        2,  4,  0,  3,  3,  0,  3,  5,  2, -1,  3,  0,  5,  0,  0,  0,  2,\n",
       "        3,  0,  3,  6,  0,  2,  4,  4,  0,  3,  0,  4,  0,  3, -1,  3,  4,\n",
       "        0, -1,  2,  2,  4,  1,  6,  0,  5,  2,  6,  2,  3,  3, -1,  2, -1,\n",
       "        2,  4,  0,  0,  0,  2,  5,  2,  0,  2, -1,  2,  3,  1,  5,  2,  0,\n",
       "        4,  2,  1,  2,  4,  4,  0,  0,  6,  2,  2,  0,  2, -1,  2,  0,  3,\n",
       "        3,  5, -1,  3,  3,  5,  2,  4,  2,  2,  2,  4,  2,  4,  0, -1,  2,\n",
       "        1,  2,  6,  4,  2,  3,  2, -1,  2,  0,  0,  2,  0,  4,  0,  4,  4,\n",
       "        1,  6,  3,  2,  6,  1,  4,  4,  2,  0,  6,  0,  1,  0,  2,  5,  1,\n",
       "        1,  2,  2,  2,  2,  0,  5,  5,  1,  4,  5,  0,  3,  3,  0,  0,  0,\n",
       "        2,  0,  5,  2, -1,  2,  3,  5,  2,  2,  0,  4,  0,  4,  2,  2,  4,\n",
       "        2,  2,  3,  2,  3,  0,  1,  2,  0,  4, -1,  6,  0,  3,  3,  5, -1,\n",
       "        5,  4,  3,  5,  0,  2, -1,  3,  6,  3,  3,  4,  3,  2,  2,  2,  1,\n",
       "        4,  0,  2,  2, -1,  2,  6,  3,  4,  4,  2,  2,  1,  0,  1,  6,  3,\n",
       "        2,  4,  0,  3,  5,  0,  3,  2,  0,  2,  5,  4,  5,  2, -1,  6,  5,\n",
       "        2,  2,  2,  0,  6,  1,  6,  2,  1,  3,  5,  0,  1, -1,  1,  2,  2,\n",
       "        4, -1,  2,  0,  0,  0,  0,  2,  6,  6, -1,  1,  2,  5,  3,  5,  4,\n",
       "        0,  2,  0, -1,  6,  2,  3,  2,  4,  2,  0, -1,  4, -1,  0, -1,  0,\n",
       "        6,  1,  5,  3,  1,  1,  0,  2,  3,  2, -1,  4,  2,  3,  4,  5,  4,\n",
       "       -1,  4, -1,  1,  0,  5,  6,  5,  3,  2,  5,  1, -1,  5,  2,  5,  5,\n",
       "        3,  2,  6,  3,  2,  2,  5,  5,  2,  5,  5,  2, -1,  3,  2,  2,  5,\n",
       "        3,  0,  3,  0,  3,  1,  6,  2,  2,  3,  6,  0,  0,  0,  0,  2, -1,\n",
       "        3,  0, -1,  2,  2,  4,  2,  2,  0,  2,  0,  6,  3,  2,  6,  0,  6,\n",
       "        1,  3,  3,  0,  4,  4,  1,  4,  6,  4,  3,  5,  1,  2, -1,  5,  0,\n",
       "        2,  0,  0,  0,  0,  5,  0,  0,  0,  2,  1,  5,  5,  0,  2,  0,  1,\n",
       "        1,  3,  3,  0,  2,  1,  3,  3,  1,  0,  6,  1,  3,  2,  3,  4,  2,\n",
       "        2,  2,  0,  0,  0,  3, -1,  1,  0,  3,  3,  4,  5,  6, -1,  0,  2,\n",
       "        3,  6,  5,  6,  1,  2,  2,  0,  5,  1,  2,  2,  2,  0,  1,  2,  2,\n",
       "        4,  0,  4,  3,  4,  2,  5, -1,  2,  3,  1,  0, -1,  4,  1,  0,  2,\n",
       "       -1,  0,  3,  0,  3,  0,  4,  2,  6,  5,  3,  2,  6,  5,  4,  5, -1,\n",
       "        3,  2,  0,  2,  0,  3,  3,  6,  0,  3,  2,  2,  1,  4,  3,  1,  5,\n",
       "       -1,  2,  2,  4,  6,  0,  4,  4,  2,  5,  3,  2,  3,  4,  2,  5,  6,\n",
       "        1,  0,  4,  3, -1,  2,  2,  1,  0, -1,  3,  5,  4,  2,  0,  2,  2,\n",
       "        5,  4,  0,  0,  2,  3,  3,  4,  4,  0,  2,  5,  3,  0, -1,  5,  4,\n",
       "       -1,  2,  2,  0,  2,  0, -1, -1,  2, -1, -1,  5,  3,  0,  3,  2,  2,\n",
       "        0,  2,  6,  4,  2,  2,  5,  3,  2,  6,  2,  1,  5,  3,  2,  1,  6,\n",
       "        2,  2,  2,  2,  5,  2,  2,  0, -1,  2,  0,  2,  5,  2, -1,  2,  2,\n",
       "        2,  3,  4,  0,  3,  1, -1,  2,  0,  2,  0, -1,  3,  5,  1,  2,  5,\n",
       "        0,  2,  2,  3,  2,  3,  6, -1,  4,  4,  2,  0,  0, -1,  2,  4,  0,\n",
       "        4,  1,  5,  2, -1, -1,  0,  2,  6,  5,  3,  2,  2,  2,  0,  1,  6,\n",
       "        4,  5,  3,  2,  0,  5, -1,  5,  0,  4,  4,  1,  3,  5,  5,  6,  4,\n",
       "        1,  2,  2,  2,  2,  2,  3,  0,  1,  2,  2,  2,  2,  5,  0,  2,  2,\n",
       "        2,  2,  0,  2,  2,  1,  2,  0,  4,  2,  6,  6,  3,  0,  4,  2, -1,\n",
       "        0,  1,  2,  2,  5,  2,  0,  4,  0,  1,  2,  0,  1, -1, -1,  0,  0,\n",
       "        4,  1,  1,  5,  2,  2,  6,  4, -1,  0,  2,  2,  2,  0,  2,  2,  0,\n",
       "        2,  0,  2,  0,  2,  3,  4,  0,  5,  0,  3,  0,  5,  0,  2,  2,  2,\n",
       "        2,  2,  3,  0,  4,  2,  0,  0,  6,  0,  2,  5,  1,  2,  1,  2,  2,\n",
       "        5, -1,  2,  0,  2,  0,  2,  0,  2,  0,  3, -1,  2,  0,  1,  0,  3,\n",
       "        3,  2,  2,  5,  5,  3,  2,  5,  6, -1,  1,  4,  1,  0,  1,  0,  6,\n",
       "        3,  3,  6,  0,  3,  2,  0,  2, -1,  3,  2,  3,  5,  3,  6,  1,  5,\n",
       "        2,  5,  2,  3,  2,  4,  2,  2,  2,  4,  0,  4,  2,  6,  6,  2, -1,\n",
       "        2,  4,  5,  5,  0,  2,  1,  0,  6,  2,  2,  3,  0,  1, -1,  2,  2,\n",
       "        0,  3,  5,  3,  2,  0,  1,  6,  1, -1,  4,  2,  0,  4,  2,  4,  3,\n",
       "        4, -1,  1,  4,  5,  2,  2,  0,  2,  6,  2,  0,  2,  4,  0,  2,  0,\n",
       "        0,  5,  2, -1,  6, -1,  0,  3,  6,  0,  2,  2,  4,  3,  4,  6,  5,\n",
       "        4,  2,  5,  1, -1,  1,  6,  4,  2,  4,  0,  5,  0,  2,  3,  1,  3,\n",
       "        6,  4,  5, -1,  3, -1,  3,  2,  3,  3,  4,  2,  6,  3],\n",
       "      dtype=int64)"
      ]
     },
     "metadata": {},
     "execution_count": 14
    }
   ],
   "source": [
    "X, y = make_moons(n_samples=1000, noise=0.05, random_state=42)\n",
    "dbscan = DBSCAN(eps=0.05, min_samples=5)\n",
    "dbscan.fit(X)\n",
    "\n",
    "dbscan.labels_"
   ]
  },
  {
   "source": [
    "Instances that have an index of -1 are considered anomalies."
   ],
   "cell_type": "markdown",
   "metadata": {}
  },
  {
   "cell_type": "code",
   "execution_count": 15,
   "metadata": {},
   "outputs": [
    {
     "output_type": "execute_result",
     "data": {
      "text/plain": [
       "808"
      ]
     },
     "metadata": {},
     "execution_count": 15
    }
   ],
   "source": [
    "len(dbscan.core_sample_indices_)"
   ]
  },
  {
   "cell_type": "code",
   "execution_count": 16,
   "metadata": {},
   "outputs": [
    {
     "output_type": "execute_result",
     "data": {
      "text/plain": [
       "array([  0,   4,   5,   6,   7,   8,  10,  11,  12,  13,  14,  16,  17,\n",
       "        18,  19,  20,  21,  22,  23,  24,  25,  26,  28,  29,  30,  31,\n",
       "        32,  33,  34,  36,  38,  39,  41,  42,  44,  45,  47,  49,  50,\n",
       "        51,  52,  53,  54,  55,  56,  58,  59,  61,  63,  64,  65,  66,\n",
       "        67,  68,  69,  70,  71,  72,  73,  74,  75,  76,  77,  78,  79,\n",
       "        80,  81,  83,  84,  85,  87,  88,  89,  90,  91,  93,  94,  96,\n",
       "        97,  98, 102, 103, 104, 105, 106, 107, 108, 109, 110, 113, 114,\n",
       "       115, 116, 117, 119, 120, 122, 123, 124, 125, 126, 127, 128, 129,\n",
       "       130, 135, 136, 139, 140, 141, 143, 144, 145, 146, 147, 148, 149,\n",
       "       150, 152, 153, 154, 155, 156, 157, 158, 159, 161, 162, 163, 164,\n",
       "       165, 166, 167, 168, 169, 170, 172, 173, 174, 175, 176, 177, 178,\n",
       "       179, 181, 182, 183, 185, 186, 187, 188, 189, 191, 193, 194, 195,\n",
       "       196, 198, 199, 200, 201, 202, 203, 204, 205, 206, 207, 209, 210,\n",
       "       211, 212, 213, 214, 215, 216, 217, 218, 219, 221, 222, 223, 224,\n",
       "       226, 228, 229, 230, 232, 233, 234, 235, 236, 238, 239, 240, 241,\n",
       "       242, 243, 245, 246, 247, 248, 249, 250, 251, 252, 253, 255, 256,\n",
       "       257, 260, 261, 262, 263, 264, 265, 266, 267, 268, 269, 270, 271,\n",
       "       272, 273, 274, 276, 277, 278, 279, 280, 281, 282, 283, 284, 285,\n",
       "       287, 288, 289, 290, 291, 293, 294, 295, 296, 297, 300, 301, 303,\n",
       "       304, 305, 308, 309, 310, 311, 313, 315, 317, 318, 319, 320, 321,\n",
       "       322, 323, 324, 327, 328, 329, 330, 332, 333, 335, 339, 340, 341,\n",
       "       342, 343, 346, 347, 348, 349, 351, 352, 353, 354, 355, 356, 358,\n",
       "       360, 361, 362, 363, 364, 365, 366, 367, 368, 370, 371, 372, 373,\n",
       "       374, 375, 377, 378, 379, 380, 381, 382, 384, 385, 387, 388, 389,\n",
       "       390, 391, 392, 393, 394, 395, 397, 398, 399, 400, 401, 402, 403,\n",
       "       404, 405, 406, 409, 411, 412, 413, 414, 415, 416, 417, 418, 419,\n",
       "       420, 421, 422, 423, 424, 425, 426, 427, 428, 429, 430, 431, 432,\n",
       "       433, 435, 436, 437, 438, 440, 441, 442, 443, 444, 445, 446, 447,\n",
       "       448, 449, 450, 451, 452, 453, 454, 456, 457, 458, 459, 461, 462,\n",
       "       463, 464, 467, 468, 469, 471, 472, 473, 474, 475, 476, 477, 478,\n",
       "       479, 480, 483, 484, 485, 486, 487, 488, 489, 491, 492, 493, 495,\n",
       "       496, 497, 498, 499, 501, 502, 503, 504, 505, 506, 507, 508, 509,\n",
       "       510, 511, 512, 513, 514, 515, 516, 518, 519, 520, 521, 523, 524,\n",
       "       525, 526, 528, 529, 530, 531, 532, 533, 535, 536, 537, 538, 539,\n",
       "       540, 541, 542, 544, 545, 546, 547, 548, 549, 550, 551, 552, 553,\n",
       "       554, 555, 556, 557, 559, 560, 562, 563, 564, 565, 566, 568, 569,\n",
       "       570, 572, 573, 574, 575, 576, 578, 579, 580, 583, 584, 585, 586,\n",
       "       588, 589, 590, 591, 592, 593, 594, 595, 596, 597, 599, 600, 601,\n",
       "       602, 603, 604, 605, 607, 610, 611, 614, 615, 616, 617, 620, 624,\n",
       "       625, 627, 628, 629, 631, 633, 634, 635, 636, 637, 638, 639, 640,\n",
       "       641, 642, 643, 644, 645, 646, 647, 648, 649, 650, 652, 655, 656,\n",
       "       657, 661, 662, 663, 664, 666, 667, 670, 671, 672, 673, 675, 676,\n",
       "       677, 678, 679, 680, 681, 682, 684, 685, 686, 688, 689, 690, 691,\n",
       "       692, 694, 695, 696, 697, 698, 703, 704, 705, 706, 708, 709, 710,\n",
       "       711, 712, 713, 714, 716, 717, 718, 719, 721, 722, 723, 724, 726,\n",
       "       729, 730, 731, 733, 735, 736, 737, 738, 739, 740, 741, 742, 743,\n",
       "       744, 745, 746, 748, 749, 750, 751, 752, 753, 754, 756, 757, 758,\n",
       "       759, 760, 761, 762, 763, 765, 766, 768, 770, 772, 773, 774, 775,\n",
       "       776, 777, 780, 781, 782, 783, 784, 785, 786, 787, 788, 789, 791,\n",
       "       792, 793, 794, 795, 796, 797, 798, 799, 800, 802, 803, 804, 805,\n",
       "       806, 807, 808, 809, 810, 811, 812, 813, 814, 815, 816, 817, 818,\n",
       "       819, 820, 821, 822, 824, 825, 826, 827, 828, 829, 830, 831, 832,\n",
       "       835, 836, 837, 838, 839, 840, 841, 842, 843, 845, 846, 848, 849,\n",
       "       850, 851, 852, 853, 854, 855, 857, 858, 860, 861, 862, 863, 864,\n",
       "       865, 867, 868, 870, 871, 873, 877, 878, 879, 880, 882, 883, 884,\n",
       "       885, 886, 887, 888, 889, 890, 891, 892, 893, 894, 895, 896, 897,\n",
       "       898, 899, 902, 903, 904, 905, 906, 907, 908, 910, 912, 913, 916,\n",
       "       918, 919, 920, 921, 922, 923, 925, 926, 928, 929, 930, 931, 932,\n",
       "       933, 934, 935, 937, 938, 939, 940, 941, 942, 943, 944, 945, 947,\n",
       "       948, 949, 951, 952, 953, 954, 956, 958, 959, 960, 961, 962, 963,\n",
       "       964, 965, 966, 967, 968, 969, 970, 972, 974, 975, 976, 978, 979,\n",
       "       980, 982, 983, 984, 985, 986, 987, 988, 990, 992, 993, 995, 997,\n",
       "       998, 999], dtype=int64)"
      ]
     },
     "metadata": {},
     "execution_count": 16
    }
   ],
   "source": [
    "dbscan.core_sample_indices_"
   ]
  },
  {
   "cell_type": "code",
   "execution_count": 17,
   "metadata": {},
   "outputs": [
    {
     "output_type": "execute_result",
     "data": {
      "text/plain": [
       "array([[-0.02137124,  0.40618608],\n",
       "       [-0.84192557,  0.53058695],\n",
       "       [ 0.58930337, -0.32137599],\n",
       "       ...,\n",
       "       [ 1.66258462, -0.3079193 ],\n",
       "       [-0.94355873,  0.3278936 ],\n",
       "       [ 0.79419406,  0.60777171]])"
      ]
     },
     "metadata": {},
     "execution_count": 17
    }
   ],
   "source": [
    "dbscan.components_"
   ]
  },
  {
   "source": [
    "DBSCAN cannot predict which cluster a new instance belongs to. Instead it's better off using a different algorithm."
   ],
   "cell_type": "markdown",
   "metadata": {}
  },
  {
   "cell_type": "code",
   "execution_count": 12,
   "metadata": {},
   "outputs": [],
   "source": [
    "from sklearn.neighbors import KNeighborsClassifier"
   ]
  },
  {
   "cell_type": "code",
   "execution_count": 19,
   "metadata": {},
   "outputs": [
    {
     "output_type": "execute_result",
     "data": {
      "text/plain": [
       "array([6, 0, 3, 2], dtype=int64)"
      ]
     },
     "metadata": {},
     "execution_count": 19
    }
   ],
   "source": [
    "knn = KNeighborsClassifier(n_neighbors=50)\n",
    "knn.fit(dbscan.components_, dbscan.labels_[dbscan.core_sample_indices_])\n",
    "\n",
    "X_new = np.array([[-0.5, 0], [0, 0.5], [1, -0.1], [2, 1]])\n",
    "knn.predict(X_new)"
   ]
  },
  {
   "cell_type": "code",
   "execution_count": 20,
   "metadata": {},
   "outputs": [
    {
     "output_type": "execute_result",
     "data": {
      "text/plain": [
       "array([[0.24, 0.  , 0.  , 0.  , 0.  , 0.  , 0.76],\n",
       "       [1.  , 0.  , 0.  , 0.  , 0.  , 0.  , 0.  ],\n",
       "       [0.  , 0.  , 0.3 , 0.7 , 0.  , 0.  , 0.  ],\n",
       "       [0.  , 0.  , 1.  , 0.  , 0.  , 0.  , 0.  ]])"
      ]
     },
     "metadata": {},
     "execution_count": 20
    }
   ],
   "source": [
    "knn.predict_proba(X_new)"
   ]
  },
  {
   "source": [
    "There are no anomaly in the training set, so the classifier always chooses a cluster, even when the cluster is far away. To introduce a maximum distance, use `kneighbors()` of `KNeighborsClassifer`."
   ],
   "cell_type": "markdown",
   "metadata": {}
  },
  {
   "cell_type": "code",
   "execution_count": 21,
   "metadata": {},
   "outputs": [
    {
     "output_type": "execute_result",
     "data": {
      "text/plain": [
       "array([-1,  0,  3, -1], dtype=int64)"
      ]
     },
     "metadata": {},
     "execution_count": 21
    }
   ],
   "source": [
    "y_dist, y_pred_idx = knn.kneighbors(X_new, n_neighbors=1)\n",
    "y_pred = dbscan.labels_[dbscan.core_sample_indices_][y_pred_idx]\n",
    "y_pred[y_dist > 0.2] = -1\n",
    "y_pred.ravel()"
   ]
  },
  {
   "source": [
    "> Note: DBSCAN is simple yet powerful algorithm, but if the density varies significantly across the clusters, it can be impossible for it to capture all the clusters properly.\n",
    "\n",
    "Computational complexity is $ O(m\\log{m}) $ but Scikit-Learn can require up to $O(m^2)$ memory if `eps` is large."
   ],
   "cell_type": "markdown",
   "metadata": {}
  },
  {
   "source": [
    "### 9.1.7 Other Clustering Algorithms"
   ],
   "cell_type": "markdown",
   "metadata": {}
  },
  {
   "source": [
    "**Agglomerative clustering**:\n",
    "- A hierarchy of clusters is built from the bottom up.\n",
    "- Think of tiny bubbles gradually attaching to each other until there's one big group of bubbles.\n",
    "- Binary tree of clusters, where the leaves are individual instances.\n",
    "- Must provide connectivity matrix, a sparse $ m \\times n$ matrix that indicates which pairs of instances are neighbors.\n",
    "- Does not scale well with large datasets without connectivity matrix.\n",
    "\n",
    "**BIRCH**:\n",
    "- Balanced Iterative Reducing and Clustering using Hierarchies\n",
    "- Designed specifically for very large datasets.\n",
    "- Faster than batch K-Means if features < 20.\n",
    "- Builds a tree structure containing enough information to quickly assign each new instance to a cluster, without having to store all instances in the tree.\n",
    "\n",
    "**Mean-Shift**:\n",
    "- Places a circle centered on each instance.\n",
    "- For each circle, computes the mean of all instances located within it.\n",
    "- Shifts circle to be centered on the mean.\n",
    "- Iterate until circles stop moving.\n",
    "- All instances whose circles settled in same place are assigned to same cluster.\n",
    "- Computational complexity if $O(m^2)$.\n",
    "- Not suited for large datasets.\n",
    "\n",
    "**Affinity propagation**:\n",
    "- Voting system, where instances vote for similar instances to be their representatives.\n",
    "- Once it converges, each representative and its voters form a cluster.\n",
    "- Computational complexity if $O(m^2)$.\n",
    "- Not suited for large datasets.\n",
    "\n",
    "**Spectral clustering**:\n",
    "- Takes a similarity matrix between the instances and creates a lower-dimensional embedding from it (ie. reduces its dimensionality).\n",
    "- Then uses another clustering algorithm in the low-dimensional space (Scikit-Learn uses K-Means).\n",
    "- Does not scale well to large numbers of instances.\n",
    "- Does not behave well when clusters have very different sizes."
   ],
   "cell_type": "markdown",
   "metadata": {}
  },
  {
   "source": [
    "## 9.2 Gaussian Mixtures"
   ],
   "cell_type": "markdown",
   "metadata": {}
  },
  {
   "source": [
    "A **Gaussian mixture model (GMM)** is a probabilistic model that assumes that the instances were generated from a mixture of several Gaussian distributions whose parameters are unknown. All instances generated from a single Gaussian distribution form a cluster that looks like an ellipsoid.\n",
    "\n",
    "> Note: Read book on how to interpret Figure 9-16. A graphical representation of Gaussian mixture model.\n",
    "\n",
    "Given a dataset $\\mathbf{X}$, you typically want to start by estimating the weights $\\mathbf{\\Phi}$ and all the distribution parameters ($\\mathbf{\\mu}^{(1)} - \\mathbf{\\mu}^{(m)}$ and $\\mathbf{\\Sigma}^{(1)} - \\mathbf{\\Sigma}^{(m)}$)."
   ],
   "cell_type": "markdown",
   "metadata": {}
  },
  {
   "cell_type": "code",
   "execution_count": 4,
   "metadata": {},
   "outputs": [],
   "source": [
    "# FROM BOOK NOTEBOOK\n",
    "\n",
    "from sklearn.datasets import make_blobs\n",
    "\n",
    "X1, y1 = make_blobs(n_samples=1000, centers=((4, -4), (0, 0)), random_state=42)\n",
    "X1 = X1.dot(np.array([[0.374, 0.95], [0.732, 0.598]]))\n",
    "X2, y2 = make_blobs(n_samples=250, centers=1, random_state=42)\n",
    "X2 = X2 + [6, -8]\n",
    "X = np.r_[X1, X2]\n",
    "y = np.r_[y1, y2]"
   ]
  },
  {
   "cell_type": "code",
   "execution_count": 2,
   "metadata": {},
   "outputs": [],
   "source": [
    "from sklearn.mixture import GaussianMixture"
   ]
  },
  {
   "cell_type": "code",
   "execution_count": 7,
   "metadata": {},
   "outputs": [
    {
     "output_type": "execute_result",
     "data": {
      "text/plain": [
       "array([0.39025715, 0.40007391, 0.20966893])"
      ]
     },
     "metadata": {},
     "execution_count": 7
    }
   ],
   "source": [
    "gm = GaussianMixture(n_components=3, n_init=10, random_state=42)\n",
    "gm.fit(X)\n",
    "\n",
    "gm.weights_"
   ]
  },
  {
   "source": [
    "gm.means_"
   ],
   "cell_type": "code",
   "metadata": {},
   "execution_count": 8,
   "outputs": [
    {
     "output_type": "execute_result",
     "data": {
      "text/plain": [
       "array([[ 0.05131611,  0.07521837],\n",
       "       [-1.40763156,  1.42708225],\n",
       "       [ 3.39893794,  1.05928897]])"
      ]
     },
     "metadata": {},
     "execution_count": 8
    }
   ]
  },
  {
   "cell_type": "code",
   "execution_count": 9,
   "metadata": {},
   "outputs": [
    {
     "output_type": "execute_result",
     "data": {
      "text/plain": [
       "array([[[ 0.68799922,  0.79606357],\n",
       "        [ 0.79606357,  1.21236106]],\n",
       "\n",
       "       [[ 0.63479409,  0.72970799],\n",
       "        [ 0.72970799,  1.1610351 ]],\n",
       "\n",
       "       [[ 1.14833585, -0.03256179],\n",
       "        [-0.03256179,  0.95490931]]])"
      ]
     },
     "metadata": {},
     "execution_count": 9
    }
   ],
   "source": [
    "gm.covariances_"
   ]
  },
  {
   "source": [
    "The algorithm finds the means and covariance matrices by using **Expectation Maximization (EM)** algorithm. Like K-Means, it also initializes the cluster parameters randomly, then repeats two steps until convergence:\n",
    "\n",
    "1. **Expectation step** - Assigns instances to clusters.\n",
    "2. **Maximization step** - Updates the clusters.\n",
    "\n",
    "It is a more general form of K-Means as it finds cluster centers $\\mathbf{\\mu}^{(1)} - \\mathbf{\\mu}^{(m)}$, their size, shape, and orientation $\\mathbf{\\Sigma}^{(1)} - \\mathbf{\\Sigma}^{(m)}$, as well as relative weights $\\phi^{(1)} - \\phi^{(m)}$, but uses soft cluster assignments instead of hard.\n",
    "\n",
    "> Note: Just like K-Means, EM can end up converging to poor solutions, so it needs to be run several times and keeping only the best solution."
   ],
   "cell_type": "markdown",
   "metadata": {}
  },
  {
   "cell_type": "code",
   "execution_count": 10,
   "metadata": {},
   "outputs": [
    {
     "output_type": "execute_result",
     "data": {
      "text/plain": [
       "True"
      ]
     },
     "metadata": {},
     "execution_count": 10
    }
   ],
   "source": [
    "gm.converged_"
   ]
  },
  {
   "cell_type": "code",
   "execution_count": 11,
   "metadata": {},
   "outputs": [
    {
     "output_type": "execute_result",
     "data": {
      "text/plain": [
       "4"
      ]
     },
     "metadata": {},
     "execution_count": 11
    }
   ],
   "source": [
    "gm.n_iter_"
   ]
  },
  {
   "cell_type": "code",
   "execution_count": 12,
   "metadata": {},
   "outputs": [
    {
     "output_type": "execute_result",
     "data": {
      "text/plain": [
       "array([0, 0, 1, ..., 2, 2, 2], dtype=int64)"
      ]
     },
     "metadata": {},
     "execution_count": 12
    }
   ],
   "source": [
    "gm.predict(X)"
   ]
  },
  {
   "cell_type": "code",
   "execution_count": 13,
   "metadata": {},
   "outputs": [
    {
     "output_type": "execute_result",
     "data": {
      "text/plain": [
       "array([[9.76741808e-01, 6.78581203e-07, 2.32575136e-02],\n",
       "       [9.82832955e-01, 6.76173663e-04, 1.64908714e-02],\n",
       "       [7.46494398e-05, 9.99923327e-01, 2.02398402e-06],\n",
       "       ...,\n",
       "       [4.26050456e-07, 2.15512941e-26, 9.99999574e-01],\n",
       "       [5.04987704e-16, 1.48083217e-41, 1.00000000e+00],\n",
       "       [2.24602826e-15, 8.11457779e-41, 1.00000000e+00]])"
      ]
     },
     "metadata": {},
     "execution_count": 13
    }
   ],
   "source": [
    "gm.predict_proba(X)"
   ]
  },
  {
   "source": [
    "A Gaussian mixture model is a **generative model**, meaning you can sample new instances from it and are ordered by cluster index."
   ],
   "cell_type": "markdown",
   "metadata": {}
  },
  {
   "cell_type": "code",
   "execution_count": 14,
   "metadata": {},
   "outputs": [
    {
     "output_type": "execute_result",
     "data": {
      "text/plain": [
       "array([[-0.86944074, -0.32767626],\n",
       "       [ 0.29836051,  0.28297011],\n",
       "       [-2.8014927 , -0.09047309],\n",
       "       [ 3.98203732,  1.49951491],\n",
       "       [ 3.81677148,  0.53095244],\n",
       "       [ 2.84104923, -0.73858639]])"
      ]
     },
     "metadata": {},
     "execution_count": 14
    }
   ],
   "source": [
    "X_new, y_new = gm.sample(6)\n",
    "X_new"
   ]
  },
  {
   "cell_type": "code",
   "execution_count": 15,
   "metadata": {},
   "outputs": [
    {
     "output_type": "execute_result",
     "data": {
      "text/plain": [
       "array([0, 0, 1, 2, 2, 2])"
      ]
     },
     "metadata": {},
     "execution_count": 15
    }
   ],
   "source": [
    "y_new"
   ]
  },
  {
   "source": [
    "It can also estimate the density of the model at any given location with `score_samples()`, which estimates the log of the **probability density function (PDF)** at that location for each instance.  \n",
    "=> The greater the score, the higher the density."
   ],
   "cell_type": "markdown",
   "metadata": {}
  },
  {
   "source": [
    "gm.score_samples(X)"
   ],
   "cell_type": "code",
   "metadata": {},
   "execution_count": 16,
   "outputs": [
    {
     "output_type": "execute_result",
     "data": {
      "text/plain": [
       "array([-2.60768954, -3.57110232, -3.32987086, ..., -3.51347241,\n",
       "       -4.39798588, -3.80746532])"
      ]
     },
     "metadata": {},
     "execution_count": 16
    }
   ]
  },
  {
   "source": [
    "> Recall: PDFs are probability **densities**. They determine where the probabilities would fall (ie. if there's a high PDF value at x = 1, most of the \"die rolls\" will occur at x = 1). \n",
    "\n",
    "> Note: We don't know what the rolls are, just that they'll be rolled more often at x = 1. To determine the CDF, the actual probability of a random variable, integrate the PDF.\n",
    "\n",
    "When there are many dimensions, EM can struggle to converge to the optimal solution. You might need to limit the number of parameters it has to learn. You can limit the range of shapes and orientations that clusters can have by setting `covariance_type` to one of the following:\n",
    "- `\"spherical\"`: All clusters must be spherical but can have different diameters (ie. different variances).\n",
    "- `\"diag\"`: All clusters can take any ellipsoidal shape but axes must be parallel to coordinate axes (ie. covariance matrices must be diagonal).\n",
    "- `\"tied\"`: All clusters must have the same ellipsoidal shape, size, and orientation (ie. share the same covariance matrix).\n",
    "- `\"full\"`: Default. Any shape, size, and orientation (ie. unconstrained covariance matrix).\n",
    "\n",
    "Computational complexity:\n",
    "- $O(kmn)$ if \"spherical\" or \"diag\" and has a clustering structure\n",
    "- $O(kmn^2 + kn^3)$ if \"tied\" or \"full\". Does not scale well with large number of features"
   ],
   "cell_type": "markdown",
   "metadata": {}
  },
  {
   "source": [
    "### 9.2.1 Anomaly Detection Using Gaussian Mixtures"
   ],
   "cell_type": "markdown",
   "metadata": {}
  },
  {
   "source": [
    "**Anomaly detection** (outlier detection) is the task of detecting instances that deviate strongly from the norm.\n",
    "\n",
    "Suppose the ratio of defective products is 4%. You set the density threshold so that 4% below that threshold is flagged as anomaly.  \n",
    "\n",
    "If too many false positives (ie. good products flagged defective), lower the threshold. If too many false negatives (ie. defective products not flagged), increase the threshold."
   ],
   "cell_type": "markdown",
   "metadata": {}
  },
  {
   "cell_type": "code",
   "execution_count": 17,
   "metadata": {},
   "outputs": [],
   "source": [
    "densities = gm.score_samples(X)\n",
    "density_threshold = np.percentile(densities, 4)\n",
    "anomalies = X[densities < density_threshold]"
   ]
  },
  {
   "source": [
    "> Note: Gaussian mixture models try to fit all the data, including the outliers, so if you have too many of them, this will bias the model's view of \"normality,\" and some outliers may wrongly be considered as normal.\n",
    "\n",
    "> If this happens, run it once to remove the outliers and then run it again on the cleaned-up dataset."
   ],
   "cell_type": "markdown",
   "metadata": {}
  },
  {
   "source": [
    "### 9.2.2 Selecting the Number of Clusters"
   ],
   "cell_type": "markdown",
   "metadata": {}
  },
  {
   "source": [
    "### 9.2.3 Bayesian Gaussian Mixture Models"
   ],
   "cell_type": "markdown",
   "metadata": {}
  },
  {
   "source": [
    "### 9.2.4 Other Algorithms for Anomaly and Novelty Detection"
   ],
   "cell_type": "markdown",
   "metadata": {}
  }
 ]
}