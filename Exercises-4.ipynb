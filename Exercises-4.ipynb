{
 "metadata": {
  "language_info": {
   "codemirror_mode": {
    "name": "ipython",
    "version": 3
   },
   "file_extension": ".py",
   "mimetype": "text/x-python",
   "name": "python",
   "nbconvert_exporter": "python",
   "pygments_lexer": "ipython3",
   "version": "3.9.0-final"
  },
  "orig_nbformat": 2,
  "kernelspec": {
   "name": "python3",
   "display_name": "Python 3.9.0 64-bit ('venv')",
   "metadata": {
    "interpreter": {
     "hash": "54b71c1b326a101c02c54fb24502b2663857f505f7b72a06051ccceba068a4ff"
    }
   }
  }
 },
 "nbformat": 4,
 "nbformat_minor": 2,
 "cells": [
  {
   "source": [
    "# Chapter 4: Training Models Exercises"
   ],
   "cell_type": "markdown",
   "metadata": {}
  },
  {
   "source": [
    "## 1.\n",
    "\n",
    "> Which Linear Regression training algorithm can you use if you have a training set with millions of features?"
   ],
   "cell_type": "markdown",
   "metadata": {}
  },
  {
   "source": [
    "Use Gradient Descent algorithm for training sets with millions of features. It's slower for many training examples but still performs well on many features."
   ],
   "cell_type": "markdown",
   "metadata": {}
  },
  {
   "source": [
    "## 2.\n",
    "\n",
    "> Suppose the features in your training set have very different scales.\n",
    "\n",
    "> Which algorithms might suffer from this, and how?\n",
    "\n",
    "> What can you do about it?"
   ],
   "cell_type": "markdown",
   "metadata": {}
  },
  {
   "source": [
    "Gradient Descent algorithms may suffer from this by having to take many steps down a \"flat valley.\" Also any regularization algorithms such as Ridge Regression as they are sensitive to scale of input features.\n",
    "\n",
    "Make sure all features have a similar scale by using Scikit-Learn's `StandardScaler` so each feature has mean, $\\mu=0$ and variance, $\\sigma^2=1$."
   ],
   "cell_type": "markdown",
   "metadata": {}
  },
  {
   "source": [
    "## 3.\n",
    "\n",
    "> Can Gradient Descent get stuck in a local minimum when training a Logistic Regression model?"
   ],
   "cell_type": "markdown",
   "metadata": {}
  },
  {
   "source": [
    "## 4.\n",
    "\n",
    "> Do all Gradient Descent algorithms lead to the same model, provided you let them run long enough?"
   ],
   "cell_type": "markdown",
   "metadata": {}
  },
  {
   "source": [
    "## 5.\n",
    "\n",
    "> Suppose you use Batch Gradient Descent and you plot the validation error at every epoch.\n",
    "\n",
    "> If you notice that the validation error consistently goes up, what is likely going on?\n",
    "\n",
    "> How can you fix this?"
   ],
   "cell_type": "markdown",
   "metadata": {}
  },
  {
   "source": [
    "## 6.\n",
    "\n",
    "> Is it a good idea to stop Mini-batch Gradient Descent immediately when the validation error goes up?"
   ],
   "cell_type": "markdown",
   "metadata": {}
  },
  {
   "source": [
    "## 7.\n",
    "\n",
    "> Which Gradient Descent algorithm (among those we discussed) will reach the vicinity of the optimal solution the fastest?  \n",
    "\n",
    "> Which will actually converge?  \n",
    "\n",
    "> How can you make the others converge as well?"
   ],
   "cell_type": "markdown",
   "metadata": {}
  },
  {
   "source": [
    "## 8.\n",
    "\n",
    "> Suppose you are using Polynomial Regression. You plot the learning curves and you notice that there is a large gap between the training error and the validation error.  \n",
    "\n",
    ">What is happening?  \n",
    "\n",
    ">What are three ways to solve this?"
   ],
   "cell_type": "markdown",
   "metadata": {}
  },
  {
   "source": [
    "## 9.\n",
    "\n",
    "> Suppose you are using Ridge Regression and you notice that the training error and the validation error are almost equal and fairly high.  \n",
    "\n",
    "> Would you say that the model suffers from high bias or high variance?  \n",
    "\n",
    "> Should you increase the regularization hyperparameter $\\alpha$ or reduce it?"
   ],
   "cell_type": "markdown",
   "metadata": {}
  },
  {
   "source": [
    "## 10.\n",
    "\n",
    "> Why would you want to use:\n",
    "\n",
    ">> a. Ridge Regression instead of plain Linear Regression (ie, without any regularization?)  \n",
    ">>\n",
    ">> b. Lasso instead of Ridge Regression?  \n",
    ">>\n",
    ">> c. Elastic Net instead of Lasso?"
   ],
   "cell_type": "markdown",
   "metadata": {}
  },
  {
   "source": [
    "## 11.\n",
    "\n",
    "> Suppose you want to classify pictures as outdoor/indoor and daytime/nighttime.\n",
    "\n",
    "> Should you implement two Logistic Regression classifiers or one Softmax Regression classifier?"
   ],
   "cell_type": "markdown",
   "metadata": {}
  },
  {
   "source": [
    "## 12.\n",
    "\n",
    "> Implement Batch Gradient Descent with early stopping for Softmax Regression (without using Scikit-Learn)."
   ],
   "cell_type": "markdown",
   "metadata": {}
  }
 ]
}