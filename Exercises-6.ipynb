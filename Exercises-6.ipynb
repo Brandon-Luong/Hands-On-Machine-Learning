{
 "metadata": {
  "language_info": {
   "codemirror_mode": {
    "name": "ipython",
    "version": 3
   },
   "file_extension": ".py",
   "mimetype": "text/x-python",
   "name": "python",
   "nbconvert_exporter": "python",
   "pygments_lexer": "ipython3",
   "version": "3.9.0-final"
  },
  "orig_nbformat": 2,
  "kernelspec": {
   "name": "python3",
   "display_name": "Python 3.9.0 64-bit ('venv')",
   "metadata": {
    "interpreter": {
     "hash": "54b71c1b326a101c02c54fb24502b2663857f505f7b72a06051ccceba068a4ff"
    }
   }
  }
 },
 "nbformat": 4,
 "nbformat_minor": 2,
 "cells": [
  {
   "source": [
    "# Chapter 6: Decision Trees Exercises"
   ],
   "cell_type": "markdown",
   "metadata": {}
  },
  {
   "source": [
    "## 1.\n",
    "\n",
    "> What is the approximate depth of a Decision Tree trained (without restrictions) on a training set with one million instances?"
   ],
   "cell_type": "markdown",
   "metadata": {}
  },
  {
   "cell_type": "code",
   "execution_count": 4,
   "metadata": {},
   "outputs": [],
   "source": [
    "import numpy as np"
   ]
  },
  {
   "cell_type": "code",
   "execution_count": 5,
   "metadata": {},
   "outputs": [
    {
     "output_type": "execute_result",
     "data": {
      "text/plain": [
       "19.931568569324174"
      ]
     },
     "metadata": {},
     "execution_count": 5
    }
   ],
   "source": [
    "np.log2(10**6)"
   ]
  },
  {
   "source": [
    "Because a Decision Tree makes binary decisions (yes/no), the tree depth is $O(log_2(m))$.  \n",
    "With 1 million instances, $log_2(10^6) \\approx 20 $ levels."
   ],
   "cell_type": "markdown",
   "metadata": {}
  },
  {
   "source": [
    "## 2.\n",
    "\n",
    "> Is a node's Gini impurity generally lower or greater than its parents?\n",
    "\n",
    "> Is it **generally** lower/greater, or **always** lower/greater?"
   ],
   "cell_type": "markdown",
   "metadata": {}
  },
  {
   "source": [
    "Gini impurity is given by:\n",
    "\n",
    "$$ G_i = 1 - \\sum_{k=1}^{n}p_{i,k}^2 $$"
   ],
   "cell_type": "markdown",
   "metadata": {}
  },
  {
   "cell_type": "code",
   "execution_count": 12,
   "metadata": {},
   "outputs": [
    {
     "output_type": "stream",
     "name": "stdout",
     "text": [
      "depth-0 = 0.6666666666666667\ndepth-1 left = 0.0\ndepth-1 right = 0.5\ndepth-2 left = 0.16803840877914955\ndepth-2 right = 0.04253308128544431\n"
     ]
    }
   ],
   "source": [
    "print(\"depth-0 =\", 1 - ((50/150)**2 + (50/150)**2 + (50/150)**2)) # root\n",
    "print(\"depth-1 left =\", 1 - ((50/50)**2 + (0/50)**2 + (0/50)**2)) # pure\n",
    "print(\"depth-1 right =\", 1 - ((0/100)**2 + (50/100)**2 + (50/100)**2))\n",
    "print(\"depth-2 left =\", 1 - ((0/54)**2 + (49/54)**2 + (5/54)**2))\n",
    "print(\"depth-2 right =\", 1 - ((0/46)**2 + (1/46)**2 + (45/46)**2))"
   ]
  },
  {
   "source": [
    "A node's Gini impurity is generally lower than its parents.  \n",
    "To be specific, it is **always** lower than its parents.\n",
    "\n",
    "This is because according to CART algorithm, it will continue splitting until it cannot find a split that will reduce impurity.  \n",
    "So every parent -> child node must be higher -> lower impurity."
   ],
   "cell_type": "markdown",
   "metadata": {}
  },
  {
   "source": [
    "## 3.\n",
    "\n",
    "> If a Decision Tree is overfitting the training set, is it a good idea to try decreasing `max_depth`?"
   ],
   "cell_type": "markdown",
   "metadata": {}
  },
  {
   "source": [
    "If a Decision Tree is overfitting the training set, it is a good idea to try decreasing `max_depth` in order to regularize and restrict its degrees of freedom."
   ],
   "cell_type": "markdown",
   "metadata": {}
  },
  {
   "source": [
    "## 4.\n",
    "\n",
    "> If a Decision Tree is underfitting the training set, is it a good idea to try scaling the input features?"
   ],
   "cell_type": "markdown",
   "metadata": {}
  },
  {
   "source": [
    "If a Decision Tree is underfitting the training set, it is **not** a good idea to try scaling the input features because Decision Trees do not require any feature scaling at all.\n",
    "\n",
    "Instead, it is a better idea to increase the tree's degrees of freedom such as increasing `max_depth` and other `max_*` hyperparameters, or decreasing other `min_*` hyperparameters."
   ],
   "cell_type": "markdown",
   "metadata": {}
  },
  {
   "source": [
    "## 5.\n",
    "\n",
    "> If it takes one hour to train a Decision Tree on a training set containing 1 million instances, roughly how much time will it take to train another Decision Tree on a training set containing 10 million instances?"
   ],
   "cell_type": "markdown",
   "metadata": {}
  },
  {
   "source": [
    "Training complexity is \n",
    "\n",
    "$$ O(n \\times m log_2(m)) $$"
   ],
   "cell_type": "markdown",
   "metadata": {}
  },
  {
   "cell_type": "code",
   "execution_count": 18,
   "metadata": {},
   "outputs": [
    {
     "output_type": "execute_result",
     "data": {
      "text/plain": [
       "11.666666666666666"
      ]
     },
     "metadata": {},
     "execution_count": 18
    }
   ],
   "source": [
    "(10**7 * np.log2(10**7)) / (10**6 * np.log2(10**6))"
   ]
  },
  {
   "source": [
    "If it takes 1 hour to train a Decision Tree with 1 million instances,  \n",
    "it will take **11 hours, 40 minutes** to train a Decision Tree with 10 million instances."
   ],
   "cell_type": "markdown",
   "metadata": {}
  },
  {
   "source": [
    "## 6.\n",
    "\n",
    "> If your training set contains 100,000 instances, will setting `presort=True` speed up training?"
   ],
   "cell_type": "markdown",
   "metadata": {}
  },
  {
   "source": [
    "If the training set contains 100,000 instances, setting `presort=True` does not speed up training and can actually slow down training.\n",
    "\n",
    "It is only useful for training sets with less than a few thousand instances."
   ],
   "cell_type": "markdown",
   "metadata": {}
  },
  {
   "source": [
    "## 7.\n",
    "\n",
    "> Train and fine-tune a Decision Tree for the moons dataset by following these steps:\n",
    "\n",
    ">> a. Use `make_moons(n_samples=10000, noise=0.4)` to generate a moons dataset.\n",
    ">>\n",
    ">> b. Use `train_test_split()` to split the dataset into a training set and a test set.\n",
    ">>\n",
    ">> c. Use grid search with cross-validation (with the help of the `GridSearchCV` class) to find good hyperparmeter values for a `DecisionTreeClassifier`.\n",
    ">>> Hint: try various values for `max_leaf_nodes`.\n",
    ">>\n",
    ">> d. Train it on the full training set using these hyperparmeters, and measure your model's performance on the test set.  \n",
    "You should get roughly 85% to 87% accuracy. "
   ],
   "cell_type": "markdown",
   "metadata": {}
  },
  {
   "source": [
    "## 8.\n",
    "\n",
    "> Grow a forest by following these steps:\n",
    "\n",
    ">> a. Continuing the previous exercise, generate 1,000 subsets of the training set, each containing 100 instances selected randomly.\n",
    ">>> Hint: you can use Scikit-Learn's `ShuffleSplit` class for this.\n",
    ">>\n",
    ">> b. Train one Decision Tree on each subset, using the best hyperparameter values found in the previous exercise.  \n",
    "Evaluate these 1,000 Decision Trees on the test set.  \n",
    "Since they were trained on smaller sets, these Decision Trees will likely perform worse than the first Decision Tree, achieving only about 80% accuracy.\n",
    ">>\n",
    ">> c. Now comes the magic. For each test set instance, generate the predictions of the 1,000 Decision Trees, and keep only the most frequent prediction (you can use SciPy's `mode()` function for this).  \n",
    "This approach gives you *majority-vote predictions* over the test set.\n",
    ">>\n",
    ">> d. Evaluate these predictions on the test set: you should obtain a slightly higher accuracy than your first model (about 0.5 to 1.5% higher).  \n",
    "Congratulations, you have trained a Random Forest classifer!"
   ],
   "cell_type": "markdown",
   "metadata": {}
  }
 ]
}