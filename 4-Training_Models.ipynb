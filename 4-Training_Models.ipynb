{
 "metadata": {
  "language_info": {
   "codemirror_mode": {
    "name": "ipython",
    "version": 3
   },
   "file_extension": ".py",
   "mimetype": "text/x-python",
   "name": "python",
   "nbconvert_exporter": "python",
   "pygments_lexer": "ipython3",
   "version": "3.9.0-final"
  },
  "orig_nbformat": 2,
  "kernelspec": {
   "name": "python3",
   "display_name": "Python 3.9.0 64-bit ('venv')",
   "metadata": {
    "interpreter": {
     "hash": "54b71c1b326a101c02c54fb24502b2663857f505f7b72a06051ccceba068a4ff"
    }
   }
  }
 },
 "nbformat": 4,
 "nbformat_minor": 2,
 "cells": [
  {
   "source": [
    "# Chapter 4: Training Models"
   ],
   "cell_type": "markdown",
   "metadata": {}
  },
  {
   "cell_type": "code",
   "execution_count": 4,
   "metadata": {},
   "outputs": [],
   "source": [
    "import numpy as np\n",
    "import matplotlib.pyplot as plt\n",
    "np.random.seed(42)"
   ]
  },
  {
   "source": [
    "## 4.1 Linear Regression"
   ],
   "cell_type": "markdown",
   "metadata": {}
  },
  {
   "source": [
    "*Equation 4-1. Linear Regression model prediction*\n",
    "\n",
    "$$ \\hat{y} = \\theta_0 + \\theta_1x_1 + \\theta_2x_2 + ... + \\theta_nx_n$$  \n",
    "\n",
    "where:\n",
    "- $\\hat{y}$ is the predicted value\n",
    "- $n$ is the number of features\n",
    "- $x_i$ is the ith feature value.\n",
    "- $\\theta_j$ is the jth model parameter (including the bias term $\\theta_0$ and the feature weights)\n",
    "\n",
    "*Equation 4-2. Linear Regression model prediction (vectorized form)*\n",
    "\n",
    "$$ \\hat{y} = h_\\theta(x) = \\vec{\\theta} \\cdot \\vec{x} $$\n",
    "\n",
    "where:\n",
    "- $\\vec{\\theta}$ is the model's parameter vector\n",
    "- $\\vec{x}$ is the instance's feature vector, with $x_0$ always equal to 1\n",
    "- $h_\\theta$ is the hypothesis function\n",
    "\n",
    "> Note: Vectors are often represented as *column vectors* so prediction is $\\hat{y} = \\theta^T x$, (matrix multiplication).  \n",
    "\n",
    "To measure how well (or poorly) the model fits to the training data, find the value of $\\theta$ that minimizes the Root Mean Square Error (RMSE) / Mean Squared Error (MSE) - value that minimizes the function also minimizes the square root.\n",
    "\n",
    "*Equation 4-3. MSE cost function function for a Linear Regression model*\n",
    "\n",
    "$$ MSE(X, h_\\theta) = \\frac{1}{m} \\sum_{i=1}^{m} (\\theta^T x^{(i)} - y^{(i)})^2$$"
   ],
   "cell_type": "markdown",
   "metadata": {}
  },
  {
   "source": [
    "### 4.1.1 The Normal Equation"
   ],
   "cell_type": "markdown",
   "metadata": {}
  },
  {
   "source": [
    "The `Normal Equation` is a closed-form solution that minimizes the cost function and finds the value of $\\theta$.\n",
    "\n",
    "*Equation 4-4. Normal Equation*\n",
    "\n",
    "$$ \\hat{\\theta} = (X^T X)^{-1} X^T \\vec{y}$$\n",
    "\n",
    "where:\n",
    "- $\\hat{\\theta}$ is the value of $\\theta$ that minimizes the cost function.\n",
    "- $\\vec{y}$ is the vector of target values containing $y^{(1)}$ to $y^{(m)}$."
   ],
   "cell_type": "markdown",
   "metadata": {}
  },
  {
   "source": [
    "Let's generate some linear-looking data to test this equation."
   ],
   "cell_type": "markdown",
   "metadata": {}
  },
  {
   "cell_type": "code",
   "execution_count": 5,
   "metadata": {},
   "outputs": [],
   "source": [
    "import numpy as np"
   ]
  },
  {
   "cell_type": "code",
   "execution_count": 6,
   "metadata": {},
   "outputs": [
    {
     "output_type": "display_data",
     "data": {
      "text/plain": "<Figure size 432x288 with 1 Axes>",
      "image/svg+xml": "<?xml version=\"1.0\" encoding=\"utf-8\" standalone=\"no\"?>\r\n<!DOCTYPE svg PUBLIC \"-//W3C//DTD SVG 1.1//EN\"\r\n  \"http://www.w3.org/Graphics/SVG/1.1/DTD/svg11.dtd\">\r\n<!-- Created with matplotlib (https://matplotlib.org/) -->\r\n<svg height=\"248.518125pt\" version=\"1.1\" viewBox=\"0 0 368.925 248.518125\" width=\"368.925pt\" xmlns=\"http://www.w3.org/2000/svg\" xmlns:xlink=\"http://www.w3.org/1999/xlink\">\r\n <metadata>\r\n  <rdf:RDF xmlns:cc=\"http://creativecommons.org/ns#\" xmlns:dc=\"http://purl.org/dc/elements/1.1/\" xmlns:rdf=\"http://www.w3.org/1999/02/22-rdf-syntax-ns#\">\r\n   <cc:Work>\r\n    <dc:type rdf:resource=\"http://purl.org/dc/dcmitype/StillImage\"/>\r\n    <dc:date>2021-01-13T15:41:09.484278</dc:date>\r\n    <dc:format>image/svg+xml</dc:format>\r\n    <dc:creator>\r\n     <cc:Agent>\r\n      <dc:title>Matplotlib v3.3.3, https://matplotlib.org/</dc:title>\r\n     </cc:Agent>\r\n    </dc:creator>\r\n   </cc:Work>\r\n  </rdf:RDF>\r\n </metadata>\r\n <defs>\r\n  <style type=\"text/css\">*{stroke-linecap:butt;stroke-linejoin:round;}</style>\r\n </defs>\r\n <g id=\"figure_1\">\r\n  <g id=\"patch_1\">\r\n   <path d=\"M -0 248.518125 \r\nL 368.925 248.518125 \r\nL 368.925 0 \r\nL -0 0 \r\nz\r\n\" style=\"fill:none;\"/>\r\n  </g>\r\n  <g id=\"axes_1\">\r\n   <g id=\"patch_2\">\r\n    <path d=\"M 26.925 224.64 \r\nL 361.725 224.64 \r\nL 361.725 7.2 \r\nL 26.925 7.2 \r\nz\r\n\" style=\"fill:#ffffff;\"/>\r\n   </g>\r\n   <g id=\"matplotlib.axis_1\">\r\n    <g id=\"xtick_1\">\r\n     <g id=\"line2d_1\">\r\n      <defs>\r\n       <path d=\"M 0 0 \r\nL 0 3.5 \r\n\" id=\"m97a7d3d66c\" style=\"stroke:#000000;stroke-width:0.8;\"/>\r\n      </defs>\r\n      <g>\r\n       <use style=\"stroke:#000000;stroke-width:0.8;\" x=\"40.430535\" xlink:href=\"#m97a7d3d66c\" y=\"224.64\"/>\r\n      </g>\r\n     </g>\r\n     <g id=\"text_1\">\r\n      <!-- 0.00 -->\r\n      <g transform=\"translate(29.297722 239.238437)scale(0.1 -0.1)\">\r\n       <defs>\r\n        <path d=\"M 31.78125 66.40625 \r\nQ 24.171875 66.40625 20.328125 58.90625 \r\nQ 16.5 51.421875 16.5 36.375 \r\nQ 16.5 21.390625 20.328125 13.890625 \r\nQ 24.171875 6.390625 31.78125 6.390625 \r\nQ 39.453125 6.390625 43.28125 13.890625 \r\nQ 47.125 21.390625 47.125 36.375 \r\nQ 47.125 51.421875 43.28125 58.90625 \r\nQ 39.453125 66.40625 31.78125 66.40625 \r\nz\r\nM 31.78125 74.21875 \r\nQ 44.046875 74.21875 50.515625 64.515625 \r\nQ 56.984375 54.828125 56.984375 36.375 \r\nQ 56.984375 17.96875 50.515625 8.265625 \r\nQ 44.046875 -1.421875 31.78125 -1.421875 \r\nQ 19.53125 -1.421875 13.0625 8.265625 \r\nQ 6.59375 17.96875 6.59375 36.375 \r\nQ 6.59375 54.828125 13.0625 64.515625 \r\nQ 19.53125 74.21875 31.78125 74.21875 \r\nz\r\n\" id=\"DejaVuSans-48\"/>\r\n        <path d=\"M 10.6875 12.40625 \r\nL 21 12.40625 \r\nL 21 0 \r\nL 10.6875 0 \r\nz\r\n\" id=\"DejaVuSans-46\"/>\r\n       </defs>\r\n       <use xlink:href=\"#DejaVuSans-48\"/>\r\n       <use x=\"63.623047\" xlink:href=\"#DejaVuSans-46\"/>\r\n       <use x=\"95.410156\" xlink:href=\"#DejaVuSans-48\"/>\r\n       <use x=\"159.033203\" xlink:href=\"#DejaVuSans-48\"/>\r\n      </g>\r\n     </g>\r\n    </g>\r\n    <g id=\"xtick_2\">\r\n     <g id=\"line2d_2\">\r\n      <g>\r\n       <use style=\"stroke:#000000;stroke-width:0.8;\" x=\"79.198436\" xlink:href=\"#m97a7d3d66c\" y=\"224.64\"/>\r\n      </g>\r\n     </g>\r\n     <g id=\"text_2\">\r\n      <!-- 0.25 -->\r\n      <g transform=\"translate(68.065624 239.238437)scale(0.1 -0.1)\">\r\n       <defs>\r\n        <path d=\"M 19.1875 8.296875 \r\nL 53.609375 8.296875 \r\nL 53.609375 0 \r\nL 7.328125 0 \r\nL 7.328125 8.296875 \r\nQ 12.9375 14.109375 22.625 23.890625 \r\nQ 32.328125 33.6875 34.8125 36.53125 \r\nQ 39.546875 41.84375 41.421875 45.53125 \r\nQ 43.3125 49.21875 43.3125 52.78125 \r\nQ 43.3125 58.59375 39.234375 62.25 \r\nQ 35.15625 65.921875 28.609375 65.921875 \r\nQ 23.96875 65.921875 18.8125 64.3125 \r\nQ 13.671875 62.703125 7.8125 59.421875 \r\nL 7.8125 69.390625 \r\nQ 13.765625 71.78125 18.9375 73 \r\nQ 24.125 74.21875 28.421875 74.21875 \r\nQ 39.75 74.21875 46.484375 68.546875 \r\nQ 53.21875 62.890625 53.21875 53.421875 \r\nQ 53.21875 48.921875 51.53125 44.890625 \r\nQ 49.859375 40.875 45.40625 35.40625 \r\nQ 44.1875 33.984375 37.640625 27.21875 \r\nQ 31.109375 20.453125 19.1875 8.296875 \r\nz\r\n\" id=\"DejaVuSans-50\"/>\r\n        <path d=\"M 10.796875 72.90625 \r\nL 49.515625 72.90625 \r\nL 49.515625 64.59375 \r\nL 19.828125 64.59375 \r\nL 19.828125 46.734375 \r\nQ 21.96875 47.46875 24.109375 47.828125 \r\nQ 26.265625 48.1875 28.421875 48.1875 \r\nQ 40.625 48.1875 47.75 41.5 \r\nQ 54.890625 34.8125 54.890625 23.390625 \r\nQ 54.890625 11.625 47.5625 5.09375 \r\nQ 40.234375 -1.421875 26.90625 -1.421875 \r\nQ 22.3125 -1.421875 17.546875 -0.640625 \r\nQ 12.796875 0.140625 7.71875 1.703125 \r\nL 7.71875 11.625 \r\nQ 12.109375 9.234375 16.796875 8.0625 \r\nQ 21.484375 6.890625 26.703125 6.890625 \r\nQ 35.15625 6.890625 40.078125 11.328125 \r\nQ 45.015625 15.765625 45.015625 23.390625 \r\nQ 45.015625 31 40.078125 35.4375 \r\nQ 35.15625 39.890625 26.703125 39.890625 \r\nQ 22.75 39.890625 18.8125 39.015625 \r\nQ 14.890625 38.140625 10.796875 36.28125 \r\nz\r\n\" id=\"DejaVuSans-53\"/>\r\n       </defs>\r\n       <use xlink:href=\"#DejaVuSans-48\"/>\r\n       <use x=\"63.623047\" xlink:href=\"#DejaVuSans-46\"/>\r\n       <use x=\"95.410156\" xlink:href=\"#DejaVuSans-50\"/>\r\n       <use x=\"159.033203\" xlink:href=\"#DejaVuSans-53\"/>\r\n      </g>\r\n     </g>\r\n    </g>\r\n    <g id=\"xtick_3\">\r\n     <g id=\"line2d_3\">\r\n      <g>\r\n       <use style=\"stroke:#000000;stroke-width:0.8;\" x=\"117.966337\" xlink:href=\"#m97a7d3d66c\" y=\"224.64\"/>\r\n      </g>\r\n     </g>\r\n     <g id=\"text_3\">\r\n      <!-- 0.50 -->\r\n      <g transform=\"translate(106.833525 239.238437)scale(0.1 -0.1)\">\r\n       <use xlink:href=\"#DejaVuSans-48\"/>\r\n       <use x=\"63.623047\" xlink:href=\"#DejaVuSans-46\"/>\r\n       <use x=\"95.410156\" xlink:href=\"#DejaVuSans-53\"/>\r\n       <use x=\"159.033203\" xlink:href=\"#DejaVuSans-48\"/>\r\n      </g>\r\n     </g>\r\n    </g>\r\n    <g id=\"xtick_4\">\r\n     <g id=\"line2d_4\">\r\n      <g>\r\n       <use style=\"stroke:#000000;stroke-width:0.8;\" x=\"156.734239\" xlink:href=\"#m97a7d3d66c\" y=\"224.64\"/>\r\n      </g>\r\n     </g>\r\n     <g id=\"text_4\">\r\n      <!-- 0.75 -->\r\n      <g transform=\"translate(145.601426 239.238437)scale(0.1 -0.1)\">\r\n       <defs>\r\n        <path d=\"M 8.203125 72.90625 \r\nL 55.078125 72.90625 \r\nL 55.078125 68.703125 \r\nL 28.609375 0 \r\nL 18.3125 0 \r\nL 43.21875 64.59375 \r\nL 8.203125 64.59375 \r\nz\r\n\" id=\"DejaVuSans-55\"/>\r\n       </defs>\r\n       <use xlink:href=\"#DejaVuSans-48\"/>\r\n       <use x=\"63.623047\" xlink:href=\"#DejaVuSans-46\"/>\r\n       <use x=\"95.410156\" xlink:href=\"#DejaVuSans-55\"/>\r\n       <use x=\"159.033203\" xlink:href=\"#DejaVuSans-53\"/>\r\n      </g>\r\n     </g>\r\n    </g>\r\n    <g id=\"xtick_5\">\r\n     <g id=\"line2d_5\">\r\n      <g>\r\n       <use style=\"stroke:#000000;stroke-width:0.8;\" x=\"195.50214\" xlink:href=\"#m97a7d3d66c\" y=\"224.64\"/>\r\n      </g>\r\n     </g>\r\n     <g id=\"text_5\">\r\n      <!-- 1.00 -->\r\n      <g transform=\"translate(184.369328 239.238437)scale(0.1 -0.1)\">\r\n       <defs>\r\n        <path d=\"M 12.40625 8.296875 \r\nL 28.515625 8.296875 \r\nL 28.515625 63.921875 \r\nL 10.984375 60.40625 \r\nL 10.984375 69.390625 \r\nL 28.421875 72.90625 \r\nL 38.28125 72.90625 \r\nL 38.28125 8.296875 \r\nL 54.390625 8.296875 \r\nL 54.390625 0 \r\nL 12.40625 0 \r\nz\r\n\" id=\"DejaVuSans-49\"/>\r\n       </defs>\r\n       <use xlink:href=\"#DejaVuSans-49\"/>\r\n       <use x=\"63.623047\" xlink:href=\"#DejaVuSans-46\"/>\r\n       <use x=\"95.410156\" xlink:href=\"#DejaVuSans-48\"/>\r\n       <use x=\"159.033203\" xlink:href=\"#DejaVuSans-48\"/>\r\n      </g>\r\n     </g>\r\n    </g>\r\n    <g id=\"xtick_6\">\r\n     <g id=\"line2d_6\">\r\n      <g>\r\n       <use style=\"stroke:#000000;stroke-width:0.8;\" x=\"234.270042\" xlink:href=\"#m97a7d3d66c\" y=\"224.64\"/>\r\n      </g>\r\n     </g>\r\n     <g id=\"text_6\">\r\n      <!-- 1.25 -->\r\n      <g transform=\"translate(223.137229 239.238437)scale(0.1 -0.1)\">\r\n       <use xlink:href=\"#DejaVuSans-49\"/>\r\n       <use x=\"63.623047\" xlink:href=\"#DejaVuSans-46\"/>\r\n       <use x=\"95.410156\" xlink:href=\"#DejaVuSans-50\"/>\r\n       <use x=\"159.033203\" xlink:href=\"#DejaVuSans-53\"/>\r\n      </g>\r\n     </g>\r\n    </g>\r\n    <g id=\"xtick_7\">\r\n     <g id=\"line2d_7\">\r\n      <g>\r\n       <use style=\"stroke:#000000;stroke-width:0.8;\" x=\"273.037943\" xlink:href=\"#m97a7d3d66c\" y=\"224.64\"/>\r\n      </g>\r\n     </g>\r\n     <g id=\"text_7\">\r\n      <!-- 1.50 -->\r\n      <g transform=\"translate(261.90513 239.238437)scale(0.1 -0.1)\">\r\n       <use xlink:href=\"#DejaVuSans-49\"/>\r\n       <use x=\"63.623047\" xlink:href=\"#DejaVuSans-46\"/>\r\n       <use x=\"95.410156\" xlink:href=\"#DejaVuSans-53\"/>\r\n       <use x=\"159.033203\" xlink:href=\"#DejaVuSans-48\"/>\r\n      </g>\r\n     </g>\r\n    </g>\r\n    <g id=\"xtick_8\">\r\n     <g id=\"line2d_8\">\r\n      <g>\r\n       <use style=\"stroke:#000000;stroke-width:0.8;\" x=\"311.805844\" xlink:href=\"#m97a7d3d66c\" y=\"224.64\"/>\r\n      </g>\r\n     </g>\r\n     <g id=\"text_8\">\r\n      <!-- 1.75 -->\r\n      <g transform=\"translate(300.673032 239.238437)scale(0.1 -0.1)\">\r\n       <use xlink:href=\"#DejaVuSans-49\"/>\r\n       <use x=\"63.623047\" xlink:href=\"#DejaVuSans-46\"/>\r\n       <use x=\"95.410156\" xlink:href=\"#DejaVuSans-55\"/>\r\n       <use x=\"159.033203\" xlink:href=\"#DejaVuSans-53\"/>\r\n      </g>\r\n     </g>\r\n    </g>\r\n    <g id=\"xtick_9\">\r\n     <g id=\"line2d_9\">\r\n      <g>\r\n       <use style=\"stroke:#000000;stroke-width:0.8;\" x=\"350.573746\" xlink:href=\"#m97a7d3d66c\" y=\"224.64\"/>\r\n      </g>\r\n     </g>\r\n     <g id=\"text_9\">\r\n      <!-- 2.00 -->\r\n      <g transform=\"translate(339.440933 239.238437)scale(0.1 -0.1)\">\r\n       <use xlink:href=\"#DejaVuSans-50\"/>\r\n       <use x=\"63.623047\" xlink:href=\"#DejaVuSans-46\"/>\r\n       <use x=\"95.410156\" xlink:href=\"#DejaVuSans-48\"/>\r\n       <use x=\"159.033203\" xlink:href=\"#DejaVuSans-48\"/>\r\n      </g>\r\n     </g>\r\n    </g>\r\n   </g>\r\n   <g id=\"matplotlib.axis_2\">\r\n    <g id=\"ytick_1\">\r\n     <g id=\"line2d_10\">\r\n      <defs>\r\n       <path d=\"M 0 0 \r\nL -3.5 0 \r\n\" id=\"m4187383fb3\" style=\"stroke:#000000;stroke-width:0.8;\"/>\r\n      </defs>\r\n      <g>\r\n       <use style=\"stroke:#000000;stroke-width:0.8;\" x=\"26.925\" xlink:href=\"#m4187383fb3\" y=\"220.784596\"/>\r\n      </g>\r\n     </g>\r\n     <g id=\"text_10\">\r\n      <!-- 3 -->\r\n      <g transform=\"translate(13.5625 224.583815)scale(0.1 -0.1)\">\r\n       <defs>\r\n        <path d=\"M 40.578125 39.3125 \r\nQ 47.65625 37.796875 51.625 33 \r\nQ 55.609375 28.21875 55.609375 21.1875 \r\nQ 55.609375 10.40625 48.1875 4.484375 \r\nQ 40.765625 -1.421875 27.09375 -1.421875 \r\nQ 22.515625 -1.421875 17.65625 -0.515625 \r\nQ 12.796875 0.390625 7.625 2.203125 \r\nL 7.625 11.71875 \r\nQ 11.71875 9.328125 16.59375 8.109375 \r\nQ 21.484375 6.890625 26.8125 6.890625 \r\nQ 36.078125 6.890625 40.9375 10.546875 \r\nQ 45.796875 14.203125 45.796875 21.1875 \r\nQ 45.796875 27.640625 41.28125 31.265625 \r\nQ 36.765625 34.90625 28.71875 34.90625 \r\nL 20.21875 34.90625 \r\nL 20.21875 43.015625 \r\nL 29.109375 43.015625 \r\nQ 36.375 43.015625 40.234375 45.921875 \r\nQ 44.09375 48.828125 44.09375 54.296875 \r\nQ 44.09375 59.90625 40.109375 62.90625 \r\nQ 36.140625 65.921875 28.71875 65.921875 \r\nQ 24.65625 65.921875 20.015625 65.03125 \r\nQ 15.375 64.15625 9.8125 62.3125 \r\nL 9.8125 71.09375 \r\nQ 15.4375 72.65625 20.34375 73.4375 \r\nQ 25.25 74.21875 29.59375 74.21875 \r\nQ 40.828125 74.21875 47.359375 69.109375 \r\nQ 53.90625 64.015625 53.90625 55.328125 \r\nQ 53.90625 49.265625 50.4375 45.09375 \r\nQ 46.96875 40.921875 40.578125 39.3125 \r\nz\r\n\" id=\"DejaVuSans-51\"/>\r\n       </defs>\r\n       <use xlink:href=\"#DejaVuSans-51\"/>\r\n      </g>\r\n     </g>\r\n    </g>\r\n    <g id=\"ytick_2\">\r\n     <g id=\"line2d_11\">\r\n      <g>\r\n       <use style=\"stroke:#000000;stroke-width:0.8;\" x=\"26.925\" xlink:href=\"#m4187383fb3\" y=\"195.462498\"/>\r\n      </g>\r\n     </g>\r\n     <g id=\"text_11\">\r\n      <!-- 4 -->\r\n      <g transform=\"translate(13.5625 199.261717)scale(0.1 -0.1)\">\r\n       <defs>\r\n        <path d=\"M 37.796875 64.3125 \r\nL 12.890625 25.390625 \r\nL 37.796875 25.390625 \r\nz\r\nM 35.203125 72.90625 \r\nL 47.609375 72.90625 \r\nL 47.609375 25.390625 \r\nL 58.015625 25.390625 \r\nL 58.015625 17.1875 \r\nL 47.609375 17.1875 \r\nL 47.609375 0 \r\nL 37.796875 0 \r\nL 37.796875 17.1875 \r\nL 4.890625 17.1875 \r\nL 4.890625 26.703125 \r\nz\r\n\" id=\"DejaVuSans-52\"/>\r\n       </defs>\r\n       <use xlink:href=\"#DejaVuSans-52\"/>\r\n      </g>\r\n     </g>\r\n    </g>\r\n    <g id=\"ytick_3\">\r\n     <g id=\"line2d_12\">\r\n      <g>\r\n       <use style=\"stroke:#000000;stroke-width:0.8;\" x=\"26.925\" xlink:href=\"#m4187383fb3\" y=\"170.1404\"/>\r\n      </g>\r\n     </g>\r\n     <g id=\"text_12\">\r\n      <!-- 5 -->\r\n      <g transform=\"translate(13.5625 173.939619)scale(0.1 -0.1)\">\r\n       <use xlink:href=\"#DejaVuSans-53\"/>\r\n      </g>\r\n     </g>\r\n    </g>\r\n    <g id=\"ytick_4\">\r\n     <g id=\"line2d_13\">\r\n      <g>\r\n       <use style=\"stroke:#000000;stroke-width:0.8;\" x=\"26.925\" xlink:href=\"#m4187383fb3\" y=\"144.818302\"/>\r\n      </g>\r\n     </g>\r\n     <g id=\"text_13\">\r\n      <!-- 6 -->\r\n      <g transform=\"translate(13.5625 148.617521)scale(0.1 -0.1)\">\r\n       <defs>\r\n        <path d=\"M 33.015625 40.375 \r\nQ 26.375 40.375 22.484375 35.828125 \r\nQ 18.609375 31.296875 18.609375 23.390625 \r\nQ 18.609375 15.53125 22.484375 10.953125 \r\nQ 26.375 6.390625 33.015625 6.390625 \r\nQ 39.65625 6.390625 43.53125 10.953125 \r\nQ 47.40625 15.53125 47.40625 23.390625 \r\nQ 47.40625 31.296875 43.53125 35.828125 \r\nQ 39.65625 40.375 33.015625 40.375 \r\nz\r\nM 52.59375 71.296875 \r\nL 52.59375 62.3125 \r\nQ 48.875 64.0625 45.09375 64.984375 \r\nQ 41.3125 65.921875 37.59375 65.921875 \r\nQ 27.828125 65.921875 22.671875 59.328125 \r\nQ 17.53125 52.734375 16.796875 39.40625 \r\nQ 19.671875 43.65625 24.015625 45.921875 \r\nQ 28.375 48.1875 33.59375 48.1875 \r\nQ 44.578125 48.1875 50.953125 41.515625 \r\nQ 57.328125 34.859375 57.328125 23.390625 \r\nQ 57.328125 12.15625 50.6875 5.359375 \r\nQ 44.046875 -1.421875 33.015625 -1.421875 \r\nQ 20.359375 -1.421875 13.671875 8.265625 \r\nQ 6.984375 17.96875 6.984375 36.375 \r\nQ 6.984375 53.65625 15.1875 63.9375 \r\nQ 23.390625 74.21875 37.203125 74.21875 \r\nQ 40.921875 74.21875 44.703125 73.484375 \r\nQ 48.484375 72.75 52.59375 71.296875 \r\nz\r\n\" id=\"DejaVuSans-54\"/>\r\n       </defs>\r\n       <use xlink:href=\"#DejaVuSans-54\"/>\r\n      </g>\r\n     </g>\r\n    </g>\r\n    <g id=\"ytick_5\">\r\n     <g id=\"line2d_14\">\r\n      <g>\r\n       <use style=\"stroke:#000000;stroke-width:0.8;\" x=\"26.925\" xlink:href=\"#m4187383fb3\" y=\"119.496204\"/>\r\n      </g>\r\n     </g>\r\n     <g id=\"text_14\">\r\n      <!-- 7 -->\r\n      <g transform=\"translate(13.5625 123.295423)scale(0.1 -0.1)\">\r\n       <use xlink:href=\"#DejaVuSans-55\"/>\r\n      </g>\r\n     </g>\r\n    </g>\r\n    <g id=\"ytick_6\">\r\n     <g id=\"line2d_15\">\r\n      <g>\r\n       <use style=\"stroke:#000000;stroke-width:0.8;\" x=\"26.925\" xlink:href=\"#m4187383fb3\" y=\"94.174106\"/>\r\n      </g>\r\n     </g>\r\n     <g id=\"text_15\">\r\n      <!-- 8 -->\r\n      <g transform=\"translate(13.5625 97.973325)scale(0.1 -0.1)\">\r\n       <defs>\r\n        <path d=\"M 31.78125 34.625 \r\nQ 24.75 34.625 20.71875 30.859375 \r\nQ 16.703125 27.09375 16.703125 20.515625 \r\nQ 16.703125 13.921875 20.71875 10.15625 \r\nQ 24.75 6.390625 31.78125 6.390625 \r\nQ 38.8125 6.390625 42.859375 10.171875 \r\nQ 46.921875 13.96875 46.921875 20.515625 \r\nQ 46.921875 27.09375 42.890625 30.859375 \r\nQ 38.875 34.625 31.78125 34.625 \r\nz\r\nM 21.921875 38.8125 \r\nQ 15.578125 40.375 12.03125 44.71875 \r\nQ 8.5 49.078125 8.5 55.328125 \r\nQ 8.5 64.0625 14.71875 69.140625 \r\nQ 20.953125 74.21875 31.78125 74.21875 \r\nQ 42.671875 74.21875 48.875 69.140625 \r\nQ 55.078125 64.0625 55.078125 55.328125 \r\nQ 55.078125 49.078125 51.53125 44.71875 \r\nQ 48 40.375 41.703125 38.8125 \r\nQ 48.828125 37.15625 52.796875 32.3125 \r\nQ 56.78125 27.484375 56.78125 20.515625 \r\nQ 56.78125 9.90625 50.3125 4.234375 \r\nQ 43.84375 -1.421875 31.78125 -1.421875 \r\nQ 19.734375 -1.421875 13.25 4.234375 \r\nQ 6.78125 9.90625 6.78125 20.515625 \r\nQ 6.78125 27.484375 10.78125 32.3125 \r\nQ 14.796875 37.15625 21.921875 38.8125 \r\nz\r\nM 18.3125 54.390625 \r\nQ 18.3125 48.734375 21.84375 45.5625 \r\nQ 25.390625 42.390625 31.78125 42.390625 \r\nQ 38.140625 42.390625 41.71875 45.5625 \r\nQ 45.3125 48.734375 45.3125 54.390625 \r\nQ 45.3125 60.0625 41.71875 63.234375 \r\nQ 38.140625 66.40625 31.78125 66.40625 \r\nQ 25.390625 66.40625 21.84375 63.234375 \r\nQ 18.3125 60.0625 18.3125 54.390625 \r\nz\r\n\" id=\"DejaVuSans-56\"/>\r\n       </defs>\r\n       <use xlink:href=\"#DejaVuSans-56\"/>\r\n      </g>\r\n     </g>\r\n    </g>\r\n    <g id=\"ytick_7\">\r\n     <g id=\"line2d_16\">\r\n      <g>\r\n       <use style=\"stroke:#000000;stroke-width:0.8;\" x=\"26.925\" xlink:href=\"#m4187383fb3\" y=\"68.852008\"/>\r\n      </g>\r\n     </g>\r\n     <g id=\"text_16\">\r\n      <!-- 9 -->\r\n      <g transform=\"translate(13.5625 72.651227)scale(0.1 -0.1)\">\r\n       <defs>\r\n        <path d=\"M 10.984375 1.515625 \r\nL 10.984375 10.5 \r\nQ 14.703125 8.734375 18.5 7.8125 \r\nQ 22.3125 6.890625 25.984375 6.890625 \r\nQ 35.75 6.890625 40.890625 13.453125 \r\nQ 46.046875 20.015625 46.78125 33.40625 \r\nQ 43.953125 29.203125 39.59375 26.953125 \r\nQ 35.25 24.703125 29.984375 24.703125 \r\nQ 19.046875 24.703125 12.671875 31.3125 \r\nQ 6.296875 37.9375 6.296875 49.421875 \r\nQ 6.296875 60.640625 12.9375 67.421875 \r\nQ 19.578125 74.21875 30.609375 74.21875 \r\nQ 43.265625 74.21875 49.921875 64.515625 \r\nQ 56.59375 54.828125 56.59375 36.375 \r\nQ 56.59375 19.140625 48.40625 8.859375 \r\nQ 40.234375 -1.421875 26.421875 -1.421875 \r\nQ 22.703125 -1.421875 18.890625 -0.6875 \r\nQ 15.09375 0.046875 10.984375 1.515625 \r\nz\r\nM 30.609375 32.421875 \r\nQ 37.25 32.421875 41.125 36.953125 \r\nQ 45.015625 41.5 45.015625 49.421875 \r\nQ 45.015625 57.28125 41.125 61.84375 \r\nQ 37.25 66.40625 30.609375 66.40625 \r\nQ 23.96875 66.40625 20.09375 61.84375 \r\nQ 16.21875 57.28125 16.21875 49.421875 \r\nQ 16.21875 41.5 20.09375 36.953125 \r\nQ 23.96875 32.421875 30.609375 32.421875 \r\nz\r\n\" id=\"DejaVuSans-57\"/>\r\n       </defs>\r\n       <use xlink:href=\"#DejaVuSans-57\"/>\r\n      </g>\r\n     </g>\r\n    </g>\r\n    <g id=\"ytick_8\">\r\n     <g id=\"line2d_17\">\r\n      <g>\r\n       <use style=\"stroke:#000000;stroke-width:0.8;\" x=\"26.925\" xlink:href=\"#m4187383fb3\" y=\"43.52991\"/>\r\n      </g>\r\n     </g>\r\n     <g id=\"text_17\">\r\n      <!-- 10 -->\r\n      <g transform=\"translate(7.2 47.329129)scale(0.1 -0.1)\">\r\n       <use xlink:href=\"#DejaVuSans-49\"/>\r\n       <use x=\"63.623047\" xlink:href=\"#DejaVuSans-48\"/>\r\n      </g>\r\n     </g>\r\n    </g>\r\n    <g id=\"ytick_9\">\r\n     <g id=\"line2d_18\">\r\n      <g>\r\n       <use style=\"stroke:#000000;stroke-width:0.8;\" x=\"26.925\" xlink:href=\"#m4187383fb3\" y=\"18.207813\"/>\r\n      </g>\r\n     </g>\r\n     <g id=\"text_18\">\r\n      <!-- 11 -->\r\n      <g transform=\"translate(7.2 22.007031)scale(0.1 -0.1)\">\r\n       <use xlink:href=\"#DejaVuSans-49\"/>\r\n       <use x=\"63.623047\" xlink:href=\"#DejaVuSans-49\"/>\r\n      </g>\r\n     </g>\r\n    </g>\r\n   </g>\r\n   <g id=\"line2d_19\">\r\n    <defs>\r\n     <path d=\"M 0 1.5 \r\nC 0.397805 1.5 0.77937 1.341951 1.06066 1.06066 \r\nC 1.341951 0.77937 1.5 0.397805 1.5 0 \r\nC 1.5 -0.397805 1.341951 -0.77937 1.06066 -1.06066 \r\nC 0.77937 -1.341951 0.397805 -1.5 0 -1.5 \r\nC -0.397805 -1.5 -0.77937 -1.341951 -1.06066 -1.06066 \r\nC -1.341951 -0.77937 -1.5 -0.397805 -1.5 0 \r\nC -1.5 0.397805 -1.341951 0.77937 -1.06066 1.06066 \r\nC -0.77937 1.341951 -0.397805 1.5 0 1.5 \r\nz\r\n\" id=\"m207c844b13\" style=\"stroke:#0000ff;\"/>\r\n    </defs>\r\n    <g clip-path=\"url(#p6349715e5b)\">\r\n     <use style=\"fill:#0000ff;stroke:#0000ff;\" x=\"156.59161\" xlink:href=\"#m207c844b13\" y=\"136.353434\"/>\r\n     <use style=\"fill:#0000ff;stroke:#0000ff;\" x=\"335.288123\" xlink:href=\"#m207c844b13\" y=\"58.589507\"/>\r\n     <use style=\"fill:#0000ff;stroke:#0000ff;\" x=\"267.453486\" xlink:href=\"#m207c844b13\" y=\"81.925189\"/>\r\n     <use style=\"fill:#0000ff;stroke:#0000ff;\" x=\"226.100399\" xlink:href=\"#m207c844b13\" y=\"154.83618\"/>\r\n     <use style=\"fill:#0000ff;stroke:#0000ff;\" x=\"88.818657\" xlink:href=\"#m207c844b13\" y=\"177.320735\"/>\r\n     <use style=\"fill:#0000ff;stroke:#0000ff;\" x=\"88.811176\" xlink:href=\"#m207c844b13\" y=\"162.719007\"/>\r\n     <use style=\"fill:#0000ff;stroke:#0000ff;\" x=\"58.444773\" xlink:href=\"#m207c844b13\" y=\"149.214327\"/>\r\n     <use style=\"fill:#0000ff;stroke:#0000ff;\" x=\"309.069186\" xlink:href=\"#m207c844b13\" y=\"76.985804\"/>\r\n     <use style=\"fill:#0000ff;stroke:#0000ff;\" x=\"226.862275\" xlink:href=\"#m207c844b13\" y=\"124.606293\"/>\r\n     <use style=\"fill:#0000ff;stroke:#0000ff;\" x=\"260.034438\" xlink:href=\"#m207c844b13\" y=\"100.58874\"/>\r\n     <use style=\"fill:#0000ff;stroke:#0000ff;\" x=\"46.814676\" xlink:href=\"#m207c844b13\" y=\"169.15514\"/>\r\n     <use style=\"fill:#0000ff;stroke:#0000ff;\" x=\"341.241491\" xlink:href=\"#m207c844b13\" y=\"39.776917\"/>\r\n     <use style=\"fill:#0000ff;stroke:#0000ff;\" x=\"298.606968\" xlink:href=\"#m207c844b13\" y=\"82.401973\"/>\r\n     <use style=\"fill:#0000ff;stroke:#0000ff;\" x=\"106.286068\" xlink:href=\"#m207c844b13\" y=\"150.204259\"/>\r\n     <use style=\"fill:#0000ff;stroke:#0000ff;\" x=\"96.822314\" xlink:href=\"#m207c844b13\" y=\"165.379153\"/>\r\n     <use style=\"fill:#0000ff;stroke:#0000ff;\" x=\"97.312198\" xlink:href=\"#m207c844b13\" y=\"143.069253\"/>\r\n     <use style=\"fill:#0000ff;stroke:#0000ff;\" x=\"134.789201\" xlink:href=\"#m207c844b13\" y=\"167.015644\"/>\r\n     <use style=\"fill:#0000ff;stroke:#0000ff;\" x=\"203.180179\" xlink:href=\"#m207c844b13\" y=\"124.031988\"/>\r\n     <use style=\"fill:#0000ff;stroke:#0000ff;\" x=\"174.39535\" xlink:href=\"#m207c844b13\" y=\"139.764975\"/>\r\n     <use style=\"fill:#0000ff;stroke:#0000ff;\" x=\"130.753275\" xlink:href=\"#m207c844b13\" y=\"188.27457\"/>\r\n     <use style=\"fill:#0000ff;stroke:#0000ff;\" x=\"230.192556\" xlink:href=\"#m207c844b13\" y=\"95.003718\"/>\r\n     <use style=\"fill:#0000ff;stroke:#0000ff;\" x=\"83.693609\" xlink:href=\"#m207c844b13\" y=\"167.658368\"/>\r\n     <use style=\"fill:#0000ff;stroke:#0000ff;\" x=\"131.037214\" xlink:href=\"#m207c844b13\" y=\"150.946722\"/>\r\n     <use style=\"fill:#0000ff;stroke:#0000ff;\" x=\"154.055173\" xlink:href=\"#m207c844b13\" y=\"145.740433\"/>\r\n     <use style=\"fill:#0000ff;stroke:#0000ff;\" x=\"181.877544\" xlink:href=\"#m207c844b13\" y=\"162.010762\"/>\r\n     <use style=\"fill:#0000ff;stroke:#0000ff;\" x=\"283.947529\" xlink:href=\"#m207c844b13\" y=\"86.820305\"/>\r\n     <use style=\"fill:#0000ff;stroke:#0000ff;\" x=\"102.358003\" xlink:href=\"#m207c844b13\" y=\"173.803794\"/>\r\n     <use style=\"fill:#0000ff;stroke:#0000ff;\" x=\"199.916855\" xlink:href=\"#m207c844b13\" y=\"137.648873\"/>\r\n     <use style=\"fill:#0000ff;stroke:#0000ff;\" x=\"224.163891\" xlink:href=\"#m207c844b13\" y=\"109.539512\"/>\r\n     <use style=\"fill:#0000ff;stroke:#0000ff;\" x=\"54.836815\" xlink:href=\"#m207c844b13\" y=\"178.173751\"/>\r\n     <use style=\"fill:#0000ff;stroke:#0000ff;\" x=\"228.856446\" xlink:href=\"#m207c844b13\" y=\"55.394453\"/>\r\n     <use style=\"fill:#0000ff;stroke:#0000ff;\" x=\"93.317434\" xlink:href=\"#m207c844b13\" y=\"165.13365\"/>\r\n     <use style=\"fill:#0000ff;stroke:#0000ff;\" x=\"60.605845\" xlink:href=\"#m207c844b13\" y=\"179.057325\"/>\r\n     <use style=\"fill:#0000ff;stroke:#0000ff;\" x=\"334.720942\" xlink:href=\"#m207c844b13\" y=\"53.18099\"/>\r\n     <use style=\"fill:#0000ff;stroke:#0000ff;\" x=\"339.914754\" xlink:href=\"#m207c844b13\" y=\"97.338837\"/>\r\n     <use style=\"fill:#0000ff;stroke:#0000ff;\" x=\"291.149484\" xlink:href=\"#m207c844b13\" y=\"73.311984\"/>\r\n     <use style=\"fill:#0000ff;stroke:#0000ff;\" x=\"134.904427\" xlink:href=\"#m207c844b13\" y=\"147.656585\"/>\r\n     <use style=\"fill:#0000ff;stroke:#0000ff;\" x=\"70.722878\" xlink:href=\"#m207c844b13\" y=\"118.248463\"/>\r\n     <use style=\"fill:#0000ff;stroke:#0000ff;\" x=\"252.640763\" xlink:href=\"#m207c844b13\" y=\"96.376187\"/>\r\n     <use style=\"fill:#0000ff;stroke:#0000ff;\" x=\"176.940842\" xlink:href=\"#m207c844b13\" y=\"120.953179\"/>\r\n     <use style=\"fill:#0000ff;stroke:#0000ff;\" x=\"78.279865\" xlink:href=\"#m207c844b13\" y=\"177.799888\"/>\r\n     <use style=\"fill:#0000ff;stroke:#0000ff;\" x=\"194.006292\" xlink:href=\"#m207c844b13\" y=\"149.822368\"/>\r\n     <use style=\"fill:#0000ff;stroke:#0000ff;\" x=\"51.095901\" xlink:href=\"#m207c844b13\" y=\"161.29909\"/>\r\n     <use style=\"fill:#0000ff;stroke:#0000ff;\" x=\"322.450084\" xlink:href=\"#m207c844b13\" y=\"38.266575\"/>\r\n     <use style=\"fill:#0000ff;stroke:#0000ff;\" x=\"120.689389\" xlink:href=\"#m207c844b13\" y=\"136.114797\"/>\r\n     <use style=\"fill:#0000ff;stroke:#0000ff;\" x=\"245.907323\" xlink:href=\"#m207c844b13\" y=\"117.831371\"/>\r\n     <use style=\"fill:#0000ff;stroke:#0000ff;\" x=\"137.105609\" xlink:href=\"#m207c844b13\" y=\"112.581733\"/>\r\n     <use style=\"fill:#0000ff;stroke:#0000ff;\" x=\"201.726101\" xlink:href=\"#m207c844b13\" y=\"151.945028\"/>\r\n     <use style=\"fill:#0000ff;stroke:#0000ff;\" x=\"209.989016\" xlink:href=\"#m207c844b13\" y=\"97.538938\"/>\r\n     <use style=\"fill:#0000ff;stroke:#0000ff;\" x=\"97.761889\" xlink:href=\"#m207c844b13\" y=\"111.91015\"/>\r\n     <use style=\"fill:#0000ff;stroke:#0000ff;\" x=\"341.140625\" xlink:href=\"#m207c844b13\" y=\"73.233454\"/>\r\n     <use style=\"fill:#0000ff;stroke:#0000ff;\" x=\"280.832718\" xlink:href=\"#m207c844b13\" y=\"92.034409\"/>\r\n     <use style=\"fill:#0000ff;stroke:#0000ff;\" x=\"331.809753\" xlink:href=\"#m207c844b13\" y=\"50.198611\"/>\r\n     <use style=\"fill:#0000ff;stroke:#0000ff;\" x=\"317.955163\" xlink:href=\"#m207c844b13\" y=\"72.258123\"/>\r\n     <use style=\"fill:#0000ff;stroke:#0000ff;\" x=\"225.865154\" xlink:href=\"#m207c844b13\" y=\"143.888058\"/>\r\n     <use style=\"fill:#0000ff;stroke:#0000ff;\" x=\"326.34357\" xlink:href=\"#m207c844b13\" y=\"53.663602\"/>\r\n     <use style=\"fill:#0000ff;stroke:#0000ff;\" x=\"67.875883\" xlink:href=\"#m207c844b13\" y=\"208.917362\"/>\r\n     <use style=\"fill:#0000ff;stroke:#0000ff;\" x=\"101.213289\" xlink:href=\"#m207c844b13\" y=\"153.693961\"/>\r\n     <use style=\"fill:#0000ff;stroke:#0000ff;\" x=\"54.457471\" xlink:href=\"#m207c844b13\" y=\"211.872749\"/>\r\n     <use style=\"fill:#0000ff;stroke:#0000ff;\" x=\"141.329528\" xlink:href=\"#m207c844b13\" y=\"106.786628\"/>\r\n     <use style=\"fill:#0000ff;stroke:#0000ff;\" x=\"160.976157\" xlink:href=\"#m207c844b13\" y=\"156.243368\"/>\r\n     <use style=\"fill:#0000ff;stroke:#0000ff;\" x=\"124.587595\" xlink:href=\"#m207c844b13\" y=\"162.391011\"/>\r\n     <use style=\"fill:#0000ff;stroke:#0000ff;\" x=\"297.457847\" xlink:href=\"#m207c844b13\" y=\"48.950301\"/>\r\n     <use style=\"fill:#0000ff;stroke:#0000ff;\" x=\"151.075157\" xlink:href=\"#m207c844b13\" y=\"172.428109\"/>\r\n     <use style=\"fill:#0000ff;stroke:#0000ff;\" x=\"127.560466\" xlink:href=\"#m207c844b13\" y=\"147.019628\"/>\r\n     <use style=\"fill:#0000ff;stroke:#0000ff;\" x=\"208.744041\" xlink:href=\"#m207c844b13\" y=\"79.909681\"/>\r\n     <use style=\"fill:#0000ff;stroke:#0000ff;\" x=\"84.137226\" xlink:href=\"#m207c844b13\" y=\"214.756364\"/>\r\n     <use style=\"fill:#0000ff;stroke:#0000ff;\" x=\"289.226482\" xlink:href=\"#m207c844b13\" y=\"68.907318\"/>\r\n     <use style=\"fill:#0000ff;stroke:#0000ff;\" x=\"63.551911\" xlink:href=\"#m207c844b13\" y=\"177.555048\"/>\r\n     <use style=\"fill:#0000ff;stroke:#0000ff;\" x=\"346.506818\" xlink:href=\"#m207c844b13\" y=\"25.724817\"/>\r\n     <use style=\"fill:#0000ff;stroke:#0000ff;\" x=\"279.937007\" xlink:href=\"#m207c844b13\" y=\"109.455539\"/>\r\n     <use style=\"fill:#0000ff;stroke:#0000ff;\" x=\"102.060854\" xlink:href=\"#m207c844b13\" y=\"198.707842\"/>\r\n     <use style=\"fill:#0000ff;stroke:#0000ff;\" x=\"42.143182\" xlink:href=\"#m207c844b13\" y=\"181.406853\"/>\r\n     <use style=\"fill:#0000ff;stroke:#0000ff;\" x=\"293.340361\" xlink:href=\"#m207c844b13\" y=\"64.047058\"/>\r\n     <use style=\"fill:#0000ff;stroke:#0000ff;\" x=\"259.657541\" xlink:href=\"#m207c844b13\" y=\"81.724828\"/>\r\n     <use style=\"fill:#0000ff;stroke:#0000ff;\" x=\"266.527159\" xlink:href=\"#m207c844b13\" y=\"75.929757\"/>\r\n     <use style=\"fill:#0000ff;stroke:#0000ff;\" x=\"279.634797\" xlink:href=\"#m207c844b13\" y=\"95.501051\"/>\r\n     <use style=\"fill:#0000ff;stroke:#0000ff;\" x=\"63.394981\" xlink:href=\"#m207c844b13\" y=\"178.331552\"/>\r\n     <use style=\"fill:#0000ff;stroke:#0000ff;\" x=\"151.606247\" xlink:href=\"#m207c844b13\" y=\"133.578662\"/>\r\n     <use style=\"fill:#0000ff;stroke:#0000ff;\" x=\"76.366537\" xlink:href=\"#m207c844b13\" y=\"195.947088\"/>\r\n     <use style=\"fill:#0000ff;stroke:#0000ff;\" x=\"308.116203\" xlink:href=\"#m207c844b13\" y=\"17.083636\"/>\r\n     <use style=\"fill:#0000ff;stroke:#0000ff;\" x=\"233.742217\" xlink:href=\"#m207c844b13\" y=\"88.764757\"/>\r\n     <use style=\"fill:#0000ff;stroke:#0000ff;\" x=\"143.056311\" xlink:href=\"#m207c844b13\" y=\"175.354609\"/>\r\n     <use style=\"fill:#0000ff;stroke:#0000ff;\" x=\"60.142726\" xlink:href=\"#m207c844b13\" y=\"169.180599\"/>\r\n     <use style=\"fill:#0000ff;stroke:#0000ff;\" x=\"136.879591\" xlink:href=\"#m207c844b13\" y=\"172.895134\"/>\r\n     <use style=\"fill:#0000ff;stroke:#0000ff;\" x=\"141.283934\" xlink:href=\"#m207c844b13\" y=\"126.125921\"/>\r\n     <use style=\"fill:#0000ff;stroke:#0000ff;\" x=\"266.712938\" xlink:href=\"#m207c844b13\" y=\"55.273473\"/>\r\n     <use style=\"fill:#0000ff;stroke:#0000ff;\" x=\"238.164656\" xlink:href=\"#m207c844b13\" y=\"119.37814\"/>\r\n     <use style=\"fill:#0000ff;stroke:#0000ff;\" x=\"315.593544\" xlink:href=\"#m207c844b13\" y=\"36.271266\"/>\r\n     <use style=\"fill:#0000ff;stroke:#0000ff;\" x=\"186.884788\" xlink:href=\"#m207c844b13\" y=\"113.265183\"/>\r\n     <use style=\"fill:#0000ff;stroke:#0000ff;\" x=\"77.521878\" xlink:href=\"#m207c844b13\" y=\"156.475947\"/>\r\n     <use style=\"fill:#0000ff;stroke:#0000ff;\" x=\"261.638563\" xlink:href=\"#m207c844b13\" y=\"39.066594\"/>\r\n     <use style=\"fill:#0000ff;stroke:#0000ff;\" x=\"276.382853\" xlink:href=\"#m207c844b13\" y=\"86.088199\"/>\r\n     <use style=\"fill:#0000ff;stroke:#0000ff;\" x=\"214.506847\" xlink:href=\"#m207c844b13\" y=\"129.272382\"/>\r\n     <use style=\"fill:#0000ff;stroke:#0000ff;\" x=\"279.540772\" xlink:href=\"#m207c844b13\" y=\"100.851831\"/>\r\n     <use style=\"fill:#0000ff;stroke:#0000ff;\" x=\"193.577887\" xlink:href=\"#m207c844b13\" y=\"141.096883\"/>\r\n     <use style=\"fill:#0000ff;stroke:#0000ff;\" x=\"202.552573\" xlink:href=\"#m207c844b13\" y=\"117.994724\"/>\r\n     <use style=\"fill:#0000ff;stroke:#0000ff;\" x=\"173.029479\" xlink:href=\"#m207c844b13\" y=\"121.866401\"/>\r\n     <use style=\"fill:#0000ff;stroke:#0000ff;\" x=\"48.314104\" xlink:href=\"#m207c844b13\" y=\"184.594113\"/>\r\n     <use style=\"fill:#0000ff;stroke:#0000ff;\" x=\"73.892328\" xlink:href=\"#m207c844b13\" y=\"158.124259\"/>\r\n    </g>\r\n   </g>\r\n   <g id=\"patch_3\">\r\n    <path d=\"M 26.925 224.64 \r\nL 26.925 7.2 \r\n\" style=\"fill:none;stroke:#000000;stroke-linecap:square;stroke-linejoin:miter;stroke-width:0.8;\"/>\r\n   </g>\r\n   <g id=\"patch_4\">\r\n    <path d=\"M 361.725 224.64 \r\nL 361.725 7.2 \r\n\" style=\"fill:none;stroke:#000000;stroke-linecap:square;stroke-linejoin:miter;stroke-width:0.8;\"/>\r\n   </g>\r\n   <g id=\"patch_5\">\r\n    <path d=\"M 26.925 224.64 \r\nL 361.725 224.64 \r\n\" style=\"fill:none;stroke:#000000;stroke-linecap:square;stroke-linejoin:miter;stroke-width:0.8;\"/>\r\n   </g>\r\n   <g id=\"patch_6\">\r\n    <path d=\"M 26.925 7.2 \r\nL 361.725 7.2 \r\n\" style=\"fill:none;stroke:#000000;stroke-linecap:square;stroke-linejoin:miter;stroke-width:0.8;\"/>\r\n   </g>\r\n  </g>\r\n </g>\r\n <defs>\r\n  <clipPath id=\"p6349715e5b\">\r\n   <rect height=\"217.44\" width=\"334.8\" x=\"26.925\" y=\"7.2\"/>\r\n  </clipPath>\r\n </defs>\r\n</svg>\r\n",
      "image/png": "[encoded data removed]"
     },
     "metadata": {
      "needs_background": "light"
     }
    }
   ],
   "source": [
    "X = 2*np.random.rand(100, 1)\n",
    "y = 4 + 3*X + np.random.randn(100, 1)\n",
    "\n",
    "plt.plot(X, y, \"b.\")\n",
    "plt.show()"
   ]
  },
  {
   "source": [
    "Compute $\\hat{\\theta}$ using Normal Equation and `inv()` from NumPy's linear algebra module (`np.linalg`) to compute the inverse of a matrix."
   ],
   "cell_type": "markdown",
   "metadata": {}
  },
  {
   "cell_type": "code",
   "execution_count": 7,
   "metadata": {},
   "outputs": [
    {
     "output_type": "execute_result",
     "data": {
      "text/plain": [
       "array([[4.21509616],\n",
       "       [2.77011339]])"
      ]
     },
     "metadata": {},
     "execution_count": 7
    }
   ],
   "source": [
    "# np.c_ concatenates along vertical axis (columns) 1's vector + X vector\n",
    "# Use @ for matrix multiplication, much clearer to read than .dot()\n",
    "# X_b = 'X bias' as it includes the bias term\n",
    "\n",
    "X_b = np.c_[np.ones((100, 1)), X] # add x0 = 1 to each instance\n",
    "theta_best = np.linalg.inv(X_b.T@X_b) @ X_b.T @ y\n",
    "theta_best"
   ]
  },
  {
   "cell_type": "code",
   "execution_count": 8,
   "metadata": {},
   "outputs": [
    {
     "output_type": "execute_result",
     "data": {
      "text/plain": [
       "array([[4.21509616],\n",
       "       [9.75532293]])"
      ]
     },
     "metadata": {},
     "execution_count": 8
    }
   ],
   "source": [
    "X_new = np.array([[0], [2]])\n",
    "X_new_b = np.c_[np.ones((2, 1)), X_new]\n",
    "y_predict = X_new_b @ theta_best\n",
    "y_predict"
   ]
  },
  {
   "cell_type": "code",
   "execution_count": 9,
   "metadata": {},
   "outputs": [
    {
     "output_type": "display_data",
     "data": {
      "text/plain": "<Figure size 432x288 with 1 Axes>",
      "image/svg+xml": "<?xml version=\"1.0\" encoding=\"utf-8\" standalone=\"no\"?>\r\n<!DOCTYPE svg PUBLIC \"-//W3C//DTD SVG 1.1//EN\"\r\n  \"http://www.w3.org/Graphics/SVG/1.1/DTD/svg11.dtd\">\r\n<!-- Created with matplotlib (https://matplotlib.org/) -->\r\n<svg height=\"248.518125pt\" version=\"1.1\" viewBox=\"0 0 380.057812 248.518125\" width=\"380.057812pt\" xmlns=\"http://www.w3.org/2000/svg\" xmlns:xlink=\"http://www.w3.org/1999/xlink\">\r\n <metadata>\r\n  <rdf:RDF xmlns:cc=\"http://creativecommons.org/ns#\" xmlns:dc=\"http://purl.org/dc/elements/1.1/\" xmlns:rdf=\"http://www.w3.org/1999/02/22-rdf-syntax-ns#\">\r\n   <cc:Work>\r\n    <dc:type rdf:resource=\"http://purl.org/dc/dcmitype/StillImage\"/>\r\n    <dc:date>2021-01-13T15:41:11.035502</dc:date>\r\n    <dc:format>image/svg+xml</dc:format>\r\n    <dc:creator>\r\n     <cc:Agent>\r\n      <dc:title>Matplotlib v3.3.3, https://matplotlib.org/</dc:title>\r\n     </cc:Agent>\r\n    </dc:creator>\r\n   </cc:Work>\r\n  </rdf:RDF>\r\n </metadata>\r\n <defs>\r\n  <style type=\"text/css\">*{stroke-linecap:butt;stroke-linejoin:round;}</style>\r\n </defs>\r\n <g id=\"figure_1\">\r\n  <g id=\"patch_1\">\r\n   <path d=\"M -0 248.518125 \r\nL 380.057812 248.518125 \r\nL 380.057812 0 \r\nL -0 0 \r\nz\r\n\" style=\"fill:none;\"/>\r\n  </g>\r\n  <g id=\"axes_1\">\r\n   <g id=\"patch_2\">\r\n    <path d=\"M 26.925 224.64 \r\nL 361.725 224.64 \r\nL 361.725 7.2 \r\nL 26.925 7.2 \r\nz\r\n\" style=\"fill:#ffffff;\"/>\r\n   </g>\r\n   <g id=\"matplotlib.axis_1\">\r\n    <g id=\"xtick_1\">\r\n     <g id=\"line2d_1\">\r\n      <defs>\r\n       <path d=\"M 0 0 \r\nL 0 3.5 \r\n\" id=\"mf0da1e2de6\" style=\"stroke:#000000;stroke-width:0.8;\"/>\r\n      </defs>\r\n      <g>\r\n       <use style=\"stroke:#000000;stroke-width:0.8;\" x=\"26.925\" xlink:href=\"#mf0da1e2de6\" y=\"224.64\"/>\r\n      </g>\r\n     </g>\r\n     <g id=\"text_1\">\r\n      <!-- 0.00 -->\r\n      <g transform=\"translate(15.792188 239.238437)scale(0.1 -0.1)\">\r\n       <defs>\r\n        <path d=\"M 31.78125 66.40625 \r\nQ 24.171875 66.40625 20.328125 58.90625 \r\nQ 16.5 51.421875 16.5 36.375 \r\nQ 16.5 21.390625 20.328125 13.890625 \r\nQ 24.171875 6.390625 31.78125 6.390625 \r\nQ 39.453125 6.390625 43.28125 13.890625 \r\nQ 47.125 21.390625 47.125 36.375 \r\nQ 47.125 51.421875 43.28125 58.90625 \r\nQ 39.453125 66.40625 31.78125 66.40625 \r\nz\r\nM 31.78125 74.21875 \r\nQ 44.046875 74.21875 50.515625 64.515625 \r\nQ 56.984375 54.828125 56.984375 36.375 \r\nQ 56.984375 17.96875 50.515625 8.265625 \r\nQ 44.046875 -1.421875 31.78125 -1.421875 \r\nQ 19.53125 -1.421875 13.0625 8.265625 \r\nQ 6.59375 17.96875 6.59375 36.375 \r\nQ 6.59375 54.828125 13.0625 64.515625 \r\nQ 19.53125 74.21875 31.78125 74.21875 \r\nz\r\n\" id=\"DejaVuSans-48\"/>\r\n        <path d=\"M 10.6875 12.40625 \r\nL 21 12.40625 \r\nL 21 0 \r\nL 10.6875 0 \r\nz\r\n\" id=\"DejaVuSans-46\"/>\r\n       </defs>\r\n       <use xlink:href=\"#DejaVuSans-48\"/>\r\n       <use x=\"63.623047\" xlink:href=\"#DejaVuSans-46\"/>\r\n       <use x=\"95.410156\" xlink:href=\"#DejaVuSans-48\"/>\r\n       <use x=\"159.033203\" xlink:href=\"#DejaVuSans-48\"/>\r\n      </g>\r\n     </g>\r\n    </g>\r\n    <g id=\"xtick_2\">\r\n     <g id=\"line2d_2\">\r\n      <g>\r\n       <use style=\"stroke:#000000;stroke-width:0.8;\" x=\"68.775\" xlink:href=\"#mf0da1e2de6\" y=\"224.64\"/>\r\n      </g>\r\n     </g>\r\n     <g id=\"text_2\">\r\n      <!-- 0.25 -->\r\n      <g transform=\"translate(57.642188 239.238437)scale(0.1 -0.1)\">\r\n       <defs>\r\n        <path d=\"M 19.1875 8.296875 \r\nL 53.609375 8.296875 \r\nL 53.609375 0 \r\nL 7.328125 0 \r\nL 7.328125 8.296875 \r\nQ 12.9375 14.109375 22.625 23.890625 \r\nQ 32.328125 33.6875 34.8125 36.53125 \r\nQ 39.546875 41.84375 41.421875 45.53125 \r\nQ 43.3125 49.21875 43.3125 52.78125 \r\nQ 43.3125 58.59375 39.234375 62.25 \r\nQ 35.15625 65.921875 28.609375 65.921875 \r\nQ 23.96875 65.921875 18.8125 64.3125 \r\nQ 13.671875 62.703125 7.8125 59.421875 \r\nL 7.8125 69.390625 \r\nQ 13.765625 71.78125 18.9375 73 \r\nQ 24.125 74.21875 28.421875 74.21875 \r\nQ 39.75 74.21875 46.484375 68.546875 \r\nQ 53.21875 62.890625 53.21875 53.421875 \r\nQ 53.21875 48.921875 51.53125 44.890625 \r\nQ 49.859375 40.875 45.40625 35.40625 \r\nQ 44.1875 33.984375 37.640625 27.21875 \r\nQ 31.109375 20.453125 19.1875 8.296875 \r\nz\r\n\" id=\"DejaVuSans-50\"/>\r\n        <path d=\"M 10.796875 72.90625 \r\nL 49.515625 72.90625 \r\nL 49.515625 64.59375 \r\nL 19.828125 64.59375 \r\nL 19.828125 46.734375 \r\nQ 21.96875 47.46875 24.109375 47.828125 \r\nQ 26.265625 48.1875 28.421875 48.1875 \r\nQ 40.625 48.1875 47.75 41.5 \r\nQ 54.890625 34.8125 54.890625 23.390625 \r\nQ 54.890625 11.625 47.5625 5.09375 \r\nQ 40.234375 -1.421875 26.90625 -1.421875 \r\nQ 22.3125 -1.421875 17.546875 -0.640625 \r\nQ 12.796875 0.140625 7.71875 1.703125 \r\nL 7.71875 11.625 \r\nQ 12.109375 9.234375 16.796875 8.0625 \r\nQ 21.484375 6.890625 26.703125 6.890625 \r\nQ 35.15625 6.890625 40.078125 11.328125 \r\nQ 45.015625 15.765625 45.015625 23.390625 \r\nQ 45.015625 31 40.078125 35.4375 \r\nQ 35.15625 39.890625 26.703125 39.890625 \r\nQ 22.75 39.890625 18.8125 39.015625 \r\nQ 14.890625 38.140625 10.796875 36.28125 \r\nz\r\n\" id=\"DejaVuSans-53\"/>\r\n       </defs>\r\n       <use xlink:href=\"#DejaVuSans-48\"/>\r\n       <use x=\"63.623047\" xlink:href=\"#DejaVuSans-46\"/>\r\n       <use x=\"95.410156\" xlink:href=\"#DejaVuSans-50\"/>\r\n       <use x=\"159.033203\" xlink:href=\"#DejaVuSans-53\"/>\r\n      </g>\r\n     </g>\r\n    </g>\r\n    <g id=\"xtick_3\">\r\n     <g id=\"line2d_3\">\r\n      <g>\r\n       <use style=\"stroke:#000000;stroke-width:0.8;\" x=\"110.625\" xlink:href=\"#mf0da1e2de6\" y=\"224.64\"/>\r\n      </g>\r\n     </g>\r\n     <g id=\"text_3\">\r\n      <!-- 0.50 -->\r\n      <g transform=\"translate(99.492188 239.238437)scale(0.1 -0.1)\">\r\n       <use xlink:href=\"#DejaVuSans-48\"/>\r\n       <use x=\"63.623047\" xlink:href=\"#DejaVuSans-46\"/>\r\n       <use x=\"95.410156\" xlink:href=\"#DejaVuSans-53\"/>\r\n       <use x=\"159.033203\" xlink:href=\"#DejaVuSans-48\"/>\r\n      </g>\r\n     </g>\r\n    </g>\r\n    <g id=\"xtick_4\">\r\n     <g id=\"line2d_4\">\r\n      <g>\r\n       <use style=\"stroke:#000000;stroke-width:0.8;\" x=\"152.475\" xlink:href=\"#mf0da1e2de6\" y=\"224.64\"/>\r\n      </g>\r\n     </g>\r\n     <g id=\"text_4\">\r\n      <!-- 0.75 -->\r\n      <g transform=\"translate(141.342188 239.238437)scale(0.1 -0.1)\">\r\n       <defs>\r\n        <path d=\"M 8.203125 72.90625 \r\nL 55.078125 72.90625 \r\nL 55.078125 68.703125 \r\nL 28.609375 0 \r\nL 18.3125 0 \r\nL 43.21875 64.59375 \r\nL 8.203125 64.59375 \r\nz\r\n\" id=\"DejaVuSans-55\"/>\r\n       </defs>\r\n       <use xlink:href=\"#DejaVuSans-48\"/>\r\n       <use x=\"63.623047\" xlink:href=\"#DejaVuSans-46\"/>\r\n       <use x=\"95.410156\" xlink:href=\"#DejaVuSans-55\"/>\r\n       <use x=\"159.033203\" xlink:href=\"#DejaVuSans-53\"/>\r\n      </g>\r\n     </g>\r\n    </g>\r\n    <g id=\"xtick_5\">\r\n     <g id=\"line2d_5\">\r\n      <g>\r\n       <use style=\"stroke:#000000;stroke-width:0.8;\" x=\"194.325\" xlink:href=\"#mf0da1e2de6\" y=\"224.64\"/>\r\n      </g>\r\n     </g>\r\n     <g id=\"text_5\">\r\n      <!-- 1.00 -->\r\n      <g transform=\"translate(183.192188 239.238437)scale(0.1 -0.1)\">\r\n       <defs>\r\n        <path d=\"M 12.40625 8.296875 \r\nL 28.515625 8.296875 \r\nL 28.515625 63.921875 \r\nL 10.984375 60.40625 \r\nL 10.984375 69.390625 \r\nL 28.421875 72.90625 \r\nL 38.28125 72.90625 \r\nL 38.28125 8.296875 \r\nL 54.390625 8.296875 \r\nL 54.390625 0 \r\nL 12.40625 0 \r\nz\r\n\" id=\"DejaVuSans-49\"/>\r\n       </defs>\r\n       <use xlink:href=\"#DejaVuSans-49\"/>\r\n       <use x=\"63.623047\" xlink:href=\"#DejaVuSans-46\"/>\r\n       <use x=\"95.410156\" xlink:href=\"#DejaVuSans-48\"/>\r\n       <use x=\"159.033203\" xlink:href=\"#DejaVuSans-48\"/>\r\n      </g>\r\n     </g>\r\n    </g>\r\n    <g id=\"xtick_6\">\r\n     <g id=\"line2d_6\">\r\n      <g>\r\n       <use style=\"stroke:#000000;stroke-width:0.8;\" x=\"236.175\" xlink:href=\"#mf0da1e2de6\" y=\"224.64\"/>\r\n      </g>\r\n     </g>\r\n     <g id=\"text_6\">\r\n      <!-- 1.25 -->\r\n      <g transform=\"translate(225.042188 239.238437)scale(0.1 -0.1)\">\r\n       <use xlink:href=\"#DejaVuSans-49\"/>\r\n       <use x=\"63.623047\" xlink:href=\"#DejaVuSans-46\"/>\r\n       <use x=\"95.410156\" xlink:href=\"#DejaVuSans-50\"/>\r\n       <use x=\"159.033203\" xlink:href=\"#DejaVuSans-53\"/>\r\n      </g>\r\n     </g>\r\n    </g>\r\n    <g id=\"xtick_7\">\r\n     <g id=\"line2d_7\">\r\n      <g>\r\n       <use style=\"stroke:#000000;stroke-width:0.8;\" x=\"278.025\" xlink:href=\"#mf0da1e2de6\" y=\"224.64\"/>\r\n      </g>\r\n     </g>\r\n     <g id=\"text_7\">\r\n      <!-- 1.50 -->\r\n      <g transform=\"translate(266.892188 239.238437)scale(0.1 -0.1)\">\r\n       <use xlink:href=\"#DejaVuSans-49\"/>\r\n       <use x=\"63.623047\" xlink:href=\"#DejaVuSans-46\"/>\r\n       <use x=\"95.410156\" xlink:href=\"#DejaVuSans-53\"/>\r\n       <use x=\"159.033203\" xlink:href=\"#DejaVuSans-48\"/>\r\n      </g>\r\n     </g>\r\n    </g>\r\n    <g id=\"xtick_8\">\r\n     <g id=\"line2d_8\">\r\n      <g>\r\n       <use style=\"stroke:#000000;stroke-width:0.8;\" x=\"319.875\" xlink:href=\"#mf0da1e2de6\" y=\"224.64\"/>\r\n      </g>\r\n     </g>\r\n     <g id=\"text_8\">\r\n      <!-- 1.75 -->\r\n      <g transform=\"translate(308.742188 239.238437)scale(0.1 -0.1)\">\r\n       <use xlink:href=\"#DejaVuSans-49\"/>\r\n       <use x=\"63.623047\" xlink:href=\"#DejaVuSans-46\"/>\r\n       <use x=\"95.410156\" xlink:href=\"#DejaVuSans-55\"/>\r\n       <use x=\"159.033203\" xlink:href=\"#DejaVuSans-53\"/>\r\n      </g>\r\n     </g>\r\n    </g>\r\n    <g id=\"xtick_9\">\r\n     <g id=\"line2d_9\">\r\n      <g>\r\n       <use style=\"stroke:#000000;stroke-width:0.8;\" x=\"361.725\" xlink:href=\"#mf0da1e2de6\" y=\"224.64\"/>\r\n      </g>\r\n     </g>\r\n     <g id=\"text_9\">\r\n      <!-- 2.00 -->\r\n      <g transform=\"translate(350.592188 239.238437)scale(0.1 -0.1)\">\r\n       <use xlink:href=\"#DejaVuSans-50\"/>\r\n       <use x=\"63.623047\" xlink:href=\"#DejaVuSans-46\"/>\r\n       <use x=\"95.410156\" xlink:href=\"#DejaVuSans-48\"/>\r\n       <use x=\"159.033203\" xlink:href=\"#DejaVuSans-48\"/>\r\n      </g>\r\n     </g>\r\n    </g>\r\n   </g>\r\n   <g id=\"matplotlib.axis_2\">\r\n    <g id=\"ytick_1\">\r\n     <g id=\"line2d_10\">\r\n      <defs>\r\n       <path d=\"M 0 0 \r\nL -3.5 0 \r\n\" id=\"m99d1100a66\" style=\"stroke:#000000;stroke-width:0.8;\"/>\r\n      </defs>\r\n      <g>\r\n       <use style=\"stroke:#000000;stroke-width:0.8;\" x=\"26.925\" xlink:href=\"#m99d1100a66\" y=\"224.64\"/>\r\n      </g>\r\n     </g>\r\n     <g id=\"text_10\">\r\n      <!-- 0 -->\r\n      <g transform=\"translate(13.5625 228.439219)scale(0.1 -0.1)\">\r\n       <use xlink:href=\"#DejaVuSans-48\"/>\r\n      </g>\r\n     </g>\r\n    </g>\r\n    <g id=\"ytick_2\">\r\n     <g id=\"line2d_11\">\r\n      <g>\r\n       <use style=\"stroke:#000000;stroke-width:0.8;\" x=\"26.925\" xlink:href=\"#m99d1100a66\" y=\"195.648\"/>\r\n      </g>\r\n     </g>\r\n     <g id=\"text_11\">\r\n      <!-- 2 -->\r\n      <g transform=\"translate(13.5625 199.447219)scale(0.1 -0.1)\">\r\n       <use xlink:href=\"#DejaVuSans-50\"/>\r\n      </g>\r\n     </g>\r\n    </g>\r\n    <g id=\"ytick_3\">\r\n     <g id=\"line2d_12\">\r\n      <g>\r\n       <use style=\"stroke:#000000;stroke-width:0.8;\" x=\"26.925\" xlink:href=\"#m99d1100a66\" y=\"166.656\"/>\r\n      </g>\r\n     </g>\r\n     <g id=\"text_12\">\r\n      <!-- 4 -->\r\n      <g transform=\"translate(13.5625 170.455219)scale(0.1 -0.1)\">\r\n       <defs>\r\n        <path d=\"M 37.796875 64.3125 \r\nL 12.890625 25.390625 \r\nL 37.796875 25.390625 \r\nz\r\nM 35.203125 72.90625 \r\nL 47.609375 72.90625 \r\nL 47.609375 25.390625 \r\nL 58.015625 25.390625 \r\nL 58.015625 17.1875 \r\nL 47.609375 17.1875 \r\nL 47.609375 0 \r\nL 37.796875 0 \r\nL 37.796875 17.1875 \r\nL 4.890625 17.1875 \r\nL 4.890625 26.703125 \r\nz\r\n\" id=\"DejaVuSans-52\"/>\r\n       </defs>\r\n       <use xlink:href=\"#DejaVuSans-52\"/>\r\n      </g>\r\n     </g>\r\n    </g>\r\n    <g id=\"ytick_4\">\r\n     <g id=\"line2d_13\">\r\n      <g>\r\n       <use style=\"stroke:#000000;stroke-width:0.8;\" x=\"26.925\" xlink:href=\"#m99d1100a66\" y=\"137.664\"/>\r\n      </g>\r\n     </g>\r\n     <g id=\"text_13\">\r\n      <!-- 6 -->\r\n      <g transform=\"translate(13.5625 141.463219)scale(0.1 -0.1)\">\r\n       <defs>\r\n        <path d=\"M 33.015625 40.375 \r\nQ 26.375 40.375 22.484375 35.828125 \r\nQ 18.609375 31.296875 18.609375 23.390625 \r\nQ 18.609375 15.53125 22.484375 10.953125 \r\nQ 26.375 6.390625 33.015625 6.390625 \r\nQ 39.65625 6.390625 43.53125 10.953125 \r\nQ 47.40625 15.53125 47.40625 23.390625 \r\nQ 47.40625 31.296875 43.53125 35.828125 \r\nQ 39.65625 40.375 33.015625 40.375 \r\nz\r\nM 52.59375 71.296875 \r\nL 52.59375 62.3125 \r\nQ 48.875 64.0625 45.09375 64.984375 \r\nQ 41.3125 65.921875 37.59375 65.921875 \r\nQ 27.828125 65.921875 22.671875 59.328125 \r\nQ 17.53125 52.734375 16.796875 39.40625 \r\nQ 19.671875 43.65625 24.015625 45.921875 \r\nQ 28.375 48.1875 33.59375 48.1875 \r\nQ 44.578125 48.1875 50.953125 41.515625 \r\nQ 57.328125 34.859375 57.328125 23.390625 \r\nQ 57.328125 12.15625 50.6875 5.359375 \r\nQ 44.046875 -1.421875 33.015625 -1.421875 \r\nQ 20.359375 -1.421875 13.671875 8.265625 \r\nQ 6.984375 17.96875 6.984375 36.375 \r\nQ 6.984375 53.65625 15.1875 63.9375 \r\nQ 23.390625 74.21875 37.203125 74.21875 \r\nQ 40.921875 74.21875 44.703125 73.484375 \r\nQ 48.484375 72.75 52.59375 71.296875 \r\nz\r\n\" id=\"DejaVuSans-54\"/>\r\n       </defs>\r\n       <use xlink:href=\"#DejaVuSans-54\"/>\r\n      </g>\r\n     </g>\r\n    </g>\r\n    <g id=\"ytick_5\">\r\n     <g id=\"line2d_14\">\r\n      <g>\r\n       <use style=\"stroke:#000000;stroke-width:0.8;\" x=\"26.925\" xlink:href=\"#m99d1100a66\" y=\"108.672\"/>\r\n      </g>\r\n     </g>\r\n     <g id=\"text_14\">\r\n      <!-- 8 -->\r\n      <g transform=\"translate(13.5625 112.471219)scale(0.1 -0.1)\">\r\n       <defs>\r\n        <path d=\"M 31.78125 34.625 \r\nQ 24.75 34.625 20.71875 30.859375 \r\nQ 16.703125 27.09375 16.703125 20.515625 \r\nQ 16.703125 13.921875 20.71875 10.15625 \r\nQ 24.75 6.390625 31.78125 6.390625 \r\nQ 38.8125 6.390625 42.859375 10.171875 \r\nQ 46.921875 13.96875 46.921875 20.515625 \r\nQ 46.921875 27.09375 42.890625 30.859375 \r\nQ 38.875 34.625 31.78125 34.625 \r\nz\r\nM 21.921875 38.8125 \r\nQ 15.578125 40.375 12.03125 44.71875 \r\nQ 8.5 49.078125 8.5 55.328125 \r\nQ 8.5 64.0625 14.71875 69.140625 \r\nQ 20.953125 74.21875 31.78125 74.21875 \r\nQ 42.671875 74.21875 48.875 69.140625 \r\nQ 55.078125 64.0625 55.078125 55.328125 \r\nQ 55.078125 49.078125 51.53125 44.71875 \r\nQ 48 40.375 41.703125 38.8125 \r\nQ 48.828125 37.15625 52.796875 32.3125 \r\nQ 56.78125 27.484375 56.78125 20.515625 \r\nQ 56.78125 9.90625 50.3125 4.234375 \r\nQ 43.84375 -1.421875 31.78125 -1.421875 \r\nQ 19.734375 -1.421875 13.25 4.234375 \r\nQ 6.78125 9.90625 6.78125 20.515625 \r\nQ 6.78125 27.484375 10.78125 32.3125 \r\nQ 14.796875 37.15625 21.921875 38.8125 \r\nz\r\nM 18.3125 54.390625 \r\nQ 18.3125 48.734375 21.84375 45.5625 \r\nQ 25.390625 42.390625 31.78125 42.390625 \r\nQ 38.140625 42.390625 41.71875 45.5625 \r\nQ 45.3125 48.734375 45.3125 54.390625 \r\nQ 45.3125 60.0625 41.71875 63.234375 \r\nQ 38.140625 66.40625 31.78125 66.40625 \r\nQ 25.390625 66.40625 21.84375 63.234375 \r\nQ 18.3125 60.0625 18.3125 54.390625 \r\nz\r\n\" id=\"DejaVuSans-56\"/>\r\n       </defs>\r\n       <use xlink:href=\"#DejaVuSans-56\"/>\r\n      </g>\r\n     </g>\r\n    </g>\r\n    <g id=\"ytick_6\">\r\n     <g id=\"line2d_15\">\r\n      <g>\r\n       <use style=\"stroke:#000000;stroke-width:0.8;\" x=\"26.925\" xlink:href=\"#m99d1100a66\" y=\"79.68\"/>\r\n      </g>\r\n     </g>\r\n     <g id=\"text_15\">\r\n      <!-- 10 -->\r\n      <g transform=\"translate(7.2 83.479219)scale(0.1 -0.1)\">\r\n       <use xlink:href=\"#DejaVuSans-49\"/>\r\n       <use x=\"63.623047\" xlink:href=\"#DejaVuSans-48\"/>\r\n      </g>\r\n     </g>\r\n    </g>\r\n    <g id=\"ytick_7\">\r\n     <g id=\"line2d_16\">\r\n      <g>\r\n       <use style=\"stroke:#000000;stroke-width:0.8;\" x=\"26.925\" xlink:href=\"#m99d1100a66\" y=\"50.688\"/>\r\n      </g>\r\n     </g>\r\n     <g id=\"text_16\">\r\n      <!-- 12 -->\r\n      <g transform=\"translate(7.2 54.487219)scale(0.1 -0.1)\">\r\n       <use xlink:href=\"#DejaVuSans-49\"/>\r\n       <use x=\"63.623047\" xlink:href=\"#DejaVuSans-50\"/>\r\n      </g>\r\n     </g>\r\n    </g>\r\n    <g id=\"ytick_8\">\r\n     <g id=\"line2d_17\">\r\n      <g>\r\n       <use style=\"stroke:#000000;stroke-width:0.8;\" x=\"26.925\" xlink:href=\"#m99d1100a66\" y=\"21.696\"/>\r\n      </g>\r\n     </g>\r\n     <g id=\"text_17\">\r\n      <!-- 14 -->\r\n      <g transform=\"translate(7.2 25.495219)scale(0.1 -0.1)\">\r\n       <use xlink:href=\"#DejaVuSans-49\"/>\r\n       <use x=\"63.623047\" xlink:href=\"#DejaVuSans-52\"/>\r\n      </g>\r\n     </g>\r\n    </g>\r\n   </g>\r\n   <g id=\"line2d_18\">\r\n    <path clip-path=\"url(#p5f231fcb6a)\" d=\"M 26.925 163.537966 \r\nL 361.725 83.226839 \r\n\" style=\"fill:none;stroke:#ff0000;stroke-linecap:square;stroke-width:1.5;\"/>\r\n   </g>\r\n   <g id=\"line2d_19\">\r\n    <defs>\r\n     <path d=\"M 0 1.5 \r\nC 0.397805 1.5 0.77937 1.341951 1.06066 1.06066 \r\nC 1.341951 0.77937 1.5 0.397805 1.5 0 \r\nC 1.5 -0.397805 1.341951 -0.77937 1.06066 -1.06066 \r\nC 0.77937 -1.341951 0.397805 -1.5 0 -1.5 \r\nC -0.397805 -1.5 -0.77937 -1.341951 -1.06066 -1.06066 \r\nC -1.341951 -0.77937 -1.5 -0.397805 -1.5 0 \r\nC -1.5 0.397805 -1.341951 0.77937 -1.06066 1.06066 \r\nC -0.77937 1.341951 -0.397805 1.5 0 1.5 \r\nz\r\n\" id=\"m528ebc0a4e\" style=\"stroke:#0000ff;\"/>\r\n    </defs>\r\n    <g clip-path=\"url(#p5f231fcb6a)\">\r\n     <use style=\"fill:#0000ff;stroke:#0000ff;\" x=\"152.321032\" xlink:href=\"#m528ebc0a4e\" y=\"132.818164\"/>\r\n     <use style=\"fill:#0000ff;stroke:#0000ff;\" x=\"345.22415\" xlink:href=\"#m528ebc0a4e\" y=\"88.301083\"/>\r\n     <use style=\"fill:#0000ff;stroke:#0000ff;\" x=\"271.996572\" xlink:href=\"#m528ebc0a4e\" y=\"101.659931\"/>\r\n     <use style=\"fill:#0000ff;stroke:#0000ff;\" x=\"227.355861\" xlink:href=\"#m528ebc0a4e\" y=\"143.398879\"/>\r\n     <use style=\"fill:#0000ff;stroke:#0000ff;\" x=\"79.160041\" xlink:href=\"#m528ebc0a4e\" y=\"156.270486\"/>\r\n     <use style=\"fill:#0000ff;stroke:#0000ff;\" x=\"79.151965\" xlink:href=\"#m528ebc0a4e\" y=\"147.911517\"/>\r\n     <use style=\"fill:#0000ff;stroke:#0000ff;\" x=\"46.371393\" xlink:href=\"#m528ebc0a4e\" y=\"140.180568\"/>\r\n     <use style=\"fill:#0000ff;stroke:#0000ff;\" x=\"316.920774\" xlink:href=\"#m528ebc0a4e\" y=\"98.832309\"/>\r\n     <use style=\"fill:#0000ff;stroke:#0000ff;\" x=\"228.178306\" xlink:href=\"#m528ebc0a4e\" y=\"126.093344\"/>\r\n     <use style=\"fill:#0000ff;stroke:#0000ff;\" x=\"263.987699\" xlink:href=\"#m528ebc0a4e\" y=\"112.34415\"/>\r\n     <use style=\"fill:#0000ff;stroke:#0000ff;\" x=\"33.816689\" xlink:href=\"#m528ebc0a4e\" y=\"151.595974\"/>\r\n     <use style=\"fill:#0000ff;stroke:#0000ff;\" x=\"351.650819\" xlink:href=\"#m528ebc0a4e\" y=\"77.531545\"/>\r\n     <use style=\"fill:#0000ff;stroke:#0000ff;\" x=\"305.626796\" xlink:href=\"#m528ebc0a4e\" y=\"101.932873\"/>\r\n     <use style=\"fill:#0000ff;stroke:#0000ff;\" x=\"98.016134\" xlink:href=\"#m528ebc0a4e\" y=\"140.747269\"/>\r\n     <use style=\"fill:#0000ff;stroke:#0000ff;\" x=\"87.799999\" xlink:href=\"#m528ebc0a4e\" y=\"149.434355\"/>\r\n     <use style=\"fill:#0000ff;stroke:#0000ff;\" x=\"88.32883\" xlink:href=\"#m528ebc0a4e\" y=\"136.662732\"/>\r\n     <use style=\"fill:#0000ff;stroke:#0000ff;\" x=\"128.785303\" xlink:href=\"#m528ebc0a4e\" y=\"150.371188\"/>\r\n     <use style=\"fill:#0000ff;stroke:#0000ff;\" x=\"202.613453\" xlink:href=\"#m528ebc0a4e\" y=\"125.764575\"/>\r\n     <use style=\"fill:#0000ff;stroke:#0000ff;\" x=\"171.540192\" xlink:href=\"#m528ebc0a4e\" y=\"134.77115\"/>\r\n     <use style=\"fill:#0000ff;stroke:#0000ff;\" x=\"124.428516\" xlink:href=\"#m528ebc0a4e\" y=\"162.541167\"/>\r\n     <use style=\"fill:#0000ff;stroke:#0000ff;\" x=\"231.773349\" xlink:href=\"#m528ebc0a4e\" y=\"109.146923\"/>\r\n     <use style=\"fill:#0000ff;stroke:#0000ff;\" x=\"73.627545\" xlink:href=\"#m528ebc0a4e\" y=\"150.739125\"/>\r\n     <use style=\"fill:#0000ff;stroke:#0000ff;\" x=\"124.735028\" xlink:href=\"#m528ebc0a4e\" y=\"141.172302\"/>\r\n     <use style=\"fill:#0000ff;stroke:#0000ff;\" x=\"149.582945\" xlink:href=\"#m528ebc0a4e\" y=\"138.191887\"/>\r\n     <use style=\"fill:#0000ff;stroke:#0000ff;\" x=\"179.617231\" xlink:href=\"#m528ebc0a4e\" y=\"147.506071\"/>\r\n     <use style=\"fill:#0000ff;stroke:#0000ff;\" x=\"289.801912\" xlink:href=\"#m528ebc0a4e\" y=\"104.46221\"/>\r\n     <use style=\"fill:#0000ff;stroke:#0000ff;\" x=\"93.775782\" xlink:href=\"#m528ebc0a4e\" y=\"154.257163\"/>\r\n     <use style=\"fill:#0000ff;stroke:#0000ff;\" x=\"199.09069\" xlink:href=\"#m528ebc0a4e\" y=\"133.559757\"/>\r\n     <use style=\"fill:#0000ff;stroke:#0000ff;\" x=\"225.265398\" xlink:href=\"#m528ebc0a4e\" y=\"117.468148\"/>\r\n     <use style=\"fill:#0000ff;stroke:#0000ff;\" x=\"42.476598\" xlink:href=\"#m528ebc0a4e\" y=\"156.758808\"/>\r\n     <use style=\"fill:#0000ff;stroke:#0000ff;\" x=\"230.331016\" xlink:href=\"#m528ebc0a4e\" y=\"86.472028\"/>\r\n     <use style=\"fill:#0000ff;stroke:#0000ff;\" x=\"84.016477\" xlink:href=\"#m528ebc0a4e\" y=\"149.293814\"/>\r\n     <use style=\"fill:#0000ff;stroke:#0000ff;\" x=\"48.704273\" xlink:href=\"#m528ebc0a4e\" y=\"157.264622\"/>\r\n     <use style=\"fill:#0000ff;stroke:#0000ff;\" x=\"344.611878\" xlink:href=\"#m528ebc0a4e\" y=\"85.2049\"/>\r\n     <use style=\"fill:#0000ff;stroke:#0000ff;\" x=\"350.218605\" xlink:href=\"#m528ebc0a4e\" y=\"110.483696\"/>\r\n     <use style=\"fill:#0000ff;stroke:#0000ff;\" x=\"297.576432\" xlink:href=\"#m528ebc0a4e\" y=\"96.729177\"/>\r\n     <use style=\"fill:#0000ff;stroke:#0000ff;\" x=\"128.90969\" xlink:href=\"#m528ebc0a4e\" y=\"139.288816\"/>\r\n     <use style=\"fill:#0000ff;stroke:#0000ff;\" x=\"59.625624\" xlink:href=\"#m528ebc0a4e\" y=\"122.453713\"/>\r\n     <use style=\"fill:#0000ff;stroke:#0000ff;\" x=\"256.006217\" xlink:href=\"#m528ebc0a4e\" y=\"109.932613\"/>\r\n     <use style=\"fill:#0000ff;stroke:#0000ff;\" x=\"174.288055\" xlink:href=\"#m528ebc0a4e\" y=\"124.002066\"/>\r\n     <use style=\"fill:#0000ff;stroke:#0000ff;\" x=\"67.783401\" xlink:href=\"#m528ebc0a4e\" y=\"156.544784\"/>\r\n     <use style=\"fill:#0000ff;stroke:#0000ff;\" x=\"192.71023\" xlink:href=\"#m528ebc0a4e\" y=\"140.52865\"/>\r\n     <use style=\"fill:#0000ff;stroke:#0000ff;\" x=\"38.438277\" xlink:href=\"#m528ebc0a4e\" y=\"147.098664\"/>\r\n     <use style=\"fill:#0000ff;stroke:#0000ff;\" x=\"331.365471\" xlink:href=\"#m528ebc0a4e\" y=\"76.666927\"/>\r\n     <use style=\"fill:#0000ff;stroke:#0000ff;\" x=\"113.564538\" xlink:href=\"#m528ebc0a4e\" y=\"132.681553\"/>\r\n     <use style=\"fill:#0000ff;stroke:#0000ff;\" x=\"248.737461\" xlink:href=\"#m528ebc0a4e\" y=\"122.214942\"/>\r\n     <use style=\"fill:#0000ff;stroke:#0000ff;\" x=\"131.285868\" xlink:href=\"#m528ebc0a4e\" y=\"119.209711\"/>\r\n     <use style=\"fill:#0000ff;stroke:#0000ff;\" x=\"201.043773\" xlink:href=\"#m528ebc0a4e\" y=\"141.743797\"/>\r\n     <use style=\"fill:#0000ff;stroke:#0000ff;\" x=\"209.963602\" xlink:href=\"#m528ebc0a4e\" y=\"110.598246\"/>\r\n     <use style=\"fill:#0000ff;stroke:#0000ff;\" x=\"88.814272\" xlink:href=\"#m528ebc0a4e\" y=\"118.825254\"/>\r\n     <use style=\"fill:#0000ff;stroke:#0000ff;\" x=\"351.541933\" xlink:href=\"#m528ebc0a4e\" y=\"96.684222\"/>\r\n     <use style=\"fill:#0000ff;stroke:#0000ff;\" x=\"286.439469\" xlink:href=\"#m528ebc0a4e\" y=\"107.447099\"/>\r\n     <use style=\"fill:#0000ff;stroke:#0000ff;\" x=\"341.469246\" xlink:href=\"#m528ebc0a4e\" y=\"83.497594\"/>\r\n     <use style=\"fill:#0000ff;stroke:#0000ff;\" x=\"326.513197\" xlink:href=\"#m528ebc0a4e\" y=\"96.125879\"/>\r\n     <use style=\"fill:#0000ff;stroke:#0000ff;\" x=\"227.101913\" xlink:href=\"#m528ebc0a4e\" y=\"137.131469\"/>\r\n     <use style=\"fill:#0000ff;stroke:#0000ff;\" x=\"335.568494\" xlink:href=\"#m528ebc0a4e\" y=\"85.481178\"/>\r\n     <use style=\"fill:#0000ff;stroke:#0000ff;\" x=\"56.55229\" xlink:href=\"#m528ebc0a4e\" y=\"174.358431\"/>\r\n     <use style=\"fill:#0000ff;stroke:#0000ff;\" x=\"92.540062\" xlink:href=\"#m528ebc0a4e\" y=\"142.744999\"/>\r\n     <use style=\"fill:#0000ff;stroke:#0000ff;\" x=\"42.067096\" xlink:href=\"#m528ebc0a4e\" y=\"176.050285\"/>\r\n     <use style=\"fill:#0000ff;stroke:#0000ff;\" x=\"135.845595\" xlink:href=\"#m528ebc0a4e\" y=\"115.89222\"/>\r\n     <use style=\"fill:#0000ff;stroke:#0000ff;\" x=\"157.054157\" xlink:href=\"#m528ebc0a4e\" y=\"144.204444\"/>\r\n     <use style=\"fill:#0000ff;stroke:#0000ff;\" x=\"117.772656\" xlink:href=\"#m528ebc0a4e\" y=\"147.72375\"/>\r\n     <use style=\"fill:#0000ff;stroke:#0000ff;\" x=\"304.386318\" xlink:href=\"#m528ebc0a4e\" y=\"82.782981\"/>\r\n     <use style=\"fill:#0000ff;stroke:#0000ff;\" x=\"146.366014\" xlink:href=\"#m528ebc0a4e\" y=\"153.469632\"/>\r\n     <use style=\"fill:#0000ff;stroke:#0000ff;\" x=\"120.981874\" xlink:href=\"#m528ebc0a4e\" y=\"138.924181\"/>\r\n     <use style=\"fill:#0000ff;stroke:#0000ff;\" x=\"208.619649\" xlink:href=\"#m528ebc0a4e\" y=\"100.506124\"/>\r\n     <use style=\"fill:#0000ff;stroke:#0000ff;\" x=\"74.106431\" xlink:href=\"#m528ebc0a4e\" y=\"177.701052\"/>\r\n     <use style=\"fill:#0000ff;stroke:#0000ff;\" x=\"295.500549\" xlink:href=\"#m528ebc0a4e\" y=\"94.207663\"/>\r\n     <use style=\"fill:#0000ff;stroke:#0000ff;\" x=\"51.884556\" xlink:href=\"#m528ebc0a4e\" y=\"156.404622\"/>\r\n     <use style=\"fill:#0000ff;stroke:#0000ff;\" x=\"357.334746\" xlink:href=\"#m528ebc0a4e\" y=\"69.487217\"/>\r\n     <use style=\"fill:#0000ff;stroke:#0000ff;\" x=\"285.472549\" xlink:href=\"#m528ebc0a4e\" y=\"117.420076\"/>\r\n     <use style=\"fill:#0000ff;stroke:#0000ff;\" x=\"93.45501\" xlink:href=\"#m528ebc0a4e\" y=\"168.513844\"/>\r\n     <use style=\"fill:#0000ff;stroke:#0000ff;\" x=\"28.773805\" xlink:href=\"#m528ebc0a4e\" y=\"158.609643\"/>\r\n     <use style=\"fill:#0000ff;stroke:#0000ff;\" x=\"299.941486\" xlink:href=\"#m528ebc0a4e\" y=\"91.425337\"/>\r\n     <use style=\"fill:#0000ff;stroke:#0000ff;\" x=\"263.580839\" xlink:href=\"#m528ebc0a4e\" y=\"101.545231\"/>\r\n     <use style=\"fill:#0000ff;stroke:#0000ff;\" x=\"270.9966\" xlink:href=\"#m528ebc0a4e\" y=\"98.227759\"/>\r\n     <use style=\"fill:#0000ff;stroke:#0000ff;\" x=\"285.146312\" xlink:href=\"#m528ebc0a4e\" y=\"109.431629\"/>\r\n     <use style=\"fill:#0000ff;stroke:#0000ff;\" x=\"51.715149\" xlink:href=\"#m528ebc0a4e\" y=\"156.849143\"/>\r\n     <use style=\"fill:#0000ff;stroke:#0000ff;\" x=\"146.939326\" xlink:href=\"#m528ebc0a4e\" y=\"131.229706\"/>\r\n     <use style=\"fill:#0000ff;stroke:#0000ff;\" x=\"65.717961\" xlink:href=\"#m528ebc0a4e\" y=\"166.933411\"/>\r\n     <use style=\"fill:#0000ff;stroke:#0000ff;\" x=\"315.892027\" xlink:href=\"#m528ebc0a4e\" y=\"64.540449\"/>\r\n     <use style=\"fill:#0000ff;stroke:#0000ff;\" x=\"235.605213\" xlink:href=\"#m528ebc0a4e\" y=\"105.57534\"/>\r\n     <use style=\"fill:#0000ff;stroke:#0000ff;\" x=\"137.709659\" xlink:href=\"#m528ebc0a4e\" y=\"155.144949\"/>\r\n     <use style=\"fill:#0000ff;stroke:#0000ff;\" x=\"48.204336\" xlink:href=\"#m528ebc0a4e\" y=\"151.610548\"/>\r\n     <use style=\"fill:#0000ff;stroke:#0000ff;\" x=\"131.041881\" xlink:href=\"#m528ebc0a4e\" y=\"153.736987\"/>\r\n     <use style=\"fill:#0000ff;stroke:#0000ff;\" x=\"135.796376\" xlink:href=\"#m528ebc0a4e\" y=\"126.963277\"/>\r\n     <use style=\"fill:#0000ff;stroke:#0000ff;\" x=\"271.197149\" xlink:href=\"#m528ebc0a4e\" y=\"86.402772\"/>\r\n     <use style=\"fill:#0000ff;stroke:#0000ff;\" x=\"240.379241\" xlink:href=\"#m528ebc0a4e\" y=\"123.100412\"/>\r\n     <use style=\"fill:#0000ff;stroke:#0000ff;\" x=\"323.963826\" xlink:href=\"#m528ebc0a4e\" y=\"75.524684\"/>\r\n     <use style=\"fill:#0000ff;stroke:#0000ff;\" x=\"185.022557\" xlink:href=\"#m528ebc0a4e\" y=\"119.600962\"/>\r\n     <use style=\"fill:#0000ff;stroke:#0000ff;\" x=\"66.965154\" xlink:href=\"#m528ebc0a4e\" y=\"144.337587\"/>\r\n     <use style=\"fill:#0000ff;stroke:#0000ff;\" x=\"265.719355\" xlink:href=\"#m528ebc0a4e\" y=\"77.12491\"/>\r\n     <use style=\"fill:#0000ff;stroke:#0000ff;\" x=\"281.635834\" xlink:href=\"#m528ebc0a4e\" y=\"104.043106\"/>\r\n     <use style=\"fill:#0000ff;stroke:#0000ff;\" x=\"214.840606\" xlink:href=\"#m528ebc0a4e\" y=\"128.764514\"/>\r\n     <use style=\"fill:#0000ff;stroke:#0000ff;\" x=\"285.044812\" xlink:href=\"#m528ebc0a4e\" y=\"112.49476\"/>\r\n     <use style=\"fill:#0000ff;stroke:#0000ff;\" x=\"192.247766\" xlink:href=\"#m528ebc0a4e\" y=\"135.53362\"/>\r\n     <use style=\"fill:#0000ff;stroke:#0000ff;\" x=\"201.935951\" xlink:href=\"#m528ebc0a4e\" y=\"122.308456\"/>\r\n     <use style=\"fill:#0000ff;stroke:#0000ff;\" x=\"170.065733\" xlink:href=\"#m528ebc0a4e\" y=\"124.524853\"/>\r\n     <use style=\"fill:#0000ff;stroke:#0000ff;\" x=\"35.435324\" xlink:href=\"#m528ebc0a4e\" y=\"160.434236\"/>\r\n     <use style=\"fill:#0000ff;stroke:#0000ff;\" x=\"63.04705\" xlink:href=\"#m528ebc0a4e\" y=\"145.281187\"/>\r\n    </g>\r\n   </g>\r\n   <g id=\"patch_3\">\r\n    <path d=\"M 26.925 224.64 \r\nL 26.925 7.2 \r\n\" style=\"fill:none;stroke:#000000;stroke-linecap:square;stroke-linejoin:miter;stroke-width:0.8;\"/>\r\n   </g>\r\n   <g id=\"patch_4\">\r\n    <path d=\"M 361.725 224.64 \r\nL 361.725 7.2 \r\n\" style=\"fill:none;stroke:#000000;stroke-linecap:square;stroke-linejoin:miter;stroke-width:0.8;\"/>\r\n   </g>\r\n   <g id=\"patch_5\">\r\n    <path d=\"M 26.925 224.64 \r\nL 361.725 224.64 \r\n\" style=\"fill:none;stroke:#000000;stroke-linecap:square;stroke-linejoin:miter;stroke-width:0.8;\"/>\r\n   </g>\r\n   <g id=\"patch_6\">\r\n    <path d=\"M 26.925 7.2 \r\nL 361.725 7.2 \r\n\" style=\"fill:none;stroke:#000000;stroke-linecap:square;stroke-linejoin:miter;stroke-width:0.8;\"/>\r\n   </g>\r\n  </g>\r\n </g>\r\n <defs>\r\n  <clipPath id=\"p5f231fcb6a\">\r\n   <rect height=\"217.44\" width=\"334.8\" x=\"26.925\" y=\"7.2\"/>\r\n  </clipPath>\r\n </defs>\r\n</svg>\r\n",
      "image/png": "[encoded data removed]"
     },
     "metadata": {
      "needs_background": "light"
     }
    }
   ],
   "source": [
    "plt.plot(X_new, y_predict, \"r-\")\n",
    "plt.plot(X, y, \"b.\")\n",
    "plt.axis([0, 2, 0, 15])\n",
    "plt.show()"
   ]
  },
  {
   "cell_type": "code",
   "execution_count": 10,
   "metadata": {},
   "outputs": [],
   "source": [
    "from sklearn.linear_model import LinearRegression"
   ]
  },
  {
   "cell_type": "code",
   "execution_count": 11,
   "metadata": {},
   "outputs": [
    {
     "output_type": "execute_result",
     "data": {
      "text/plain": [
       "(array([4.21509616]), array([[2.77011339]]))"
      ]
     },
     "metadata": {},
     "execution_count": 11
    }
   ],
   "source": [
    "lin_reg = LinearRegression()\n",
    "lin_reg.fit(X, y)\n",
    "lin_reg.intercept_, lin_reg.coef_"
   ]
  },
  {
   "cell_type": "code",
   "execution_count": 12,
   "metadata": {},
   "outputs": [
    {
     "output_type": "execute_result",
     "data": {
      "text/plain": [
       "array([[4.21509616],\n",
       "       [9.75532293]])"
      ]
     },
     "metadata": {},
     "execution_count": 12
    }
   ],
   "source": [
    "lin_reg.predict(X_new)"
   ]
  },
  {
   "source": [
    "> Note: Scikit-Learn separates the bias term (`intercept_`) from the feature weights (`coef_`)."
   ],
   "cell_type": "markdown",
   "metadata": {}
  },
  {
   "source": [
    "`LinearRegression` class is based on `scipy.linalg.lstsq()` (\"least squares\")."
   ],
   "cell_type": "markdown",
   "metadata": {}
  },
  {
   "cell_type": "code",
   "execution_count": 13,
   "metadata": {},
   "outputs": [
    {
     "output_type": "execute_result",
     "data": {
      "text/plain": [
       "array([[4.21509616],\n",
       "       [2.77011339]])"
      ]
     },
     "metadata": {},
     "execution_count": 13
    }
   ],
   "source": [
    "theta_best_svd, residuals, rank, s = np.linalg.lstsq(X_b, y, rcond=1e-6)\n",
    "theta_best_svd"
   ]
  },
  {
   "source": [
    "This function computes $\\hat{\\theta} = X^+ \\vec{y}$, where $X^+$ is the pseudoinverse of $X$. Use `np.linalg.pinv()` to compute the pseudoinverse directly."
   ],
   "cell_type": "markdown",
   "metadata": {}
  },
  {
   "cell_type": "code",
   "execution_count": 14,
   "metadata": {},
   "outputs": [
    {
     "output_type": "execute_result",
     "data": {
      "text/plain": [
       "array([[4.21509616],\n",
       "       [2.77011339]])"
      ]
     },
     "metadata": {},
     "execution_count": 14
    }
   ],
   "source": [
    "np.linalg.pinv(X_b) @ y"
   ]
  },
  {
   "source": [
    "The pseudoinverse is computed using *Singular Value Decomposition (SVD)*. This approach is more efficient than computing the Normal Equation.\n",
    "\n",
    "> Note: The Normal Equation may not work if the matrix $X^T X$ is not invertible (singular), such as if $m<n$ or if some features are redundant, but the pseudoinverse is always defined."
   ],
   "cell_type": "markdown",
   "metadata": {}
  },
  {
   "source": [
    "### 4.1.2 Computational Complexity"
   ],
   "cell_type": "markdown",
   "metadata": {}
  },
  {
   "source": [
    "The Normal Equation computes the inverse $X^T X$, $ (n+1) \\times (n+1)$ matrix. The *computational complexity* of inverting such a matrix is typically $O(n^{2.4})$ - $O(n^3)$. So if you double the number of features, you multiply the computation by roughly 5.3 to 8.\n",
    "\n",
    "The SVD approach used by Scikit-Learn's `LinearRegression` is about $O(n^2)$.\n",
    "\n",
    "> Note: Both the Normal Equation and SVD get very slow when the number of features grows large (100,000). But both are linear ($O(m)$) to the number of instances in the training set so they handle large training sets efficiently.\n",
    "Ie. $\\uparrow$n features, slower performance. $\\uparrow$m examples, still efficient."
   ],
   "cell_type": "markdown",
   "metadata": {}
  },
  {
   "source": [
    "## 4.2 Gradient Descent"
   ],
   "cell_type": "markdown",
   "metadata": {}
  },
  {
   "source": [
    "Gradient Descent measures the local gradient of the error function with regard to the parameter $\\vec{\\theta}$ and goes in the direction of descending gradient. Once the gradient is 0, you have reached a minimum!\n",
    "\n",
    "Problems with Gradient Descent:\n",
    "- Can converge to a *local minimum* and not *global minimum*\n",
    "- With small learning rate $\\alpha$, can take long to reach a minimum\n",
    "- With large learning rate $\\alpha$, can overshoot and diverge\n",
    "- With plateaus, each gradient descent step is very small and takes long time\n",
    "\n",
    "The MSE cost function for a Linear Regression model is a *convex function*, meaning that local minimum = global maximum and is guaranteed to approach the global min. given enough steps and learning rate is not too high.\n",
    "\n",
    "> Note: When using Gradient Descent, you should ensure that all features have a similar scale (eg. using Scikit-Learn's `StandardScaler`). When scales are mismatched, smaller values will take a longer time to converge."
   ],
   "cell_type": "markdown",
   "metadata": {}
  },
  {
   "source": [
    "### 4.2.1 Batch Gradient Descent"
   ],
   "cell_type": "markdown",
   "metadata": {}
  },
  {
   "source": [
    "*Equation 4-5. Partial derivatives of the cost function*\n",
    "\n",
    "$$ \\frac{\\partial}{\\partial\\theta_j}MSE(\\theta) = \\frac{2}{m} \\sum_{i=1}^{m}{(\\theta^T \\mathbf{x^{(i)}} - y^{(i)}) x_j^{(i)}} $$\n",
    "\n",
    "*Equation 4-6. Gradient vector of the cost function*\n",
    "\n",
    "$$ \n",
    "\\nabla_\\theta MSE(\\theta)\n",
    "=\n",
    "\\begin{pmatrix}\n",
    "\\frac{\\partial}{\\partial\\theta_0} MSE(\\theta) \\\\\n",
    "\\frac{\\partial}{\\partial\\theta_1} MSE(\\theta) \\\\\n",
    "\\vdots \\\\\n",
    "\\frac{\\partial}{\\partial\\theta_n} MSE(\\theta)\n",
    "\\end{pmatrix}\n",
    "=\n",
    "\\frac{2}{m} \\mathbf{X}^T\n",
    "(\\mathbf{X\\theta} - \\mathbf{y})\n",
    "$$\n",
    "\n",
    "> Note: Gradient vector involves the full training set $\\mathbf{X}$,\n",
    ">> Slow, when $\\uparrow\\uparrow m $ training examples\n",
    ">>\n",
    ">> Fast, when $\\uparrow\\uparrow n$ features (more efficient than Normal Equation/SVD decomposition)\n",
    "\n",
    "Gradient vector points uphill ($+$) so go in opposite direction to go downhill ($-$) by multiplying by learning rate $\\eta$ and subtracting the gradient from $\\theta$.\n",
    "\n",
    "*Equation-4-7. Gradient Descent step*\n",
    "\n",
    "$$ \n",
    "\\theta^{(next \\: step)} = \\theta -\n",
    "\\eta \\nabla_\\theta MSE(\\theta)\n",
    "$$"
   ],
   "cell_type": "markdown",
   "metadata": {}
  },
  {
   "cell_type": "code",
   "execution_count": 15,
   "metadata": {},
   "outputs": [
    {
     "output_type": "execute_result",
     "data": {
      "text/plain": [
       "array([[4.21509616],\n",
       "       [2.77011339]])"
      ]
     },
     "metadata": {},
     "execution_count": 15
    }
   ],
   "source": [
    "eta = 0.1 # learning rate\n",
    "n_iterations = 1000\n",
    "m = 100\n",
    "\n",
    "theta = np.random.randn(2, 1) # random initialization\n",
    "\n",
    "for iteration in range(n_iterations):\n",
    "    gradients = 2/m * X_b.T @ (X_b @ theta - y)\n",
    "    theta = theta - eta * gradients\n",
    "\n",
    "theta"
   ]
  },
  {
   "source": [
    "To find a good learning rate, you can use `grid search`. However, limit the number of iterations so that grid search can eliminate models that take too long to converge.\n",
    "\n",
    "How many iterations? Set a very large number of iterations but interrupt the algorithm when the gradient vector becomes tiny, $ << \\epsilon $, where $\\epsilon$ is the tolerance.\n",
    "\n",
    "> **Convergence Rate**\n",
    ">> When the cost function is convex and slope does not change abruptly, Batch Gradient Descent with a fixed learning rate will converge to optimal solution.\n",
    ">>\n",
    ">> It can take $O(1/\\epsilon)$ to reach optimum within range of $\\epsilon$.  \n",
    ">> If you divide tolerance by 10 for more precision, it may have to run 10x longer."
   ],
   "cell_type": "markdown",
   "metadata": {}
  },
  {
   "source": [
    "### 4.2.2 Stochastic Gradient Descent"
   ],
   "cell_type": "markdown",
   "metadata": {}
  },
  {
   "source": [
    "*Stochastic Gradient Descent* picks a random instance in the training set at every step and computes the gradients based only on that single instance.\n",
    "\n",
    "Stochastic Gradient Descent has a better chance of finding the global minimum than Batch Gradient Descent.\n",
    "\n",
    "Start with a high learning rate to escape any local minima and then gradually reduce to settle at the minimum."
   ],
   "cell_type": "markdown",
   "metadata": {}
  },
  {
   "cell_type": "code",
   "execution_count": 18,
   "metadata": {},
   "outputs": [
    {
     "output_type": "execute_result",
     "data": {
      "text/plain": [
       "array([[4.20758642],\n",
       "       [2.81796585]])"
      ]
     },
     "metadata": {},
     "execution_count": 18
    }
   ],
   "source": [
    "n_epochs = 50\n",
    "t0, t1 = 5, 50 # learning schedule hyperparameters\n",
    "\n",
    "def learning_schedule(t):\n",
    "    return t0 / (t+t1)\n",
    "\n",
    "theta = np.random.randn(2, 1) # random initialization\n",
    "\n",
    "for epoch in range(n_epochs):\n",
    "    for i in range(m):\n",
    "        random_index = np.random.randint(m)\n",
    "        xi = X_b[random_index:random_index+1]\n",
    "        yi = y[random_index:random_index+1]\n",
    "        gradients = 2*xi.T@(xi@theta - yi)\n",
    "        eta = learning_schedule(epoch*m + 1)\n",
    "        theta = theta - eta*gradients\n",
    "theta"
   ]
  },
  {
   "source": [
    "> Note: Instances are picked randomly, so some may be picked several times per epoch, while others may not be picked at all. You can shuffle the training set, go through instance by instance, and then shuffle again, but this generally converges more slowly."
   ],
   "cell_type": "markdown",
   "metadata": {}
  },
  {
   "source": [
    "Use Scikit-Learn's `SGDRegressor` to perform Linear Regression using Stochastic GD.\n",
    "\n",
    "- `max_iter=1000, tol=1e-3` runs for 1,000 epochs or until the loss drops by less than 0.001.\n",
    "- `eta0=0.1` starts with  learning rate of 0.1 and default learning schedule (Scikit-Learn's default).\n",
    "- `penalty=None` does not use any regularization."
   ],
   "cell_type": "markdown",
   "metadata": {}
  },
  {
   "cell_type": "code",
   "execution_count": 19,
   "metadata": {},
   "outputs": [],
   "source": [
    "from sklearn.linear_model import SGDRegressor"
   ]
  },
  {
   "cell_type": "code",
   "execution_count": 20,
   "metadata": {},
   "outputs": [
    {
     "output_type": "execute_result",
     "data": {
      "text/plain": [
       "(array([4.21321447]), array([2.78639198]))"
      ]
     },
     "metadata": {},
     "execution_count": 20
    }
   ],
   "source": [
    "sgd_reg = SGDRegressor(max_iter=1000, tol=1e-3, penalty=None, eta0=0.1)\n",
    "sgd_reg.fit(X, y.ravel())\n",
    "sgd_reg.intercept_, sgd_reg.coef_"
   ]
  },
  {
   "source": [
    "### 4.2.3 Mini-batch Gradient Descent"
   ],
   "cell_type": "markdown",
   "metadata": {}
  },
  {
   "source": [
    "At each step, instead of computing the gradients based on the full training set (Batch GD) or based on one instance (Stochastic GD), Mini-batch GD computes the gradients on small random sets of instances called *mini-batches*.\n",
    "\n",
    "Mini-batch GD will end up walking around a bit closer to the minimum thatn Stochastic GD, but may be harder to escape a local minima.\n",
    "\n",
    "Mini-batch is the middle ground between Batch/Stochastic."
   ],
   "cell_type": "markdown",
   "metadata": {}
  },
  {
   "source": [
    "## 4.3 Polynomial Regression"
   ],
   "cell_type": "markdown",
   "metadata": {}
  },
  {
   "source": [
    "## 4.4 Learning Curves"
   ],
   "cell_type": "markdown",
   "metadata": {}
  },
  {
   "source": [
    "## 4.5 Regularized Linear Models"
   ],
   "cell_type": "markdown",
   "metadata": {}
  },
  {
   "source": [
    "### 4.5.1 Ridge Regression"
   ],
   "cell_type": "markdown",
   "metadata": {}
  },
  {
   "source": [
    "### 4.5.2 Lasso Regression"
   ],
   "cell_type": "markdown",
   "metadata": {}
  },
  {
   "source": [
    "### 4.5.3 Elastic Net"
   ],
   "cell_type": "markdown",
   "metadata": {}
  },
  {
   "source": [
    "### 4.5.4 Early Stopping"
   ],
   "cell_type": "markdown",
   "metadata": {}
  },
  {
   "source": [
    "## 4.6 Logistic Regression"
   ],
   "cell_type": "markdown",
   "metadata": {}
  },
  {
   "source": [
    "### 4.6.1 Estimating Probabilities"
   ],
   "cell_type": "markdown",
   "metadata": {}
  },
  {
   "source": [
    "### 4.6.2 Training and Cost Function"
   ],
   "cell_type": "markdown",
   "metadata": {}
  },
  {
   "source": [
    "### 4.6.3 Decision Boundaries"
   ],
   "cell_type": "markdown",
   "metadata": {}
  },
  {
   "source": [
    "### 4.6.4 Softmax Regression"
   ],
   "cell_type": "markdown",
   "metadata": {}
  }
 ]
}