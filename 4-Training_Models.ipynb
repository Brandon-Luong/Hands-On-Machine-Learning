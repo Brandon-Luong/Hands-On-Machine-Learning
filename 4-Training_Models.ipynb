{
 "metadata": {
  "language_info": {
   "codemirror_mode": {
    "name": "ipython",
    "version": 3
   },
   "file_extension": ".py",
   "mimetype": "text/x-python",
   "name": "python",
   "nbconvert_exporter": "python",
   "pygments_lexer": "ipython3",
   "version": "3.9.0-final"
  },
  "orig_nbformat": 2,
  "kernelspec": {
   "name": "python3",
   "display_name": "Python 3.9.0 64-bit ('venv')",
   "metadata": {
    "interpreter": {
     "hash": "54b71c1b326a101c02c54fb24502b2663857f505f7b72a06051ccceba068a4ff"
    }
   }
  }
 },
 "nbformat": 4,
 "nbformat_minor": 2,
 "cells": [
  {
   "source": [
    "# Chapter 4: Training Models"
   ],
   "cell_type": "markdown",
   "metadata": {}
  },
  {
   "cell_type": "code",
   "execution_count": 1,
   "metadata": {},
   "outputs": [],
   "source": [
    "import numpy as np\n",
    "import matplotlib.pyplot as plt"
   ]
  },
  {
   "source": [
    "## 4.1 Linear Regression"
   ],
   "cell_type": "markdown",
   "metadata": {}
  },
  {
   "source": [
    "*Equation 4-1. Linear Regression model prediction*\n",
    "\n",
    "$$ \\hat{y} = \\theta_0 + \\theta_1x_1 + \\theta_2x_2 + ... + \\theta_nx_n$$  \n",
    "\n",
    "where:\n",
    "- $\\hat{y}$ is the predicted value\n",
    "- $n$ is the number of features\n",
    "- $x_i$ is the ith feature value.\n",
    "- $\\theta_j$ is the jth model parameter (including the bias term $\\theta_0$ and the feature weights)\n",
    "\n",
    "*Equation 4-2. Linear Regression model prediction (vectorized form)*\n",
    "\n",
    "$$ \\hat{y} = h_\\theta(x) = \\vec{\\theta} \\cdot \\vec{x} $$\n",
    "\n",
    "where:\n",
    "- $\\vec{\\theta}$ is the model's parameter vector\n",
    "- $\\vec{x}$ is the instance's feature vector, with $x_0$ always equal to 1\n",
    "- $h_\\theta$ is the hypothesis function\n",
    "\n",
    "> Note: Vectors are often represented as *column vectors* so prediction is $\\hat{y} = \\theta^T x$, (matrix multiplication).  \n",
    "\n",
    "To measure how well (or poorly) the model fits to the training data, find the value of $\\theta$ that minimizes the Root Mean Square Error (RMSE) / Mean Squared Error (MSE) - value that minimizes the function also minimizes the square root.\n",
    "\n",
    "*Equation 4-3. MSE cost function function for a Linear Regression model*\n",
    "\n",
    "$$ MSE(X, h_\\theta) = \\frac{1}{m} \\sum_{i=1}^{m} (\\theta^T x^{(i)} - y^{(i)})^2$$"
   ],
   "cell_type": "markdown",
   "metadata": {}
  },
  {
   "source": [
    "### 4.1.1 The Normal Equation"
   ],
   "cell_type": "markdown",
   "metadata": {}
  },
  {
   "source": [
    "The `Normal Equation` is a closed-form solution that minimizes the cost function and finds the value of $\\theta$.\n",
    "\n",
    "*Equation 4-4. Normal Equation*\n",
    "\n",
    "$$ \\hat{\\theta} = (X^T X)^{-1} X^T \\vec{y}$$\n",
    "\n",
    "where:\n",
    "- $\\hat{\\theta}$ is the value of $\\theta$ that minimizes the cost function.\n",
    "- $\\vec{y}$ is the vector of target values containing $y^{(1)}$ to $y^{(m)}$."
   ],
   "cell_type": "markdown",
   "metadata": {}
  },
  {
   "source": [
    "Let's generate some linear-looking data to test this equation."
   ],
   "cell_type": "markdown",
   "metadata": {}
  },
  {
   "cell_type": "code",
   "execution_count": 2,
   "metadata": {},
   "outputs": [],
   "source": [
    "import numpy as np"
   ]
  },
  {
   "cell_type": "code",
   "execution_count": 11,
   "metadata": {},
   "outputs": [
    {
     "output_type": "display_data",
     "data": {
      "text/plain": "<Figure size 432x288 with 1 Axes>",
      "image/svg+xml": "<?xml version=\"1.0\" encoding=\"utf-8\" standalone=\"no\"?>\r\n<!DOCTYPE svg PUBLIC \"-//W3C//DTD SVG 1.1//EN\"\r\n  \"http://www.w3.org/Graphics/SVG/1.1/DTD/svg11.dtd\">\r\n<!-- Created with matplotlib (https://matplotlib.org/) -->\r\n<svg height=\"248.518125pt\" version=\"1.1\" viewBox=\"0 0 372.680933 248.518125\" width=\"372.680933pt\" xmlns=\"http://www.w3.org/2000/svg\" xmlns:xlink=\"http://www.w3.org/1999/xlink\">\r\n <metadata>\r\n  <rdf:RDF xmlns:cc=\"http://creativecommons.org/ns#\" xmlns:dc=\"http://purl.org/dc/elements/1.1/\" xmlns:rdf=\"http://www.w3.org/1999/02/22-rdf-syntax-ns#\">\r\n   <cc:Work>\r\n    <dc:type rdf:resource=\"http://purl.org/dc/dcmitype/StillImage\"/>\r\n    <dc:date>2021-01-12T17:08:59.918731</dc:date>\r\n    <dc:format>image/svg+xml</dc:format>\r\n    <dc:creator>\r\n     <cc:Agent>\r\n      <dc:title>Matplotlib v3.3.3, https://matplotlib.org/</dc:title>\r\n     </cc:Agent>\r\n    </dc:creator>\r\n   </cc:Work>\r\n  </rdf:RDF>\r\n </metadata>\r\n <defs>\r\n  <style type=\"text/css\">*{stroke-linecap:butt;stroke-linejoin:round;}</style>\r\n </defs>\r\n <g id=\"figure_1\">\r\n  <g id=\"patch_1\">\r\n   <path d=\"M -0 248.518125 \r\nL 372.680933 248.518125 \r\nL 372.680933 0 \r\nL -0 0 \r\nz\r\n\" style=\"fill:none;\"/>\r\n  </g>\r\n  <g id=\"axes_1\">\r\n   <g id=\"patch_2\">\r\n    <path d=\"M 26.925 224.64 \r\nL 361.725 224.64 \r\nL 361.725 7.2 \r\nL 26.925 7.2 \r\nz\r\n\" style=\"fill:#ffffff;\"/>\r\n   </g>\r\n   <g id=\"matplotlib.axis_1\">\r\n    <g id=\"xtick_1\">\r\n     <g id=\"line2d_1\">\r\n      <defs>\r\n       <path d=\"M 0 0 \r\nL 0 3.5 \r\n\" id=\"m3ab3f5022d\" style=\"stroke:#000000;stroke-width:0.8;\"/>\r\n      </defs>\r\n      <g>\r\n       <use style=\"stroke:#000000;stroke-width:0.8;\" x=\"38.958077\" xlink:href=\"#m3ab3f5022d\" y=\"224.64\"/>\r\n      </g>\r\n     </g>\r\n     <g id=\"text_1\">\r\n      <!-- 0.00 -->\r\n      <g transform=\"translate(27.825264 239.238437)scale(0.1 -0.1)\">\r\n       <defs>\r\n        <path d=\"M 31.78125 66.40625 \r\nQ 24.171875 66.40625 20.328125 58.90625 \r\nQ 16.5 51.421875 16.5 36.375 \r\nQ 16.5 21.390625 20.328125 13.890625 \r\nQ 24.171875 6.390625 31.78125 6.390625 \r\nQ 39.453125 6.390625 43.28125 13.890625 \r\nQ 47.125 21.390625 47.125 36.375 \r\nQ 47.125 51.421875 43.28125 58.90625 \r\nQ 39.453125 66.40625 31.78125 66.40625 \r\nz\r\nM 31.78125 74.21875 \r\nQ 44.046875 74.21875 50.515625 64.515625 \r\nQ 56.984375 54.828125 56.984375 36.375 \r\nQ 56.984375 17.96875 50.515625 8.265625 \r\nQ 44.046875 -1.421875 31.78125 -1.421875 \r\nQ 19.53125 -1.421875 13.0625 8.265625 \r\nQ 6.59375 17.96875 6.59375 36.375 \r\nQ 6.59375 54.828125 13.0625 64.515625 \r\nQ 19.53125 74.21875 31.78125 74.21875 \r\nz\r\n\" id=\"DejaVuSans-48\"/>\r\n        <path d=\"M 10.6875 12.40625 \r\nL 21 12.40625 \r\nL 21 0 \r\nL 10.6875 0 \r\nz\r\n\" id=\"DejaVuSans-46\"/>\r\n       </defs>\r\n       <use xlink:href=\"#DejaVuSans-48\"/>\r\n       <use x=\"63.623047\" xlink:href=\"#DejaVuSans-46\"/>\r\n       <use x=\"95.410156\" xlink:href=\"#DejaVuSans-48\"/>\r\n       <use x=\"159.033203\" xlink:href=\"#DejaVuSans-48\"/>\r\n      </g>\r\n     </g>\r\n    </g>\r\n    <g id=\"xtick_2\">\r\n     <g id=\"line2d_2\">\r\n      <g>\r\n       <use style=\"stroke:#000000;stroke-width:0.8;\" x=\"78.381832\" xlink:href=\"#m3ab3f5022d\" y=\"224.64\"/>\r\n      </g>\r\n     </g>\r\n     <g id=\"text_2\">\r\n      <!-- 0.25 -->\r\n      <g transform=\"translate(67.24902 239.238437)scale(0.1 -0.1)\">\r\n       <defs>\r\n        <path d=\"M 19.1875 8.296875 \r\nL 53.609375 8.296875 \r\nL 53.609375 0 \r\nL 7.328125 0 \r\nL 7.328125 8.296875 \r\nQ 12.9375 14.109375 22.625 23.890625 \r\nQ 32.328125 33.6875 34.8125 36.53125 \r\nQ 39.546875 41.84375 41.421875 45.53125 \r\nQ 43.3125 49.21875 43.3125 52.78125 \r\nQ 43.3125 58.59375 39.234375 62.25 \r\nQ 35.15625 65.921875 28.609375 65.921875 \r\nQ 23.96875 65.921875 18.8125 64.3125 \r\nQ 13.671875 62.703125 7.8125 59.421875 \r\nL 7.8125 69.390625 \r\nQ 13.765625 71.78125 18.9375 73 \r\nQ 24.125 74.21875 28.421875 74.21875 \r\nQ 39.75 74.21875 46.484375 68.546875 \r\nQ 53.21875 62.890625 53.21875 53.421875 \r\nQ 53.21875 48.921875 51.53125 44.890625 \r\nQ 49.859375 40.875 45.40625 35.40625 \r\nQ 44.1875 33.984375 37.640625 27.21875 \r\nQ 31.109375 20.453125 19.1875 8.296875 \r\nz\r\n\" id=\"DejaVuSans-50\"/>\r\n        <path d=\"M 10.796875 72.90625 \r\nL 49.515625 72.90625 \r\nL 49.515625 64.59375 \r\nL 19.828125 64.59375 \r\nL 19.828125 46.734375 \r\nQ 21.96875 47.46875 24.109375 47.828125 \r\nQ 26.265625 48.1875 28.421875 48.1875 \r\nQ 40.625 48.1875 47.75 41.5 \r\nQ 54.890625 34.8125 54.890625 23.390625 \r\nQ 54.890625 11.625 47.5625 5.09375 \r\nQ 40.234375 -1.421875 26.90625 -1.421875 \r\nQ 22.3125 -1.421875 17.546875 -0.640625 \r\nQ 12.796875 0.140625 7.71875 1.703125 \r\nL 7.71875 11.625 \r\nQ 12.109375 9.234375 16.796875 8.0625 \r\nQ 21.484375 6.890625 26.703125 6.890625 \r\nQ 35.15625 6.890625 40.078125 11.328125 \r\nQ 45.015625 15.765625 45.015625 23.390625 \r\nQ 45.015625 31 40.078125 35.4375 \r\nQ 35.15625 39.890625 26.703125 39.890625 \r\nQ 22.75 39.890625 18.8125 39.015625 \r\nQ 14.890625 38.140625 10.796875 36.28125 \r\nz\r\n\" id=\"DejaVuSans-53\"/>\r\n       </defs>\r\n       <use xlink:href=\"#DejaVuSans-48\"/>\r\n       <use x=\"63.623047\" xlink:href=\"#DejaVuSans-46\"/>\r\n       <use x=\"95.410156\" xlink:href=\"#DejaVuSans-50\"/>\r\n       <use x=\"159.033203\" xlink:href=\"#DejaVuSans-53\"/>\r\n      </g>\r\n     </g>\r\n    </g>\r\n    <g id=\"xtick_3\">\r\n     <g id=\"line2d_3\">\r\n      <g>\r\n       <use style=\"stroke:#000000;stroke-width:0.8;\" x=\"117.805588\" xlink:href=\"#m3ab3f5022d\" y=\"224.64\"/>\r\n      </g>\r\n     </g>\r\n     <g id=\"text_3\">\r\n      <!-- 0.50 -->\r\n      <g transform=\"translate(106.672775 239.238437)scale(0.1 -0.1)\">\r\n       <use xlink:href=\"#DejaVuSans-48\"/>\r\n       <use x=\"63.623047\" xlink:href=\"#DejaVuSans-46\"/>\r\n       <use x=\"95.410156\" xlink:href=\"#DejaVuSans-53\"/>\r\n       <use x=\"159.033203\" xlink:href=\"#DejaVuSans-48\"/>\r\n      </g>\r\n     </g>\r\n    </g>\r\n    <g id=\"xtick_4\">\r\n     <g id=\"line2d_4\">\r\n      <g>\r\n       <use style=\"stroke:#000000;stroke-width:0.8;\" x=\"157.229343\" xlink:href=\"#m3ab3f5022d\" y=\"224.64\"/>\r\n      </g>\r\n     </g>\r\n     <g id=\"text_4\">\r\n      <!-- 0.75 -->\r\n      <g transform=\"translate(146.096531 239.238437)scale(0.1 -0.1)\">\r\n       <defs>\r\n        <path d=\"M 8.203125 72.90625 \r\nL 55.078125 72.90625 \r\nL 55.078125 68.703125 \r\nL 28.609375 0 \r\nL 18.3125 0 \r\nL 43.21875 64.59375 \r\nL 8.203125 64.59375 \r\nz\r\n\" id=\"DejaVuSans-55\"/>\r\n       </defs>\r\n       <use xlink:href=\"#DejaVuSans-48\"/>\r\n       <use x=\"63.623047\" xlink:href=\"#DejaVuSans-46\"/>\r\n       <use x=\"95.410156\" xlink:href=\"#DejaVuSans-55\"/>\r\n       <use x=\"159.033203\" xlink:href=\"#DejaVuSans-53\"/>\r\n      </g>\r\n     </g>\r\n    </g>\r\n    <g id=\"xtick_5\">\r\n     <g id=\"line2d_5\">\r\n      <g>\r\n       <use style=\"stroke:#000000;stroke-width:0.8;\" x=\"196.653099\" xlink:href=\"#m3ab3f5022d\" y=\"224.64\"/>\r\n      </g>\r\n     </g>\r\n     <g id=\"text_5\">\r\n      <!-- 1.00 -->\r\n      <g transform=\"translate(185.520286 239.238437)scale(0.1 -0.1)\">\r\n       <defs>\r\n        <path d=\"M 12.40625 8.296875 \r\nL 28.515625 8.296875 \r\nL 28.515625 63.921875 \r\nL 10.984375 60.40625 \r\nL 10.984375 69.390625 \r\nL 28.421875 72.90625 \r\nL 38.28125 72.90625 \r\nL 38.28125 8.296875 \r\nL 54.390625 8.296875 \r\nL 54.390625 0 \r\nL 12.40625 0 \r\nz\r\n\" id=\"DejaVuSans-49\"/>\r\n       </defs>\r\n       <use xlink:href=\"#DejaVuSans-49\"/>\r\n       <use x=\"63.623047\" xlink:href=\"#DejaVuSans-46\"/>\r\n       <use x=\"95.410156\" xlink:href=\"#DejaVuSans-48\"/>\r\n       <use x=\"159.033203\" xlink:href=\"#DejaVuSans-48\"/>\r\n      </g>\r\n     </g>\r\n    </g>\r\n    <g id=\"xtick_6\">\r\n     <g id=\"line2d_6\">\r\n      <g>\r\n       <use style=\"stroke:#000000;stroke-width:0.8;\" x=\"236.076854\" xlink:href=\"#m3ab3f5022d\" y=\"224.64\"/>\r\n      </g>\r\n     </g>\r\n     <g id=\"text_6\">\r\n      <!-- 1.25 -->\r\n      <g transform=\"translate(224.944042 239.238437)scale(0.1 -0.1)\">\r\n       <use xlink:href=\"#DejaVuSans-49\"/>\r\n       <use x=\"63.623047\" xlink:href=\"#DejaVuSans-46\"/>\r\n       <use x=\"95.410156\" xlink:href=\"#DejaVuSans-50\"/>\r\n       <use x=\"159.033203\" xlink:href=\"#DejaVuSans-53\"/>\r\n      </g>\r\n     </g>\r\n    </g>\r\n    <g id=\"xtick_7\">\r\n     <g id=\"line2d_7\">\r\n      <g>\r\n       <use style=\"stroke:#000000;stroke-width:0.8;\" x=\"275.50061\" xlink:href=\"#m3ab3f5022d\" y=\"224.64\"/>\r\n      </g>\r\n     </g>\r\n     <g id=\"text_7\">\r\n      <!-- 1.50 -->\r\n      <g transform=\"translate(264.367797 239.238437)scale(0.1 -0.1)\">\r\n       <use xlink:href=\"#DejaVuSans-49\"/>\r\n       <use x=\"63.623047\" xlink:href=\"#DejaVuSans-46\"/>\r\n       <use x=\"95.410156\" xlink:href=\"#DejaVuSans-53\"/>\r\n       <use x=\"159.033203\" xlink:href=\"#DejaVuSans-48\"/>\r\n      </g>\r\n     </g>\r\n    </g>\r\n    <g id=\"xtick_8\">\r\n     <g id=\"line2d_8\">\r\n      <g>\r\n       <use style=\"stroke:#000000;stroke-width:0.8;\" x=\"314.924365\" xlink:href=\"#m3ab3f5022d\" y=\"224.64\"/>\r\n      </g>\r\n     </g>\r\n     <g id=\"text_8\">\r\n      <!-- 1.75 -->\r\n      <g transform=\"translate(303.791553 239.238437)scale(0.1 -0.1)\">\r\n       <use xlink:href=\"#DejaVuSans-49\"/>\r\n       <use x=\"63.623047\" xlink:href=\"#DejaVuSans-46\"/>\r\n       <use x=\"95.410156\" xlink:href=\"#DejaVuSans-55\"/>\r\n       <use x=\"159.033203\" xlink:href=\"#DejaVuSans-53\"/>\r\n      </g>\r\n     </g>\r\n    </g>\r\n    <g id=\"xtick_9\">\r\n     <g id=\"line2d_9\">\r\n      <g>\r\n       <use style=\"stroke:#000000;stroke-width:0.8;\" x=\"354.348121\" xlink:href=\"#m3ab3f5022d\" y=\"224.64\"/>\r\n      </g>\r\n     </g>\r\n     <g id=\"text_9\">\r\n      <!-- 2.00 -->\r\n      <g transform=\"translate(343.215308 239.238437)scale(0.1 -0.1)\">\r\n       <use xlink:href=\"#DejaVuSans-50\"/>\r\n       <use x=\"63.623047\" xlink:href=\"#DejaVuSans-46\"/>\r\n       <use x=\"95.410156\" xlink:href=\"#DejaVuSans-48\"/>\r\n       <use x=\"159.033203\" xlink:href=\"#DejaVuSans-48\"/>\r\n      </g>\r\n     </g>\r\n    </g>\r\n   </g>\r\n   <g id=\"matplotlib.axis_2\">\r\n    <g id=\"ytick_1\">\r\n     <g id=\"line2d_10\">\r\n      <defs>\r\n       <path d=\"M 0 0 \r\nL -3.5 0 \r\n\" id=\"ma5a2e3c886\" style=\"stroke:#000000;stroke-width:0.8;\"/>\r\n      </defs>\r\n      <g>\r\n       <use style=\"stroke:#000000;stroke-width:0.8;\" x=\"26.925\" xlink:href=\"#ma5a2e3c886\" y=\"204.944022\"/>\r\n      </g>\r\n     </g>\r\n     <g id=\"text_10\">\r\n      <!-- 4 -->\r\n      <g transform=\"translate(13.5625 208.743241)scale(0.1 -0.1)\">\r\n       <defs>\r\n        <path d=\"M 37.796875 64.3125 \r\nL 12.890625 25.390625 \r\nL 37.796875 25.390625 \r\nz\r\nM 35.203125 72.90625 \r\nL 47.609375 72.90625 \r\nL 47.609375 25.390625 \r\nL 58.015625 25.390625 \r\nL 58.015625 17.1875 \r\nL 47.609375 17.1875 \r\nL 47.609375 0 \r\nL 37.796875 0 \r\nL 37.796875 17.1875 \r\nL 4.890625 17.1875 \r\nL 4.890625 26.703125 \r\nz\r\n\" id=\"DejaVuSans-52\"/>\r\n       </defs>\r\n       <use xlink:href=\"#DejaVuSans-52\"/>\r\n      </g>\r\n     </g>\r\n    </g>\r\n    <g id=\"ytick_2\">\r\n     <g id=\"line2d_11\">\r\n      <g>\r\n       <use style=\"stroke:#000000;stroke-width:0.8;\" x=\"26.925\" xlink:href=\"#ma5a2e3c886\" y=\"157.63396\"/>\r\n      </g>\r\n     </g>\r\n     <g id=\"text_11\">\r\n      <!-- 6 -->\r\n      <g transform=\"translate(13.5625 161.433178)scale(0.1 -0.1)\">\r\n       <defs>\r\n        <path d=\"M 33.015625 40.375 \r\nQ 26.375 40.375 22.484375 35.828125 \r\nQ 18.609375 31.296875 18.609375 23.390625 \r\nQ 18.609375 15.53125 22.484375 10.953125 \r\nQ 26.375 6.390625 33.015625 6.390625 \r\nQ 39.65625 6.390625 43.53125 10.953125 \r\nQ 47.40625 15.53125 47.40625 23.390625 \r\nQ 47.40625 31.296875 43.53125 35.828125 \r\nQ 39.65625 40.375 33.015625 40.375 \r\nz\r\nM 52.59375 71.296875 \r\nL 52.59375 62.3125 \r\nQ 48.875 64.0625 45.09375 64.984375 \r\nQ 41.3125 65.921875 37.59375 65.921875 \r\nQ 27.828125 65.921875 22.671875 59.328125 \r\nQ 17.53125 52.734375 16.796875 39.40625 \r\nQ 19.671875 43.65625 24.015625 45.921875 \r\nQ 28.375 48.1875 33.59375 48.1875 \r\nQ 44.578125 48.1875 50.953125 41.515625 \r\nQ 57.328125 34.859375 57.328125 23.390625 \r\nQ 57.328125 12.15625 50.6875 5.359375 \r\nQ 44.046875 -1.421875 33.015625 -1.421875 \r\nQ 20.359375 -1.421875 13.671875 8.265625 \r\nQ 6.984375 17.96875 6.984375 36.375 \r\nQ 6.984375 53.65625 15.1875 63.9375 \r\nQ 23.390625 74.21875 37.203125 74.21875 \r\nQ 40.921875 74.21875 44.703125 73.484375 \r\nQ 48.484375 72.75 52.59375 71.296875 \r\nz\r\n\" id=\"DejaVuSans-54\"/>\r\n       </defs>\r\n       <use xlink:href=\"#DejaVuSans-54\"/>\r\n      </g>\r\n     </g>\r\n    </g>\r\n    <g id=\"ytick_3\">\r\n     <g id=\"line2d_12\">\r\n      <g>\r\n       <use style=\"stroke:#000000;stroke-width:0.8;\" x=\"26.925\" xlink:href=\"#ma5a2e3c886\" y=\"110.323897\"/>\r\n      </g>\r\n     </g>\r\n     <g id=\"text_12\">\r\n      <!-- 8 -->\r\n      <g transform=\"translate(13.5625 114.123116)scale(0.1 -0.1)\">\r\n       <defs>\r\n        <path d=\"M 31.78125 34.625 \r\nQ 24.75 34.625 20.71875 30.859375 \r\nQ 16.703125 27.09375 16.703125 20.515625 \r\nQ 16.703125 13.921875 20.71875 10.15625 \r\nQ 24.75 6.390625 31.78125 6.390625 \r\nQ 38.8125 6.390625 42.859375 10.171875 \r\nQ 46.921875 13.96875 46.921875 20.515625 \r\nQ 46.921875 27.09375 42.890625 30.859375 \r\nQ 38.875 34.625 31.78125 34.625 \r\nz\r\nM 21.921875 38.8125 \r\nQ 15.578125 40.375 12.03125 44.71875 \r\nQ 8.5 49.078125 8.5 55.328125 \r\nQ 8.5 64.0625 14.71875 69.140625 \r\nQ 20.953125 74.21875 31.78125 74.21875 \r\nQ 42.671875 74.21875 48.875 69.140625 \r\nQ 55.078125 64.0625 55.078125 55.328125 \r\nQ 55.078125 49.078125 51.53125 44.71875 \r\nQ 48 40.375 41.703125 38.8125 \r\nQ 48.828125 37.15625 52.796875 32.3125 \r\nQ 56.78125 27.484375 56.78125 20.515625 \r\nQ 56.78125 9.90625 50.3125 4.234375 \r\nQ 43.84375 -1.421875 31.78125 -1.421875 \r\nQ 19.734375 -1.421875 13.25 4.234375 \r\nQ 6.78125 9.90625 6.78125 20.515625 \r\nQ 6.78125 27.484375 10.78125 32.3125 \r\nQ 14.796875 37.15625 21.921875 38.8125 \r\nz\r\nM 18.3125 54.390625 \r\nQ 18.3125 48.734375 21.84375 45.5625 \r\nQ 25.390625 42.390625 31.78125 42.390625 \r\nQ 38.140625 42.390625 41.71875 45.5625 \r\nQ 45.3125 48.734375 45.3125 54.390625 \r\nQ 45.3125 60.0625 41.71875 63.234375 \r\nQ 38.140625 66.40625 31.78125 66.40625 \r\nQ 25.390625 66.40625 21.84375 63.234375 \r\nQ 18.3125 60.0625 18.3125 54.390625 \r\nz\r\n\" id=\"DejaVuSans-56\"/>\r\n       </defs>\r\n       <use xlink:href=\"#DejaVuSans-56\"/>\r\n      </g>\r\n     </g>\r\n    </g>\r\n    <g id=\"ytick_4\">\r\n     <g id=\"line2d_13\">\r\n      <g>\r\n       <use style=\"stroke:#000000;stroke-width:0.8;\" x=\"26.925\" xlink:href=\"#ma5a2e3c886\" y=\"63.013835\"/>\r\n      </g>\r\n     </g>\r\n     <g id=\"text_13\">\r\n      <!-- 10 -->\r\n      <g transform=\"translate(7.2 66.813054)scale(0.1 -0.1)\">\r\n       <use xlink:href=\"#DejaVuSans-49\"/>\r\n       <use x=\"63.623047\" xlink:href=\"#DejaVuSans-48\"/>\r\n      </g>\r\n     </g>\r\n    </g>\r\n    <g id=\"ytick_5\">\r\n     <g id=\"line2d_14\">\r\n      <g>\r\n       <use style=\"stroke:#000000;stroke-width:0.8;\" x=\"26.925\" xlink:href=\"#ma5a2e3c886\" y=\"15.703773\"/>\r\n      </g>\r\n     </g>\r\n     <g id=\"text_14\">\r\n      <!-- 12 -->\r\n      <g transform=\"translate(7.2 19.502992)scale(0.1 -0.1)\">\r\n       <use xlink:href=\"#DejaVuSans-49\"/>\r\n       <use x=\"63.623047\" xlink:href=\"#DejaVuSans-50\"/>\r\n      </g>\r\n     </g>\r\n    </g>\r\n   </g>\r\n   <g id=\"line2d_15\">\r\n    <defs>\r\n     <path d=\"M 0 1.5 \r\nC 0.397805 1.5 0.77937 1.341951 1.06066 1.06066 \r\nC 1.341951 0.77937 1.5 0.397805 1.5 0 \r\nC 1.5 -0.397805 1.341951 -0.77937 1.06066 -1.06066 \r\nC 0.77937 -1.341951 0.397805 -1.5 0 -1.5 \r\nC -0.397805 -1.5 -0.77937 -1.341951 -1.06066 -1.06066 \r\nC -1.341951 -0.77937 -1.5 -0.397805 -1.5 0 \r\nC -1.5 0.397805 -1.341951 0.77937 -1.06066 1.06066 \r\nC -0.77937 1.341951 -0.397805 1.5 0 1.5 \r\nz\r\n\" id=\"m5f39708404\" style=\"stroke:#0000ff;\"/>\r\n    </defs>\r\n    <g clip-path=\"url(#pa2d1f22352)\">\r\n     <use style=\"fill:#0000ff;stroke:#0000ff;\" x=\"89.421793\" xlink:href=\"#m5f39708404\" y=\"169.976295\"/>\r\n     <use style=\"fill:#0000ff;stroke:#0000ff;\" x=\"237.212625\" xlink:href=\"#m5f39708404\" y=\"110.528225\"/>\r\n     <use style=\"fill:#0000ff;stroke:#0000ff;\" x=\"42.143182\" xlink:href=\"#m5f39708404\" y=\"200.772621\"/>\r\n     <use style=\"fill:#0000ff;stroke:#0000ff;\" x=\"294.442207\" xlink:href=\"#m5f39708404\" y=\"106.476729\"/>\r\n     <use style=\"fill:#0000ff;stroke:#0000ff;\" x=\"198.34582\" xlink:href=\"#m5f39708404\" y=\"146.577504\"/>\r\n     <use style=\"fill:#0000ff;stroke:#0000ff;\" x=\"163.966061\" xlink:href=\"#m5f39708404\" y=\"123.647345\"/>\r\n     <use style=\"fill:#0000ff;stroke:#0000ff;\" x=\"89.274667\" xlink:href=\"#m5f39708404\" y=\"201.921704\"/>\r\n     <use style=\"fill:#0000ff;stroke:#0000ff;\" x=\"131.670446\" xlink:href=\"#m5f39708404\" y=\"158.547521\"/>\r\n     <use style=\"fill:#0000ff;stroke:#0000ff;\" x=\"305.486799\" xlink:href=\"#m5f39708404\" y=\"81.961406\"/>\r\n     <use style=\"fill:#0000ff;stroke:#0000ff;\" x=\"223.172775\" xlink:href=\"#m5f39708404\" y=\"137.459834\"/>\r\n     <use style=\"fill:#0000ff;stroke:#0000ff;\" x=\"340.140522\" xlink:href=\"#m5f39708404\" y=\"82.719103\"/>\r\n     <use style=\"fill:#0000ff;stroke:#0000ff;\" x=\"177.246826\" xlink:href=\"#m5f39708404\" y=\"146.09824\"/>\r\n     <use style=\"fill:#0000ff;stroke:#0000ff;\" x=\"286.183152\" xlink:href=\"#m5f39708404\" y=\"86.225093\"/>\r\n     <use style=\"fill:#0000ff;stroke:#0000ff;\" x=\"141.365694\" xlink:href=\"#m5f39708404\" y=\"129.091602\"/>\r\n     <use style=\"fill:#0000ff;stroke:#0000ff;\" x=\"133.824285\" xlink:href=\"#m5f39708404\" y=\"122.555339\"/>\r\n     <use style=\"fill:#0000ff;stroke:#0000ff;\" x=\"141.141454\" xlink:href=\"#m5f39708404\" y=\"131.659554\"/>\r\n     <use style=\"fill:#0000ff;stroke:#0000ff;\" x=\"319.753757\" xlink:href=\"#m5f39708404\" y=\"78.482077\"/>\r\n     <use style=\"fill:#0000ff;stroke:#0000ff;\" x=\"116.40216\" xlink:href=\"#m5f39708404\" y=\"196.156289\"/>\r\n     <use style=\"fill:#0000ff;stroke:#0000ff;\" x=\"284.578096\" xlink:href=\"#m5f39708404\" y=\"86.164697\"/>\r\n     <use style=\"fill:#0000ff;stroke:#0000ff;\" x=\"213.301126\" xlink:href=\"#m5f39708404\" y=\"92.854808\"/>\r\n     <use style=\"fill:#0000ff;stroke:#0000ff;\" x=\"128.987953\" xlink:href=\"#m5f39708404\" y=\"189.890933\"/>\r\n     <use style=\"fill:#0000ff;stroke:#0000ff;\" x=\"256.669861\" xlink:href=\"#m5f39708404\" y=\"93.623513\"/>\r\n     <use style=\"fill:#0000ff;stroke:#0000ff;\" x=\"190.002511\" xlink:href=\"#m5f39708404\" y=\"129.772658\"/>\r\n     <use style=\"fill:#0000ff;stroke:#0000ff;\" x=\"130.734353\" xlink:href=\"#m5f39708404\" y=\"174.970526\"/>\r\n     <use style=\"fill:#0000ff;stroke:#0000ff;\" x=\"70.256358\" xlink:href=\"#m5f39708404\" y=\"194.418366\"/>\r\n     <use style=\"fill:#0000ff;stroke:#0000ff;\" x=\"130.846609\" xlink:href=\"#m5f39708404\" y=\"136.7955\"/>\r\n     <use style=\"fill:#0000ff;stroke:#0000ff;\" x=\"135.514939\" xlink:href=\"#m5f39708404\" y=\"130.393541\"/>\r\n     <use style=\"fill:#0000ff;stroke:#0000ff;\" x=\"236.210938\" xlink:href=\"#m5f39708404\" y=\"107.287572\"/>\r\n     <use style=\"fill:#0000ff;stroke:#0000ff;\" x=\"51.199144\" xlink:href=\"#m5f39708404\" y=\"176.049847\"/>\r\n     <use style=\"fill:#0000ff;stroke:#0000ff;\" x=\"230.182571\" xlink:href=\"#m5f39708404\" y=\"163.859063\"/>\r\n     <use style=\"fill:#0000ff;stroke:#0000ff;\" x=\"296.679555\" xlink:href=\"#m5f39708404\" y=\"89.748433\"/>\r\n     <use style=\"fill:#0000ff;stroke:#0000ff;\" x=\"173.435234\" xlink:href=\"#m5f39708404\" y=\"141.091643\"/>\r\n     <use style=\"fill:#0000ff;stroke:#0000ff;\" x=\"174.287828\" xlink:href=\"#m5f39708404\" y=\"172.390477\"/>\r\n     <use style=\"fill:#0000ff;stroke:#0000ff;\" x=\"225.015836\" xlink:href=\"#m5f39708404\" y=\"113.303459\"/>\r\n     <use style=\"fill:#0000ff;stroke:#0000ff;\" x=\"285.582755\" xlink:href=\"#m5f39708404\" y=\"81.459657\"/>\r\n     <use style=\"fill:#0000ff;stroke:#0000ff;\" x=\"89.110661\" xlink:href=\"#m5f39708404\" y=\"179.479867\"/>\r\n     <use style=\"fill:#0000ff;stroke:#0000ff;\" x=\"210.590704\" xlink:href=\"#m5f39708404\" y=\"109.119728\"/>\r\n     <use style=\"fill:#0000ff;stroke:#0000ff;\" x=\"159.867377\" xlink:href=\"#m5f39708404\" y=\"179.252425\"/>\r\n     <use style=\"fill:#0000ff;stroke:#0000ff;\" x=\"307.423405\" xlink:href=\"#m5f39708404\" y=\"76.143984\"/>\r\n     <use style=\"fill:#0000ff;stroke:#0000ff;\" x=\"325.201334\" xlink:href=\"#m5f39708404\" y=\"50.599455\"/>\r\n     <use style=\"fill:#0000ff;stroke:#0000ff;\" x=\"194.393934\" xlink:href=\"#m5f39708404\" y=\"98.953699\"/>\r\n     <use style=\"fill:#0000ff;stroke:#0000ff;\" x=\"147.522304\" xlink:href=\"#m5f39708404\" y=\"151.375046\"/>\r\n     <use style=\"fill:#0000ff;stroke:#0000ff;\" x=\"97.206562\" xlink:href=\"#m5f39708404\" y=\"179.612897\"/>\r\n     <use style=\"fill:#0000ff;stroke:#0000ff;\" x=\"152.149901\" xlink:href=\"#m5f39708404\" y=\"166.916306\"/>\r\n     <use style=\"fill:#0000ff;stroke:#0000ff;\" x=\"327.239351\" xlink:href=\"#m5f39708404\" y=\"73.063373\"/>\r\n     <use style=\"fill:#0000ff;stroke:#0000ff;\" x=\"183.681058\" xlink:href=\"#m5f39708404\" y=\"154.25863\"/>\r\n     <use style=\"fill:#0000ff;stroke:#0000ff;\" x=\"254.405661\" xlink:href=\"#m5f39708404\" y=\"63.658985\"/>\r\n     <use style=\"fill:#0000ff;stroke:#0000ff;\" x=\"294.217642\" xlink:href=\"#m5f39708404\" y=\"102.665359\"/>\r\n     <use style=\"fill:#0000ff;stroke:#0000ff;\" x=\"300.949915\" xlink:href=\"#m5f39708404\" y=\"86.352185\"/>\r\n     <use style=\"fill:#0000ff;stroke:#0000ff;\" x=\"221.958413\" xlink:href=\"#m5f39708404\" y=\"115.26455\"/>\r\n     <use style=\"fill:#0000ff;stroke:#0000ff;\" x=\"211.585594\" xlink:href=\"#m5f39708404\" y=\"146.830924\"/>\r\n     <use style=\"fill:#0000ff;stroke:#0000ff;\" x=\"241.836644\" xlink:href=\"#m5f39708404\" y=\"84.845014\"/>\r\n     <use style=\"fill:#0000ff;stroke:#0000ff;\" x=\"273.580708\" xlink:href=\"#m5f39708404\" y=\"63.241807\"/>\r\n     <use style=\"fill:#0000ff;stroke:#0000ff;\" x=\"235.69423\" xlink:href=\"#m5f39708404\" y=\"132.778809\"/>\r\n     <use style=\"fill:#0000ff;stroke:#0000ff;\" x=\"332.679524\" xlink:href=\"#m5f39708404\" y=\"17.083636\"/>\r\n     <use style=\"fill:#0000ff;stroke:#0000ff;\" x=\"271.597177\" xlink:href=\"#m5f39708404\" y=\"61.377725\"/>\r\n     <use style=\"fill:#0000ff;stroke:#0000ff;\" x=\"229.345177\" xlink:href=\"#m5f39708404\" y=\"137.248048\"/>\r\n     <use style=\"fill:#0000ff;stroke:#0000ff;\" x=\"45.085917\" xlink:href=\"#m5f39708404\" y=\"183.661456\"/>\r\n     <use style=\"fill:#0000ff;stroke:#0000ff;\" x=\"211.681406\" xlink:href=\"#m5f39708404\" y=\"145.370903\"/>\r\n     <use style=\"fill:#0000ff;stroke:#0000ff;\" x=\"168.430961\" xlink:href=\"#m5f39708404\" y=\"146.170099\"/>\r\n     <use style=\"fill:#0000ff;stroke:#0000ff;\" x=\"55.401529\" xlink:href=\"#m5f39708404\" y=\"193.739093\"/>\r\n     <use style=\"fill:#0000ff;stroke:#0000ff;\" x=\"346.506818\" xlink:href=\"#m5f39708404\" y=\"72.239256\"/>\r\n     <use style=\"fill:#0000ff;stroke:#0000ff;\" x=\"301.534689\" xlink:href=\"#m5f39708404\" y=\"51.142971\"/>\r\n     <use style=\"fill:#0000ff;stroke:#0000ff;\" x=\"312.221248\" xlink:href=\"#m5f39708404\" y=\"87.69579\"/>\r\n     <use style=\"fill:#0000ff;stroke:#0000ff;\" x=\"324.514494\" xlink:href=\"#m5f39708404\" y=\"59.721782\"/>\r\n     <use style=\"fill:#0000ff;stroke:#0000ff;\" x=\"81.045708\" xlink:href=\"#m5f39708404\" y=\"191.251295\"/>\r\n     <use style=\"fill:#0000ff;stroke:#0000ff;\" x=\"160.612862\" xlink:href=\"#m5f39708404\" y=\"135.727659\"/>\r\n     <use style=\"fill:#0000ff;stroke:#0000ff;\" x=\"180.755497\" xlink:href=\"#m5f39708404\" y=\"136.574639\"/>\r\n     <use style=\"fill:#0000ff;stroke:#0000ff;\" x=\"163.332236\" xlink:href=\"#m5f39708404\" y=\"170.53603\"/>\r\n     <use style=\"fill:#0000ff;stroke:#0000ff;\" x=\"99.629796\" xlink:href=\"#m5f39708404\" y=\"163.360682\"/>\r\n     <use style=\"fill:#0000ff;stroke:#0000ff;\" x=\"171.470442\" xlink:href=\"#m5f39708404\" y=\"123.223607\"/>\r\n     <use style=\"fill:#0000ff;stroke:#0000ff;\" x=\"119.479375\" xlink:href=\"#m5f39708404\" y=\"168.123115\"/>\r\n     <use style=\"fill:#0000ff;stroke:#0000ff;\" x=\"233.159933\" xlink:href=\"#m5f39708404\" y=\"129.468774\"/>\r\n     <use style=\"fill:#0000ff;stroke:#0000ff;\" x=\"171.145242\" xlink:href=\"#m5f39708404\" y=\"141.593176\"/>\r\n     <use style=\"fill:#0000ff;stroke:#0000ff;\" x=\"105.406241\" xlink:href=\"#m5f39708404\" y=\"154.824066\"/>\r\n     <use style=\"fill:#0000ff;stroke:#0000ff;\" x=\"165.722128\" xlink:href=\"#m5f39708404\" y=\"130.758584\"/>\r\n     <use style=\"fill:#0000ff;stroke:#0000ff;\" x=\"73.764248\" xlink:href=\"#m5f39708404\" y=\"179.497153\"/>\r\n     <use style=\"fill:#0000ff;stroke:#0000ff;\" x=\"231.401012\" xlink:href=\"#m5f39708404\" y=\"148.57675\"/>\r\n     <use style=\"fill:#0000ff;stroke:#0000ff;\" x=\"89.87017\" xlink:href=\"#m5f39708404\" y=\"133.134305\"/>\r\n     <use style=\"fill:#0000ff;stroke:#0000ff;\" x=\"85.350132\" xlink:href=\"#m5f39708404\" y=\"183.167569\"/>\r\n     <use style=\"fill:#0000ff;stroke:#0000ff;\" x=\"231.772654\" xlink:href=\"#m5f39708404\" y=\"154.41427\"/>\r\n     <use style=\"fill:#0000ff;stroke:#0000ff;\" x=\"154.114374\" xlink:href=\"#m5f39708404\" y=\"126.124223\"/>\r\n     <use style=\"fill:#0000ff;stroke:#0000ff;\" x=\"327.107824\" xlink:href=\"#m5f39708404\" y=\"90.485027\"/>\r\n     <use style=\"fill:#0000ff;stroke:#0000ff;\" x=\"181.518942\" xlink:href=\"#m5f39708404\" y=\"150.113372\"/>\r\n     <use style=\"fill:#0000ff;stroke:#0000ff;\" x=\"118.542181\" xlink:href=\"#m5f39708404\" y=\"197.081206\"/>\r\n     <use style=\"fill:#0000ff;stroke:#0000ff;\" x=\"300.955424\" xlink:href=\"#m5f39708404\" y=\"104.475737\"/>\r\n     <use style=\"fill:#0000ff;stroke:#0000ff;\" x=\"247.027808\" xlink:href=\"#m5f39708404\" y=\"136.531242\"/>\r\n     <use style=\"fill:#0000ff;stroke:#0000ff;\" x=\"262.026113\" xlink:href=\"#m5f39708404\" y=\"108.016174\"/>\r\n     <use style=\"fill:#0000ff;stroke:#0000ff;\" x=\"346.40135\" xlink:href=\"#m5f39708404\" y=\"50.005067\"/>\r\n     <use style=\"fill:#0000ff;stroke:#0000ff;\" x=\"178.322715\" xlink:href=\"#m5f39708404\" y=\"145.594828\"/>\r\n     <use style=\"fill:#0000ff;stroke:#0000ff;\" x=\"290.354764\" xlink:href=\"#m5f39708404\" y=\"110.105787\"/>\r\n     <use style=\"fill:#0000ff;stroke:#0000ff;\" x=\"318.692795\" xlink:href=\"#m5f39708404\" y=\"83.063329\"/>\r\n     <use style=\"fill:#0000ff;stroke:#0000ff;\" x=\"225.204948\" xlink:href=\"#m5f39708404\" y=\"95.489954\"/>\r\n     <use style=\"fill:#0000ff;stroke:#0000ff;\" x=\"287.728809\" xlink:href=\"#m5f39708404\" y=\"108.485097\"/>\r\n     <use style=\"fill:#0000ff;stroke:#0000ff;\" x=\"188.472207\" xlink:href=\"#m5f39708404\" y=\"157.309747\"/>\r\n     <use style=\"fill:#0000ff;stroke:#0000ff;\" x=\"321.457368\" xlink:href=\"#m5f39708404\" y=\"57.84397\"/>\r\n     <use style=\"fill:#0000ff;stroke:#0000ff;\" x=\"174.643189\" xlink:href=\"#m5f39708404\" y=\"104.144055\"/>\r\n     <use style=\"fill:#0000ff;stroke:#0000ff;\" x=\"133.088082\" xlink:href=\"#m5f39708404\" y=\"193.030934\"/>\r\n     <use style=\"fill:#0000ff;stroke:#0000ff;\" x=\"58.753967\" xlink:href=\"#m5f39708404\" y=\"214.756364\"/>\r\n     <use style=\"fill:#0000ff;stroke:#0000ff;\" x=\"172.223742\" xlink:href=\"#m5f39708404\" y=\"164.272222\"/>\r\n    </g>\r\n   </g>\r\n   <g id=\"patch_3\">\r\n    <path d=\"M 26.925 224.64 \r\nL 26.925 7.2 \r\n\" style=\"fill:none;stroke:#000000;stroke-linecap:square;stroke-linejoin:miter;stroke-width:0.8;\"/>\r\n   </g>\r\n   <g id=\"patch_4\">\r\n    <path d=\"M 361.725 224.64 \r\nL 361.725 7.2 \r\n\" style=\"fill:none;stroke:#000000;stroke-linecap:square;stroke-linejoin:miter;stroke-width:0.8;\"/>\r\n   </g>\r\n   <g id=\"patch_5\">\r\n    <path d=\"M 26.925 224.64 \r\nL 361.725 224.64 \r\n\" style=\"fill:none;stroke:#000000;stroke-linecap:square;stroke-linejoin:miter;stroke-width:0.8;\"/>\r\n   </g>\r\n   <g id=\"patch_6\">\r\n    <path d=\"M 26.925 7.2 \r\nL 361.725 7.2 \r\n\" style=\"fill:none;stroke:#000000;stroke-linecap:square;stroke-linejoin:miter;stroke-width:0.8;\"/>\r\n   </g>\r\n  </g>\r\n </g>\r\n <defs>\r\n  <clipPath id=\"pa2d1f22352\">\r\n   <rect height=\"217.44\" width=\"334.8\" x=\"26.925\" y=\"7.2\"/>\r\n  </clipPath>\r\n </defs>\r\n</svg>\r\n",
      "image/png": "[encoded data removed]"
     },
     "metadata": {
      "needs_background": "light"
     }
    }
   ],
   "source": [
    "X = 2*np.random.rand(100, 1)\n",
    "y = 4 + 3*X + np.random.randn(100, 1)\n",
    "\n",
    "plt.plot(X, y, \"b.\")\n",
    "plt.show()"
   ]
  },
  {
   "source": [
    "Compute $\\hat{\\theta}$ using Normal Equation and `inv()` from NumPy's linear algebra module (`np.linalg`) to compute the inverse of a matrix."
   ],
   "cell_type": "markdown",
   "metadata": {}
  },
  {
   "cell_type": "code",
   "execution_count": 12,
   "metadata": {},
   "outputs": [
    {
     "output_type": "execute_result",
     "data": {
      "text/plain": [
       "array([[4.11654577],\n",
       "       [3.00835997]])"
      ]
     },
     "metadata": {},
     "execution_count": 12
    }
   ],
   "source": [
    "# np.c_ concatenates along vertical axis (columns) 1's vector + X vector\n",
    "# Use @ for matrix multiplication, much clearer to read than .dot()\n",
    "# X_b = 'X bias' as it includes the bias term\n",
    "\n",
    "X_b = np.c_[np.ones((100, 1)), X] # add x0 = 1 to each instance\n",
    "theta_best = np.linalg.inv(X_b.T@X_b) @ X_b.T @ y\n",
    "theta_best"
   ]
  },
  {
   "cell_type": "code",
   "execution_count": 13,
   "metadata": {},
   "outputs": [
    {
     "output_type": "execute_result",
     "data": {
      "text/plain": [
       "array([[ 4.11654577],\n",
       "       [10.13326572]])"
      ]
     },
     "metadata": {},
     "execution_count": 13
    }
   ],
   "source": [
    "X_new = np.array([[0], [2]])\n",
    "X_new_b = np.c_[np.ones((2, 1)), X_new]\n",
    "y_predict = X_new_b @ theta_best\n",
    "y_predict"
   ]
  },
  {
   "cell_type": "code",
   "execution_count": 14,
   "metadata": {},
   "outputs": [
    {
     "output_type": "display_data",
     "data": {
      "text/plain": "<Figure size 432x288 with 1 Axes>",
      "image/svg+xml": "<?xml version=\"1.0\" encoding=\"utf-8\" standalone=\"no\"?>\r\n<!DOCTYPE svg PUBLIC \"-//W3C//DTD SVG 1.1//EN\"\r\n  \"http://www.w3.org/Graphics/SVG/1.1/DTD/svg11.dtd\">\r\n<!-- Created with matplotlib (https://matplotlib.org/) -->\r\n<svg height=\"248.518125pt\" version=\"1.1\" viewBox=\"0 0 380.057812 248.518125\" width=\"380.057812pt\" xmlns=\"http://www.w3.org/2000/svg\" xmlns:xlink=\"http://www.w3.org/1999/xlink\">\r\n <metadata>\r\n  <rdf:RDF xmlns:cc=\"http://creativecommons.org/ns#\" xmlns:dc=\"http://purl.org/dc/elements/1.1/\" xmlns:rdf=\"http://www.w3.org/1999/02/22-rdf-syntax-ns#\">\r\n   <cc:Work>\r\n    <dc:type rdf:resource=\"http://purl.org/dc/dcmitype/StillImage\"/>\r\n    <dc:date>2021-01-12T17:09:08.250051</dc:date>\r\n    <dc:format>image/svg+xml</dc:format>\r\n    <dc:creator>\r\n     <cc:Agent>\r\n      <dc:title>Matplotlib v3.3.3, https://matplotlib.org/</dc:title>\r\n     </cc:Agent>\r\n    </dc:creator>\r\n   </cc:Work>\r\n  </rdf:RDF>\r\n </metadata>\r\n <defs>\r\n  <style type=\"text/css\">*{stroke-linecap:butt;stroke-linejoin:round;}</style>\r\n </defs>\r\n <g id=\"figure_1\">\r\n  <g id=\"patch_1\">\r\n   <path d=\"M -0 248.518125 \r\nL 380.057812 248.518125 \r\nL 380.057812 0 \r\nL -0 0 \r\nz\r\n\" style=\"fill:none;\"/>\r\n  </g>\r\n  <g id=\"axes_1\">\r\n   <g id=\"patch_2\">\r\n    <path d=\"M 26.925 224.64 \r\nL 361.725 224.64 \r\nL 361.725 7.2 \r\nL 26.925 7.2 \r\nz\r\n\" style=\"fill:#ffffff;\"/>\r\n   </g>\r\n   <g id=\"matplotlib.axis_1\">\r\n    <g id=\"xtick_1\">\r\n     <g id=\"line2d_1\">\r\n      <defs>\r\n       <path d=\"M 0 0 \r\nL 0 3.5 \r\n\" id=\"m797d6f0d4a\" style=\"stroke:#000000;stroke-width:0.8;\"/>\r\n      </defs>\r\n      <g>\r\n       <use style=\"stroke:#000000;stroke-width:0.8;\" x=\"26.925\" xlink:href=\"#m797d6f0d4a\" y=\"224.64\"/>\r\n      </g>\r\n     </g>\r\n     <g id=\"text_1\">\r\n      <!-- 0.00 -->\r\n      <g transform=\"translate(15.792188 239.238437)scale(0.1 -0.1)\">\r\n       <defs>\r\n        <path d=\"M 31.78125 66.40625 \r\nQ 24.171875 66.40625 20.328125 58.90625 \r\nQ 16.5 51.421875 16.5 36.375 \r\nQ 16.5 21.390625 20.328125 13.890625 \r\nQ 24.171875 6.390625 31.78125 6.390625 \r\nQ 39.453125 6.390625 43.28125 13.890625 \r\nQ 47.125 21.390625 47.125 36.375 \r\nQ 47.125 51.421875 43.28125 58.90625 \r\nQ 39.453125 66.40625 31.78125 66.40625 \r\nz\r\nM 31.78125 74.21875 \r\nQ 44.046875 74.21875 50.515625 64.515625 \r\nQ 56.984375 54.828125 56.984375 36.375 \r\nQ 56.984375 17.96875 50.515625 8.265625 \r\nQ 44.046875 -1.421875 31.78125 -1.421875 \r\nQ 19.53125 -1.421875 13.0625 8.265625 \r\nQ 6.59375 17.96875 6.59375 36.375 \r\nQ 6.59375 54.828125 13.0625 64.515625 \r\nQ 19.53125 74.21875 31.78125 74.21875 \r\nz\r\n\" id=\"DejaVuSans-48\"/>\r\n        <path d=\"M 10.6875 12.40625 \r\nL 21 12.40625 \r\nL 21 0 \r\nL 10.6875 0 \r\nz\r\n\" id=\"DejaVuSans-46\"/>\r\n       </defs>\r\n       <use xlink:href=\"#DejaVuSans-48\"/>\r\n       <use x=\"63.623047\" xlink:href=\"#DejaVuSans-46\"/>\r\n       <use x=\"95.410156\" xlink:href=\"#DejaVuSans-48\"/>\r\n       <use x=\"159.033203\" xlink:href=\"#DejaVuSans-48\"/>\r\n      </g>\r\n     </g>\r\n    </g>\r\n    <g id=\"xtick_2\">\r\n     <g id=\"line2d_2\">\r\n      <g>\r\n       <use style=\"stroke:#000000;stroke-width:0.8;\" x=\"68.775\" xlink:href=\"#m797d6f0d4a\" y=\"224.64\"/>\r\n      </g>\r\n     </g>\r\n     <g id=\"text_2\">\r\n      <!-- 0.25 -->\r\n      <g transform=\"translate(57.642188 239.238437)scale(0.1 -0.1)\">\r\n       <defs>\r\n        <path d=\"M 19.1875 8.296875 \r\nL 53.609375 8.296875 \r\nL 53.609375 0 \r\nL 7.328125 0 \r\nL 7.328125 8.296875 \r\nQ 12.9375 14.109375 22.625 23.890625 \r\nQ 32.328125 33.6875 34.8125 36.53125 \r\nQ 39.546875 41.84375 41.421875 45.53125 \r\nQ 43.3125 49.21875 43.3125 52.78125 \r\nQ 43.3125 58.59375 39.234375 62.25 \r\nQ 35.15625 65.921875 28.609375 65.921875 \r\nQ 23.96875 65.921875 18.8125 64.3125 \r\nQ 13.671875 62.703125 7.8125 59.421875 \r\nL 7.8125 69.390625 \r\nQ 13.765625 71.78125 18.9375 73 \r\nQ 24.125 74.21875 28.421875 74.21875 \r\nQ 39.75 74.21875 46.484375 68.546875 \r\nQ 53.21875 62.890625 53.21875 53.421875 \r\nQ 53.21875 48.921875 51.53125 44.890625 \r\nQ 49.859375 40.875 45.40625 35.40625 \r\nQ 44.1875 33.984375 37.640625 27.21875 \r\nQ 31.109375 20.453125 19.1875 8.296875 \r\nz\r\n\" id=\"DejaVuSans-50\"/>\r\n        <path d=\"M 10.796875 72.90625 \r\nL 49.515625 72.90625 \r\nL 49.515625 64.59375 \r\nL 19.828125 64.59375 \r\nL 19.828125 46.734375 \r\nQ 21.96875 47.46875 24.109375 47.828125 \r\nQ 26.265625 48.1875 28.421875 48.1875 \r\nQ 40.625 48.1875 47.75 41.5 \r\nQ 54.890625 34.8125 54.890625 23.390625 \r\nQ 54.890625 11.625 47.5625 5.09375 \r\nQ 40.234375 -1.421875 26.90625 -1.421875 \r\nQ 22.3125 -1.421875 17.546875 -0.640625 \r\nQ 12.796875 0.140625 7.71875 1.703125 \r\nL 7.71875 11.625 \r\nQ 12.109375 9.234375 16.796875 8.0625 \r\nQ 21.484375 6.890625 26.703125 6.890625 \r\nQ 35.15625 6.890625 40.078125 11.328125 \r\nQ 45.015625 15.765625 45.015625 23.390625 \r\nQ 45.015625 31 40.078125 35.4375 \r\nQ 35.15625 39.890625 26.703125 39.890625 \r\nQ 22.75 39.890625 18.8125 39.015625 \r\nQ 14.890625 38.140625 10.796875 36.28125 \r\nz\r\n\" id=\"DejaVuSans-53\"/>\r\n       </defs>\r\n       <use xlink:href=\"#DejaVuSans-48\"/>\r\n       <use x=\"63.623047\" xlink:href=\"#DejaVuSans-46\"/>\r\n       <use x=\"95.410156\" xlink:href=\"#DejaVuSans-50\"/>\r\n       <use x=\"159.033203\" xlink:href=\"#DejaVuSans-53\"/>\r\n      </g>\r\n     </g>\r\n    </g>\r\n    <g id=\"xtick_3\">\r\n     <g id=\"line2d_3\">\r\n      <g>\r\n       <use style=\"stroke:#000000;stroke-width:0.8;\" x=\"110.625\" xlink:href=\"#m797d6f0d4a\" y=\"224.64\"/>\r\n      </g>\r\n     </g>\r\n     <g id=\"text_3\">\r\n      <!-- 0.50 -->\r\n      <g transform=\"translate(99.492188 239.238437)scale(0.1 -0.1)\">\r\n       <use xlink:href=\"#DejaVuSans-48\"/>\r\n       <use x=\"63.623047\" xlink:href=\"#DejaVuSans-46\"/>\r\n       <use x=\"95.410156\" xlink:href=\"#DejaVuSans-53\"/>\r\n       <use x=\"159.033203\" xlink:href=\"#DejaVuSans-48\"/>\r\n      </g>\r\n     </g>\r\n    </g>\r\n    <g id=\"xtick_4\">\r\n     <g id=\"line2d_4\">\r\n      <g>\r\n       <use style=\"stroke:#000000;stroke-width:0.8;\" x=\"152.475\" xlink:href=\"#m797d6f0d4a\" y=\"224.64\"/>\r\n      </g>\r\n     </g>\r\n     <g id=\"text_4\">\r\n      <!-- 0.75 -->\r\n      <g transform=\"translate(141.342188 239.238437)scale(0.1 -0.1)\">\r\n       <defs>\r\n        <path d=\"M 8.203125 72.90625 \r\nL 55.078125 72.90625 \r\nL 55.078125 68.703125 \r\nL 28.609375 0 \r\nL 18.3125 0 \r\nL 43.21875 64.59375 \r\nL 8.203125 64.59375 \r\nz\r\n\" id=\"DejaVuSans-55\"/>\r\n       </defs>\r\n       <use xlink:href=\"#DejaVuSans-48\"/>\r\n       <use x=\"63.623047\" xlink:href=\"#DejaVuSans-46\"/>\r\n       <use x=\"95.410156\" xlink:href=\"#DejaVuSans-55\"/>\r\n       <use x=\"159.033203\" xlink:href=\"#DejaVuSans-53\"/>\r\n      </g>\r\n     </g>\r\n    </g>\r\n    <g id=\"xtick_5\">\r\n     <g id=\"line2d_5\">\r\n      <g>\r\n       <use style=\"stroke:#000000;stroke-width:0.8;\" x=\"194.325\" xlink:href=\"#m797d6f0d4a\" y=\"224.64\"/>\r\n      </g>\r\n     </g>\r\n     <g id=\"text_5\">\r\n      <!-- 1.00 -->\r\n      <g transform=\"translate(183.192188 239.238437)scale(0.1 -0.1)\">\r\n       <defs>\r\n        <path d=\"M 12.40625 8.296875 \r\nL 28.515625 8.296875 \r\nL 28.515625 63.921875 \r\nL 10.984375 60.40625 \r\nL 10.984375 69.390625 \r\nL 28.421875 72.90625 \r\nL 38.28125 72.90625 \r\nL 38.28125 8.296875 \r\nL 54.390625 8.296875 \r\nL 54.390625 0 \r\nL 12.40625 0 \r\nz\r\n\" id=\"DejaVuSans-49\"/>\r\n       </defs>\r\n       <use xlink:href=\"#DejaVuSans-49\"/>\r\n       <use x=\"63.623047\" xlink:href=\"#DejaVuSans-46\"/>\r\n       <use x=\"95.410156\" xlink:href=\"#DejaVuSans-48\"/>\r\n       <use x=\"159.033203\" xlink:href=\"#DejaVuSans-48\"/>\r\n      </g>\r\n     </g>\r\n    </g>\r\n    <g id=\"xtick_6\">\r\n     <g id=\"line2d_6\">\r\n      <g>\r\n       <use style=\"stroke:#000000;stroke-width:0.8;\" x=\"236.175\" xlink:href=\"#m797d6f0d4a\" y=\"224.64\"/>\r\n      </g>\r\n     </g>\r\n     <g id=\"text_6\">\r\n      <!-- 1.25 -->\r\n      <g transform=\"translate(225.042188 239.238437)scale(0.1 -0.1)\">\r\n       <use xlink:href=\"#DejaVuSans-49\"/>\r\n       <use x=\"63.623047\" xlink:href=\"#DejaVuSans-46\"/>\r\n       <use x=\"95.410156\" xlink:href=\"#DejaVuSans-50\"/>\r\n       <use x=\"159.033203\" xlink:href=\"#DejaVuSans-53\"/>\r\n      </g>\r\n     </g>\r\n    </g>\r\n    <g id=\"xtick_7\">\r\n     <g id=\"line2d_7\">\r\n      <g>\r\n       <use style=\"stroke:#000000;stroke-width:0.8;\" x=\"278.025\" xlink:href=\"#m797d6f0d4a\" y=\"224.64\"/>\r\n      </g>\r\n     </g>\r\n     <g id=\"text_7\">\r\n      <!-- 1.50 -->\r\n      <g transform=\"translate(266.892188 239.238437)scale(0.1 -0.1)\">\r\n       <use xlink:href=\"#DejaVuSans-49\"/>\r\n       <use x=\"63.623047\" xlink:href=\"#DejaVuSans-46\"/>\r\n       <use x=\"95.410156\" xlink:href=\"#DejaVuSans-53\"/>\r\n       <use x=\"159.033203\" xlink:href=\"#DejaVuSans-48\"/>\r\n      </g>\r\n     </g>\r\n    </g>\r\n    <g id=\"xtick_8\">\r\n     <g id=\"line2d_8\">\r\n      <g>\r\n       <use style=\"stroke:#000000;stroke-width:0.8;\" x=\"319.875\" xlink:href=\"#m797d6f0d4a\" y=\"224.64\"/>\r\n      </g>\r\n     </g>\r\n     <g id=\"text_8\">\r\n      <!-- 1.75 -->\r\n      <g transform=\"translate(308.742188 239.238437)scale(0.1 -0.1)\">\r\n       <use xlink:href=\"#DejaVuSans-49\"/>\r\n       <use x=\"63.623047\" xlink:href=\"#DejaVuSans-46\"/>\r\n       <use x=\"95.410156\" xlink:href=\"#DejaVuSans-55\"/>\r\n       <use x=\"159.033203\" xlink:href=\"#DejaVuSans-53\"/>\r\n      </g>\r\n     </g>\r\n    </g>\r\n    <g id=\"xtick_9\">\r\n     <g id=\"line2d_9\">\r\n      <g>\r\n       <use style=\"stroke:#000000;stroke-width:0.8;\" x=\"361.725\" xlink:href=\"#m797d6f0d4a\" y=\"224.64\"/>\r\n      </g>\r\n     </g>\r\n     <g id=\"text_9\">\r\n      <!-- 2.00 -->\r\n      <g transform=\"translate(350.592188 239.238437)scale(0.1 -0.1)\">\r\n       <use xlink:href=\"#DejaVuSans-50\"/>\r\n       <use x=\"63.623047\" xlink:href=\"#DejaVuSans-46\"/>\r\n       <use x=\"95.410156\" xlink:href=\"#DejaVuSans-48\"/>\r\n       <use x=\"159.033203\" xlink:href=\"#DejaVuSans-48\"/>\r\n      </g>\r\n     </g>\r\n    </g>\r\n   </g>\r\n   <g id=\"matplotlib.axis_2\">\r\n    <g id=\"ytick_1\">\r\n     <g id=\"line2d_10\">\r\n      <defs>\r\n       <path d=\"M 0 0 \r\nL -3.5 0 \r\n\" id=\"m9d220a8baa\" style=\"stroke:#000000;stroke-width:0.8;\"/>\r\n      </defs>\r\n      <g>\r\n       <use style=\"stroke:#000000;stroke-width:0.8;\" x=\"26.925\" xlink:href=\"#m9d220a8baa\" y=\"224.64\"/>\r\n      </g>\r\n     </g>\r\n     <g id=\"text_10\">\r\n      <!-- 0 -->\r\n      <g transform=\"translate(13.5625 228.439219)scale(0.1 -0.1)\">\r\n       <use xlink:href=\"#DejaVuSans-48\"/>\r\n      </g>\r\n     </g>\r\n    </g>\r\n    <g id=\"ytick_2\">\r\n     <g id=\"line2d_11\">\r\n      <g>\r\n       <use style=\"stroke:#000000;stroke-width:0.8;\" x=\"26.925\" xlink:href=\"#m9d220a8baa\" y=\"195.648\"/>\r\n      </g>\r\n     </g>\r\n     <g id=\"text_11\">\r\n      <!-- 2 -->\r\n      <g transform=\"translate(13.5625 199.447219)scale(0.1 -0.1)\">\r\n       <use xlink:href=\"#DejaVuSans-50\"/>\r\n      </g>\r\n     </g>\r\n    </g>\r\n    <g id=\"ytick_3\">\r\n     <g id=\"line2d_12\">\r\n      <g>\r\n       <use style=\"stroke:#000000;stroke-width:0.8;\" x=\"26.925\" xlink:href=\"#m9d220a8baa\" y=\"166.656\"/>\r\n      </g>\r\n     </g>\r\n     <g id=\"text_12\">\r\n      <!-- 4 -->\r\n      <g transform=\"translate(13.5625 170.455219)scale(0.1 -0.1)\">\r\n       <defs>\r\n        <path d=\"M 37.796875 64.3125 \r\nL 12.890625 25.390625 \r\nL 37.796875 25.390625 \r\nz\r\nM 35.203125 72.90625 \r\nL 47.609375 72.90625 \r\nL 47.609375 25.390625 \r\nL 58.015625 25.390625 \r\nL 58.015625 17.1875 \r\nL 47.609375 17.1875 \r\nL 47.609375 0 \r\nL 37.796875 0 \r\nL 37.796875 17.1875 \r\nL 4.890625 17.1875 \r\nL 4.890625 26.703125 \r\nz\r\n\" id=\"DejaVuSans-52\"/>\r\n       </defs>\r\n       <use xlink:href=\"#DejaVuSans-52\"/>\r\n      </g>\r\n     </g>\r\n    </g>\r\n    <g id=\"ytick_4\">\r\n     <g id=\"line2d_13\">\r\n      <g>\r\n       <use style=\"stroke:#000000;stroke-width:0.8;\" x=\"26.925\" xlink:href=\"#m9d220a8baa\" y=\"137.664\"/>\r\n      </g>\r\n     </g>\r\n     <g id=\"text_13\">\r\n      <!-- 6 -->\r\n      <g transform=\"translate(13.5625 141.463219)scale(0.1 -0.1)\">\r\n       <defs>\r\n        <path d=\"M 33.015625 40.375 \r\nQ 26.375 40.375 22.484375 35.828125 \r\nQ 18.609375 31.296875 18.609375 23.390625 \r\nQ 18.609375 15.53125 22.484375 10.953125 \r\nQ 26.375 6.390625 33.015625 6.390625 \r\nQ 39.65625 6.390625 43.53125 10.953125 \r\nQ 47.40625 15.53125 47.40625 23.390625 \r\nQ 47.40625 31.296875 43.53125 35.828125 \r\nQ 39.65625 40.375 33.015625 40.375 \r\nz\r\nM 52.59375 71.296875 \r\nL 52.59375 62.3125 \r\nQ 48.875 64.0625 45.09375 64.984375 \r\nQ 41.3125 65.921875 37.59375 65.921875 \r\nQ 27.828125 65.921875 22.671875 59.328125 \r\nQ 17.53125 52.734375 16.796875 39.40625 \r\nQ 19.671875 43.65625 24.015625 45.921875 \r\nQ 28.375 48.1875 33.59375 48.1875 \r\nQ 44.578125 48.1875 50.953125 41.515625 \r\nQ 57.328125 34.859375 57.328125 23.390625 \r\nQ 57.328125 12.15625 50.6875 5.359375 \r\nQ 44.046875 -1.421875 33.015625 -1.421875 \r\nQ 20.359375 -1.421875 13.671875 8.265625 \r\nQ 6.984375 17.96875 6.984375 36.375 \r\nQ 6.984375 53.65625 15.1875 63.9375 \r\nQ 23.390625 74.21875 37.203125 74.21875 \r\nQ 40.921875 74.21875 44.703125 73.484375 \r\nQ 48.484375 72.75 52.59375 71.296875 \r\nz\r\n\" id=\"DejaVuSans-54\"/>\r\n       </defs>\r\n       <use xlink:href=\"#DejaVuSans-54\"/>\r\n      </g>\r\n     </g>\r\n    </g>\r\n    <g id=\"ytick_5\">\r\n     <g id=\"line2d_14\">\r\n      <g>\r\n       <use style=\"stroke:#000000;stroke-width:0.8;\" x=\"26.925\" xlink:href=\"#m9d220a8baa\" y=\"108.672\"/>\r\n      </g>\r\n     </g>\r\n     <g id=\"text_14\">\r\n      <!-- 8 -->\r\n      <g transform=\"translate(13.5625 112.471219)scale(0.1 -0.1)\">\r\n       <defs>\r\n        <path d=\"M 31.78125 34.625 \r\nQ 24.75 34.625 20.71875 30.859375 \r\nQ 16.703125 27.09375 16.703125 20.515625 \r\nQ 16.703125 13.921875 20.71875 10.15625 \r\nQ 24.75 6.390625 31.78125 6.390625 \r\nQ 38.8125 6.390625 42.859375 10.171875 \r\nQ 46.921875 13.96875 46.921875 20.515625 \r\nQ 46.921875 27.09375 42.890625 30.859375 \r\nQ 38.875 34.625 31.78125 34.625 \r\nz\r\nM 21.921875 38.8125 \r\nQ 15.578125 40.375 12.03125 44.71875 \r\nQ 8.5 49.078125 8.5 55.328125 \r\nQ 8.5 64.0625 14.71875 69.140625 \r\nQ 20.953125 74.21875 31.78125 74.21875 \r\nQ 42.671875 74.21875 48.875 69.140625 \r\nQ 55.078125 64.0625 55.078125 55.328125 \r\nQ 55.078125 49.078125 51.53125 44.71875 \r\nQ 48 40.375 41.703125 38.8125 \r\nQ 48.828125 37.15625 52.796875 32.3125 \r\nQ 56.78125 27.484375 56.78125 20.515625 \r\nQ 56.78125 9.90625 50.3125 4.234375 \r\nQ 43.84375 -1.421875 31.78125 -1.421875 \r\nQ 19.734375 -1.421875 13.25 4.234375 \r\nQ 6.78125 9.90625 6.78125 20.515625 \r\nQ 6.78125 27.484375 10.78125 32.3125 \r\nQ 14.796875 37.15625 21.921875 38.8125 \r\nz\r\nM 18.3125 54.390625 \r\nQ 18.3125 48.734375 21.84375 45.5625 \r\nQ 25.390625 42.390625 31.78125 42.390625 \r\nQ 38.140625 42.390625 41.71875 45.5625 \r\nQ 45.3125 48.734375 45.3125 54.390625 \r\nQ 45.3125 60.0625 41.71875 63.234375 \r\nQ 38.140625 66.40625 31.78125 66.40625 \r\nQ 25.390625 66.40625 21.84375 63.234375 \r\nQ 18.3125 60.0625 18.3125 54.390625 \r\nz\r\n\" id=\"DejaVuSans-56\"/>\r\n       </defs>\r\n       <use xlink:href=\"#DejaVuSans-56\"/>\r\n      </g>\r\n     </g>\r\n    </g>\r\n    <g id=\"ytick_6\">\r\n     <g id=\"line2d_15\">\r\n      <g>\r\n       <use style=\"stroke:#000000;stroke-width:0.8;\" x=\"26.925\" xlink:href=\"#m9d220a8baa\" y=\"79.68\"/>\r\n      </g>\r\n     </g>\r\n     <g id=\"text_15\">\r\n      <!-- 10 -->\r\n      <g transform=\"translate(7.2 83.479219)scale(0.1 -0.1)\">\r\n       <use xlink:href=\"#DejaVuSans-49\"/>\r\n       <use x=\"63.623047\" xlink:href=\"#DejaVuSans-48\"/>\r\n      </g>\r\n     </g>\r\n    </g>\r\n    <g id=\"ytick_7\">\r\n     <g id=\"line2d_16\">\r\n      <g>\r\n       <use style=\"stroke:#000000;stroke-width:0.8;\" x=\"26.925\" xlink:href=\"#m9d220a8baa\" y=\"50.688\"/>\r\n      </g>\r\n     </g>\r\n     <g id=\"text_16\">\r\n      <!-- 12 -->\r\n      <g transform=\"translate(7.2 54.487219)scale(0.1 -0.1)\">\r\n       <use xlink:href=\"#DejaVuSans-49\"/>\r\n       <use x=\"63.623047\" xlink:href=\"#DejaVuSans-50\"/>\r\n      </g>\r\n     </g>\r\n    </g>\r\n    <g id=\"ytick_8\">\r\n     <g id=\"line2d_17\">\r\n      <g>\r\n       <use style=\"stroke:#000000;stroke-width:0.8;\" x=\"26.925\" xlink:href=\"#m9d220a8baa\" y=\"21.696\"/>\r\n      </g>\r\n     </g>\r\n     <g id=\"text_17\">\r\n      <!-- 14 -->\r\n      <g transform=\"translate(7.2 25.495219)scale(0.1 -0.1)\">\r\n       <use xlink:href=\"#DejaVuSans-49\"/>\r\n       <use x=\"63.623047\" xlink:href=\"#DejaVuSans-52\"/>\r\n      </g>\r\n     </g>\r\n    </g>\r\n   </g>\r\n   <g id=\"line2d_18\">\r\n    <path clip-path=\"url(#p0cab30b47f)\" d=\"M 26.925 164.966552 \r\nL 361.725 77.74818 \r\n\" style=\"fill:none;stroke:#ff0000;stroke-linecap:square;stroke-width:1.5;\"/>\r\n   </g>\r\n   <g id=\"line2d_19\">\r\n    <defs>\r\n     <path d=\"M 0 1.5 \r\nC 0.397805 1.5 0.77937 1.341951 1.06066 1.06066 \r\nC 1.341951 0.77937 1.5 0.397805 1.5 0 \r\nC 1.5 -0.397805 1.341951 -0.77937 1.06066 -1.06066 \r\nC 0.77937 -1.341951 0.397805 -1.5 0 -1.5 \r\nC -0.397805 -1.5 -0.77937 -1.341951 -1.06066 -1.06066 \r\nC -1.341951 -0.77937 -1.5 -0.397805 -1.5 0 \r\nC -1.5 0.397805 -1.341951 0.77937 -1.06066 1.06066 \r\nC -0.77937 1.341951 -0.397805 1.5 0 1.5 \r\nz\r\n\" id=\"m97a2b8f1e4\" style=\"stroke:#0000ff;\"/>\r\n    </defs>\r\n    <g clip-path=\"url(#p0cab30b47f)\">\r\n     <use style=\"fill:#0000ff;stroke:#0000ff;\" x=\"80.49439\" xlink:href=\"#m97a2b8f1e4\" y=\"145.227486\"/>\r\n     <use style=\"fill:#0000ff;stroke:#0000ff;\" x=\"237.38067\" xlink:href=\"#m97a2b8f1e4\" y=\"108.797214\"/>\r\n     <use style=\"fill:#0000ff;stroke:#0000ff;\" x=\"30.306125\" xlink:href=\"#m97a2b8f1e4\" y=\"164.099731\"/>\r\n     <use style=\"fill:#0000ff;stroke:#0000ff;\" x=\"298.132315\" xlink:href=\"#m97a2b8f1e4\" y=\"106.314423\"/>\r\n     <use style=\"fill:#0000ff;stroke:#0000ff;\" x=\"196.121896\" xlink:href=\"#m97a2b8f1e4\" y=\"130.888512\"/>\r\n     <use style=\"fill:#0000ff;stroke:#0000ff;\" x=\"159.626314\" xlink:href=\"#m97a2b8f1e4\" y=\"116.836719\"/>\r\n     <use style=\"fill:#0000ff;stroke:#0000ff;\" x=\"80.338209\" xlink:href=\"#m97a2b8f1e4\" y=\"164.803898\"/>\r\n     <use style=\"fill:#0000ff;stroke:#0000ff;\" x=\"125.343139\" xlink:href=\"#m97a2b8f1e4\" y=\"138.223838\"/>\r\n     <use style=\"fill:#0000ff;stroke:#0000ff;\" x=\"309.856621\" xlink:href=\"#m97a2b8f1e4\" y=\"91.291229\"/>\r\n     <use style=\"fill:#0000ff;stroke:#0000ff;\" x=\"222.476769\" xlink:href=\"#m97a2b8f1e4\" y=\"125.301128\"/>\r\n     <use style=\"fill:#0000ff;stroke:#0000ff;\" x=\"346.643028\" xlink:href=\"#m97a2b8f1e4\" y=\"91.755552\"/>\r\n     <use style=\"fill:#0000ff;stroke:#0000ff;\" x=\"173.724413\" xlink:href=\"#m97a2b8f1e4\" y=\"130.594815\"/>\r\n     <use style=\"fill:#0000ff;stroke:#0000ff;\" x=\"289.364975\" xlink:href=\"#m97a2b8f1e4\" y=\"93.904052\"/>\r\n     <use style=\"fill:#0000ff;stroke:#0000ff;\" x=\"135.63506\" xlink:href=\"#m97a2b8f1e4\" y=\"120.173006\"/>\r\n     <use style=\"fill:#0000ff;stroke:#0000ff;\" x=\"127.629531\" xlink:href=\"#m97a2b8f1e4\" y=\"116.167529\"/>\r\n     <use style=\"fill:#0000ff;stroke:#0000ff;\" x=\"135.397019\" xlink:href=\"#m97a2b8f1e4\" y=\"121.746668\"/>\r\n     <use style=\"fill:#0000ff;stroke:#0000ff;\" x=\"325.001606\" xlink:href=\"#m97a2b8f1e4\" y=\"89.159067\"/>\r\n     <use style=\"fill:#0000ff;stroke:#0000ff;\" x=\"109.135202\" xlink:href=\"#m97a2b8f1e4\" y=\"161.270804\"/>\r\n     <use style=\"fill:#0000ff;stroke:#0000ff;\" x=\"287.66114\" xlink:href=\"#m97a2b8f1e4\" y=\"93.867041\"/>\r\n     <use style=\"fill:#0000ff;stroke:#0000ff;\" x=\"211.997592\" xlink:href=\"#m97a2b8f1e4\" y=\"97.966797\"/>\r\n     <use style=\"fill:#0000ff;stroke:#0000ff;\" x=\"122.495559\" xlink:href=\"#m97a2b8f1e4\" y=\"157.431342\"/>\r\n     <use style=\"fill:#0000ff;stroke:#0000ff;\" x=\"258.035356\" xlink:href=\"#m97a2b8f1e4\" y=\"98.437865\"/>\r\n     <use style=\"fill:#0000ff;stroke:#0000ff;\" x=\"187.265117\" xlink:href=\"#m97a2b8f1e4\" y=\"120.590362\"/>\r\n     <use style=\"fill:#0000ff;stroke:#0000ff;\" x=\"124.349437\" xlink:href=\"#m97a2b8f1e4\" y=\"148.287992\"/>\r\n     <use style=\"fill:#0000ff;stroke:#0000ff;\" x=\"60.149463\" xlink:href=\"#m97a2b8f1e4\" y=\"160.20579\"/>\r\n     <use style=\"fill:#0000ff;stroke:#0000ff;\" x=\"124.468601\" xlink:href=\"#m97a2b8f1e4\" y=\"124.894019\"/>\r\n     <use style=\"fill:#0000ff;stroke:#0000ff;\" x=\"129.424232\" xlink:href=\"#m97a2b8f1e4\" y=\"120.970845\"/>\r\n     <use style=\"fill:#0000ff;stroke:#0000ff;\" x=\"236.317336\" xlink:href=\"#m97a2b8f1e4\" y=\"106.811314\"/>\r\n     <use style=\"fill:#0000ff;stroke:#0000ff;\" x=\"39.919416\" xlink:href=\"#m97a2b8f1e4\" y=\"148.949409\"/>\r\n     <use style=\"fill:#0000ff;stroke:#0000ff;\" x=\"229.917967\" xlink:href=\"#m97a2b8f1e4\" y=\"141.478795\"/>\r\n     <use style=\"fill:#0000ff;stroke:#0000ff;\" x=\"300.507355\" xlink:href=\"#m97a2b8f1e4\" y=\"96.063184\"/>\r\n     <use style=\"fill:#0000ff;stroke:#0000ff;\" x=\"169.678245\" xlink:href=\"#m97a2b8f1e4\" y=\"127.526731\"/>\r\n     <use style=\"fill:#0000ff;stroke:#0000ff;\" x=\"170.58331\" xlink:href=\"#m97a2b8f1e4\" y=\"146.706916\"/>\r\n     <use style=\"fill:#0000ff;stroke:#0000ff;\" x=\"224.433257\" xlink:href=\"#m97a2b8f1e4\" y=\"110.4979\"/>\r\n     <use style=\"fill:#0000ff;stroke:#0000ff;\" x=\"288.727628\" xlink:href=\"#m97a2b8f1e4\" y=\"90.983753\"/>\r\n     <use style=\"fill:#0000ff;stroke:#0000ff;\" x=\"80.16411\" xlink:href=\"#m97a2b8f1e4\" y=\"151.051354\"/>\r\n     <use style=\"fill:#0000ff;stroke:#0000ff;\" x=\"209.120364\" xlink:href=\"#m97a2b8f1e4\" y=\"107.934075\"/>\r\n     <use style=\"fill:#0000ff;stroke:#0000ff;\" x=\"155.275386\" xlink:href=\"#m97a2b8f1e4\" y=\"150.911975\"/>\r\n     <use style=\"fill:#0000ff;stroke:#0000ff;\" x=\"311.912411\" xlink:href=\"#m97a2b8f1e4\" y=\"87.726265\"/>\r\n     <use style=\"fill:#0000ff;stroke:#0000ff;\" x=\"330.784441\" xlink:href=\"#m97a2b8f1e4\" y=\"72.072364\"/>\r\n     <use style=\"fill:#0000ff;stroke:#0000ff;\" x=\"191.9268\" xlink:href=\"#m97a2b8f1e4\" y=\"101.704248\"/>\r\n     <use style=\"fill:#0000ff;stroke:#0000ff;\" x=\"142.170564\" xlink:href=\"#m97a2b8f1e4\" y=\"133.828486\"/>\r\n     <use style=\"fill:#0000ff;stroke:#0000ff;\" x=\"88.758255\" xlink:href=\"#m97a2b8f1e4\" y=\"151.132876\"/>\r\n     <use style=\"fill:#0000ff;stroke:#0000ff;\" x=\"147.082955\" xlink:href=\"#m97a2b8f1e4\" y=\"143.352299\"/>\r\n     <use style=\"fill:#0000ff;stroke:#0000ff;\" x=\"332.947884\" xlink:href=\"#m97a2b8f1e4\" y=\"85.83844\"/>\r\n     <use style=\"fill:#0000ff;stroke:#0000ff;\" x=\"180.554625\" xlink:href=\"#m97a2b8f1e4\" y=\"135.59557\"/>\r\n     <use style=\"fill:#0000ff;stroke:#0000ff;\" x=\"255.631812\" xlink:href=\"#m97a2b8f1e4\" y=\"80.075353\"/>\r\n     <use style=\"fill:#0000ff;stroke:#0000ff;\" x=\"297.893929\" xlink:href=\"#m97a2b8f1e4\" y=\"103.978784\"/>\r\n     <use style=\"fill:#0000ff;stroke:#0000ff;\" x=\"305.040525\" xlink:href=\"#m97a2b8f1e4\" y=\"93.981935\"/>\r\n     <use style=\"fill:#0000ff;stroke:#0000ff;\" x=\"221.187672\" xlink:href=\"#m97a2b8f1e4\" y=\"111.699673\"/>\r\n     <use style=\"fill:#0000ff;stroke:#0000ff;\" x=\"210.176482\" xlink:href=\"#m97a2b8f1e4\" y=\"131.04381\"/>\r\n     <use style=\"fill:#0000ff;stroke:#0000ff;\" x=\"242.289263\" xlink:href=\"#m97a2b8f1e4\" y=\"93.058328\"/>\r\n     <use style=\"fill:#0000ff;stroke:#0000ff;\" x=\"275.986943\" xlink:href=\"#m97a2b8f1e4\" y=\"79.819703\"/>\r\n     <use style=\"fill:#0000ff;stroke:#0000ff;\" x=\"235.768828\" xlink:href=\"#m97a2b8f1e4\" y=\"122.432557\"/>\r\n     <use style=\"fill:#0000ff;stroke:#0000ff;\" x=\"338.722859\" xlink:href=\"#m97a2b8f1e4\" y=\"51.533592\"/>\r\n     <use style=\"fill:#0000ff;stroke:#0000ff;\" x=\"273.88134\" xlink:href=\"#m97a2b8f1e4\" y=\"78.677378\"/>\r\n     <use style=\"fill:#0000ff;stroke:#0000ff;\" x=\"229.029038\" xlink:href=\"#m97a2b8f1e4\" y=\"125.171344\"/>\r\n     <use style=\"fill:#0000ff;stroke:#0000ff;\" x=\"33.429964\" xlink:href=\"#m97a2b8f1e4\" y=\"153.613867\"/>\r\n     <use style=\"fill:#0000ff;stroke:#0000ff;\" x=\"210.27819\" xlink:href=\"#m97a2b8f1e4\" y=\"130.149097\"/>\r\n     <use style=\"fill:#0000ff;stroke:#0000ff;\" x=\"164.365996\" xlink:href=\"#m97a2b8f1e4\" y=\"130.638851\"/>\r\n     <use style=\"fill:#0000ff;stroke:#0000ff;\" x=\"44.380427\" xlink:href=\"#m97a2b8f1e4\" y=\"159.789526\"/>\r\n     <use style=\"fill:#0000ff;stroke:#0000ff;\" x=\"353.401123\" xlink:href=\"#m97a2b8f1e4\" y=\"85.333415\"/>\r\n     <use style=\"fill:#0000ff;stroke:#0000ff;\" x=\"305.661287\" xlink:href=\"#m97a2b8f1e4\" y=\"72.405435\"/>\r\n     <use style=\"fill:#0000ff;stroke:#0000ff;\" x=\"317.005526\" xlink:href=\"#m97a2b8f1e4\" y=\"94.805307\"/>\r\n     <use style=\"fill:#0000ff;stroke:#0000ff;\" x=\"330.055331\" xlink:href=\"#m97a2b8f1e4\" y=\"77.662602\"/>\r\n     <use style=\"fill:#0000ff;stroke:#0000ff;\" x=\"71.602818\" xlink:href=\"#m97a2b8f1e4\" y=\"158.264983\"/>\r\n     <use style=\"fill:#0000ff;stroke:#0000ff;\" x=\"156.06675\" xlink:href=\"#m97a2b8f1e4\" y=\"124.239637\"/>\r\n     <use style=\"fill:#0000ff;stroke:#0000ff;\" x=\"177.449017\" xlink:href=\"#m97a2b8f1e4\" y=\"124.758673\"/>\r\n     <use style=\"fill:#0000ff;stroke:#0000ff;\" x=\"158.953482\" xlink:href=\"#m97a2b8f1e4\" y=\"145.570496\"/>\r\n     <use style=\"fill:#0000ff;stroke:#0000ff;\" x=\"91.330621\" xlink:href=\"#m97a2b8f1e4\" y=\"141.173383\"/>\r\n     <use style=\"fill:#0000ff;stroke:#0000ff;\" x=\"167.592535\" xlink:href=\"#m97a2b8f1e4\" y=\"116.577049\"/>\r\n     <use style=\"fill:#0000ff;stroke:#0000ff;\" x=\"112.401797\" xlink:href=\"#m97a2b8f1e4\" y=\"144.091842\"/>\r\n     <use style=\"fill:#0000ff;stroke:#0000ff;\" x=\"233.078564\" xlink:href=\"#m97a2b8f1e4\" y=\"120.40414\"/>\r\n     <use style=\"fill:#0000ff;stroke:#0000ff;\" x=\"167.247321\" xlink:href=\"#m97a2b8f1e4\" y=\"127.834074\"/>\r\n     <use style=\"fill:#0000ff;stroke:#0000ff;\" x=\"97.462564\" xlink:href=\"#m97a2b8f1e4\" y=\"135.942074\"/>\r\n     <use style=\"fill:#0000ff;stroke:#0000ff;\" x=\"161.490453\" xlink:href=\"#m97a2b8f1e4\" y=\"121.194546\"/>\r\n     <use style=\"fill:#0000ff;stroke:#0000ff;\" x=\"63.873237\" xlink:href=\"#m97a2b8f1e4\" y=\"151.061947\"/>\r\n     <use style=\"fill:#0000ff;stroke:#0000ff;\" x=\"231.211394\" xlink:href=\"#m97a2b8f1e4\" y=\"132.113667\"/>\r\n     <use style=\"fill:#0000ff;stroke:#0000ff;\" x=\"80.970361\" xlink:href=\"#m97a2b8f1e4\" y=\"122.650407\"/>\r\n     <use style=\"fill:#0000ff;stroke:#0000ff;\" x=\"76.172148\" xlink:href=\"#m97a2b8f1e4\" y=\"153.311208\"/>\r\n     <use style=\"fill:#0000ff;stroke:#0000ff;\" x=\"231.605908\" xlink:href=\"#m97a2b8f1e4\" y=\"135.690947\"/>\r\n     <use style=\"fill:#0000ff;stroke:#0000ff;\" x=\"149.168327\" xlink:href=\"#m97a2b8f1e4\" y=\"118.354571\"/>\r\n     <use style=\"fill:#0000ff;stroke:#0000ff;\" x=\"332.808262\" xlink:href=\"#m97a2b8f1e4\" y=\"96.514575\"/>\r\n     <use style=\"fill:#0000ff;stroke:#0000ff;\" x=\"178.259446\" xlink:href=\"#m97a2b8f1e4\" y=\"133.055321\"/>\r\n     <use style=\"fill:#0000ff;stroke:#0000ff;\" x=\"111.406926\" xlink:href=\"#m97a2b8f1e4\" y=\"161.837601\"/>\r\n     <use style=\"fill:#0000ff;stroke:#0000ff;\" x=\"305.046372\" xlink:href=\"#m97a2b8f1e4\" y=\"105.088199\"/>\r\n     <use style=\"fill:#0000ff;stroke:#0000ff;\" x=\"247.799905\" xlink:href=\"#m97a2b8f1e4\" y=\"124.732079\"/>\r\n     <use style=\"fill:#0000ff;stroke:#0000ff;\" x=\"263.721246\" xlink:href=\"#m97a2b8f1e4\" y=\"107.257808\"/>\r\n     <use style=\"fill:#0000ff;stroke:#0000ff;\" x=\"353.289164\" xlink:href=\"#m97a2b8f1e4\" y=\"71.708118\"/>\r\n     <use style=\"fill:#0000ff;stroke:#0000ff;\" x=\"174.866515\" xlink:href=\"#m97a2b8f1e4\" y=\"130.28632\"/>\r\n     <use style=\"fill:#0000ff;stroke:#0000ff;\" x=\"293.79332\" xlink:href=\"#m97a2b8f1e4\" y=\"108.53834\"/>\r\n     <use style=\"fill:#0000ff;stroke:#0000ff;\" x=\"323.875349\" xlink:href=\"#m97a2b8f1e4\" y=\"91.966497\"/>\r\n     <use style=\"fill:#0000ff;stroke:#0000ff;\" x=\"224.634008\" xlink:href=\"#m97a2b8f1e4\" y=\"99.581636\"/>\r\n     <use style=\"fill:#0000ff;stroke:#0000ff;\" x=\"291.005756\" xlink:href=\"#m97a2b8f1e4\" y=\"107.545168\"/>\r\n     <use style=\"fill:#0000ff;stroke:#0000ff;\" x=\"185.640635\" xlink:href=\"#m97a2b8f1e4\" y=\"137.46532\"/>\r\n     <use style=\"fill:#0000ff;stroke:#0000ff;\" x=\"326.810061\" xlink:href=\"#m97a2b8f1e4\" y=\"76.511864\"/>\r\n     <use style=\"fill:#0000ff;stroke:#0000ff;\" x=\"170.960541\" xlink:href=\"#m97a2b8f1e4\" y=\"104.884941\"/>\r\n     <use style=\"fill:#0000ff;stroke:#0000ff;\" x=\"126.84802\" xlink:href=\"#m97a2b8f1e4\" y=\"159.355561\"/>\r\n     <use style=\"fill:#0000ff;stroke:#0000ff;\" x=\"47.939184\" xlink:href=\"#m97a2b8f1e4\" y=\"172.669085\"/>\r\n     <use style=\"fill:#0000ff;stroke:#0000ff;\" x=\"168.392195\" xlink:href=\"#m97a2b8f1e4\" y=\"141.731982\"/>\r\n    </g>\r\n   </g>\r\n   <g id=\"patch_3\">\r\n    <path d=\"M 26.925 224.64 \r\nL 26.925 7.2 \r\n\" style=\"fill:none;stroke:#000000;stroke-linecap:square;stroke-linejoin:miter;stroke-width:0.8;\"/>\r\n   </g>\r\n   <g id=\"patch_4\">\r\n    <path d=\"M 361.725 224.64 \r\nL 361.725 7.2 \r\n\" style=\"fill:none;stroke:#000000;stroke-linecap:square;stroke-linejoin:miter;stroke-width:0.8;\"/>\r\n   </g>\r\n   <g id=\"patch_5\">\r\n    <path d=\"M 26.925 224.64 \r\nL 361.725 224.64 \r\n\" style=\"fill:none;stroke:#000000;stroke-linecap:square;stroke-linejoin:miter;stroke-width:0.8;\"/>\r\n   </g>\r\n   <g id=\"patch_6\">\r\n    <path d=\"M 26.925 7.2 \r\nL 361.725 7.2 \r\n\" style=\"fill:none;stroke:#000000;stroke-linecap:square;stroke-linejoin:miter;stroke-width:0.8;\"/>\r\n   </g>\r\n  </g>\r\n </g>\r\n <defs>\r\n  <clipPath id=\"p0cab30b47f\">\r\n   <rect height=\"217.44\" width=\"334.8\" x=\"26.925\" y=\"7.2\"/>\r\n  </clipPath>\r\n </defs>\r\n</svg>\r\n",
      "image/png": "[encoded data removed]"
     },
     "metadata": {
      "needs_background": "light"
     }
    }
   ],
   "source": [
    "plt.plot(X_new, y_predict, \"r-\")\n",
    "plt.plot(X, y, \"b.\")\n",
    "plt.axis([0, 2, 0, 15])\n",
    "plt.show()"
   ]
  },
  {
   "cell_type": "code",
   "execution_count": 15,
   "metadata": {},
   "outputs": [],
   "source": [
    "from sklearn.linear_model import LinearRegression"
   ]
  },
  {
   "cell_type": "code",
   "execution_count": 16,
   "metadata": {},
   "outputs": [
    {
     "output_type": "execute_result",
     "data": {
      "text/plain": [
       "(array([4.05108047]), array([[3.01735026]]))"
      ]
     },
     "metadata": {},
     "execution_count": 16
    }
   ],
   "source": [
    "lin_reg = LinearRegression()\n",
    "lin_reg.fit(X, y)\n",
    "lin_reg.intercept_, lin_reg.coef_"
   ]
  },
  {
   "cell_type": "code",
   "execution_count": 17,
   "metadata": {},
   "outputs": [
    {
     "output_type": "execute_result",
     "data": {
      "text/plain": [
       "array([[ 4.05108047],\n",
       "       [10.08578099]])"
      ]
     },
     "metadata": {},
     "execution_count": 17
    }
   ],
   "source": [
    "lin_reg.predict(X_new)"
   ]
  },
  {
   "source": [
    "> Note: Scikit-Learn separates the bias term (`intercept_`) from the feature weights (`coef_`)."
   ],
   "cell_type": "markdown",
   "metadata": {}
  },
  {
   "source": [
    "`LinearRegression` class is based on `scipy.linalg.lstsq()` (\"least squares\")."
   ],
   "cell_type": "markdown",
   "metadata": {}
  },
  {
   "cell_type": "code",
   "execution_count": 18,
   "metadata": {},
   "outputs": [
    {
     "output_type": "execute_result",
     "data": {
      "text/plain": [
       "array([[4.05108047],\n",
       "       [3.01735026]])"
      ]
     },
     "metadata": {},
     "execution_count": 18
    }
   ],
   "source": [
    "theta_best_svd, residuals, rank, s = np.linalg.lstsq(X_b, y, rcond=1e-6)\n",
    "theta_best_svd"
   ]
  },
  {
   "source": [
    "This function computes $\\hat{\\theta} = X^+ \\vec{y}$, where $X^+$ is the pseudoinverse of $X$. Use `np.linalg.pinv()` to compute the pseudoinverse directly."
   ],
   "cell_type": "markdown",
   "metadata": {}
  },
  {
   "cell_type": "code",
   "execution_count": 19,
   "metadata": {},
   "outputs": [
    {
     "output_type": "execute_result",
     "data": {
      "text/plain": [
       "array([[4.05108047],\n",
       "       [3.01735026]])"
      ]
     },
     "metadata": {},
     "execution_count": 19
    }
   ],
   "source": [
    "np.linalg.pinv(X_b) @ y"
   ]
  },
  {
   "source": [
    "The pseudoinverse is computed using *Singular Value Decomposition (SVD)*. This approach is more efficient than computing the Normal Equation.\n",
    "\n",
    "> Note: The Normal Equation may not work if the matrix $X^T X$ is not invertible (singular), such as if $m<n$ or if some features are redundant, but the pseudoinverse is always defined."
   ],
   "cell_type": "markdown",
   "metadata": {}
  },
  {
   "source": [
    "### 4.1.2 Computational Complexity"
   ],
   "cell_type": "markdown",
   "metadata": {}
  },
  {
   "source": [
    "The Normal Equation computes the inverse $X^T X$, $ (n+1) \\times (n+1)$ matrix. The *computational complexity* of inverting such a matrix is typically $O(n^{2.4})$ - $O(n^3)$. So if you double the number of features, you multiply the computation by roughly 5.3 to 8.\n",
    "\n",
    "The SVD approach used by Scikit-Learn's `LinearRegression` is about $O(n^2)$.\n",
    "\n",
    "> Note: Both the Normal Equation and SVD get very slow when the number of features grows large (100,000). But both are linear ($O(m)$) to the number of instances in the training set so they handle large training sets efficiently.\n",
    "Ie. $\\uparrow$n features, slower performance. $\\uparrow$m examples, still efficient."
   ],
   "cell_type": "markdown",
   "metadata": {}
  },
  {
   "source": [
    "## 4.2 Gradient Descent"
   ],
   "cell_type": "markdown",
   "metadata": {}
  },
  {
   "source": [
    "Gradient Descent measures the local gradient of the error function with regard to the parameter $\\vec{\\theta}$ and goes in the direction of descending gradient. Once the gradient is 0, you have reached a minimum!\n",
    "\n",
    "Problems with Gradient Descent:\n",
    "- Can converge to a *local minimum* and not *global minimum*\n",
    "- With small learning rate $\\alpha$, can take long to reach a minimum\n",
    "- With large learning rate $\\alpha$, can overshoot and diverge\n",
    "- With plateaus, each gradient descent step is very small and takes long time\n",
    "\n",
    "The MSE cost function for a Linear Regression model is a *convex function*, meaning that local minimum = global maximum and is guaranteed to approach the global min. given enough steps and learning rate is not too high.\n",
    "\n",
    "> Note: When using Gradient Descent, you should ensure that all features have a similar scale (eg. using Scikit-Learn's `StandardScaler`). When scales are mismatched, smaller values will take a longer time to converge."
   ],
   "cell_type": "markdown",
   "metadata": {}
  },
  {
   "source": [
    "### 4.2.1 Batch Gradient Descent"
   ],
   "cell_type": "markdown",
   "metadata": {}
  },
  {
   "source": [
    "*Equation 4-5. Partial derivatives of the cost function*\n",
    "\n",
    "$$ \\frac{\\partial}{\\partial\\theta_j}MSE(\\theta) = \\frac{2}{m} \\sum_{i=1}^{m}{(\\theta^T \\mathbf{x^{(i)}} - y^{(i)}) x_j^{(i)}} $$\n",
    "\n",
    "*Equation 4-6. Gradient vector of the cost function*\n",
    "\n",
    "$$ \n",
    "\\nabla_\\theta MSE(\\theta)\n",
    "=\n",
    "\\begin{pmatrix}\n",
    "\\frac{\\partial}{\\partial\\theta_0} MSE(\\theta) \\\\\n",
    "\\frac{\\partial}{\\partial\\theta_1} MSE(\\theta) \\\\\n",
    "\\vdots \\\\\n",
    "\\frac{\\partial}{\\partial\\theta_n} MSE(\\theta)\n",
    "\\end{pmatrix}\n",
    "=\n",
    "\\frac{2}{m} \\mathbf{X}^T\n",
    "(\\mathbf{X\\theta} - \\mathbf{y})\n",
    "$$\n",
    "\n",
    "> Note: Gradient vector involves the full training set $\\mathbf{X}$,\n",
    ">> Slow, when $\\uparrow\\uparrow m $ training examples\n",
    ">>\n",
    ">> Fast, when $\\uparrow\\uparrow n$ features (more efficient than Normal Equation/SVD decomposition)\n",
    "\n",
    "Gradient vector points uphill ($+$) so go in opposite direction to go downhill ($-$) by multiplying by learning rate $\\eta$ and subtracting the gradient from $\\theta$.\n",
    "\n",
    "*Equation-4-7. Gradient Descent step*\n",
    "\n",
    "$$ \n",
    "\\theta^{(next \\: step)} = \\theta -\n",
    "\\eta \\nabla_\\theta MSE(\\theta)\n",
    "$$"
   ],
   "cell_type": "markdown",
   "metadata": {}
  },
  {
   "cell_type": "code",
   "execution_count": 15,
   "metadata": {},
   "outputs": [
    {
     "output_type": "execute_result",
     "data": {
      "text/plain": [
       "array([[4.11654577],\n",
       "       [3.00835997]])"
      ]
     },
     "metadata": {},
     "execution_count": 15
    }
   ],
   "source": [
    "eta = 0.1 # learning rate\n",
    "n_iterations = 1000\n",
    "m = 100\n",
    "\n",
    "theta = np.random.randn(2, 1) # random initialization\n",
    "\n",
    "for iteration in range(n_iterations):\n",
    "    gradients = 2/m * X_b.T @ (X_b @ theta - y)\n",
    "    theta = theta - eta * gradients\n",
    "\n",
    "theta"
   ]
  },
  {
   "source": [
    "To find a good learning rate, you can use `grid search`. However, limit the number of iterations so that grid search can eliminate models that take too long to converge.\n",
    "\n",
    "How many iterations? Set a very large number of iterations but interrupt the algorithm when the gradient vector becomes tiny, $ << \\epsilon $, where $\\epsilon$ is the tolerance.\n",
    "\n",
    "> **Convergence Rate**\n",
    ">> When the cost function is convex and slope does not change abruptly, Batch Gradient Descent with a fixed learning rate will converge to optimal solution.\n",
    ">>\n",
    ">> It can take $O(1/\\epsilon)$ to reach optimum within range of $\\epsilon$.  \n",
    ">> If you divide tolerance by 10 for more precision, it may have to run 10x longer."
   ],
   "cell_type": "markdown",
   "metadata": {}
  },
  {
   "source": [
    "### 4.2.2 Stochastic Gradient Descent"
   ],
   "cell_type": "markdown",
   "metadata": {}
  },
  {
   "source": [
    "### 4.2.3 Mini-batch Gradient Descent"
   ],
   "cell_type": "markdown",
   "metadata": {}
  },
  {
   "source": [
    "## 4.3 Polynomial Regression"
   ],
   "cell_type": "markdown",
   "metadata": {}
  },
  {
   "source": [
    "## 4.4 Learning Curves"
   ],
   "cell_type": "markdown",
   "metadata": {}
  },
  {
   "source": [
    "## 4.5 Regularized Linear Models"
   ],
   "cell_type": "markdown",
   "metadata": {}
  },
  {
   "source": [
    "### 4.5.1 Ridge Regression"
   ],
   "cell_type": "markdown",
   "metadata": {}
  },
  {
   "source": [
    "### 4.5.2 Lasso Regression"
   ],
   "cell_type": "markdown",
   "metadata": {}
  },
  {
   "source": [
    "### 4.5.3 Elastic Net"
   ],
   "cell_type": "markdown",
   "metadata": {}
  },
  {
   "source": [
    "### 4.5.4 Early Stopping"
   ],
   "cell_type": "markdown",
   "metadata": {}
  },
  {
   "source": [
    "## 4.6 Logistic Regression"
   ],
   "cell_type": "markdown",
   "metadata": {}
  },
  {
   "source": [
    "### 4.6.1 Estimating Probabilities"
   ],
   "cell_type": "markdown",
   "metadata": {}
  },
  {
   "source": [
    "### 4.6.2 Training and Cost Function"
   ],
   "cell_type": "markdown",
   "metadata": {}
  },
  {
   "source": [
    "### 4.6.3 Decision Boundaries"
   ],
   "cell_type": "markdown",
   "metadata": {}
  },
  {
   "source": [
    "### 4.6.4 Softmax Regression"
   ],
   "cell_type": "markdown",
   "metadata": {}
  }
 ]
}