{
 "metadata": {
  "language_info": {
   "codemirror_mode": {
    "name": "ipython",
    "version": 3
   },
   "file_extension": ".py",
   "mimetype": "text/x-python",
   "name": "python",
   "nbconvert_exporter": "python",
   "pygments_lexer": "ipython3",
   "version": "3.9.0-final"
  },
  "orig_nbformat": 2,
  "kernelspec": {
   "name": "python3",
   "display_name": "Python 3.9.0 64-bit ('venv')",
   "metadata": {
    "interpreter": {
     "hash": "827f19bd41cf1c018d4f04e87cbfeb195156e22ccd61394a4c428a815407c264"
    }
   }
  }
 },
 "nbformat": 4,
 "nbformat_minor": 2,
 "cells": [
  {
   "source": [
    "# Chapter 4: Training Models"
   ],
   "cell_type": "markdown",
   "metadata": {}
  },
  {
   "cell_type": "code",
   "execution_count": 5,
   "metadata": {},
   "outputs": [],
   "source": [
    "import numpy as np\n",
    "import matplotlib.pyplot as plt"
   ]
  },
  {
   "source": [
    "## 4.1 Linear Regression"
   ],
   "cell_type": "markdown",
   "metadata": {}
  },
  {
   "source": [
    "*Equation 4-1. Linear Regression model prediction*\n",
    "\n",
    "$$ \\hat{y} = \\theta_0 + \\theta_1x_1 + \\theta_2x_2 + ... + \\theta_nx_n$$  \n",
    "\n",
    "where:\n",
    "- $\\hat{y}$ is the predicted value\n",
    "- $n$ is the number of features\n",
    "- $x_i$ is the ith feature value.\n",
    "- $\\theta_j$ is the jth model parameter (including the bias term $\\theta_0$ and the feature weights)\n",
    "\n",
    "*Equation 4-2. Linear Regression model prediction (vectorized form)*\n",
    "\n",
    "$$ \\hat{y} = h_\\theta(x) = \\vec{\\theta} \\cdot \\vec{x} $$\n",
    "\n",
    "where:\n",
    "- $\\vec{\\theta}$ is the model's parameter vector\n",
    "- $\\vec{x}$ is the instance's feature vector, with $x_0$ always equal to 1\n",
    "- $h_\\theta$ is the hypothesis function\n",
    "\n",
    "> Note: Vectors are often represented as *column vectors* so prediction is $\\hat{y} = \\theta^T x$, (matrix multiplication).  \n",
    "\n",
    "To measure how well (or poorly) the model fits to the training data, find the value of $\\theta$ that minimizes the Root Mean Square Error (RMSE) / Mean Squared Error (MSE) - value that minimizes the function also minimizes the square root.\n",
    "\n",
    "*Equation 4-3. MSE cost function function for a Linear Regression model*\n",
    "\n",
    "$$ MSE(X, h_\\theta) = \\frac{1}{m} \\sum_{i=1}^{m} (\\theta^T x^{(i)} - y^{(i)})^2$$"
   ],
   "cell_type": "markdown",
   "metadata": {}
  },
  {
   "source": [
    "### 4.1.1 The Normal Equation"
   ],
   "cell_type": "markdown",
   "metadata": {}
  },
  {
   "source": [
    "The `Normal Equation` is a closed-form solution that minimizes the cost function and finds the value of $\\theta$.\n",
    "\n",
    "*Equation 4-4. Normal Equation*\n",
    "\n",
    "$$ \\hat{\\theta} = (X^T X)^{-1} X^T \\vec{y}$$\n",
    "\n",
    "where:\n",
    "- $\\hat{\\theta}$ is the value of $\\theta$ that minimizes the cost function.\n",
    "- $\\vec{y}$ is the vector of target values containing $y^{(1)}$ to $y^{(m)}$."
   ],
   "cell_type": "markdown",
   "metadata": {}
  },
  {
   "source": [
    "Let's generate some linear-looking data to test this equation."
   ],
   "cell_type": "markdown",
   "metadata": {}
  },
  {
   "cell_type": "code",
   "execution_count": 2,
   "metadata": {},
   "outputs": [],
   "source": [
    "import numpy as np"
   ]
  },
  {
   "cell_type": "code",
   "execution_count": 7,
   "metadata": {},
   "outputs": [
    {
     "output_type": "display_data",
     "data": {
      "text/plain": "<Figure size 432x288 with 1 Axes>",
      "image/svg+xml": "<?xml version=\"1.0\" encoding=\"utf-8\" standalone=\"no\"?>\r\n<!DOCTYPE svg PUBLIC \"-//W3C//DTD SVG 1.1//EN\"\r\n  \"http://www.w3.org/Graphics/SVG/1.1/DTD/svg11.dtd\">\r\n<!-- Created with matplotlib (https://matplotlib.org/) -->\r\n<svg height=\"248.518125pt\" version=\"1.1\" viewBox=\"0 0 368.925 248.518125\" width=\"368.925pt\" xmlns=\"http://www.w3.org/2000/svg\" xmlns:xlink=\"http://www.w3.org/1999/xlink\">\r\n <metadata>\r\n  <rdf:RDF xmlns:cc=\"http://creativecommons.org/ns#\" xmlns:dc=\"http://purl.org/dc/elements/1.1/\" xmlns:rdf=\"http://www.w3.org/1999/02/22-rdf-syntax-ns#\">\r\n   <cc:Work>\r\n    <dc:type rdf:resource=\"http://purl.org/dc/dcmitype/StillImage\"/>\r\n    <dc:date>2021-01-11T21:53:30.158112</dc:date>\r\n    <dc:format>image/svg+xml</dc:format>\r\n    <dc:creator>\r\n     <cc:Agent>\r\n      <dc:title>Matplotlib v3.3.3, https://matplotlib.org/</dc:title>\r\n     </cc:Agent>\r\n    </dc:creator>\r\n   </cc:Work>\r\n  </rdf:RDF>\r\n </metadata>\r\n <defs>\r\n  <style type=\"text/css\">*{stroke-linecap:butt;stroke-linejoin:round;}</style>\r\n </defs>\r\n <g id=\"figure_1\">\r\n  <g id=\"patch_1\">\r\n   <path d=\"M -0 248.518125 \r\nL 368.925 248.518125 \r\nL 368.925 0 \r\nL -0 0 \r\nz\r\n\" style=\"fill:none;\"/>\r\n  </g>\r\n  <g id=\"axes_1\">\r\n   <g id=\"patch_2\">\r\n    <path d=\"M 26.925 224.64 \r\nL 361.725 224.64 \r\nL 361.725 7.2 \r\nL 26.925 7.2 \r\nz\r\n\" style=\"fill:#ffffff;\"/>\r\n   </g>\r\n   <g id=\"matplotlib.axis_1\">\r\n    <g id=\"xtick_1\">\r\n     <g id=\"line2d_1\">\r\n      <defs>\r\n       <path d=\"M 0 0 \r\nL 0 3.5 \r\n\" id=\"m5187de2849\" style=\"stroke:#000000;stroke-width:0.8;\"/>\r\n      </defs>\r\n      <g>\r\n       <use style=\"stroke:#000000;stroke-width:0.8;\" x=\"37.604973\" xlink:href=\"#m5187de2849\" y=\"224.64\"/>\r\n      </g>\r\n     </g>\r\n     <g id=\"text_1\">\r\n      <!-- 0.00 -->\r\n      <g transform=\"translate(26.47216 239.238437)scale(0.1 -0.1)\">\r\n       <defs>\r\n        <path d=\"M 31.78125 66.40625 \r\nQ 24.171875 66.40625 20.328125 58.90625 \r\nQ 16.5 51.421875 16.5 36.375 \r\nQ 16.5 21.390625 20.328125 13.890625 \r\nQ 24.171875 6.390625 31.78125 6.390625 \r\nQ 39.453125 6.390625 43.28125 13.890625 \r\nQ 47.125 21.390625 47.125 36.375 \r\nQ 47.125 51.421875 43.28125 58.90625 \r\nQ 39.453125 66.40625 31.78125 66.40625 \r\nz\r\nM 31.78125 74.21875 \r\nQ 44.046875 74.21875 50.515625 64.515625 \r\nQ 56.984375 54.828125 56.984375 36.375 \r\nQ 56.984375 17.96875 50.515625 8.265625 \r\nQ 44.046875 -1.421875 31.78125 -1.421875 \r\nQ 19.53125 -1.421875 13.0625 8.265625 \r\nQ 6.59375 17.96875 6.59375 36.375 \r\nQ 6.59375 54.828125 13.0625 64.515625 \r\nQ 19.53125 74.21875 31.78125 74.21875 \r\nz\r\n\" id=\"DejaVuSans-48\"/>\r\n        <path d=\"M 10.6875 12.40625 \r\nL 21 12.40625 \r\nL 21 0 \r\nL 10.6875 0 \r\nz\r\n\" id=\"DejaVuSans-46\"/>\r\n       </defs>\r\n       <use xlink:href=\"#DejaVuSans-48\"/>\r\n       <use x=\"63.623047\" xlink:href=\"#DejaVuSans-46\"/>\r\n       <use x=\"95.410156\" xlink:href=\"#DejaVuSans-48\"/>\r\n       <use x=\"159.033203\" xlink:href=\"#DejaVuSans-48\"/>\r\n      </g>\r\n     </g>\r\n    </g>\r\n    <g id=\"xtick_2\">\r\n     <g id=\"line2d_2\">\r\n      <g>\r\n       <use style=\"stroke:#000000;stroke-width:0.8;\" x=\"76.234918\" xlink:href=\"#m5187de2849\" y=\"224.64\"/>\r\n      </g>\r\n     </g>\r\n     <g id=\"text_2\">\r\n      <!-- 0.25 -->\r\n      <g transform=\"translate(65.102106 239.238437)scale(0.1 -0.1)\">\r\n       <defs>\r\n        <path d=\"M 19.1875 8.296875 \r\nL 53.609375 8.296875 \r\nL 53.609375 0 \r\nL 7.328125 0 \r\nL 7.328125 8.296875 \r\nQ 12.9375 14.109375 22.625 23.890625 \r\nQ 32.328125 33.6875 34.8125 36.53125 \r\nQ 39.546875 41.84375 41.421875 45.53125 \r\nQ 43.3125 49.21875 43.3125 52.78125 \r\nQ 43.3125 58.59375 39.234375 62.25 \r\nQ 35.15625 65.921875 28.609375 65.921875 \r\nQ 23.96875 65.921875 18.8125 64.3125 \r\nQ 13.671875 62.703125 7.8125 59.421875 \r\nL 7.8125 69.390625 \r\nQ 13.765625 71.78125 18.9375 73 \r\nQ 24.125 74.21875 28.421875 74.21875 \r\nQ 39.75 74.21875 46.484375 68.546875 \r\nQ 53.21875 62.890625 53.21875 53.421875 \r\nQ 53.21875 48.921875 51.53125 44.890625 \r\nQ 49.859375 40.875 45.40625 35.40625 \r\nQ 44.1875 33.984375 37.640625 27.21875 \r\nQ 31.109375 20.453125 19.1875 8.296875 \r\nz\r\n\" id=\"DejaVuSans-50\"/>\r\n        <path d=\"M 10.796875 72.90625 \r\nL 49.515625 72.90625 \r\nL 49.515625 64.59375 \r\nL 19.828125 64.59375 \r\nL 19.828125 46.734375 \r\nQ 21.96875 47.46875 24.109375 47.828125 \r\nQ 26.265625 48.1875 28.421875 48.1875 \r\nQ 40.625 48.1875 47.75 41.5 \r\nQ 54.890625 34.8125 54.890625 23.390625 \r\nQ 54.890625 11.625 47.5625 5.09375 \r\nQ 40.234375 -1.421875 26.90625 -1.421875 \r\nQ 22.3125 -1.421875 17.546875 -0.640625 \r\nQ 12.796875 0.140625 7.71875 1.703125 \r\nL 7.71875 11.625 \r\nQ 12.109375 9.234375 16.796875 8.0625 \r\nQ 21.484375 6.890625 26.703125 6.890625 \r\nQ 35.15625 6.890625 40.078125 11.328125 \r\nQ 45.015625 15.765625 45.015625 23.390625 \r\nQ 45.015625 31 40.078125 35.4375 \r\nQ 35.15625 39.890625 26.703125 39.890625 \r\nQ 22.75 39.890625 18.8125 39.015625 \r\nQ 14.890625 38.140625 10.796875 36.28125 \r\nz\r\n\" id=\"DejaVuSans-53\"/>\r\n       </defs>\r\n       <use xlink:href=\"#DejaVuSans-48\"/>\r\n       <use x=\"63.623047\" xlink:href=\"#DejaVuSans-46\"/>\r\n       <use x=\"95.410156\" xlink:href=\"#DejaVuSans-50\"/>\r\n       <use x=\"159.033203\" xlink:href=\"#DejaVuSans-53\"/>\r\n      </g>\r\n     </g>\r\n    </g>\r\n    <g id=\"xtick_3\">\r\n     <g id=\"line2d_3\">\r\n      <g>\r\n       <use style=\"stroke:#000000;stroke-width:0.8;\" x=\"114.864864\" xlink:href=\"#m5187de2849\" y=\"224.64\"/>\r\n      </g>\r\n     </g>\r\n     <g id=\"text_3\">\r\n      <!-- 0.50 -->\r\n      <g transform=\"translate(103.732052 239.238437)scale(0.1 -0.1)\">\r\n       <use xlink:href=\"#DejaVuSans-48\"/>\r\n       <use x=\"63.623047\" xlink:href=\"#DejaVuSans-46\"/>\r\n       <use x=\"95.410156\" xlink:href=\"#DejaVuSans-53\"/>\r\n       <use x=\"159.033203\" xlink:href=\"#DejaVuSans-48\"/>\r\n      </g>\r\n     </g>\r\n    </g>\r\n    <g id=\"xtick_4\">\r\n     <g id=\"line2d_4\">\r\n      <g>\r\n       <use style=\"stroke:#000000;stroke-width:0.8;\" x=\"153.49481\" xlink:href=\"#m5187de2849\" y=\"224.64\"/>\r\n      </g>\r\n     </g>\r\n     <g id=\"text_4\">\r\n      <!-- 0.75 -->\r\n      <g transform=\"translate(142.361997 239.238437)scale(0.1 -0.1)\">\r\n       <defs>\r\n        <path d=\"M 8.203125 72.90625 \r\nL 55.078125 72.90625 \r\nL 55.078125 68.703125 \r\nL 28.609375 0 \r\nL 18.3125 0 \r\nL 43.21875 64.59375 \r\nL 8.203125 64.59375 \r\nz\r\n\" id=\"DejaVuSans-55\"/>\r\n       </defs>\r\n       <use xlink:href=\"#DejaVuSans-48\"/>\r\n       <use x=\"63.623047\" xlink:href=\"#DejaVuSans-46\"/>\r\n       <use x=\"95.410156\" xlink:href=\"#DejaVuSans-55\"/>\r\n       <use x=\"159.033203\" xlink:href=\"#DejaVuSans-53\"/>\r\n      </g>\r\n     </g>\r\n    </g>\r\n    <g id=\"xtick_5\">\r\n     <g id=\"line2d_5\">\r\n      <g>\r\n       <use style=\"stroke:#000000;stroke-width:0.8;\" x=\"192.124756\" xlink:href=\"#m5187de2849\" y=\"224.64\"/>\r\n      </g>\r\n     </g>\r\n     <g id=\"text_5\">\r\n      <!-- 1.00 -->\r\n      <g transform=\"translate(180.991943 239.238437)scale(0.1 -0.1)\">\r\n       <defs>\r\n        <path d=\"M 12.40625 8.296875 \r\nL 28.515625 8.296875 \r\nL 28.515625 63.921875 \r\nL 10.984375 60.40625 \r\nL 10.984375 69.390625 \r\nL 28.421875 72.90625 \r\nL 38.28125 72.90625 \r\nL 38.28125 8.296875 \r\nL 54.390625 8.296875 \r\nL 54.390625 0 \r\nL 12.40625 0 \r\nz\r\n\" id=\"DejaVuSans-49\"/>\r\n       </defs>\r\n       <use xlink:href=\"#DejaVuSans-49\"/>\r\n       <use x=\"63.623047\" xlink:href=\"#DejaVuSans-46\"/>\r\n       <use x=\"95.410156\" xlink:href=\"#DejaVuSans-48\"/>\r\n       <use x=\"159.033203\" xlink:href=\"#DejaVuSans-48\"/>\r\n      </g>\r\n     </g>\r\n    </g>\r\n    <g id=\"xtick_6\">\r\n     <g id=\"line2d_6\">\r\n      <g>\r\n       <use style=\"stroke:#000000;stroke-width:0.8;\" x=\"230.754701\" xlink:href=\"#m5187de2849\" y=\"224.64\"/>\r\n      </g>\r\n     </g>\r\n     <g id=\"text_6\">\r\n      <!-- 1.25 -->\r\n      <g transform=\"translate(219.621889 239.238437)scale(0.1 -0.1)\">\r\n       <use xlink:href=\"#DejaVuSans-49\"/>\r\n       <use x=\"63.623047\" xlink:href=\"#DejaVuSans-46\"/>\r\n       <use x=\"95.410156\" xlink:href=\"#DejaVuSans-50\"/>\r\n       <use x=\"159.033203\" xlink:href=\"#DejaVuSans-53\"/>\r\n      </g>\r\n     </g>\r\n    </g>\r\n    <g id=\"xtick_7\">\r\n     <g id=\"line2d_7\">\r\n      <g>\r\n       <use style=\"stroke:#000000;stroke-width:0.8;\" x=\"269.384647\" xlink:href=\"#m5187de2849\" y=\"224.64\"/>\r\n      </g>\r\n     </g>\r\n     <g id=\"text_7\">\r\n      <!-- 1.50 -->\r\n      <g transform=\"translate(258.251835 239.238437)scale(0.1 -0.1)\">\r\n       <use xlink:href=\"#DejaVuSans-49\"/>\r\n       <use x=\"63.623047\" xlink:href=\"#DejaVuSans-46\"/>\r\n       <use x=\"95.410156\" xlink:href=\"#DejaVuSans-53\"/>\r\n       <use x=\"159.033203\" xlink:href=\"#DejaVuSans-48\"/>\r\n      </g>\r\n     </g>\r\n    </g>\r\n    <g id=\"xtick_8\">\r\n     <g id=\"line2d_8\">\r\n      <g>\r\n       <use style=\"stroke:#000000;stroke-width:0.8;\" x=\"308.014593\" xlink:href=\"#m5187de2849\" y=\"224.64\"/>\r\n      </g>\r\n     </g>\r\n     <g id=\"text_8\">\r\n      <!-- 1.75 -->\r\n      <g transform=\"translate(296.88178 239.238437)scale(0.1 -0.1)\">\r\n       <use xlink:href=\"#DejaVuSans-49\"/>\r\n       <use x=\"63.623047\" xlink:href=\"#DejaVuSans-46\"/>\r\n       <use x=\"95.410156\" xlink:href=\"#DejaVuSans-55\"/>\r\n       <use x=\"159.033203\" xlink:href=\"#DejaVuSans-53\"/>\r\n      </g>\r\n     </g>\r\n    </g>\r\n    <g id=\"xtick_9\">\r\n     <g id=\"line2d_9\">\r\n      <g>\r\n       <use style=\"stroke:#000000;stroke-width:0.8;\" x=\"346.644539\" xlink:href=\"#m5187de2849\" y=\"224.64\"/>\r\n      </g>\r\n     </g>\r\n     <g id=\"text_9\">\r\n      <!-- 2.00 -->\r\n      <g transform=\"translate(335.511726 239.238437)scale(0.1 -0.1)\">\r\n       <use xlink:href=\"#DejaVuSans-50\"/>\r\n       <use x=\"63.623047\" xlink:href=\"#DejaVuSans-46\"/>\r\n       <use x=\"95.410156\" xlink:href=\"#DejaVuSans-48\"/>\r\n       <use x=\"159.033203\" xlink:href=\"#DejaVuSans-48\"/>\r\n      </g>\r\n     </g>\r\n    </g>\r\n   </g>\r\n   <g id=\"matplotlib.axis_2\">\r\n    <g id=\"ytick_1\">\r\n     <g id=\"line2d_10\">\r\n      <defs>\r\n       <path d=\"M 0 0 \r\nL -3.5 0 \r\n\" id=\"m9b462c12db\" style=\"stroke:#000000;stroke-width:0.8;\"/>\r\n      </defs>\r\n      <g>\r\n       <use style=\"stroke:#000000;stroke-width:0.8;\" x=\"26.925\" xlink:href=\"#m9b462c12db\" y=\"181.316189\"/>\r\n      </g>\r\n     </g>\r\n     <g id=\"text_10\">\r\n      <!-- 4 -->\r\n      <g transform=\"translate(13.5625 185.115407)scale(0.1 -0.1)\">\r\n       <defs>\r\n        <path d=\"M 37.796875 64.3125 \r\nL 12.890625 25.390625 \r\nL 37.796875 25.390625 \r\nz\r\nM 35.203125 72.90625 \r\nL 47.609375 72.90625 \r\nL 47.609375 25.390625 \r\nL 58.015625 25.390625 \r\nL 58.015625 17.1875 \r\nL 47.609375 17.1875 \r\nL 47.609375 0 \r\nL 37.796875 0 \r\nL 37.796875 17.1875 \r\nL 4.890625 17.1875 \r\nL 4.890625 26.703125 \r\nz\r\n\" id=\"DejaVuSans-52\"/>\r\n       </defs>\r\n       <use xlink:href=\"#DejaVuSans-52\"/>\r\n      </g>\r\n     </g>\r\n    </g>\r\n    <g id=\"ytick_2\">\r\n     <g id=\"line2d_11\">\r\n      <g>\r\n       <use style=\"stroke:#000000;stroke-width:0.8;\" x=\"26.925\" xlink:href=\"#m9b462c12db\" y=\"135.368737\"/>\r\n      </g>\r\n     </g>\r\n     <g id=\"text_11\">\r\n      <!-- 6 -->\r\n      <g transform=\"translate(13.5625 139.167956)scale(0.1 -0.1)\">\r\n       <defs>\r\n        <path d=\"M 33.015625 40.375 \r\nQ 26.375 40.375 22.484375 35.828125 \r\nQ 18.609375 31.296875 18.609375 23.390625 \r\nQ 18.609375 15.53125 22.484375 10.953125 \r\nQ 26.375 6.390625 33.015625 6.390625 \r\nQ 39.65625 6.390625 43.53125 10.953125 \r\nQ 47.40625 15.53125 47.40625 23.390625 \r\nQ 47.40625 31.296875 43.53125 35.828125 \r\nQ 39.65625 40.375 33.015625 40.375 \r\nz\r\nM 52.59375 71.296875 \r\nL 52.59375 62.3125 \r\nQ 48.875 64.0625 45.09375 64.984375 \r\nQ 41.3125 65.921875 37.59375 65.921875 \r\nQ 27.828125 65.921875 22.671875 59.328125 \r\nQ 17.53125 52.734375 16.796875 39.40625 \r\nQ 19.671875 43.65625 24.015625 45.921875 \r\nQ 28.375 48.1875 33.59375 48.1875 \r\nQ 44.578125 48.1875 50.953125 41.515625 \r\nQ 57.328125 34.859375 57.328125 23.390625 \r\nQ 57.328125 12.15625 50.6875 5.359375 \r\nQ 44.046875 -1.421875 33.015625 -1.421875 \r\nQ 20.359375 -1.421875 13.671875 8.265625 \r\nQ 6.984375 17.96875 6.984375 36.375 \r\nQ 6.984375 53.65625 15.1875 63.9375 \r\nQ 23.390625 74.21875 37.203125 74.21875 \r\nQ 40.921875 74.21875 44.703125 73.484375 \r\nQ 48.484375 72.75 52.59375 71.296875 \r\nz\r\n\" id=\"DejaVuSans-54\"/>\r\n       </defs>\r\n       <use xlink:href=\"#DejaVuSans-54\"/>\r\n      </g>\r\n     </g>\r\n    </g>\r\n    <g id=\"ytick_3\">\r\n     <g id=\"line2d_12\">\r\n      <g>\r\n       <use style=\"stroke:#000000;stroke-width:0.8;\" x=\"26.925\" xlink:href=\"#m9b462c12db\" y=\"89.421285\"/>\r\n      </g>\r\n     </g>\r\n     <g id=\"text_12\">\r\n      <!-- 8 -->\r\n      <g transform=\"translate(13.5625 93.220504)scale(0.1 -0.1)\">\r\n       <defs>\r\n        <path d=\"M 31.78125 34.625 \r\nQ 24.75 34.625 20.71875 30.859375 \r\nQ 16.703125 27.09375 16.703125 20.515625 \r\nQ 16.703125 13.921875 20.71875 10.15625 \r\nQ 24.75 6.390625 31.78125 6.390625 \r\nQ 38.8125 6.390625 42.859375 10.171875 \r\nQ 46.921875 13.96875 46.921875 20.515625 \r\nQ 46.921875 27.09375 42.890625 30.859375 \r\nQ 38.875 34.625 31.78125 34.625 \r\nz\r\nM 21.921875 38.8125 \r\nQ 15.578125 40.375 12.03125 44.71875 \r\nQ 8.5 49.078125 8.5 55.328125 \r\nQ 8.5 64.0625 14.71875 69.140625 \r\nQ 20.953125 74.21875 31.78125 74.21875 \r\nQ 42.671875 74.21875 48.875 69.140625 \r\nQ 55.078125 64.0625 55.078125 55.328125 \r\nQ 55.078125 49.078125 51.53125 44.71875 \r\nQ 48 40.375 41.703125 38.8125 \r\nQ 48.828125 37.15625 52.796875 32.3125 \r\nQ 56.78125 27.484375 56.78125 20.515625 \r\nQ 56.78125 9.90625 50.3125 4.234375 \r\nQ 43.84375 -1.421875 31.78125 -1.421875 \r\nQ 19.734375 -1.421875 13.25 4.234375 \r\nQ 6.78125 9.90625 6.78125 20.515625 \r\nQ 6.78125 27.484375 10.78125 32.3125 \r\nQ 14.796875 37.15625 21.921875 38.8125 \r\nz\r\nM 18.3125 54.390625 \r\nQ 18.3125 48.734375 21.84375 45.5625 \r\nQ 25.390625 42.390625 31.78125 42.390625 \r\nQ 38.140625 42.390625 41.71875 45.5625 \r\nQ 45.3125 48.734375 45.3125 54.390625 \r\nQ 45.3125 60.0625 41.71875 63.234375 \r\nQ 38.140625 66.40625 31.78125 66.40625 \r\nQ 25.390625 66.40625 21.84375 63.234375 \r\nQ 18.3125 60.0625 18.3125 54.390625 \r\nz\r\n\" id=\"DejaVuSans-56\"/>\r\n       </defs>\r\n       <use xlink:href=\"#DejaVuSans-56\"/>\r\n      </g>\r\n     </g>\r\n    </g>\r\n    <g id=\"ytick_4\">\r\n     <g id=\"line2d_13\">\r\n      <g>\r\n       <use style=\"stroke:#000000;stroke-width:0.8;\" x=\"26.925\" xlink:href=\"#m9b462c12db\" y=\"43.473833\"/>\r\n      </g>\r\n     </g>\r\n     <g id=\"text_13\">\r\n      <!-- 10 -->\r\n      <g transform=\"translate(7.2 47.273052)scale(0.1 -0.1)\">\r\n       <use xlink:href=\"#DejaVuSans-49\"/>\r\n       <use x=\"63.623047\" xlink:href=\"#DejaVuSans-48\"/>\r\n      </g>\r\n     </g>\r\n    </g>\r\n   </g>\r\n   <g id=\"line2d_14\">\r\n    <defs>\r\n     <path d=\"M 0 1.5 \r\nC 0.397805 1.5 0.77937 1.341951 1.06066 1.06066 \r\nC 1.341951 0.77937 1.5 0.397805 1.5 0 \r\nC 1.5 -0.397805 1.341951 -0.77937 1.06066 -1.06066 \r\nC 0.77937 -1.341951 0.397805 -1.5 0 -1.5 \r\nC -0.397805 -1.5 -0.77937 -1.341951 -1.06066 -1.06066 \r\nC -1.341951 -0.77937 -1.5 -0.397805 -1.5 0 \r\nC -1.5 0.397805 -1.341951 0.77937 -1.06066 1.06066 \r\nC -0.77937 1.341951 -0.397805 1.5 0 1.5 \r\nz\r\n\" id=\"m23f438fb79\" style=\"stroke:#0000ff;\"/>\r\n    </defs>\r\n    <g clip-path=\"url(#p0a4ca5f16b)\">\r\n     <use style=\"fill:#0000ff;stroke:#0000ff;\" x=\"118.395037\" xlink:href=\"#m23f438fb79\" y=\"154.934358\"/>\r\n     <use style=\"fill:#0000ff;stroke:#0000ff;\" x=\"133.148076\" xlink:href=\"#m23f438fb79\" y=\"141.085254\"/>\r\n     <use style=\"fill:#0000ff;stroke:#0000ff;\" x=\"288.879721\" xlink:href=\"#m23f438fb79\" y=\"39.778903\"/>\r\n     <use style=\"fill:#0000ff;stroke:#0000ff;\" x=\"49.821107\" xlink:href=\"#m23f438fb79\" y=\"146.650332\"/>\r\n     <use style=\"fill:#0000ff;stroke:#0000ff;\" x=\"172.82335\" xlink:href=\"#m23f438fb79\" y=\"119.597266\"/>\r\n     <use style=\"fill:#0000ff;stroke:#0000ff;\" x=\"152.403107\" xlink:href=\"#m23f438fb79\" y=\"143.09529\"/>\r\n     <use style=\"fill:#0000ff;stroke:#0000ff;\" x=\"263.213605\" xlink:href=\"#m23f438fb79\" y=\"64.612577\"/>\r\n     <use style=\"fill:#0000ff;stroke:#0000ff;\" x=\"207.69603\" xlink:href=\"#m23f438fb79\" y=\"109.826937\"/>\r\n     <use style=\"fill:#0000ff;stroke:#0000ff;\" x=\"307.282655\" xlink:href=\"#m23f438fb79\" y=\"64.304408\"/>\r\n     <use style=\"fill:#0000ff;stroke:#0000ff;\" x=\"259.200111\" xlink:href=\"#m23f438fb79\" y=\"103.973811\"/>\r\n     <use style=\"fill:#0000ff;stroke:#0000ff;\" x=\"342.410746\" xlink:href=\"#m23f438fb79\" y=\"36.750384\"/>\r\n     <use style=\"fill:#0000ff;stroke:#0000ff;\" x=\"313.894711\" xlink:href=\"#m23f438fb79\" y=\"58.424086\"/>\r\n     <use style=\"fill:#0000ff;stroke:#0000ff;\" x=\"251.677263\" xlink:href=\"#m23f438fb79\" y=\"68.730878\"/>\r\n     <use style=\"fill:#0000ff;stroke:#0000ff;\" x=\"340.415235\" xlink:href=\"#m23f438fb79\" y=\"37.846132\"/>\r\n     <use style=\"fill:#0000ff;stroke:#0000ff;\" x=\"252.006814\" xlink:href=\"#m23f438fb79\" y=\"91.60284\"/>\r\n     <use style=\"fill:#0000ff;stroke:#0000ff;\" x=\"344.28823\" xlink:href=\"#m23f438fb79\" y=\"37.741918\"/>\r\n     <use style=\"fill:#0000ff;stroke:#0000ff;\" x=\"92.318507\" xlink:href=\"#m23f438fb79\" y=\"136.334563\"/>\r\n     <use style=\"fill:#0000ff;stroke:#0000ff;\" x=\"346.506818\" xlink:href=\"#m23f438fb79\" y=\"43.406064\"/>\r\n     <use style=\"fill:#0000ff;stroke:#0000ff;\" x=\"171.067711\" xlink:href=\"#m23f438fb79\" y=\"121.810951\"/>\r\n     <use style=\"fill:#0000ff;stroke:#0000ff;\" x=\"141.25686\" xlink:href=\"#m23f438fb79\" y=\"99.260315\"/>\r\n     <use style=\"fill:#0000ff;stroke:#0000ff;\" x=\"328.231408\" xlink:href=\"#m23f438fb79\" y=\"86.261517\"/>\r\n     <use style=\"fill:#0000ff;stroke:#0000ff;\" x=\"58.015535\" xlink:href=\"#m23f438fb79\" y=\"139.260764\"/>\r\n     <use style=\"fill:#0000ff;stroke:#0000ff;\" x=\"54.01636\" xlink:href=\"#m23f438fb79\" y=\"155.279048\"/>\r\n     <use style=\"fill:#0000ff;stroke:#0000ff;\" x=\"167.414462\" xlink:href=\"#m23f438fb79\" y=\"110.004376\"/>\r\n     <use style=\"fill:#0000ff;stroke:#0000ff;\" x=\"104.548075\" xlink:href=\"#m23f438fb79\" y=\"118.643167\"/>\r\n     <use style=\"fill:#0000ff;stroke:#0000ff;\" x=\"104.061836\" xlink:href=\"#m23f438fb79\" y=\"165.084951\"/>\r\n     <use style=\"fill:#0000ff;stroke:#0000ff;\" x=\"56.556199\" xlink:href=\"#m23f438fb79\" y=\"146.623861\"/>\r\n     <use style=\"fill:#0000ff;stroke:#0000ff;\" x=\"127.202677\" xlink:href=\"#m23f438fb79\" y=\"106.749287\"/>\r\n     <use style=\"fill:#0000ff;stroke:#0000ff;\" x=\"299.442587\" xlink:href=\"#m23f438fb79\" y=\"65.475152\"/>\r\n     <use style=\"fill:#0000ff;stroke:#0000ff;\" x=\"243.463607\" xlink:href=\"#m23f438fb79\" y=\"38.538596\"/>\r\n     <use style=\"fill:#0000ff;stroke:#0000ff;\" x=\"128.020524\" xlink:href=\"#m23f438fb79\" y=\"125.531453\"/>\r\n     <use style=\"fill:#0000ff;stroke:#0000ff;\" x=\"171.489229\" xlink:href=\"#m23f438fb79\" y=\"99.975401\"/>\r\n     <use style=\"fill:#0000ff;stroke:#0000ff;\" x=\"62.369152\" xlink:href=\"#m23f438fb79\" y=\"168.444611\"/>\r\n     <use style=\"fill:#0000ff;stroke:#0000ff;\" x=\"334.828834\" xlink:href=\"#m23f438fb79\" y=\"18.538089\"/>\r\n     <use style=\"fill:#0000ff;stroke:#0000ff;\" x=\"182.415923\" xlink:href=\"#m23f438fb79\" y=\"138.47661\"/>\r\n     <use style=\"fill:#0000ff;stroke:#0000ff;\" x=\"343.2183\" xlink:href=\"#m23f438fb79\" y=\"41.434449\"/>\r\n     <use style=\"fill:#0000ff;stroke:#0000ff;\" x=\"193.478786\" xlink:href=\"#m23f438fb79\" y=\"108.818883\"/>\r\n     <use style=\"fill:#0000ff;stroke:#0000ff;\" x=\"85.252028\" xlink:href=\"#m23f438fb79\" y=\"170.82425\"/>\r\n     <use style=\"fill:#0000ff;stroke:#0000ff;\" x=\"229.411833\" xlink:href=\"#m23f438fb79\" y=\"111.4123\"/>\r\n     <use style=\"fill:#0000ff;stroke:#0000ff;\" x=\"300.389433\" xlink:href=\"#m23f438fb79\" y=\"71.873722\"/>\r\n     <use style=\"fill:#0000ff;stroke:#0000ff;\" x=\"185.304817\" xlink:href=\"#m23f438fb79\" y=\"101.887914\"/>\r\n     <use style=\"fill:#0000ff;stroke:#0000ff;\" x=\"325.190416\" xlink:href=\"#m23f438fb79\" y=\"66.750509\"/>\r\n     <use style=\"fill:#0000ff;stroke:#0000ff;\" x=\"303.499952\" xlink:href=\"#m23f438fb79\" y=\"104.915975\"/>\r\n     <use style=\"fill:#0000ff;stroke:#0000ff;\" x=\"298.386164\" xlink:href=\"#m23f438fb79\" y=\"91.875686\"/>\r\n     <use style=\"fill:#0000ff;stroke:#0000ff;\" x=\"276.159646\" xlink:href=\"#m23f438fb79\" y=\"76.406083\"/>\r\n     <use style=\"fill:#0000ff;stroke:#0000ff;\" x=\"177.788637\" xlink:href=\"#m23f438fb79\" y=\"134.714429\"/>\r\n     <use style=\"fill:#0000ff;stroke:#0000ff;\" x=\"251.884643\" xlink:href=\"#m23f438fb79\" y=\"65.627387\"/>\r\n     <use style=\"fill:#0000ff;stroke:#0000ff;\" x=\"87.313546\" xlink:href=\"#m23f438fb79\" y=\"151.993782\"/>\r\n     <use style=\"fill:#0000ff;stroke:#0000ff;\" x=\"248.921537\" xlink:href=\"#m23f438fb79\" y=\"50.787421\"/>\r\n     <use style=\"fill:#0000ff;stroke:#0000ff;\" x=\"343.990703\" xlink:href=\"#m23f438fb79\" y=\"50.113218\"/>\r\n     <use style=\"fill:#0000ff;stroke:#0000ff;\" x=\"186.47434\" xlink:href=\"#m23f438fb79\" y=\"81.642382\"/>\r\n     <use style=\"fill:#0000ff;stroke:#0000ff;\" x=\"174.406132\" xlink:href=\"#m23f438fb79\" y=\"140.521774\"/>\r\n     <use style=\"fill:#0000ff;stroke:#0000ff;\" x=\"215.219719\" xlink:href=\"#m23f438fb79\" y=\"125.058246\"/>\r\n     <use style=\"fill:#0000ff;stroke:#0000ff;\" x=\"42.143182\" xlink:href=\"#m23f438fb79\" y=\"193.273863\"/>\r\n     <use style=\"fill:#0000ff;stroke:#0000ff;\" x=\"325.567748\" xlink:href=\"#m23f438fb79\" y=\"60.669923\"/>\r\n     <use style=\"fill:#0000ff;stroke:#0000ff;\" x=\"67.836735\" xlink:href=\"#m23f438fb79\" y=\"187.639991\"/>\r\n     <use style=\"fill:#0000ff;stroke:#0000ff;\" x=\"177.511781\" xlink:href=\"#m23f438fb79\" y=\"127.413841\"/>\r\n     <use style=\"fill:#0000ff;stroke:#0000ff;\" x=\"273.342419\" xlink:href=\"#m23f438fb79\" y=\"46.062759\"/>\r\n     <use style=\"fill:#0000ff;stroke:#0000ff;\" x=\"123.390689\" xlink:href=\"#m23f438fb79\" y=\"186.407398\"/>\r\n     <use style=\"fill:#0000ff;stroke:#0000ff;\" x=\"208.065961\" xlink:href=\"#m23f438fb79\" y=\"150.904963\"/>\r\n     <use style=\"fill:#0000ff;stroke:#0000ff;\" x=\"237.230325\" xlink:href=\"#m23f438fb79\" y=\"72.022882\"/>\r\n     <use style=\"fill:#0000ff;stroke:#0000ff;\" x=\"134.086439\" xlink:href=\"#m23f438fb79\" y=\"128.974746\"/>\r\n     <use style=\"fill:#0000ff;stroke:#0000ff;\" x=\"153.689407\" xlink:href=\"#m23f438fb79\" y=\"102.456566\"/>\r\n     <use style=\"fill:#0000ff;stroke:#0000ff;\" x=\"51.98905\" xlink:href=\"#m23f438fb79\" y=\"201.101383\"/>\r\n     <use style=\"fill:#0000ff;stroke:#0000ff;\" x=\"171.067672\" xlink:href=\"#m23f438fb79\" y=\"117.201119\"/>\r\n     <use style=\"fill:#0000ff;stroke:#0000ff;\" x=\"122.564105\" xlink:href=\"#m23f438fb79\" y=\"150.286536\"/>\r\n     <use style=\"fill:#0000ff;stroke:#0000ff;\" x=\"101.254117\" xlink:href=\"#m23f438fb79\" y=\"126.648749\"/>\r\n     <use style=\"fill:#0000ff;stroke:#0000ff;\" x=\"115.671548\" xlink:href=\"#m23f438fb79\" y=\"163.205184\"/>\r\n     <use style=\"fill:#0000ff;stroke:#0000ff;\" x=\"237.586693\" xlink:href=\"#m23f438fb79\" y=\"42.969609\"/>\r\n     <use style=\"fill:#0000ff;stroke:#0000ff;\" x=\"294.608731\" xlink:href=\"#m23f438fb79\" y=\"39.406629\"/>\r\n     <use style=\"fill:#0000ff;stroke:#0000ff;\" x=\"111.265098\" xlink:href=\"#m23f438fb79\" y=\"150.85364\"/>\r\n     <use style=\"fill:#0000ff;stroke:#0000ff;\" x=\"258.116686\" xlink:href=\"#m23f438fb79\" y=\"108.983559\"/>\r\n     <use style=\"fill:#0000ff;stroke:#0000ff;\" x=\"242.758354\" xlink:href=\"#m23f438fb79\" y=\"85.468246\"/>\r\n     <use style=\"fill:#0000ff;stroke:#0000ff;\" x=\"310.570249\" xlink:href=\"#m23f438fb79\" y=\"34.113321\"/>\r\n     <use style=\"fill:#0000ff;stroke:#0000ff;\" x=\"246.251681\" xlink:href=\"#m23f438fb79\" y=\"115.38513\"/>\r\n     <use style=\"fill:#0000ff;stroke:#0000ff;\" x=\"162.143866\" xlink:href=\"#m23f438fb79\" y=\"84.545\"/>\r\n     <use style=\"fill:#0000ff;stroke:#0000ff;\" x=\"131.614191\" xlink:href=\"#m23f438fb79\" y=\"110.223039\"/>\r\n     <use style=\"fill:#0000ff;stroke:#0000ff;\" x=\"205.886048\" xlink:href=\"#m23f438fb79\" y=\"80.585953\"/>\r\n     <use style=\"fill:#0000ff;stroke:#0000ff;\" x=\"154.852553\" xlink:href=\"#m23f438fb79\" y=\"175.498627\"/>\r\n     <use style=\"fill:#0000ff;stroke:#0000ff;\" x=\"327.804265\" xlink:href=\"#m23f438fb79\" y=\"64.696616\"/>\r\n     <use style=\"fill:#0000ff;stroke:#0000ff;\" x=\"230.334068\" xlink:href=\"#m23f438fb79\" y=\"89.772573\"/>\r\n     <use style=\"fill:#0000ff;stroke:#0000ff;\" x=\"156.606166\" xlink:href=\"#m23f438fb79\" y=\"121.626781\"/>\r\n     <use style=\"fill:#0000ff;stroke:#0000ff;\" x=\"124.12371\" xlink:href=\"#m23f438fb79\" y=\"147.975481\"/>\r\n     <use style=\"fill:#0000ff;stroke:#0000ff;\" x=\"80.158633\" xlink:href=\"#m23f438fb79\" y=\"174.23336\"/>\r\n     <use style=\"fill:#0000ff;stroke:#0000ff;\" x=\"49.325778\" xlink:href=\"#m23f438fb79\" y=\"180.776888\"/>\r\n     <use style=\"fill:#0000ff;stroke:#0000ff;\" x=\"46.171942\" xlink:href=\"#m23f438fb79\" y=\"214.756364\"/>\r\n     <use style=\"fill:#0000ff;stroke:#0000ff;\" x=\"69.646341\" xlink:href=\"#m23f438fb79\" y=\"174.749677\"/>\r\n     <use style=\"fill:#0000ff;stroke:#0000ff;\" x=\"148.269378\" xlink:href=\"#m23f438fb79\" y=\"132.246316\"/>\r\n     <use style=\"fill:#0000ff;stroke:#0000ff;\" x=\"293.582241\" xlink:href=\"#m23f438fb79\" y=\"97.960244\"/>\r\n     <use style=\"fill:#0000ff;stroke:#0000ff;\" x=\"79.680094\" xlink:href=\"#m23f438fb79\" y=\"164.4385\"/>\r\n     <use style=\"fill:#0000ff;stroke:#0000ff;\" x=\"269.979857\" xlink:href=\"#m23f438fb79\" y=\"66.282046\"/>\r\n     <use style=\"fill:#0000ff;stroke:#0000ff;\" x=\"49.738583\" xlink:href=\"#m23f438fb79\" y=\"157.096594\"/>\r\n     <use style=\"fill:#0000ff;stroke:#0000ff;\" x=\"222.766646\" xlink:href=\"#m23f438fb79\" y=\"88.822913\"/>\r\n     <use style=\"fill:#0000ff;stroke:#0000ff;\" x=\"321.013786\" xlink:href=\"#m23f438fb79\" y=\"63.139902\"/>\r\n     <use style=\"fill:#0000ff;stroke:#0000ff;\" x=\"79.274979\" xlink:href=\"#m23f438fb79\" y=\"204.620094\"/>\r\n     <use style=\"fill:#0000ff;stroke:#0000ff;\" x=\"340.507054\" xlink:href=\"#m23f438fb79\" y=\"38.289961\"/>\r\n     <use style=\"fill:#0000ff;stroke:#0000ff;\" x=\"327.270021\" xlink:href=\"#m23f438fb79\" y=\"74.976135\"/>\r\n     <use style=\"fill:#0000ff;stroke:#0000ff;\" x=\"108.760574\" xlink:href=\"#m23f438fb79\" y=\"171.598928\"/>\r\n     <use style=\"fill:#0000ff;stroke:#0000ff;\" x=\"325.504153\" xlink:href=\"#m23f438fb79\" y=\"17.083636\"/>\r\n     <use style=\"fill:#0000ff;stroke:#0000ff;\" x=\"228.152919\" xlink:href=\"#m23f438fb79\" y=\"110.308409\"/>\r\n    </g>\r\n   </g>\r\n   <g id=\"patch_3\">\r\n    <path d=\"M 26.925 224.64 \r\nL 26.925 7.2 \r\n\" style=\"fill:none;stroke:#000000;stroke-linecap:square;stroke-linejoin:miter;stroke-width:0.8;\"/>\r\n   </g>\r\n   <g id=\"patch_4\">\r\n    <path d=\"M 361.725 224.64 \r\nL 361.725 7.2 \r\n\" style=\"fill:none;stroke:#000000;stroke-linecap:square;stroke-linejoin:miter;stroke-width:0.8;\"/>\r\n   </g>\r\n   <g id=\"patch_5\">\r\n    <path d=\"M 26.925 224.64 \r\nL 361.725 224.64 \r\n\" style=\"fill:none;stroke:#000000;stroke-linecap:square;stroke-linejoin:miter;stroke-width:0.8;\"/>\r\n   </g>\r\n   <g id=\"patch_6\">\r\n    <path d=\"M 26.925 7.2 \r\nL 361.725 7.2 \r\n\" style=\"fill:none;stroke:#000000;stroke-linecap:square;stroke-linejoin:miter;stroke-width:0.8;\"/>\r\n   </g>\r\n  </g>\r\n </g>\r\n <defs>\r\n  <clipPath id=\"p0a4ca5f16b\">\r\n   <rect height=\"217.44\" width=\"334.8\" x=\"26.925\" y=\"7.2\"/>\r\n  </clipPath>\r\n </defs>\r\n</svg>\r\n",
      "image/png": "[encoded data removed]"
     },
     "metadata": {
      "needs_background": "light"
     }
    }
   ],
   "source": [
    "X = 2*np.random.rand(100, 1)\n",
    "y = 4 + 3*X + np.random.randn(100, 1)\n",
    "\n",
    "plt.plot(X, y, \"b.\")\n",
    "plt.show()"
   ]
  },
  {
   "source": [
    "Compute $\\hat{\\theta}$ using Normal Equation and `inv()` from NumPy's linear algebra module (`np.linalg`) to compute the inverse of a matrix."
   ],
   "cell_type": "markdown",
   "metadata": {}
  },
  {
   "cell_type": "code",
   "execution_count": 12,
   "metadata": {},
   "outputs": [
    {
     "output_type": "execute_result",
     "data": {
      "text/plain": [
       "array([[4.05108047],\n",
       "       [3.01735026]])"
      ]
     },
     "metadata": {},
     "execution_count": 12
    }
   ],
   "source": [
    "# np.c_ concatenates along vertical axis (columns) 1's vector + X vector\n",
    "# Use @ for matrix multiplication, much clearer to read than .dot()\n",
    "# X_b = 'X bias' as it includes the bias term\n",
    "\n",
    "X_b = np.c_[np.ones((100, 1)), X] # add x0 = 1 to each instance\n",
    "theta_best = np.linalg.inv(X_b.T@X_b) @ X_b.T @ y\n",
    "theta_best"
   ]
  },
  {
   "cell_type": "code",
   "execution_count": 13,
   "metadata": {},
   "outputs": [
    {
     "output_type": "execute_result",
     "data": {
      "text/plain": [
       "array([[ 4.05108047],\n",
       "       [10.08578099]])"
      ]
     },
     "metadata": {},
     "execution_count": 13
    }
   ],
   "source": [
    "X_new = np.array([[0], [2]])\n",
    "X_new_b = np.c_[np.ones((2, 1)), X_new]\n",
    "y_predict = X_new_b @ theta_best\n",
    "y_predict"
   ]
  },
  {
   "cell_type": "code",
   "execution_count": 14,
   "metadata": {},
   "outputs": [
    {
     "output_type": "display_data",
     "data": {
      "text/plain": "<Figure size 432x288 with 1 Axes>",
      "image/svg+xml": "<?xml version=\"1.0\" encoding=\"utf-8\" standalone=\"no\"?>\r\n<!DOCTYPE svg PUBLIC \"-//W3C//DTD SVG 1.1//EN\"\r\n  \"http://www.w3.org/Graphics/SVG/1.1/DTD/svg11.dtd\">\r\n<!-- Created with matplotlib (https://matplotlib.org/) -->\r\n<svg height=\"248.518125pt\" version=\"1.1\" viewBox=\"0 0 380.057812 248.518125\" width=\"380.057812pt\" xmlns=\"http://www.w3.org/2000/svg\" xmlns:xlink=\"http://www.w3.org/1999/xlink\">\r\n <metadata>\r\n  <rdf:RDF xmlns:cc=\"http://creativecommons.org/ns#\" xmlns:dc=\"http://purl.org/dc/elements/1.1/\" xmlns:rdf=\"http://www.w3.org/1999/02/22-rdf-syntax-ns#\">\r\n   <cc:Work>\r\n    <dc:type rdf:resource=\"http://purl.org/dc/dcmitype/StillImage\"/>\r\n    <dc:date>2021-01-11T22:07:12.023401</dc:date>\r\n    <dc:format>image/svg+xml</dc:format>\r\n    <dc:creator>\r\n     <cc:Agent>\r\n      <dc:title>Matplotlib v3.3.3, https://matplotlib.org/</dc:title>\r\n     </cc:Agent>\r\n    </dc:creator>\r\n   </cc:Work>\r\n  </rdf:RDF>\r\n </metadata>\r\n <defs>\r\n  <style type=\"text/css\">*{stroke-linecap:butt;stroke-linejoin:round;}</style>\r\n </defs>\r\n <g id=\"figure_1\">\r\n  <g id=\"patch_1\">\r\n   <path d=\"M -0 248.518125 \r\nL 380.057812 248.518125 \r\nL 380.057812 0 \r\nL -0 0 \r\nz\r\n\" style=\"fill:none;\"/>\r\n  </g>\r\n  <g id=\"axes_1\">\r\n   <g id=\"patch_2\">\r\n    <path d=\"M 26.925 224.64 \r\nL 361.725 224.64 \r\nL 361.725 7.2 \r\nL 26.925 7.2 \r\nz\r\n\" style=\"fill:#ffffff;\"/>\r\n   </g>\r\n   <g id=\"matplotlib.axis_1\">\r\n    <g id=\"xtick_1\">\r\n     <g id=\"line2d_1\">\r\n      <defs>\r\n       <path d=\"M 0 0 \r\nL 0 3.5 \r\n\" id=\"m5174921119\" style=\"stroke:#000000;stroke-width:0.8;\"/>\r\n      </defs>\r\n      <g>\r\n       <use style=\"stroke:#000000;stroke-width:0.8;\" x=\"26.925\" xlink:href=\"#m5174921119\" y=\"224.64\"/>\r\n      </g>\r\n     </g>\r\n     <g id=\"text_1\">\r\n      <!-- 0.00 -->\r\n      <g transform=\"translate(15.792188 239.238437)scale(0.1 -0.1)\">\r\n       <defs>\r\n        <path d=\"M 31.78125 66.40625 \r\nQ 24.171875 66.40625 20.328125 58.90625 \r\nQ 16.5 51.421875 16.5 36.375 \r\nQ 16.5 21.390625 20.328125 13.890625 \r\nQ 24.171875 6.390625 31.78125 6.390625 \r\nQ 39.453125 6.390625 43.28125 13.890625 \r\nQ 47.125 21.390625 47.125 36.375 \r\nQ 47.125 51.421875 43.28125 58.90625 \r\nQ 39.453125 66.40625 31.78125 66.40625 \r\nz\r\nM 31.78125 74.21875 \r\nQ 44.046875 74.21875 50.515625 64.515625 \r\nQ 56.984375 54.828125 56.984375 36.375 \r\nQ 56.984375 17.96875 50.515625 8.265625 \r\nQ 44.046875 -1.421875 31.78125 -1.421875 \r\nQ 19.53125 -1.421875 13.0625 8.265625 \r\nQ 6.59375 17.96875 6.59375 36.375 \r\nQ 6.59375 54.828125 13.0625 64.515625 \r\nQ 19.53125 74.21875 31.78125 74.21875 \r\nz\r\n\" id=\"DejaVuSans-48\"/>\r\n        <path d=\"M 10.6875 12.40625 \r\nL 21 12.40625 \r\nL 21 0 \r\nL 10.6875 0 \r\nz\r\n\" id=\"DejaVuSans-46\"/>\r\n       </defs>\r\n       <use xlink:href=\"#DejaVuSans-48\"/>\r\n       <use x=\"63.623047\" xlink:href=\"#DejaVuSans-46\"/>\r\n       <use x=\"95.410156\" xlink:href=\"#DejaVuSans-48\"/>\r\n       <use x=\"159.033203\" xlink:href=\"#DejaVuSans-48\"/>\r\n      </g>\r\n     </g>\r\n    </g>\r\n    <g id=\"xtick_2\">\r\n     <g id=\"line2d_2\">\r\n      <g>\r\n       <use style=\"stroke:#000000;stroke-width:0.8;\" x=\"68.775\" xlink:href=\"#m5174921119\" y=\"224.64\"/>\r\n      </g>\r\n     </g>\r\n     <g id=\"text_2\">\r\n      <!-- 0.25 -->\r\n      <g transform=\"translate(57.642188 239.238437)scale(0.1 -0.1)\">\r\n       <defs>\r\n        <path d=\"M 19.1875 8.296875 \r\nL 53.609375 8.296875 \r\nL 53.609375 0 \r\nL 7.328125 0 \r\nL 7.328125 8.296875 \r\nQ 12.9375 14.109375 22.625 23.890625 \r\nQ 32.328125 33.6875 34.8125 36.53125 \r\nQ 39.546875 41.84375 41.421875 45.53125 \r\nQ 43.3125 49.21875 43.3125 52.78125 \r\nQ 43.3125 58.59375 39.234375 62.25 \r\nQ 35.15625 65.921875 28.609375 65.921875 \r\nQ 23.96875 65.921875 18.8125 64.3125 \r\nQ 13.671875 62.703125 7.8125 59.421875 \r\nL 7.8125 69.390625 \r\nQ 13.765625 71.78125 18.9375 73 \r\nQ 24.125 74.21875 28.421875 74.21875 \r\nQ 39.75 74.21875 46.484375 68.546875 \r\nQ 53.21875 62.890625 53.21875 53.421875 \r\nQ 53.21875 48.921875 51.53125 44.890625 \r\nQ 49.859375 40.875 45.40625 35.40625 \r\nQ 44.1875 33.984375 37.640625 27.21875 \r\nQ 31.109375 20.453125 19.1875 8.296875 \r\nz\r\n\" id=\"DejaVuSans-50\"/>\r\n        <path d=\"M 10.796875 72.90625 \r\nL 49.515625 72.90625 \r\nL 49.515625 64.59375 \r\nL 19.828125 64.59375 \r\nL 19.828125 46.734375 \r\nQ 21.96875 47.46875 24.109375 47.828125 \r\nQ 26.265625 48.1875 28.421875 48.1875 \r\nQ 40.625 48.1875 47.75 41.5 \r\nQ 54.890625 34.8125 54.890625 23.390625 \r\nQ 54.890625 11.625 47.5625 5.09375 \r\nQ 40.234375 -1.421875 26.90625 -1.421875 \r\nQ 22.3125 -1.421875 17.546875 -0.640625 \r\nQ 12.796875 0.140625 7.71875 1.703125 \r\nL 7.71875 11.625 \r\nQ 12.109375 9.234375 16.796875 8.0625 \r\nQ 21.484375 6.890625 26.703125 6.890625 \r\nQ 35.15625 6.890625 40.078125 11.328125 \r\nQ 45.015625 15.765625 45.015625 23.390625 \r\nQ 45.015625 31 40.078125 35.4375 \r\nQ 35.15625 39.890625 26.703125 39.890625 \r\nQ 22.75 39.890625 18.8125 39.015625 \r\nQ 14.890625 38.140625 10.796875 36.28125 \r\nz\r\n\" id=\"DejaVuSans-53\"/>\r\n       </defs>\r\n       <use xlink:href=\"#DejaVuSans-48\"/>\r\n       <use x=\"63.623047\" xlink:href=\"#DejaVuSans-46\"/>\r\n       <use x=\"95.410156\" xlink:href=\"#DejaVuSans-50\"/>\r\n       <use x=\"159.033203\" xlink:href=\"#DejaVuSans-53\"/>\r\n      </g>\r\n     </g>\r\n    </g>\r\n    <g id=\"xtick_3\">\r\n     <g id=\"line2d_3\">\r\n      <g>\r\n       <use style=\"stroke:#000000;stroke-width:0.8;\" x=\"110.625\" xlink:href=\"#m5174921119\" y=\"224.64\"/>\r\n      </g>\r\n     </g>\r\n     <g id=\"text_3\">\r\n      <!-- 0.50 -->\r\n      <g transform=\"translate(99.492188 239.238437)scale(0.1 -0.1)\">\r\n       <use xlink:href=\"#DejaVuSans-48\"/>\r\n       <use x=\"63.623047\" xlink:href=\"#DejaVuSans-46\"/>\r\n       <use x=\"95.410156\" xlink:href=\"#DejaVuSans-53\"/>\r\n       <use x=\"159.033203\" xlink:href=\"#DejaVuSans-48\"/>\r\n      </g>\r\n     </g>\r\n    </g>\r\n    <g id=\"xtick_4\">\r\n     <g id=\"line2d_4\">\r\n      <g>\r\n       <use style=\"stroke:#000000;stroke-width:0.8;\" x=\"152.475\" xlink:href=\"#m5174921119\" y=\"224.64\"/>\r\n      </g>\r\n     </g>\r\n     <g id=\"text_4\">\r\n      <!-- 0.75 -->\r\n      <g transform=\"translate(141.342188 239.238437)scale(0.1 -0.1)\">\r\n       <defs>\r\n        <path d=\"M 8.203125 72.90625 \r\nL 55.078125 72.90625 \r\nL 55.078125 68.703125 \r\nL 28.609375 0 \r\nL 18.3125 0 \r\nL 43.21875 64.59375 \r\nL 8.203125 64.59375 \r\nz\r\n\" id=\"DejaVuSans-55\"/>\r\n       </defs>\r\n       <use xlink:href=\"#DejaVuSans-48\"/>\r\n       <use x=\"63.623047\" xlink:href=\"#DejaVuSans-46\"/>\r\n       <use x=\"95.410156\" xlink:href=\"#DejaVuSans-55\"/>\r\n       <use x=\"159.033203\" xlink:href=\"#DejaVuSans-53\"/>\r\n      </g>\r\n     </g>\r\n    </g>\r\n    <g id=\"xtick_5\">\r\n     <g id=\"line2d_5\">\r\n      <g>\r\n       <use style=\"stroke:#000000;stroke-width:0.8;\" x=\"194.325\" xlink:href=\"#m5174921119\" y=\"224.64\"/>\r\n      </g>\r\n     </g>\r\n     <g id=\"text_5\">\r\n      <!-- 1.00 -->\r\n      <g transform=\"translate(183.192188 239.238437)scale(0.1 -0.1)\">\r\n       <defs>\r\n        <path d=\"M 12.40625 8.296875 \r\nL 28.515625 8.296875 \r\nL 28.515625 63.921875 \r\nL 10.984375 60.40625 \r\nL 10.984375 69.390625 \r\nL 28.421875 72.90625 \r\nL 38.28125 72.90625 \r\nL 38.28125 8.296875 \r\nL 54.390625 8.296875 \r\nL 54.390625 0 \r\nL 12.40625 0 \r\nz\r\n\" id=\"DejaVuSans-49\"/>\r\n       </defs>\r\n       <use xlink:href=\"#DejaVuSans-49\"/>\r\n       <use x=\"63.623047\" xlink:href=\"#DejaVuSans-46\"/>\r\n       <use x=\"95.410156\" xlink:href=\"#DejaVuSans-48\"/>\r\n       <use x=\"159.033203\" xlink:href=\"#DejaVuSans-48\"/>\r\n      </g>\r\n     </g>\r\n    </g>\r\n    <g id=\"xtick_6\">\r\n     <g id=\"line2d_6\">\r\n      <g>\r\n       <use style=\"stroke:#000000;stroke-width:0.8;\" x=\"236.175\" xlink:href=\"#m5174921119\" y=\"224.64\"/>\r\n      </g>\r\n     </g>\r\n     <g id=\"text_6\">\r\n      <!-- 1.25 -->\r\n      <g transform=\"translate(225.042188 239.238437)scale(0.1 -0.1)\">\r\n       <use xlink:href=\"#DejaVuSans-49\"/>\r\n       <use x=\"63.623047\" xlink:href=\"#DejaVuSans-46\"/>\r\n       <use x=\"95.410156\" xlink:href=\"#DejaVuSans-50\"/>\r\n       <use x=\"159.033203\" xlink:href=\"#DejaVuSans-53\"/>\r\n      </g>\r\n     </g>\r\n    </g>\r\n    <g id=\"xtick_7\">\r\n     <g id=\"line2d_7\">\r\n      <g>\r\n       <use style=\"stroke:#000000;stroke-width:0.8;\" x=\"278.025\" xlink:href=\"#m5174921119\" y=\"224.64\"/>\r\n      </g>\r\n     </g>\r\n     <g id=\"text_7\">\r\n      <!-- 1.50 -->\r\n      <g transform=\"translate(266.892188 239.238437)scale(0.1 -0.1)\">\r\n       <use xlink:href=\"#DejaVuSans-49\"/>\r\n       <use x=\"63.623047\" xlink:href=\"#DejaVuSans-46\"/>\r\n       <use x=\"95.410156\" xlink:href=\"#DejaVuSans-53\"/>\r\n       <use x=\"159.033203\" xlink:href=\"#DejaVuSans-48\"/>\r\n      </g>\r\n     </g>\r\n    </g>\r\n    <g id=\"xtick_8\">\r\n     <g id=\"line2d_8\">\r\n      <g>\r\n       <use style=\"stroke:#000000;stroke-width:0.8;\" x=\"319.875\" xlink:href=\"#m5174921119\" y=\"224.64\"/>\r\n      </g>\r\n     </g>\r\n     <g id=\"text_8\">\r\n      <!-- 1.75 -->\r\n      <g transform=\"translate(308.742188 239.238437)scale(0.1 -0.1)\">\r\n       <use xlink:href=\"#DejaVuSans-49\"/>\r\n       <use x=\"63.623047\" xlink:href=\"#DejaVuSans-46\"/>\r\n       <use x=\"95.410156\" xlink:href=\"#DejaVuSans-55\"/>\r\n       <use x=\"159.033203\" xlink:href=\"#DejaVuSans-53\"/>\r\n      </g>\r\n     </g>\r\n    </g>\r\n    <g id=\"xtick_9\">\r\n     <g id=\"line2d_9\">\r\n      <g>\r\n       <use style=\"stroke:#000000;stroke-width:0.8;\" x=\"361.725\" xlink:href=\"#m5174921119\" y=\"224.64\"/>\r\n      </g>\r\n     </g>\r\n     <g id=\"text_9\">\r\n      <!-- 2.00 -->\r\n      <g transform=\"translate(350.592188 239.238437)scale(0.1 -0.1)\">\r\n       <use xlink:href=\"#DejaVuSans-50\"/>\r\n       <use x=\"63.623047\" xlink:href=\"#DejaVuSans-46\"/>\r\n       <use x=\"95.410156\" xlink:href=\"#DejaVuSans-48\"/>\r\n       <use x=\"159.033203\" xlink:href=\"#DejaVuSans-48\"/>\r\n      </g>\r\n     </g>\r\n    </g>\r\n   </g>\r\n   <g id=\"matplotlib.axis_2\">\r\n    <g id=\"ytick_1\">\r\n     <g id=\"line2d_10\">\r\n      <defs>\r\n       <path d=\"M 0 0 \r\nL -3.5 0 \r\n\" id=\"m0005b79d9b\" style=\"stroke:#000000;stroke-width:0.8;\"/>\r\n      </defs>\r\n      <g>\r\n       <use style=\"stroke:#000000;stroke-width:0.8;\" x=\"26.925\" xlink:href=\"#m0005b79d9b\" y=\"224.64\"/>\r\n      </g>\r\n     </g>\r\n     <g id=\"text_10\">\r\n      <!-- 0 -->\r\n      <g transform=\"translate(13.5625 228.439219)scale(0.1 -0.1)\">\r\n       <use xlink:href=\"#DejaVuSans-48\"/>\r\n      </g>\r\n     </g>\r\n    </g>\r\n    <g id=\"ytick_2\">\r\n     <g id=\"line2d_11\">\r\n      <g>\r\n       <use style=\"stroke:#000000;stroke-width:0.8;\" x=\"26.925\" xlink:href=\"#m0005b79d9b\" y=\"195.648\"/>\r\n      </g>\r\n     </g>\r\n     <g id=\"text_11\">\r\n      <!-- 2 -->\r\n      <g transform=\"translate(13.5625 199.447219)scale(0.1 -0.1)\">\r\n       <use xlink:href=\"#DejaVuSans-50\"/>\r\n      </g>\r\n     </g>\r\n    </g>\r\n    <g id=\"ytick_3\">\r\n     <g id=\"line2d_12\">\r\n      <g>\r\n       <use style=\"stroke:#000000;stroke-width:0.8;\" x=\"26.925\" xlink:href=\"#m0005b79d9b\" y=\"166.656\"/>\r\n      </g>\r\n     </g>\r\n     <g id=\"text_12\">\r\n      <!-- 4 -->\r\n      <g transform=\"translate(13.5625 170.455219)scale(0.1 -0.1)\">\r\n       <defs>\r\n        <path d=\"M 37.796875 64.3125 \r\nL 12.890625 25.390625 \r\nL 37.796875 25.390625 \r\nz\r\nM 35.203125 72.90625 \r\nL 47.609375 72.90625 \r\nL 47.609375 25.390625 \r\nL 58.015625 25.390625 \r\nL 58.015625 17.1875 \r\nL 47.609375 17.1875 \r\nL 47.609375 0 \r\nL 37.796875 0 \r\nL 37.796875 17.1875 \r\nL 4.890625 17.1875 \r\nL 4.890625 26.703125 \r\nz\r\n\" id=\"DejaVuSans-52\"/>\r\n       </defs>\r\n       <use xlink:href=\"#DejaVuSans-52\"/>\r\n      </g>\r\n     </g>\r\n    </g>\r\n    <g id=\"ytick_4\">\r\n     <g id=\"line2d_13\">\r\n      <g>\r\n       <use style=\"stroke:#000000;stroke-width:0.8;\" x=\"26.925\" xlink:href=\"#m0005b79d9b\" y=\"137.664\"/>\r\n      </g>\r\n     </g>\r\n     <g id=\"text_13\">\r\n      <!-- 6 -->\r\n      <g transform=\"translate(13.5625 141.463219)scale(0.1 -0.1)\">\r\n       <defs>\r\n        <path d=\"M 33.015625 40.375 \r\nQ 26.375 40.375 22.484375 35.828125 \r\nQ 18.609375 31.296875 18.609375 23.390625 \r\nQ 18.609375 15.53125 22.484375 10.953125 \r\nQ 26.375 6.390625 33.015625 6.390625 \r\nQ 39.65625 6.390625 43.53125 10.953125 \r\nQ 47.40625 15.53125 47.40625 23.390625 \r\nQ 47.40625 31.296875 43.53125 35.828125 \r\nQ 39.65625 40.375 33.015625 40.375 \r\nz\r\nM 52.59375 71.296875 \r\nL 52.59375 62.3125 \r\nQ 48.875 64.0625 45.09375 64.984375 \r\nQ 41.3125 65.921875 37.59375 65.921875 \r\nQ 27.828125 65.921875 22.671875 59.328125 \r\nQ 17.53125 52.734375 16.796875 39.40625 \r\nQ 19.671875 43.65625 24.015625 45.921875 \r\nQ 28.375 48.1875 33.59375 48.1875 \r\nQ 44.578125 48.1875 50.953125 41.515625 \r\nQ 57.328125 34.859375 57.328125 23.390625 \r\nQ 57.328125 12.15625 50.6875 5.359375 \r\nQ 44.046875 -1.421875 33.015625 -1.421875 \r\nQ 20.359375 -1.421875 13.671875 8.265625 \r\nQ 6.984375 17.96875 6.984375 36.375 \r\nQ 6.984375 53.65625 15.1875 63.9375 \r\nQ 23.390625 74.21875 37.203125 74.21875 \r\nQ 40.921875 74.21875 44.703125 73.484375 \r\nQ 48.484375 72.75 52.59375 71.296875 \r\nz\r\n\" id=\"DejaVuSans-54\"/>\r\n       </defs>\r\n       <use xlink:href=\"#DejaVuSans-54\"/>\r\n      </g>\r\n     </g>\r\n    </g>\r\n    <g id=\"ytick_5\">\r\n     <g id=\"line2d_14\">\r\n      <g>\r\n       <use style=\"stroke:#000000;stroke-width:0.8;\" x=\"26.925\" xlink:href=\"#m0005b79d9b\" y=\"108.672\"/>\r\n      </g>\r\n     </g>\r\n     <g id=\"text_14\">\r\n      <!-- 8 -->\r\n      <g transform=\"translate(13.5625 112.471219)scale(0.1 -0.1)\">\r\n       <defs>\r\n        <path d=\"M 31.78125 34.625 \r\nQ 24.75 34.625 20.71875 30.859375 \r\nQ 16.703125 27.09375 16.703125 20.515625 \r\nQ 16.703125 13.921875 20.71875 10.15625 \r\nQ 24.75 6.390625 31.78125 6.390625 \r\nQ 38.8125 6.390625 42.859375 10.171875 \r\nQ 46.921875 13.96875 46.921875 20.515625 \r\nQ 46.921875 27.09375 42.890625 30.859375 \r\nQ 38.875 34.625 31.78125 34.625 \r\nz\r\nM 21.921875 38.8125 \r\nQ 15.578125 40.375 12.03125 44.71875 \r\nQ 8.5 49.078125 8.5 55.328125 \r\nQ 8.5 64.0625 14.71875 69.140625 \r\nQ 20.953125 74.21875 31.78125 74.21875 \r\nQ 42.671875 74.21875 48.875 69.140625 \r\nQ 55.078125 64.0625 55.078125 55.328125 \r\nQ 55.078125 49.078125 51.53125 44.71875 \r\nQ 48 40.375 41.703125 38.8125 \r\nQ 48.828125 37.15625 52.796875 32.3125 \r\nQ 56.78125 27.484375 56.78125 20.515625 \r\nQ 56.78125 9.90625 50.3125 4.234375 \r\nQ 43.84375 -1.421875 31.78125 -1.421875 \r\nQ 19.734375 -1.421875 13.25 4.234375 \r\nQ 6.78125 9.90625 6.78125 20.515625 \r\nQ 6.78125 27.484375 10.78125 32.3125 \r\nQ 14.796875 37.15625 21.921875 38.8125 \r\nz\r\nM 18.3125 54.390625 \r\nQ 18.3125 48.734375 21.84375 45.5625 \r\nQ 25.390625 42.390625 31.78125 42.390625 \r\nQ 38.140625 42.390625 41.71875 45.5625 \r\nQ 45.3125 48.734375 45.3125 54.390625 \r\nQ 45.3125 60.0625 41.71875 63.234375 \r\nQ 38.140625 66.40625 31.78125 66.40625 \r\nQ 25.390625 66.40625 21.84375 63.234375 \r\nQ 18.3125 60.0625 18.3125 54.390625 \r\nz\r\n\" id=\"DejaVuSans-56\"/>\r\n       </defs>\r\n       <use xlink:href=\"#DejaVuSans-56\"/>\r\n      </g>\r\n     </g>\r\n    </g>\r\n    <g id=\"ytick_6\">\r\n     <g id=\"line2d_15\">\r\n      <g>\r\n       <use style=\"stroke:#000000;stroke-width:0.8;\" x=\"26.925\" xlink:href=\"#m0005b79d9b\" y=\"79.68\"/>\r\n      </g>\r\n     </g>\r\n     <g id=\"text_15\">\r\n      <!-- 10 -->\r\n      <g transform=\"translate(7.2 83.479219)scale(0.1 -0.1)\">\r\n       <use xlink:href=\"#DejaVuSans-49\"/>\r\n       <use x=\"63.623047\" xlink:href=\"#DejaVuSans-48\"/>\r\n      </g>\r\n     </g>\r\n    </g>\r\n    <g id=\"ytick_7\">\r\n     <g id=\"line2d_16\">\r\n      <g>\r\n       <use style=\"stroke:#000000;stroke-width:0.8;\" x=\"26.925\" xlink:href=\"#m0005b79d9b\" y=\"50.688\"/>\r\n      </g>\r\n     </g>\r\n     <g id=\"text_16\">\r\n      <!-- 12 -->\r\n      <g transform=\"translate(7.2 54.487219)scale(0.1 -0.1)\">\r\n       <use xlink:href=\"#DejaVuSans-49\"/>\r\n       <use x=\"63.623047\" xlink:href=\"#DejaVuSans-50\"/>\r\n      </g>\r\n     </g>\r\n    </g>\r\n    <g id=\"ytick_8\">\r\n     <g id=\"line2d_17\">\r\n      <g>\r\n       <use style=\"stroke:#000000;stroke-width:0.8;\" x=\"26.925\" xlink:href=\"#m0005b79d9b\" y=\"21.696\"/>\r\n      </g>\r\n     </g>\r\n     <g id=\"text_17\">\r\n      <!-- 14 -->\r\n      <g transform=\"translate(7.2 25.495219)scale(0.1 -0.1)\">\r\n       <use xlink:href=\"#DejaVuSans-49\"/>\r\n       <use x=\"63.623047\" xlink:href=\"#DejaVuSans-52\"/>\r\n      </g>\r\n     </g>\r\n    </g>\r\n   </g>\r\n   <g id=\"line2d_18\">\r\n    <path clip-path=\"url(#pc50f1b9015)\" d=\"M 26.925 165.915537 \r\nL 361.725 78.436519 \r\n\" style=\"fill:none;stroke:#ff0000;stroke-linecap:square;stroke-width:1.5;\"/>\r\n   </g>\r\n   <g id=\"line2d_19\">\r\n    <defs>\r\n     <path d=\"M 0 1.5 \r\nC 0.397805 1.5 0.77937 1.341951 1.06066 1.06066 \r\nC 1.341951 0.77937 1.5 0.397805 1.5 0 \r\nC 1.5 -0.397805 1.341951 -0.77937 1.06066 -1.06066 \r\nC 0.77937 -1.341951 0.397805 -1.5 0 -1.5 \r\nC -0.397805 -1.5 -0.77937 -1.341951 -1.06066 -1.06066 \r\nC -1.341951 -0.77937 -1.5 -0.397805 -1.5 0 \r\nC -1.5 0.397805 -1.341951 0.77937 -1.06066 1.06066 \r\nC -0.77937 1.341951 -0.397805 1.5 0 1.5 \r\nz\r\n\" id=\"mba38a1a7eb\" style=\"stroke:#0000ff;\"/>\r\n    </defs>\r\n    <g clip-path=\"url(#pc50f1b9015)\">\r\n     <use style=\"fill:#0000ff;stroke:#0000ff;\" x=\"114.449436\" xlink:href=\"#mba38a1a7eb\" y=\"150.009548\"/>\r\n     <use style=\"fill:#0000ff;stroke:#0000ff;\" x=\"130.432235\" xlink:href=\"#mba38a1a7eb\" y=\"141.271018\"/>\r\n     <use style=\"fill:#0000ff;stroke:#0000ff;\" x=\"299.145114\" xlink:href=\"#mba38a1a7eb\" y=\"77.348567\"/>\r\n     <use style=\"fill:#0000ff;stroke:#0000ff;\" x=\"40.159428\" xlink:href=\"#mba38a1a7eb\" y=\"144.78248\"/>\r\n     <use style=\"fill:#0000ff;stroke:#0000ff;\" x=\"173.414698\" xlink:href=\"#mba38a1a7eb\" y=\"127.712491\"/>\r\n     <use style=\"fill:#0000ff;stroke:#0000ff;\" x=\"151.292296\" xlink:href=\"#mba38a1a7eb\" y=\"142.539314\"/>\r\n     <use style=\"fill:#0000ff;stroke:#0000ff;\" x=\"271.339562\" xlink:href=\"#mba38a1a7eb\" y=\"93.01816\"/>\r\n     <use style=\"fill:#0000ff;stroke:#0000ff;\" x=\"211.19424\" xlink:href=\"#mba38a1a7eb\" y=\"121.547593\"/>\r\n     <use style=\"fill:#0000ff;stroke:#0000ff;\" x=\"319.08205\" xlink:href=\"#mba38a1a7eb\" y=\"92.823711\"/>\r\n     <use style=\"fill:#0000ff;stroke:#0000ff;\" x=\"266.991518\" xlink:href=\"#mba38a1a7eb\" y=\"117.854377\"/>\r\n     <use style=\"fill:#0000ff;stroke:#0000ff;\" x=\"357.138294\" xlink:href=\"#mba38a1a7eb\" y=\"75.437627\"/>\r\n     <use style=\"fill:#0000ff;stroke:#0000ff;\" x=\"326.245264\" xlink:href=\"#mba38a1a7eb\" y=\"89.113335\"/>\r\n     <use style=\"fill:#0000ff;stroke:#0000ff;\" x=\"258.841592\" xlink:href=\"#mba38a1a7eb\" y=\"95.616732\"/>\r\n     <use style=\"fill:#0000ff;stroke:#0000ff;\" x=\"354.976444\" xlink:href=\"#mba38a1a7eb\" y=\"76.129024\"/>\r\n     <use style=\"fill:#0000ff;stroke:#0000ff;\" x=\"259.198612\" xlink:href=\"#mba38a1a7eb\" y=\"110.048521\"/>\r\n     <use style=\"fill:#0000ff;stroke:#0000ff;\" x=\"359.172278\" xlink:href=\"#mba38a1a7eb\" y=\"76.063267\"/>\r\n     <use style=\"fill:#0000ff;stroke:#0000ff;\" x=\"86.199259\" xlink:href=\"#mba38a1a7eb\" y=\"138.273419\"/>\r\n     <use style=\"fill:#0000ff;stroke:#0000ff;\" x=\"361.5758\" xlink:href=\"#mba38a1a7eb\" y=\"79.637239\"/>\r\n     <use style=\"fill:#0000ff;stroke:#0000ff;\" x=\"171.512716\" xlink:href=\"#mba38a1a7eb\" y=\"129.109285\"/>\r\n     <use style=\"fill:#0000ff;stroke:#0000ff;\" x=\"139.216938\" xlink:href=\"#mba38a1a7eb\" y=\"114.880247\"/>\r\n     <use style=\"fill:#0000ff;stroke:#0000ff;\" x=\"341.777017\" xlink:href=\"#mba38a1a7eb\" y=\"106.678244\"/>\r\n     <use style=\"fill:#0000ff;stroke:#0000ff;\" x=\"49.036914\" xlink:href=\"#mba38a1a7eb\" y=\"140.119798\"/>\r\n     <use style=\"fill:#0000ff;stroke:#0000ff;\" x=\"44.704382\" xlink:href=\"#mba38a1a7eb\" y=\"150.227042\"/>\r\n     <use style=\"fill:#0000ff;stroke:#0000ff;\" x=\"167.554944\" xlink:href=\"#mba38a1a7eb\" y=\"121.659553\"/>\r\n     <use style=\"fill:#0000ff;stroke:#0000ff;\" x=\"99.44824\" xlink:href=\"#mba38a1a7eb\" y=\"127.110472\"/>\r\n     <use style=\"fill:#0000ff;stroke:#0000ff;\" x=\"98.92147\" xlink:href=\"#mba38a1a7eb\" y=\"156.414387\"/>\r\n     <use style=\"fill:#0000ff;stroke:#0000ff;\" x=\"47.455932\" xlink:href=\"#mba38a1a7eb\" y=\"144.765777\"/>\r\n     <use style=\"fill:#0000ff;stroke:#0000ff;\" x=\"123.991249\" xlink:href=\"#mba38a1a7eb\" y=\"119.605652\"/>\r\n     <use style=\"fill:#0000ff;stroke:#0000ff;\" x=\"310.588462\" xlink:href=\"#mba38a1a7eb\" y=\"93.562429\"/>\r\n     <use style=\"fill:#0000ff;stroke:#0000ff;\" x=\"249.943274\" xlink:href=\"#mba38a1a7eb\" y=\"76.565956\"/>\r\n     <use style=\"fill:#0000ff;stroke:#0000ff;\" x=\"124.877269\" xlink:href=\"#mba38a1a7eb\" y=\"131.456854\"/>\r\n     <use style=\"fill:#0000ff;stroke:#0000ff;\" x=\"171.969369\" xlink:href=\"#mba38a1a7eb\" y=\"115.331454\"/>\r\n     <use style=\"fill:#0000ff;stroke:#0000ff;\" x=\"53.753433\" xlink:href=\"#mba38a1a7eb\" y=\"158.53427\"/>\r\n     <use style=\"fill:#0000ff;stroke:#0000ff;\" x=\"348.924381\" xlink:href=\"#mba38a1a7eb\" y=\"63.946003\"/>\r\n     <use style=\"fill:#0000ff;stroke:#0000ff;\" x=\"183.806874\" xlink:href=\"#mba38a1a7eb\" y=\"139.625011\"/>\r\n     <use style=\"fill:#0000ff;stroke:#0000ff;\" x=\"358.013162\" xlink:href=\"#mba38a1a7eb\" y=\"78.393186\"/>\r\n     <use style=\"fill:#0000ff;stroke:#0000ff;\" x=\"195.791897\" xlink:href=\"#mba38a1a7eb\" y=\"120.911529\"/>\r\n     <use style=\"fill:#0000ff;stroke:#0000ff;\" x=\"78.543744\" xlink:href=\"#mba38a1a7eb\" y=\"160.035779\"/>\r\n     <use style=\"fill:#0000ff;stroke:#0000ff;\" x=\"234.720195\" xlink:href=\"#mba38a1a7eb\" y=\"122.547927\"/>\r\n     <use style=\"fill:#0000ff;stroke:#0000ff;\" x=\"311.614234\" xlink:href=\"#mba38a1a7eb\" y=\"97.59981\"/>\r\n     <use style=\"fill:#0000ff;stroke:#0000ff;\" x=\"186.936575\" xlink:href=\"#mba38a1a7eb\" y=\"116.538214\"/>\r\n     <use style=\"fill:#0000ff;stroke:#0000ff;\" x=\"338.482538\" xlink:href=\"#mba38a1a7eb\" y=\"94.367156\"/>\r\n     <use style=\"fill:#0000ff;stroke:#0000ff;\" x=\"314.984035\" xlink:href=\"#mba38a1a7eb\" y=\"118.448865\"/>\r\n     <use style=\"fill:#0000ff;stroke:#0000ff;\" x=\"309.44398\" xlink:href=\"#mba38a1a7eb\" y=\"110.220682\"/>\r\n     <use style=\"fill:#0000ff;stroke:#0000ff;\" x=\"285.364738\" xlink:href=\"#mba38a1a7eb\" y=\"100.459646\"/>\r\n     <use style=\"fill:#0000ff;stroke:#0000ff;\" x=\"178.793874\" xlink:href=\"#mba38a1a7eb\" y=\"137.251144\"/>\r\n     <use style=\"fill:#0000ff;stroke:#0000ff;\" x=\"259.066258\" xlink:href=\"#mba38a1a7eb\" y=\"93.658487\"/>\r\n     <use style=\"fill:#0000ff;stroke:#0000ff;\" x=\"80.777102\" xlink:href=\"#mba38a1a7eb\" y=\"148.154099\"/>\r\n     <use style=\"fill:#0000ff;stroke:#0000ff;\" x=\"255.856158\" xlink:href=\"#mba38a1a7eb\" y=\"84.29474\"/>\r\n     <use style=\"fill:#0000ff;stroke:#0000ff;\" x=\"358.84995\" xlink:href=\"#mba38a1a7eb\" y=\"83.86933\"/>\r\n     <use style=\"fill:#0000ff;stroke:#0000ff;\" x=\"188.203586\" xlink:href=\"#mba38a1a7eb\" y=\"103.763655\"/>\r\n     <use style=\"fill:#0000ff;stroke:#0000ff;\" x=\"175.129416\" xlink:href=\"#mba38a1a7eb\" y=\"140.915472\"/>\r\n     <use style=\"fill:#0000ff;stroke:#0000ff;\" x=\"219.345077\" xlink:href=\"#mba38a1a7eb\" y=\"131.158269\"/>\r\n     <use style=\"fill:#0000ff;stroke:#0000ff;\" x=\"31.841498\" xlink:href=\"#mba38a1a7eb\" y=\"174.201073\"/>\r\n     <use style=\"fill:#0000ff;stroke:#0000ff;\" x=\"338.891323\" xlink:href=\"#mba38a1a7eb\" y=\"90.530417\"/>\r\n     <use style=\"fill:#0000ff;stroke:#0000ff;\" x=\"59.676774\" xlink:href=\"#mba38a1a7eb\" y=\"170.646203\"/>\r\n     <use style=\"fill:#0000ff;stroke:#0000ff;\" x=\"178.49394\" xlink:href=\"#mba38a1a7eb\" y=\"132.644606\"/>\r\n     <use style=\"fill:#0000ff;stroke:#0000ff;\" x=\"282.312677\" xlink:href=\"#mba38a1a7eb\" y=\"81.313565\"/>\r\n     <use style=\"fill:#0000ff;stroke:#0000ff;\" x=\"119.861507\" xlink:href=\"#mba38a1a7eb\" y=\"169.86846\"/>\r\n     <use style=\"fill:#0000ff;stroke:#0000ff;\" x=\"211.595007\" xlink:href=\"#mba38a1a7eb\" y=\"147.467074\"/>\r\n     <use style=\"fill:#0000ff;stroke:#0000ff;\" x=\"243.190408\" xlink:href=\"#mba38a1a7eb\" y=\"97.693926\"/>\r\n     <use style=\"fill:#0000ff;stroke:#0000ff;\" x=\"131.448816\" xlink:href=\"#mba38a1a7eb\" y=\"133.629509\"/>\r\n     <use style=\"fill:#0000ff;stroke:#0000ff;\" x=\"152.685818\" xlink:href=\"#mba38a1a7eb\" y=\"116.897024\"/>\r\n     <use style=\"fill:#0000ff;stroke:#0000ff;\" x=\"42.508083\" xlink:href=\"#mba38a1a7eb\" y=\"179.140095\"/>\r\n     <use style=\"fill:#0000ff;stroke:#0000ff;\" x=\"171.512673\" xlink:href=\"#mba38a1a7eb\" y=\"126.200566\"/>\r\n     <use style=\"fill:#0000ff;stroke:#0000ff;\" x=\"118.966022\" xlink:href=\"#mba38a1a7eb\" y=\"147.076858\"/>\r\n     <use style=\"fill:#0000ff;stroke:#0000ff;\" x=\"95.87971\" xlink:href=\"#mba38a1a7eb\" y=\"132.161848\"/>\r\n     <use style=\"fill:#0000ff;stroke:#0000ff;\" x=\"111.498927\" xlink:href=\"#mba38a1a7eb\" y=\"155.228288\"/>\r\n     <use style=\"fill:#0000ff;stroke:#0000ff;\" x=\"243.576482\" xlink:href=\"#mba38a1a7eb\" y=\"79.361844\"/>\r\n     <use style=\"fill:#0000ff;stroke:#0000ff;\" x=\"305.351674\" xlink:href=\"#mba38a1a7eb\" y=\"77.113669\"/>\r\n     <use style=\"fill:#0000ff;stroke:#0000ff;\" x=\"106.72517\" xlink:href=\"#mba38a1a7eb\" y=\"147.43469\"/>\r\n     <use style=\"fill:#0000ff;stroke:#0000ff;\" x=\"265.817782\" xlink:href=\"#mba38a1a7eb\" y=\"121.015437\"/>\r\n     <use style=\"fill:#0000ff;stroke:#0000ff;\" x=\"249.179234\" xlink:href=\"#mba38a1a7eb\" y=\"106.177705\"/>\r\n     <use style=\"fill:#0000ff;stroke:#0000ff;\" x=\"322.643687\" xlink:href=\"#mba38a1a7eb\" y=\"73.773689\"/>\r\n     <use style=\"fill:#0000ff;stroke:#0000ff;\" x=\"252.963752\" xlink:href=\"#mba38a1a7eb\" y=\"125.05471\"/>\r\n     <use style=\"fill:#0000ff;stroke:#0000ff;\" x=\"161.84501\" xlink:href=\"#mba38a1a7eb\" y=\"105.595153\"/>\r\n     <use style=\"fill:#0000ff;stroke:#0000ff;\" x=\"128.770491\" xlink:href=\"#mba38a1a7eb\" y=\"121.797525\"/>\r\n     <use style=\"fill:#0000ff;stroke:#0000ff;\" x=\"209.233385\" xlink:href=\"#mba38a1a7eb\" y=\"103.097067\"/>\r\n     <use style=\"fill:#0000ff;stroke:#0000ff;\" x=\"153.945919\" xlink:href=\"#mba38a1a7eb\" y=\"162.985225\"/>\r\n     <use style=\"fill:#0000ff;stroke:#0000ff;\" x=\"341.314268\" xlink:href=\"#mba38a1a7eb\" y=\"93.071187\"/>\r\n     <use style=\"fill:#0000ff;stroke:#0000ff;\" x=\"235.719304\" xlink:href=\"#mba38a1a7eb\" y=\"108.893656\"/>\r\n     <use style=\"fill:#0000ff;stroke:#0000ff;\" x=\"155.845708\" xlink:href=\"#mba38a1a7eb\" y=\"128.993078\"/>\r\n     <use style=\"fill:#0000ff;stroke:#0000ff;\" x=\"120.65563\" xlink:href=\"#mba38a1a7eb\" y=\"145.618624\"/>\r\n     <use style=\"fill:#0000ff;stroke:#0000ff;\" x=\"73.025781\" xlink:href=\"#mba38a1a7eb\" y=\"162.186865\"/>\r\n     <use style=\"fill:#0000ff;stroke:#0000ff;\" x=\"39.62281\" xlink:href=\"#mba38a1a7eb\" y=\"166.315711\"/>\r\n     <use style=\"fill:#0000ff;stroke:#0000ff;\" x=\"36.206081\" xlink:href=\"#mba38a1a7eb\" y=\"187.756137\"/>\r\n     <use style=\"fill:#0000ff;stroke:#0000ff;\" x=\"61.637222\" xlink:href=\"#mba38a1a7eb\" y=\"162.512651\"/>\r\n     <use style=\"fill:#0000ff;stroke:#0000ff;\" x=\"146.813995\" xlink:href=\"#mba38a1a7eb\" y=\"135.693809\"/>\r\n     <use style=\"fill:#0000ff;stroke:#0000ff;\" x=\"304.239619\" xlink:href=\"#mba38a1a7eb\" y=\"114.059926\"/>\r\n     <use style=\"fill:#0000ff;stroke:#0000ff;\" x=\"72.507353\" xlink:href=\"#mba38a1a7eb\" y=\"156.006488\"/>\r\n     <use style=\"fill:#0000ff;stroke:#0000ff;\" x=\"278.669824\" xlink:href=\"#mba38a1a7eb\" y=\"94.071564\"/>\r\n     <use style=\"fill:#0000ff;stroke:#0000ff;\" x=\"40.070024\" xlink:href=\"#mba38a1a7eb\" y=\"151.37388\"/>\r\n     <use style=\"fill:#0000ff;stroke:#0000ff;\" x=\"227.521088\" xlink:href=\"#mba38a1a7eb\" y=\"108.294438\"/>\r\n     <use style=\"fill:#0000ff;stroke:#0000ff;\" x=\"333.95776\" xlink:href=\"#mba38a1a7eb\" y=\"92.088929\"/>\r\n     <use style=\"fill:#0000ff;stroke:#0000ff;\" x=\"72.068469\" xlink:href=\"#mba38a1a7eb\" y=\"181.360337\"/>\r\n     <use style=\"fill:#0000ff;stroke:#0000ff;\" x=\"355.075916\" xlink:href=\"#mba38a1a7eb\" y=\"76.409072\"/>\r\n     <use style=\"fill:#0000ff;stroke:#0000ff;\" x=\"340.735492\" xlink:href=\"#mba38a1a7eb\" y=\"99.557375\"/>\r\n     <use style=\"fill:#0000ff;stroke:#0000ff;\" x=\"104.011878\" xlink:href=\"#mba38a1a7eb\" y=\"160.524587\"/>\r\n     <use style=\"fill:#0000ff;stroke:#0000ff;\" x=\"338.822427\" xlink:href=\"#mba38a1a7eb\" y=\"63.02827\"/>\r\n     <use style=\"fill:#0000ff;stroke:#0000ff;\" x=\"233.356342\" xlink:href=\"#mba38a1a7eb\" y=\"121.851393\"/>\r\n    </g>\r\n   </g>\r\n   <g id=\"patch_3\">\r\n    <path d=\"M 26.925 224.64 \r\nL 26.925 7.2 \r\n\" style=\"fill:none;stroke:#000000;stroke-linecap:square;stroke-linejoin:miter;stroke-width:0.8;\"/>\r\n   </g>\r\n   <g id=\"patch_4\">\r\n    <path d=\"M 361.725 224.64 \r\nL 361.725 7.2 \r\n\" style=\"fill:none;stroke:#000000;stroke-linecap:square;stroke-linejoin:miter;stroke-width:0.8;\"/>\r\n   </g>\r\n   <g id=\"patch_5\">\r\n    <path d=\"M 26.925 224.64 \r\nL 361.725 224.64 \r\n\" style=\"fill:none;stroke:#000000;stroke-linecap:square;stroke-linejoin:miter;stroke-width:0.8;\"/>\r\n   </g>\r\n   <g id=\"patch_6\">\r\n    <path d=\"M 26.925 7.2 \r\nL 361.725 7.2 \r\n\" style=\"fill:none;stroke:#000000;stroke-linecap:square;stroke-linejoin:miter;stroke-width:0.8;\"/>\r\n   </g>\r\n  </g>\r\n </g>\r\n <defs>\r\n  <clipPath id=\"pc50f1b9015\">\r\n   <rect height=\"217.44\" width=\"334.8\" x=\"26.925\" y=\"7.2\"/>\r\n  </clipPath>\r\n </defs>\r\n</svg>\r\n",
      "image/png": "[encoded data removed]"
     },
     "metadata": {
      "needs_background": "light"
     }
    }
   ],
   "source": [
    "plt.plot(X_new, y_predict, \"r-\")\n",
    "plt.plot(X, y, \"b.\")\n",
    "plt.axis([0, 2, 0, 15])\n",
    "plt.show()"
   ]
  },
  {
   "cell_type": "code",
   "execution_count": 15,
   "metadata": {},
   "outputs": [],
   "source": [
    "from sklearn.linear_model import LinearRegression"
   ]
  },
  {
   "cell_type": "code",
   "execution_count": 16,
   "metadata": {},
   "outputs": [
    {
     "output_type": "execute_result",
     "data": {
      "text/plain": [
       "(array([4.05108047]), array([[3.01735026]]))"
      ]
     },
     "metadata": {},
     "execution_count": 16
    }
   ],
   "source": [
    "lin_reg = LinearRegression()\n",
    "lin_reg.fit(X, y)\n",
    "lin_reg.intercept_, lin_reg.coef_"
   ]
  },
  {
   "cell_type": "code",
   "execution_count": 17,
   "metadata": {},
   "outputs": [
    {
     "output_type": "execute_result",
     "data": {
      "text/plain": [
       "array([[ 4.05108047],\n",
       "       [10.08578099]])"
      ]
     },
     "metadata": {},
     "execution_count": 17
    }
   ],
   "source": [
    "lin_reg.predict(X_new)"
   ]
  },
  {
   "source": [
    "> Note: Scikit-Learn separates the bias term (`intercept_`) from the feature weights (`coef_`)."
   ],
   "cell_type": "markdown",
   "metadata": {}
  },
  {
   "source": [
    "`LinearRegression` class is based on `scipy.linalg.lstsq()` (\"least squares\")."
   ],
   "cell_type": "markdown",
   "metadata": {}
  },
  {
   "cell_type": "code",
   "execution_count": 18,
   "metadata": {},
   "outputs": [
    {
     "output_type": "execute_result",
     "data": {
      "text/plain": [
       "array([[4.05108047],\n",
       "       [3.01735026]])"
      ]
     },
     "metadata": {},
     "execution_count": 18
    }
   ],
   "source": [
    "theta_best_svd, residuals, rank, s = np.linalg.lstsq(X_b, y, rcond=1e-6)\n",
    "theta_best_svd"
   ]
  },
  {
   "source": [
    "This function computes $\\hat{\\theta} = X^+ \\vec{y}$, where $X^+$ is the pseudoinverse of $X$. Use `np.linalg.pinv()` to compute the pseudoinverse directly."
   ],
   "cell_type": "markdown",
   "metadata": {}
  },
  {
   "cell_type": "code",
   "execution_count": 19,
   "metadata": {},
   "outputs": [
    {
     "output_type": "execute_result",
     "data": {
      "text/plain": [
       "array([[4.05108047],\n",
       "       [3.01735026]])"
      ]
     },
     "metadata": {},
     "execution_count": 19
    }
   ],
   "source": [
    "np.linalg.pinv(X_b) @ y"
   ]
  },
  {
   "source": [
    "The pseudoinverse is computed using *Singular Value Decomposition (SVD)*. This approach is more efficient than computing the Normal Equation.\n",
    "\n",
    "> Note: The Normal Equation may not work if the matrix $X^T X$ is not invertible (singular), such as if $m<n$ or if some features are redundant, but the pseudoinverse is always defined."
   ],
   "cell_type": "markdown",
   "metadata": {}
  },
  {
   "source": [
    "### 4.1.2 Computational Complexity"
   ],
   "cell_type": "markdown",
   "metadata": {}
  },
  {
   "source": [
    "The Normal Equation computes the inverse $X^T X$, $ (n+1) \\times (n+1)$ matrix. The *computational complexity* of inverting such a matrix is typically $O(n^{2.4})$ - $O(n^3)$. So if you double the number of features, you multiply the computation by roughly 5.3 to 8.\n",
    "\n",
    "The SVD approach used by Scikit-Learn's `LinearRegression` is about $O(n^2)$.\n",
    "\n",
    "> Note: Both the Normal Equation and SVD get very slow when the number of features grows large (100,000). But both are linear ($O(m)$) to the number of instances in the training set so they handle large training sets efficiently.\n",
    "Ie. $\\uparrow$n features, slower performance. $\\uparrow$m examples, still efficient."
   ],
   "cell_type": "markdown",
   "metadata": {}
  },
  {
   "source": [
    "## 4.2 Gradient Descent"
   ],
   "cell_type": "markdown",
   "metadata": {}
  },
  {
   "source": [
    "### 4.2.1 Batch Gradient Descent"
   ],
   "cell_type": "markdown",
   "metadata": {}
  },
  {
   "source": [
    "### 4.2.2 Stochastic Gradient Descent"
   ],
   "cell_type": "markdown",
   "metadata": {}
  },
  {
   "source": [
    "### 4.2.3 Mini-batch Gradient Descent"
   ],
   "cell_type": "markdown",
   "metadata": {}
  },
  {
   "source": [
    "## 4.3 Polynomial Regression"
   ],
   "cell_type": "markdown",
   "metadata": {}
  },
  {
   "source": [
    "## 4.4 Learning Curves"
   ],
   "cell_type": "markdown",
   "metadata": {}
  },
  {
   "source": [
    "## 4.5 Regularized Linear Models"
   ],
   "cell_type": "markdown",
   "metadata": {}
  },
  {
   "source": [
    "### 4.5.1 Ridge Regression"
   ],
   "cell_type": "markdown",
   "metadata": {}
  },
  {
   "source": [
    "### 4.5.2 Lasso Regression"
   ],
   "cell_type": "markdown",
   "metadata": {}
  },
  {
   "source": [
    "### 4.5.3 Elastic Net"
   ],
   "cell_type": "markdown",
   "metadata": {}
  },
  {
   "source": [
    "### 4.5.4 Early Stopping"
   ],
   "cell_type": "markdown",
   "metadata": {}
  },
  {
   "source": [
    "## 4.6 Logistic Regression"
   ],
   "cell_type": "markdown",
   "metadata": {}
  },
  {
   "source": [
    "### 4.6.1 Estimating Probabilities"
   ],
   "cell_type": "markdown",
   "metadata": {}
  },
  {
   "source": [
    "### 4.6.2 Training and Cost Function"
   ],
   "cell_type": "markdown",
   "metadata": {}
  },
  {
   "source": [
    "### 4.6.3 Decision Boundaries"
   ],
   "cell_type": "markdown",
   "metadata": {}
  },
  {
   "source": [
    "### 4.6.4 Softmax Regression"
   ],
   "cell_type": "markdown",
   "metadata": {}
  }
 ]
}