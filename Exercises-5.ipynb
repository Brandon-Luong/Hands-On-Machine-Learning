{
 "metadata": {
  "language_info": {
   "codemirror_mode": {
    "name": "ipython",
    "version": 3
   },
   "file_extension": ".py",
   "mimetype": "text/x-python",
   "name": "python",
   "nbconvert_exporter": "python",
   "pygments_lexer": "ipython3",
   "version": "3.9.0-final"
  },
  "orig_nbformat": 2,
  "kernelspec": {
   "name": "python3",
   "display_name": "Python 3.9.0 64-bit ('venv': venv)",
   "metadata": {
    "interpreter": {
     "hash": "54b71c1b326a101c02c54fb24502b2663857f505f7b72a06051ccceba068a4ff"
    }
   }
  }
 },
 "nbformat": 4,
 "nbformat_minor": 2,
 "cells": [
  {
   "source": [
    "# Chapter 5: Support Vector Machines Exercises"
   ],
   "cell_type": "markdown",
   "metadata": {}
  },
  {
   "source": [
    "## 1.\n",
    "\n",
    "> What is the fundamental idea behind Support Vector Machines?"
   ],
   "cell_type": "markdown",
   "metadata": {}
  },
  {
   "source": [
    "The fundamental idea behind Support Vector Machines is to fit the widest possible \"street\" between the classes, while minimizing the margin violations (instances \"in the middle and on the wrong side of the street\")."
   ],
   "cell_type": "markdown",
   "metadata": {}
  },
  {
   "source": [
    "## 2.\n",
    "\n",
    "> What is a support vector?"
   ],
   "cell_type": "markdown",
   "metadata": {}
  },
  {
   "source": [
    "A support vector is an instance on the \"edge of the street\" and fully determines the decision boundary."
   ],
   "cell_type": "markdown",
   "metadata": {}
  },
  {
   "source": [
    "## 3.\n",
    "\n",
    "> Why is it important to scale the inputs when using SVMs?"
   ],
   "cell_type": "markdown",
   "metadata": {}
  },
  {
   "source": [
    "It is important to scale the inputs when using SVMs because if one feature is much much bigger than the other, the decision boundary is narrow and horizontal (a very small slope)."
   ],
   "cell_type": "markdown",
   "metadata": {}
  },
  {
   "source": [
    "## 4.\n",
    "\n",
    "> Can an SVM classifier output a confidence score when it classifies an instance?  \n",
    "\n",
    "> What about a probability?"
   ],
   "cell_type": "markdown",
   "metadata": {}
  },
  {
   "source": [
    "An SVM classifier is a binary classifier so it outputs a confidence score of either 1 or 0 but nothing in between.\n",
    "\n",
    "It does not output probabilities."
   ],
   "cell_type": "markdown",
   "metadata": {}
  },
  {
   "source": [
    "## 5.\n",
    "\n",
    "> Should you use the primal or the dual form of the SVM problem to train a model on a training set with millions of instances and hundreds of features?"
   ],
   "cell_type": "markdown",
   "metadata": {}
  },
  {
   "source": [
    "Use the primal form of the SVM problem to train because the dual form is only faster when the number of instances is less than the number of features. In this case, 1,000,000+ instances > 100+ features so the dual form would not help."
   ],
   "cell_type": "markdown",
   "metadata": {}
  },
  {
   "source": [
    "## 6.\n",
    "\n",
    "> Say you've trained an SVM classifier with an RBF kernel, but it seems to underfit the training set.  \n",
    "\n",
    "> Should you increase or decrease $\\gamma$ (`gamma`)?  \n",
    "\n",
    "> What about `C`?"
   ],
   "cell_type": "markdown",
   "metadata": {}
  },
  {
   "source": [
    "Because the RBF kernel is underfitting the training set, it's a good idea to increase $\\gamma$ (`gamma`) and increase `C`."
   ],
   "cell_type": "markdown",
   "metadata": {}
  },
  {
   "source": [
    "## 7.\n",
    "\n",
    "> How should you set the QP parameters (**H, f, A,** and **b**) to solve the soft margin linear SVM classifier problem using an off-the-shelf QP solver?"
   ],
   "cell_type": "markdown",
   "metadata": {}
  },
  {
   "cell_type": "code",
   "execution_count": null,
   "metadata": {},
   "outputs": [],
   "source": [
    "# TODO: Read the answer in the back of book\n",
    "# TODO: Understand why soft margin +m additional features and +m examples"
   ]
  },
  {
   "source": [
    "\n",
    "\n",
    "The QP Equation is given by:\n",
    "\n",
    "$$ \n",
    "\\text{minimize p:} \\;\\;\\;\n",
    "\\frac{1}{2} \\mathbf{p^T H p + f^T p}\n",
    "$$\n",
    "$$\n",
    "\\text{subject to:} \\;\\;\\; \\mathbf{Ap \\leq b}\n",
    "$$\n",
    "\n",
    "Using an off-the-shelf QP solver to solve the soft margin linear SVM classifier problem, set the QP parameters to:\n",
    "- **H** = $(n_p \\times n_p)$ identity matrix except with a 0 in the top-left cell to ignore the bias term.\n",
    "- **f**\n",
    "- **A**\n",
    "- **b**"
   ],
   "cell_type": "markdown",
   "metadata": {}
  },
  {
   "source": [
    "## 8.\n",
    "\n",
    "> Train a `LinearSVC` on a linearly separable dataset.\n",
    "\n",
    "> Then train an `SVC` and a `SGDClassifier` on the same dataset.\n",
    "\n",
    "> See if you can get them to produce roughly the same model."
   ],
   "cell_type": "markdown",
   "metadata": {}
  },
  {
   "source": [
    "## 9.\n",
    "\n",
    "> Train an SVM classifier on the MNIST dataset.\n",
    "\n",
    "> Since SVM classifiers are binary classifiers, you will need to use one-versus-the-rest to classify all 10 digits.\n",
    "\n",
    "> You may want to tune the hyperparameters using small validation sets to speed up the process.\n",
    "\n",
    "> What accuracy can you reach?"
   ],
   "cell_type": "markdown",
   "metadata": {}
  },
  {
   "source": [
    "## 10.\n",
    "\n",
    "> Train an SVM regressor on the California housing dataset."
   ],
   "cell_type": "markdown",
   "metadata": {}
  }
 ]
}