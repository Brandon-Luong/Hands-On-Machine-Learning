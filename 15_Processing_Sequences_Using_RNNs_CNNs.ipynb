{
 "metadata": {
  "language_info": {
   "codemirror_mode": {
    "name": "ipython",
    "version": 3
   },
   "file_extension": ".py",
   "mimetype": "text/x-python",
   "name": "python",
   "nbconvert_exporter": "python",
   "pygments_lexer": "ipython3",
   "version": 3
  },
  "orig_nbformat": 2
 },
 "nbformat": 4,
 "nbformat_minor": 2,
 "cells": [
  {
   "source": [
    "# Chapter 15: Processing Sequences Using RNNs and CNNs"
   ],
   "cell_type": "markdown",
   "metadata": {}
  },
  {
   "source": [
    "## 15.1 Recurrent Neurons and Layers"
   ],
   "cell_type": "markdown",
   "metadata": {}
  },
  {
   "source": [
    "### 15.1.1 Memory Cells"
   ],
   "cell_type": "markdown",
   "metadata": {}
  },
  {
   "source": [
    "### 15.1.2 Input and Output Sequences"
   ],
   "cell_type": "markdown",
   "metadata": {}
  },
  {
   "source": [
    "## 15.2 Training RNNs"
   ],
   "cell_type": "markdown",
   "metadata": {}
  },
  {
   "source": [
    "## 15.3 Forecasting a Time Series"
   ],
   "cell_type": "markdown",
   "metadata": {}
  },
  {
   "source": [
    "### 15.3.1 Baseline Metrics"
   ],
   "cell_type": "markdown",
   "metadata": {}
  },
  {
   "source": [
    "### 15.3.2 Implementing a Simple RNN"
   ],
   "cell_type": "markdown",
   "metadata": {}
  },
  {
   "source": [
    "### 15.3.3 Deep RNNs"
   ],
   "cell_type": "markdown",
   "metadata": {}
  },
  {
   "source": [
    "### 15.3.4 Forecasting Several Time Steps Ahead"
   ],
   "cell_type": "markdown",
   "metadata": {}
  },
  {
   "source": [
    "## 15.4 Handling Long Sequences"
   ],
   "cell_type": "markdown",
   "metadata": {}
  },
  {
   "source": [
    "### 15.4.1 Fighting the Unstable Gradients Problem"
   ],
   "cell_type": "markdown",
   "metadata": {}
  },
  {
   "source": [
    "### 15.4.2 Tackling the Short-Term Memory Problem"
   ],
   "cell_type": "markdown",
   "metadata": {}
  }
 ]
}